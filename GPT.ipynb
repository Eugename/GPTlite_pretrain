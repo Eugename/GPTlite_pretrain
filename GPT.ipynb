{
 "cells": [
  {
   "cell_type": "markdown",
   "id": "6c726bcc",
   "metadata": {},
   "source": [
    "# Imports"
   ]
  },
  {
   "cell_type": "code",
   "execution_count": null,
   "id": "8298f5b3",
   "metadata": {},
   "outputs": [
    {
     "data": {
      "text/plain": [
       "True"
      ]
     },
     "execution_count": 2,
     "metadata": {},
     "output_type": "execute_result"
    }
   ],
   "source": [
    "import numpy as np\n",
    "import torch\n",
    "from torch import nn\n",
    "from torch.utils.data import DataLoader, Dataset\n",
    "import transformers\n",
    "import pandas as pd\n",
    "import os\n",
    "from tqdm.notebook import tqdm\n",
    "import matplotlib.pyplot as plt\n",
    "from dotenv import load_dotenv\n",
    "load_dotenv()"
   ]
  },
  {
   "cell_type": "markdown",
   "id": "555b1e1b",
   "metadata": {},
   "source": [
    "Environment variables"
   ]
  },
  {
   "cell_type": "code",
   "execution_count": null,
   "id": "23b4cc6b",
   "metadata": {},
   "outputs": [],
   "source": [
    "PATH = os.getenv(\"PATH\")\n",
    "DATAPATH = os.getenv(\"DATAPATH\")\n",
    "PREPARED_DATA_DIR = os.getenv(\"PREPARED_DATA_DIR\")\n",
    "CACHE_DIR = os.getenv(\"CACHE_DIR\")\n",
    "#TOK_NAME = \"deepseek-ai/DeepSeek-R1-0528-Qwen3-8B\"\n",
    "TOK_NAME = os.getenv(\"TOK_NAME\")\n",
    "PARQUET_DATA_DIR = os.getenv(\"PARQUET_DATA_DIR\")"
   ]
  },
  {
   "cell_type": "markdown",
   "id": "b775b8ad",
   "metadata": {},
   "source": [
    "## Config"
   ]
  },
  {
   "cell_type": "code",
   "execution_count": 3,
   "id": "b6d87686",
   "metadata": {},
   "outputs": [],
   "source": [
    "GPT_CONFIG = {\n",
    "    'vocab_size': 50257, # in 151670 (if you use tokenizer.vocab_size then you get partial vocab_size without added tokens)\n",
    "    'context_length': 1024,\n",
    "    'emb_dim': 768, #768\n",
    "    'n_heads': 2,#12,\n",
    "    'n_layers': 2,#12,\n",
    "    'drop_rate': 0.05, # 0l1\n",
    "    'qkv_bias': False\n",
    "    }"
   ]
  },
  {
   "cell_type": "code",
   "execution_count": 4,
   "id": "35772b9f",
   "metadata": {},
   "outputs": [
    {
     "data": {
      "text/plain": [
       "'cuda'"
      ]
     },
     "execution_count": 4,
     "metadata": {},
     "output_type": "execute_result"
    }
   ],
   "source": [
    "device = 'cuda' if (torch.cuda.is_available()) else 'cpu'\n",
    "device"
   ]
  },
  {
   "cell_type": "markdown",
   "id": "62b8d333",
   "metadata": {},
   "source": [
    "# Dataset"
   ]
  },
  {
   "cell_type": "markdown",
   "id": "b9d27ee4",
   "metadata": {},
   "source": [
    "## Load Tokenizer"
   ]
  },
  {
   "cell_type": "code",
   "execution_count": 5,
   "id": "b37c1fc7",
   "metadata": {},
   "outputs": [],
   "source": [
    "tok = transformers.AutoTokenizer.from_pretrained(TOK_NAME, cache_dir=CACHE_DIR)"
   ]
  },
  {
   "cell_type": "markdown",
   "id": "58342819",
   "metadata": {},
   "source": [
    "Check tokenizer"
   ]
  },
  {
   "cell_type": "code",
   "execution_count": 4,
   "id": "79ea59c3",
   "metadata": {},
   "outputs": [
    {
     "data": {
      "text/plain": [
       "<bound method PreTrainedTokenizerFast.get_added_vocab of LlamaTokenizerFast(name_or_path='deepseek-ai/DeepSeek-R1-0528-Qwen3-8B', vocab_size=151643, model_max_length=131072, is_fast=True, padding_side='left', truncation_side='right', special_tokens={'bos_token': '<｜begin▁of▁sentence｜>', 'eos_token': '<｜end▁of▁sentence｜>', 'pad_token': '<｜end▁of▁sentence｜>'}, clean_up_tokenization_spaces=False, added_tokens_decoder={\n",
       "\t151643: AddedToken(\"<｜begin▁of▁sentence｜>\", rstrip=False, lstrip=False, single_word=False, normalized=False, special=True),\n",
       "\t151644: AddedToken(\"<|im_start|>\", rstrip=False, lstrip=False, single_word=False, normalized=False, special=True),\n",
       "\t151645: AddedToken(\"<｜end▁of▁sentence｜>\", rstrip=False, lstrip=False, single_word=False, normalized=False, special=True),\n",
       "\t151646: AddedToken(\"<|object_ref_start|>\", rstrip=False, lstrip=False, single_word=False, normalized=False, special=True),\n",
       "\t151647: AddedToken(\"<|object_ref_end|>\", rstrip=False, lstrip=False, single_word=False, normalized=False, special=True),\n",
       "\t151648: AddedToken(\"<|box_start|>\", rstrip=False, lstrip=False, single_word=False, normalized=False, special=True),\n",
       "\t151649: AddedToken(\"<|box_end|>\", rstrip=False, lstrip=False, single_word=False, normalized=False, special=True),\n",
       "\t151650: AddedToken(\"<|quad_start|>\", rstrip=False, lstrip=False, single_word=False, normalized=False, special=True),\n",
       "\t151651: AddedToken(\"<|quad_end|>\", rstrip=False, lstrip=False, single_word=False, normalized=False, special=True),\n",
       "\t151652: AddedToken(\"<|vision_start|>\", rstrip=False, lstrip=False, single_word=False, normalized=False, special=True),\n",
       "\t151653: AddedToken(\"<|vision_end|>\", rstrip=False, lstrip=False, single_word=False, normalized=False, special=True),\n",
       "\t151654: AddedToken(\"<|vision_pad|>\", rstrip=False, lstrip=False, single_word=False, normalized=False, special=True),\n",
       "\t151655: AddedToken(\"<|image_pad|>\", rstrip=False, lstrip=False, single_word=False, normalized=False, special=True),\n",
       "\t151656: AddedToken(\"<|video_pad|>\", rstrip=False, lstrip=False, single_word=False, normalized=False, special=True),\n",
       "\t151657: AddedToken(\"<tool_call>\", rstrip=False, lstrip=False, single_word=False, normalized=False, special=False),\n",
       "\t151658: AddedToken(\"</tool_call>\", rstrip=False, lstrip=False, single_word=False, normalized=False, special=False),\n",
       "\t151659: AddedToken(\"<|fim_prefix|>\", rstrip=False, lstrip=False, single_word=False, normalized=False, special=False),\n",
       "\t151660: AddedToken(\"<|fim_middle|>\", rstrip=False, lstrip=False, single_word=False, normalized=False, special=False),\n",
       "\t151661: AddedToken(\"<|fim_suffix|>\", rstrip=False, lstrip=False, single_word=False, normalized=False, special=False),\n",
       "\t151662: AddedToken(\"<|fim_pad|>\", rstrip=False, lstrip=False, single_word=False, normalized=False, special=False),\n",
       "\t151663: AddedToken(\"<|repo_name|>\", rstrip=False, lstrip=False, single_word=False, normalized=False, special=False),\n",
       "\t151664: AddedToken(\"<|file_sep|>\", rstrip=False, lstrip=False, single_word=False, normalized=False, special=False),\n",
       "\t151665: AddedToken(\"<tool_response>\", rstrip=False, lstrip=False, single_word=False, normalized=False, special=False),\n",
       "\t151666: AddedToken(\"</tool_response>\", rstrip=False, lstrip=False, single_word=False, normalized=False, special=False),\n",
       "\t151667: AddedToken(\"<think>\", rstrip=False, lstrip=False, single_word=False, normalized=False, special=False),\n",
       "\t151668: AddedToken(\"</think>\", rstrip=False, lstrip=False, single_word=False, normalized=False, special=False),\n",
       "\t151669: AddedToken(\"<｜User｜>\", rstrip=False, lstrip=False, single_word=False, normalized=False, special=False),\n",
       "\t151670: AddedToken(\"<｜Assistant｜>\", rstrip=False, lstrip=False, single_word=False, normalized=False, special=False),\n",
       "}\n",
       ")>"
      ]
     },
     "execution_count": 4,
     "metadata": {},
     "output_type": "execute_result"
    }
   ],
   "source": [
    "tok.get_added_vocab"
   ]
  },
  {
   "cell_type": "code",
   "execution_count": 7,
   "id": "83c577f0",
   "metadata": {},
   "outputs": [
    {
     "data": {
      "text/plain": [
       "50257"
      ]
     },
     "execution_count": 7,
     "metadata": {},
     "output_type": "execute_result"
    }
   ],
   "source": [
    "tok.vocab_size"
   ]
  },
  {
   "cell_type": "code",
   "execution_count": 6,
   "id": "c778b827",
   "metadata": {},
   "outputs": [],
   "source": [
    "# If tokenizer dont have pad_token\n",
    "tok.pad_token = tok.eos_token"
   ]
  },
  {
   "cell_type": "code",
   "execution_count": 7,
   "id": "96e84b0b",
   "metadata": {},
   "outputs": [
    {
     "data": {
      "text/plain": [
       "torch.Size([1, 2048])"
      ]
     },
     "execution_count": 7,
     "metadata": {},
     "output_type": "execute_result"
    }
   ],
   "source": [
    "tok('Привет, как дела mhjm', return_tensors='pt', padding='max_length', max_length=2048)['input_ids'].shape"
   ]
  },
  {
   "cell_type": "markdown",
   "id": "095a3216",
   "metadata": {},
   "source": [
    "# Prepare data"
   ]
  },
  {
   "cell_type": "markdown",
   "id": "4621685d",
   "metadata": {},
   "source": [
    "## Raw data"
   ]
  },
  {
   "cell_type": "code",
   "execution_count": 22,
   "id": "eb9b5928",
   "metadata": {},
   "outputs": [],
   "source": [
    "with open(DATAPATH, encoding='utf8', mode='r') as file:\n",
    "    d = file.read()"
   ]
  },
  {
   "cell_type": "code",
   "execution_count": 26,
   "id": "7114f671",
   "metadata": {},
   "outputs": [
    {
     "data": {
      "text/plain": [
       "1423181938"
      ]
     },
     "execution_count": 26,
     "metadata": {},
     "output_type": "execute_result"
    }
   ],
   "source": [
    "len(d)"
   ]
  },
  {
   "cell_type": "code",
   "execution_count": 38,
   "id": "626c194e",
   "metadata": {},
   "outputs": [
    {
     "data": {
      "text/plain": [
       "10858"
      ]
     },
     "execution_count": 38,
     "metadata": {},
     "output_type": "execute_result"
    }
   ],
   "source": [
    "1423181938//131072"
   ]
  },
  {
   "cell_type": "code",
   "execution_count": null,
   "id": "6a681986",
   "metadata": {},
   "outputs": [
    {
     "data": {
      "application/vnd.jupyter.widget-view+json": {
       "model_id": "8c969432d69f4b3da3eb5a0ca445c9b9",
       "version_major": 2,
       "version_minor": 0
      },
      "text/plain": [
       "0it [00:00, ?it/s]"
      ]
     },
     "metadata": {},
     "output_type": "display_data"
    },
    {
     "name": "stdout",
     "output_type": "stream",
     "text": [
      "0 0\n",
      "1 56927277\n",
      "2 113854554\n",
      "3 170781831\n",
      "4 227709108\n",
      "5 284636385\n",
      "6 341563662\n",
      "7 398490939\n",
      "8 455418216\n",
      "9 512345493\n",
      "10 569272770\n",
      "11 626200047\n",
      "12 683127324\n",
      "13 740054601\n",
      "14 796981878\n",
      "15 853909155\n",
      "16 910836432\n",
      "17 967763709\n",
      "18 1024690986\n",
      "19 1081618263\n",
      "20 1138545540\n",
      "21 1195472817\n",
      "22 1252400094\n",
      "23 1309327371\n",
      "24 1366254648\n",
      "25 1423181925\n"
     ]
    }
   ],
   "source": [
    "num_chunks=25\n",
    "stride = len(d)//num_chunks\n",
    "\n",
    "for i, chunk_idx in tqdm(enumerate(range(0, len(d), stride))):\n",
    "    with open(os.path.join(PREPARED_DATA_DIR, f'chunk_{i}.txt'), mode='w') as file:\n",
    "        file.write(d[chunk_idx:chunk_idx+stride])\n",
    "    print(i, chunk_idx)"
   ]
  },
  {
   "cell_type": "code",
   "execution_count": null,
   "id": "c0080193",
   "metadata": {},
   "outputs": [],
   "source": []
  },
  {
   "cell_type": "code",
   "execution_count": null,
   "id": "344858be",
   "metadata": {},
   "outputs": [],
   "source": [
    "#num_chunks=25\n",
    "stride = 131072#len(d)//num_chunks\n",
    "\n",
    "data_parquet = pd.DataFrame([], columns=['Sample', 'Chunk'])\n",
    "for i, chunk_idx in tqdm(enumerate(range(0, len(d), stride))):\n",
    "    data_parquet.loc[len(data_parquet)] = ['sdgsgsg', 0]\n",
    "    #with open(os.path.join(PREPARED_DATA_DIR, f'chunk_{i}.txt'), mode='w') as file:\n",
    "    #    file.write(d[chunk_idx:chunk_idx+stride])\n",
    "    print(i, chunk_idx)"
   ]
  },
  {
   "cell_type": "code",
   "execution_count": 27,
   "id": "f9db9b56",
   "metadata": {},
   "outputs": [
    {
     "data": {
      "application/vnd.jupyter.widget-view+json": {
       "model_id": "934e588eb5ad42cabc79e4dd49c263e2",
       "version_major": 2,
       "version_minor": 0
      },
      "text/plain": [
       "  0%|          | 0/26 [00:00<?, ?it/s]"
      ]
     },
     "metadata": {},
     "output_type": "display_data"
    }
   ],
   "source": [
    "data_parquet = pd.DataFrame([], columns=['Sample', 'Chunk'])\n",
    "for i, filename in tqdm(enumerate(os.listdir(PREPARED_DATA_DIR)), total=len(os.listdir(PREPARED_DATA_DIR))):\n",
    "    with open(os.path.join(PREPARED_DATA_DIR, filename), encoding='utf8', mode='r') as file:\n",
    "        current_file = file.read()\n",
    "        stride = 2048*3\n",
    "        mas = ''\n",
    "        for article in current_file.split('/n'):\n",
    "            for sentence in article.split('.'):\n",
    "                if (len(mas)+len(sentence) < stride):\n",
    "                    mas += sentence\n",
    "                else:\n",
    "                    data_parquet.loc[len(data_parquet)] = [mas, i]\n",
    "                    mas = ''\n",
    "            \n",
    "        # for chunk_idx in tqdm(range(0, len(current_file), stride)):\n",
    "        #     current_chunk = current_file[chunk_idx:chunk_idx+stride]\n",
    "        #     data_parquet.loc[len(data_parquet)] = ['sdgsgsg', 0]"
   ]
  },
  {
   "cell_type": "code",
   "execution_count": 29,
   "id": "78a51343",
   "metadata": {},
   "outputs": [
    {
     "data": {
      "text/plain": [
       "6144"
      ]
     },
     "execution_count": 29,
     "metadata": {},
     "output_type": "execute_result"
    }
   ],
   "source": [
    "2048*3"
   ]
  },
  {
   "cell_type": "code",
   "execution_count": null,
   "id": "1e79a76e",
   "metadata": {},
   "outputs": [],
   "source": [
    "data_parquet.to_parquet(PARQUET_DATA_DIR)"
   ]
  },
  {
   "cell_type": "code",
   "execution_count": 6,
   "id": "b46b5481",
   "metadata": {},
   "outputs": [
    {
     "data": {
      "text/plain": [
       "'ение составляет  человек (август, 2023). Занимает '"
      ]
     },
     "execution_count": 6,
     "metadata": {},
     "output_type": "execute_result"
    }
   ],
   "source": [
    "d[200:250]"
   ]
  },
  {
   "cell_type": "markdown",
   "id": "2cad838d",
   "metadata": {},
   "source": [
    "## Analysis"
   ]
  },
  {
   "cell_type": "markdown",
   "id": "9d0ae8b4",
   "metadata": {},
   "source": [
    "Небольшой анализ длины предложений"
   ]
  },
  {
   "cell_type": "code",
   "execution_count": 4,
   "id": "9e70b2d4",
   "metadata": {},
   "outputs": [],
   "source": [
    "with open(os.path.join(PREPARED_DATA_DIR, os.listdir(PREPARED_DATA_DIR)[0]), encoding='utf8', mode='r') as file:\n",
    "    d = file.read()"
   ]
  },
  {
   "cell_type": "code",
   "execution_count": 13,
   "id": "dcb6e972",
   "metadata": {},
   "outputs": [],
   "source": [
    "splt = d.split('.')"
   ]
  },
  {
   "cell_type": "code",
   "execution_count": 14,
   "id": "d528d39f",
   "metadata": {},
   "outputs": [],
   "source": [
    "lens = [len(elem) for elem in splt]"
   ]
  },
  {
   "cell_type": "code",
   "execution_count": 15,
   "id": "36a3c99a",
   "metadata": {},
   "outputs": [
    {
     "data": {
      "text/plain": [
       "13172"
      ]
     },
     "execution_count": 15,
     "metadata": {},
     "output_type": "execute_result"
    }
   ],
   "source": [
    "max(lens)"
   ]
  },
  {
   "cell_type": "code",
   "execution_count": 20,
   "id": "891ec951",
   "metadata": {},
   "outputs": [
    {
     "data": {
      "text/plain": [
       "(array([2.10951e+05, 1.75914e+05, 1.06745e+05, 5.57980e+04, 2.66940e+04,\n",
       "        1.28720e+04, 6.20800e+03, 3.26600e+03, 1.80200e+03, 1.11300e+03,\n",
       "        7.79000e+02, 5.09000e+02, 3.46000e+02, 2.56000e+02, 2.12000e+02,\n",
       "        1.57000e+02, 1.24000e+02, 8.60000e+01, 9.60000e+01, 6.60000e+01]),\n",
       " array([   0.,   50.,  100.,  150.,  200.,  250.,  300.,  350.,  400.,\n",
       "         450.,  500.,  550.,  600.,  650.,  700.,  750.,  800.,  850.,\n",
       "         900.,  950., 1000.]),\n",
       " <BarContainer object of 20 artists>)"
      ]
     },
     "execution_count": 20,
     "metadata": {},
     "output_type": "execute_result"
    },
    {
     "data": {
      "image/png": "[encoded data removed]",
      "text/plain": [
       "<Figure size 640x480 with 1 Axes>"
      ]
     },
     "metadata": {},
     "output_type": "display_data"
    }
   ],
   "source": [
    "plt.hist(lens, bins=20, range=(0, 1000))"
   ]
  },
  {
   "cell_type": "markdown",
   "id": "5257816f",
   "metadata": {},
   "source": [
    "Если взять длину абзацев"
   ]
  },
  {
   "cell_type": "code",
   "execution_count": 19,
   "id": "3de5f059",
   "metadata": {},
   "outputs": [],
   "source": [
    "splt = d.split('/n')"
   ]
  },
  {
   "cell_type": "code",
   "execution_count": 25,
   "id": "b5e88d0f",
   "metadata": {},
   "outputs": [
    {
     "data": {
      "text/plain": [
       "'auch_trudi/osnovy-golosovedenija-2009.pdf\\n Насретдинов А. Физика и анатомия музыки. 2015\\xa0г. М.: Бослен, 224 с\\n\\nСсылки \\n\\n Пекерская Е. М. [lib.ru/CULTURE/MUSICACAD/PECERSKAYA/vocal.txt Вокальный букварь].\\n Почему исчезает голос.\\n\\nДыхательная система\\nРечевая коммуникация\\nПение\\nЛогопедия\\nФониатрия\\nУ́ксусный ангидри́д (ангидри́д у́ксусной кислоты́), (CH3CO)2O, Ac2O — бесцветная жидкость с резким запахом, растворимая в бензоле, диэтиловом эфире и других органических растворителях. Находит весьма широкое применение в промышленности и органическом синтезе.\\n\\nПромышленные методы получения\\n\\nУстаревшие методы \\nИсторически первый метод синтеза уксусного ангидрида был основан на превращении ацетата натрия CH3COONa в ацетилхлорид CH3COCl под действием неорганического хлорида (обычно хлористого тионила SOCl2, хлористого сульфурила SO2Cl2 или хлористого фосфорила POCl3). На второй стадии образовавшийся ацетилхлорид реагировал с избытком ацетата натрия с образованием уксусного ангидрида.\\n\\nВ другом подходе уксусную кислоту превращали в уксусный ангидрид под действием фосгена в присутствии хлорида алюминия.\\n\\nРанее применялись также другие методы, например, разложение этилидендиацетата на ацетальдегид и уксусный ангидрид в присутствии кислотных катализаторов, а также каталитическая реакция винилацетата с уксусной кислотой. В настоящее время эти процессы не используются в промышленности. Основными методами получения являются реакция кетена с уксусной кислотой, окисление уксусного альдегида и карбонилирование метилацетата.\\n\\nПолучение из кетена \\nДанный метод синтеза состоит из двух стадий: термического разложения уксусной кислоты до кетена и реакции кетена с уксусной кислотой. Первая стадия протекает в газовой фазе при температуре 700—750 °С в присутствии следовых количеств триэтилфосфата. В качестве реактора используются змеевики из тугоплавких стальных сплавов (Sicromal, 25 % Cr, 20 % Ni, 2 % Si). Также разработан метод получения кетена разложением ацетона, однако этот метод не имеет промышленного значения.\\n\\nЗатем полученный кетен поглощается ледяной уксусной кислотой, в результате чего получается сырой уксусный ангидрид, который подвергается фракционной перегонке. При перегонке собирают несколько фракций: предгон (1 %, состоит из уксусной кислот и более лёгких примесей, например, ацетона и метилацетата), фракцию I (~10 %, смесь уксусной кислоты и уксусного ангидрида) и чистый ангидрид. Чистота получаемого таким способом уксусного ангидрида не превышает 99 % (остальная доля приходится на уксусную кислоту), поскольку при перегонке происходит частичное разложение продукта.\\n\\nСинтез уксусного ангидрида из кетена применяется многими компаниями. Для получения 100 кг уксусного ангидрида требуется 122 кг уксусной кислоты. Метод не создаёт серьёзных экологических проблем: побочно образующиеся газы сжигаются в печи и обеспечивают температуру, необходимую для первой стадии; проблема сточных вод отсутствует.\\n\\nОкисление уксусного альдегида \\nУксусный ангидрид может быть получен жидкофазным окислением ацетальдегида на воздухе, при этом на первой стадии происходит образование надуксусной кислоты, которая далее реагирует со второй молекулой ацетальдегида, образуя уксусный ангидрид.\\n\\nСущественными для данного процесса являются быстрое удаление воды из реакционной смеси и использование подходящего катализатора. В реакции всегда образуется смесь уксусного ангидрида и уксусной кислоты; последняя образуется в результате разложения водой целевого продукта. Поскольку гидролиз в значительной степени протекает при температуре выше 60 °С, процесс проводят между 40 °С и 60 °С. В качестве катализаторов используют ацетаты марганца, меди, кобальта, никеля или медные соли жирных кислот.\\n\\nРеакция является экзотермической, поэтому требует эффективного охлаждения. Основным методом охлаждения является добавление в реакционную смесь низкокипящих растворителей, обычно метилацетата или этилацетата. Помимо функции отвода тепла, эти растворители позволяют удалять из смеси образующуюся воду, поскольку они кипят в виде азеотропной смеси с водой.\\n\\nНа практике используют смесь ацетальдегида и этилацетата (1:2), которую окисляют воздухом при добавлении 0,05—0,1 % ацетата кобальта и ацетата меди (1:2) при 40 °С. Соотношение уксусного ангидрида и уксусной кислоты в получаемом продукте составляет 56:44, тогда как при окислении в отсутствие этилацетата — лишь 20:80.\\n\\nКарбонилирование метилацетата \\nНедостатком термического разложения уксусной кислоты до кетена является необходимость значительных затрат энергии. Кроме того, промышленно полезны процессы, основанные на использовании синтез-газа, который, в свою очередь, получают из метана. Примером может служить промышленное получение уксусной кислоты из метанола,  компанией Монсанто.\\n\\nВ 1973 году компания Халкон () запатентовала метод карбонилирования метилацетата в присутствии родиевого катализатора для получения уксусного ангидрида. Процесс протекает в жидкой фазе при температуре 160—190 °С и парциальном давлении оксида углерода(II) CO, равном 2—5 МПа. В качестве сырья используется метилацетат, образующийся в качестве побочного продукта при получении уксусной кислоты из метанола и СО. Сырой продукт перегоняют, получая уксусный ангидрид 99%-ой чистоты. Первый завод, использующий этот процесс, заработал в 1983 году.\\n\\nЛабораторные методы получения \\nВ лаборатории уксусный ангидрид получают по реакции ацетилхлорида с безводным ацетатом натрия. Также применяют реакцию уксусной кислоты с неорганическими ангидридами и хлорангидридами (SO2Cl2, SOCl2, COCl2, N2O4, POCl3).\\n\\nОчистка в лабораторных условиях \\nУксусный ангидрид достаточной степени очистки обычно можно получить перегонкой с эффективным дефлегматором. Примеси уксусной кислоты удаляют кипячением с карбидом кальция CaC2 или нагреванием с магниевой стружкой (80—90 °С, 5 дней). Осушение уксусного ангидрида проводят над натриевой проволокой в течение недели. Также уксусный ангидрид можно очистить азеотропной перегонкой с толуолом. Быстрый метод очистки заключается во встряхивании уксусного ангидрида с P2O5, затем с карбонатом калия и фракционной перегонке.\\n\\nФизические свойства \\nУксусный ангидрид представляет собой бесцветную прозрачную подвижную жидкость с резким запахом. Он растворим в бензоле, диэтиловом эфире, этаноле, хлороформе, уксусной кислоте, тетрагидрофуране, ограниченно — в холодной воде. При растворении в воде и спиртах происходит медленное разложение, которое ускоряется при нагревании.\\n\\nХимические свойства \\nУксусный ангидрид часто применяется в реакциях ацилирования (в данном случае, ацетилирования), в которые вступает широкий ряд различных соединений.\\n В частности, в реакцию с уксусным ангидридом вступают спирты, при этом выделяется уксусная кислота, а катализаторами выступают основания (например, ацетат натрия) и сильные кислоты.\\n В реакции ацилирования вступают также амины, причём для них эта реакция протекает быстрее, чем для спиртов. Анилины также можно ацетилировать: обычно такая реакция применяется для защиты аминогруппы, соединённой с ароматическим циклом от окисления.\\n Уксусный ангидрид используется для ацилирования ароматических углеводородов по реакции Фриделя — Крафтса, например, при реакции бензола с уксусным ангидридом в присутствии катализатора образуется ацетофенон.\\n Реакции ацетилирования подвергаются также неорганические кислоты. Так, при взаимодействии уксусного ангидрида с азотной кислотой образуется ацетилнитрат — нитрующий реагент, находящий применение в тонком органическом синтезе. Также смешанные эфиры с уксусным ангидридом дают серная кислота, сульфоновые кислоты и соляная кислота.\\n Ацетилированию могут подвергаться также оксиды с образованием соответствующих ацетатов. С уксусным ангидридом реагируют также различные соли, ацетилениды, алкоголяты.\\n Пероксиды под действием уксусного ангидрида образуют надуксусную кислоту (пероксид водорода) либо перекись ацетила (CH3CO)2O2.\\n\\nДругим важным свойством уксусного ангидрида является его способность отнимать воду в химических реакциях. Данное свойство широко используется в органическом синтезе, а также химической промышленности. В частности, уксусный ангидрид используется как водоотнимающее средство при получении гексогена. Также под действием уксусного ангидрида оксимы теряют воду, превращаясь в нитрилы. Кроме того, уксусный ангидрид участвует во многих реакциях циклизации.\\n\\nУксусный ангидрид вступает в реакцию Перкина и другие реакции карбонильных соединений.\\n\\nСпектральные данные \\n Масс-спектрометрия. Масса молекулярного иона уксусного ангидрида равна 102, однако в результате его фрагментации образуются также пики с m/z, равным 43 и 15.\\n ЯМР-спектроскопия. Протоны уксусного ангидрида имеют в 1H ЯМР-спектр химический сдвиг, равный 2,219 м. д. (растворитель CDCl3). В спектре 13C ЯМР наблюдается два сигнала: при 22,07 м. д. для атомов углерода метильной группы и при 166,63 м. д. для атомов углерода карбонильной группы.\\n УФ-спектроскопия. Максимум поглощения уксусного ангидрида составляет 217 нм.\\n\\nИспользование\\n\\nПромышленное использование \\nПримерно 80 % синтезируемого в промышленности уксусного ангидрида идёт на производство ацетата целлюлозы.\\n\\nИспользование в органическом синтезе \\n Используется в органическом синтезе в качестве ацилирующего и водоотнимающего агента.\\n Является прекурсором в производстве героина и других наркотиков опиоидной группы, в связи с чем оборот уксусного ангидрида в РФ, Белоруссии, Украине и в некоторых других государствах законодательно ограничен.\\n\\nСм. также \\n Ангидриды карбоновых кислот\\n Уксусная кислота\\n\\nПримечания\\n\\nЛитература \\n \\n \\n \\n\\nАнгидриды карбоновых кислот\\nПрекурсоры, оборот которых ограничен в РФ (Список IV)\\nСульфа́ты ме́ди:\\n Сульфат меди(I)\\n Сульфат меди(II)\\n\\nСм. также \\n Халькантит\\xa0— природный минерал, сульфат меди(II)\\nИва́н VI (Иоа́нн Анто́нович) () — император всероссийский из Брауншвейгской ветви династии Романовых. Царствовал с октября 1740 по ноябрь 1741 года, во время Эпохи дворцовых переворотов. Является правнуком Ивана V.\\n\\nФормально царствовал первый год своей жизни при регентстве сначала Бирона, а затем собственной матери Анны Леопольдовны. Император-младенец был свергнут Елизаветой Петровной, провёл почти всю жизнь в одиночном заключении и уже в царствование Екатерины II был убит охраной в 23-летнем возрасте при попытке его освободить.\\n\\nВ официальных прижизненных источниках упоминается как Иоанн III Антонович, то есть счёт ведётся от первого русского царя Иоанна Грозного; в поздней историографии установилась традиция именовать его Иваном (Иоанном) VI, считая от Ивана I Калиты.\\n\\nЦарствование \\n\\nИоанн Антонович родился 12 августа 1740 года, его тезоименитство приходилось на 29 августа\\xa0— день усекновения главы Иоанна Предтечи.\\n\\nПосле смерти императрицы Анны Иоанновны сын Анны Леопольдовны (племянницы Анны Иоанновны) и принца Антона Ульриха Брауншвейг-Беверн-Люнебургского, двухмесячный Иван Антонович был провозглашён императором при регентстве герцога Курляндского Бирона.\\n\\nРодился он в самом конце царствования Анны Иоанновны, поэтому вопрос о том, кого назначить регентом, долго мучил и находившуюся при смерти императрицу. Анна Иоанновна хотела оставить трон за потомками своего отца Ивана V и очень беспокоилась, как бы он не перешёл в будущем к потомкам Петра I. Поэтому в завещании она оговорила, что наследником является Иоанн Антонович, а в случае его смерти\\xa0— другие дети Анны Леопольдовны в порядке старшинства, если они родятся.\\n\\nЧерез две недели после воцарения младенца в стране произошёл переворот, в результате которого гвардейцы, возглавляемые фельдмаршалом Минихом, арестовали Бирона и отстранили его от власти. Новым регентом была объявлена Анна Леопольдовна, мать императора. Неспособная управлять страной и живущая в иллюзиях Анна постепенно передала всю свою власть Миниху, а после ею завладел Остерман, отправивший фельдмаршала в отставку. Но спустя год произошёл новый переворот. Дочь Петра Великого Елизавета с преображенцами арестовала Остермана, младенца-императора, его родителей и всех их приближённых.\\n\\nИзоляция \\n\\nСначала Елизавета намеревалась выдворить «Брауншвейгскую семью» из России (так было официально указано в манифесте, обосновывающем её права на престол), но передумала, испугавшись, что за границей она будет опасна, и приказала посадить в тюрьму бывшую регентшу и её мужа.\\n\\nВ 1742 году втайне от всех семья была переведена в предместье Риги\\xa0— Дюнамюнде. После раскрытия так называемого «заговора Лопухиной» в 1744 году, всё семейство было перевезено в Ораниенбург, а после\\xa0— подальше от границы, на север страны, в Холмогоры, где маленький Иван был полностью изолирован от родителей. Он находился в том же архиерейском доме, что и родители, за глухой стеной, о чём никто из них не догадывался. Комната-камера экс-императора, которого теперь по указанию Елизаветы Петровны стали называть Григорием, была устроена так, что никто, кроме майора Миллера (ответственного за содержание мальчика под стражей) и его слуги, пройти туда не мог. Содержали Ивана в тюрьме строго, охране запрещалось вступать с ним разговоры.\\n\\nМать Ивана VI Анна Леопольдовна умерла 19 марта 1746 года, через 12 дней после рождения своего последнего, пятого, ребёнка и третьего сына — Алексея.\\n\\nЗапрет на имя \\nЛичность бывшего государя и его краткое царствование вскоре подверглись закону об осуждении имени: 31 декабря 1741 года был объявлен указ императрицы о сдаче населением всех монет с именем Иоанна Антоновича для последующей переплавки. Через некоторое время эти монеты перестали принимать по номиналу, а с 1745 года их хранение стало противозаконным. Лица, у которых обнаруживали монеты Иоанна Антоновича или которые пытались ими расплатиться, подвергались пытке и ссылке как государственные преступники. В настоящее время монеты этого царствования чрезвычайно редки.\\n\\nБыло отдано распоряжение об уничтожении портретов с изображением Иоанна Антоновича, а также о замене деловых бумаг, паспортов, церковных книг и прочих документов с именем императора («дел с известным титулом») на новые. Часть этих документов сжигалась, а часть хранилась в опечатанном виде в архивах. Изъятию подвергались и пропагандистские материалы, например, опубликованные проповеди с упоминанием имени Иоанна, оды Ломоносова в его честь и прочие артефакты. Этот процесс продолжался всё царствование Елизаветы Петровны и был прекращён только после вступления на престол Екатерины II. Даже полтора с лишним века спустя, во время юбилейных мероприятий 1913—1914 годов, младенец-император был пропущен на Романовском обелиске в Александровском саду и на пасхальном яйце Фаберже «Трёхсотлетие дома Романовых».\\n\\nШлиссельбург \\nПосле того, как Елизавете представили показания пойманного заговорщика И.\\xa0В.\\xa0Зубарева, страх императрицы перед возможным новым переворотом привёл к новому путешествию Ивана. В 1756 году его перевезли из Холмогор в одиночную камеру в Шлиссельбургской крепости. В крепости Иван (официально именовавшийся «известный арестант», иногда\\xa0— «безымянный узник») находился в полной изоляции, ему не разрешалось никого видеть, даже крепостных служителей. Существует исторический миф, что изоляция Ивана была до того плотной, что он так и не увидел ни одного человеческого лица за всё время заключения, однако современные историки утверждают, что документами это не подтверждается. Напротив, документы свидетельствуют, что узник знал о своём царском происхождении, был обучен грамоте, читал находившуюся в камере Библию и мечтал о жизни в монастыре.\\n\\nС 1759 года у Ивана стали наблюдать признаки неадекватного поведения. Об этом с полной уверенностью утверждала и видевшая Ивана VI в 1762 году императрица Екатерина II; впрочем, тюремщики полагали, что это лишь жалкая симуляция.\\n\\nУбийство \\n\\nПока Иван был в заточении, предпринималось много попыток освободить свергнутого императора и вновь возвести его на престол. Последняя попытка обернулась для «безымянного узника» гибелью. В 1764 году, когда уже царствовала Екатерина II, подпоручик В.\\xa0Я.\\xa0Мирович, нёсший караульную службу в Шлиссельбургской крепости, склонил на свою сторону часть гарнизона, чтобы освободить Ивана.\\n\\nОднако стражникам Ивана, капитану Власьеву и поручику Чекину, была выдана секретная инструкция умертвить арестанта, если его будут пытаться освободить (даже предъявив указ императрицы об этом), поэтому в ответ на требование Мировича о капитуляции они закололи Ивана и только потом сдались.\\n\\nМирович был арестован и обезглавлен в Петербурге как государственный преступник. Существует неподтверждённая версия, согласно которой его якобы спровоцировала Екатерина, чтобы избавиться от бывшего императора.\\n\\nСудьба останков \\nМесто захоронения Ивана VI точно не известно. Как принято считать, «известный арестант» был похоронен в Шлиссельбургской крепости.\\n\\nВ сентябре 2010 года ряд археологов заявили об идентификации найденных в церкви Успения Богородицы (Холмогоры) останков как императорских. Однако Институт археологии РАН выразил сомнение в подлинности останков Иоанна VI. Более того, отмечалось, что поисковые мероприятия под руководством бизнесмена Анатолия Каранина, который не является археологом, велись неофициально, без научной методики и разрешения на археологические раскопки («Открытого листа»). Однако инициированный в результате раскопок петербургским депутатом и археологом Алексеем Ковалёвым запрос в прокуратуру остался безрезультатным, так как уголовных деяний прокуратура в данном случае не нашла. «Архангельской епархией Русской православной церкви приняты меры по предотвращению уничтожения ранее неизвестного захоронения в связи с предстоящим сносом водонапорной башни»,\\xa0— говорится в ответе прокуратуры на запрос.\\n\\nПамять\\n\\nВ художественной литературе \\nВ романе Вольтера «Кандид, или Оптимизм» (1759) главный герой во время венецианского карнавала встречает человека в маске, который рекомендуется ему следующим образом: «Меня зовут Иван, я был императором всероссийским; ещё в колыбели меня лишили престола, а моего отца и мою мать заточили; я был воспитан в тюрьме, но иногда меня отпускают путешествовать под присмотром стражи».\\n\\nБразильский автор Жералду Маттуш написал на эсперанто трагедию в 5 актах в стихах «Иван 6-й» (1953, переиздана в 2017).\\n\\nВ конце XIX века большим успехом в России пользовался роман Григория Данилевского «Мирович» (1879) о Василии Мировиче, в рукописи озаглавленный «Царственный узник» и впервые открывший для широкой публики обстоятельства смерти императора Иоанна Антоновича, прежде засекреченные. Публикация книги, отсроченная цензурой на четыре года, стала подлинной сенсацией.\\n\\nВ кинематографе \\nВ первой серии телесериала «Екатерина» есть эпизод, в котором императрица Елизавета, с целью приструнить наследника престола великого князя Петра, который, повысив голос на императрицу, воскликнул о желании, взойдя на престол, запретить «неправильные» русские традиции и установить «правильные», свозила его в Петропавловскую крепость, где показала мальчика, жившего там в полнейшей изоляции и забвении, назвав мальчика Иоанном Антоновичем. При этом настоящий Иоанн Антонович в Петропавловской крепости никогда не содержался.\\n\\nВ дальнейшем в этом сериале Иоанн Антонович был показан в Шлиссельбурге, где перед его смертью его посетила Екатерина II. Этот момент также не соответствует действительности: в фильме показано, что Иоанна убили примерно в одно и то же время, что и Петра III, то есть в 1762\\xa0году, а на самом деле Иоанна Антоновича убили в 1764\\xa0году.\\n\\nВ фильме существует ещё одна неточность касательно Иоанна Антоновича: Елизавета говорит, что он правил 2 недели, в действительности же Иоанн правил с октября 1740 по ноябрь 1741\\xa0года.\\n\\nТакже есть сцена с убийством Иоанна Антоновича в многосерийном фильме «Михайло Ломоносов» (1986).\\n\\nВозможная канонизация \\nПротоиерей Всеволод Чаплин отмечал, что император Иоанн VI служит примером духовного подвига, иеромонах Никон (Белавенец) считает, что необходимо подробно изучить жизнеописание убиенного императора и, возможно, начать процесс его канонизации.\\n\\nПредки\\n\\nПримечания\\n\\nЛитература \\n  \\n Брикнер\\xa0А.\\xa0Г. Император Иоанн Антонович и его родственники (1741—1807).\\xa0— М.: Унив. тип. (Катков и К°), 1874.\\xa0— 149 с.\\n\\nСсылки \\n\\n Родословная императора Ивана VI Антоновича\\n Найдены останки российского императора Ивана VI\\n\\nМекленбург-Брауншвейг-Романовы\\nИмператоры России\\nМонархи Европы XVIII века\\nМонархи, свергнутые в детстве\\nСосланные в Холмогоры\\nЗаключённые Шлиссельбургской крепости\\nМонархи, убитые в XVIII веке\\nУбитые Романовы\\nУбитые русские монархи\\nАбстра́кция (\\xa0«отвлечение»)\\xa0— про\\xadцесс от\\xadвле\\xadче\\xadния (абстрагирования) от тех или иных ха\\xadрак\\xadте\\xadри\\xadстик объекта для их из\\xadби\\xadра\\xadтель\\xadно\\xadго анализа; при этом на\\xadблю\\xadдае\\xadмый объ\\xadект за\\xadме\\xadща\\xadет\\xadся его идеализированным тео\\xadре\\xadтическим об\\xadра\\xadзом\\xa0— аб\\xadстракт\\xadным объектом. Абстракции являются уни\\xadвер\\xadсаль\\xadным методом на\\xadучного по\\xadзна\\xadния, они необходимы для фор\\xadми\\xadро\\xadва\\xadния по\\xadня\\xadтий, уз\\xadна\\xadва\\xadния и клас\\xadси\\xadфи\\xadка\\xadции объ\\xadек\\xadтов исследования на всех уров\\xadнях фор\\xadми\\xadро\\xadва\\xadния зна\\xadний.\\n\\nАбстраги́рование\\xa0— операция мышления, состоящая в отвлечении от несущественных сторон, свойств, связей объекта (предмета или явления) с целью выделения их существенных, закономерных признаков. Результат абстрагирования\\xa0— абстрактные понятия, например: цвет, кривизна, масса, красота и\\xa0т.\\xa0д.\\n\\nВ европейской философии и логике абстрагирование трактуется как способ поэтапного продуцирования понятий, которые образуют всё более общие модели\\xa0— иерархию абстракций. Наиболее развитой системой абстракций обладает математика. Степень отвлечённости обсуждаемого понятия называется уровнем абстракции. В зависимости от целей и задач, можно рассуждать об одном и том же объекте на разных уровнях абстракции.\\n\\nАбстрактное понятие \\nАбстрактное понятие\\xa0— высшая форма абстракции, но связанная с примитивной чувственной абстракцией. Начиная с одних чувственных свойств объекта, выделяя другие чувственные свойства (примитивная чувственная абстракция), абстракция переходит к выделению нечувственных свойств, выраженных в отвлечённых абстрактных понятиях. Через отношения между предметами мысль может выявить их абстрактные свойства. Абстракция в своих высших формах является результатом раскрытия всё более существенных свойств вещей и явлений через их связи и отношения. Существовало два учения об абстракции, то есть о том процессе, когда мышление переходит к абстрактным понятиям:\\n абстракция эмпирической психологии\\xa0— это учение сводило абстрактное лишь к чувственному,\\n абстракция реалистической психологии\\xa0— отрывало абстрактное от чувственного, утверждая, что абстрактное содержание порождается мыслью.\\nНо в действительности абстрактное и несводимо к чувственному, и неотрывно от него. Мысль может прийти к абстрактному лишь исходя из чувственного, то есть это движение мысли, которая переходит от чувственных свойств предметов к их абстрактным свойствам.\\n\\nАбстрагирование \\nАбстрагирование\\xa0— это метод познания, мысленное выделение, вычленение некоторых элементов конкретного множества и отвлечение их от прочих элементов данного множества. Это один из основных процессов умственной деятельности человека, опирающийся на знаковое опосредствование и позволяющий превратить в объект рассмотрения разные свойства предметов. Это теоретическое обобщение позволяет отразить основные закономерности исследуемых объектов или явлений, изучать их, а также прогнозировать новые, неизвестные закономерности. В качестве абстрактных объектов выступают целостные образования, составляющие непосредственное содержание человеческого мышления\\xa0— понятия, суждения, умозаключения, законы, математические структуры и др.\\n\\nПотребность в абстракции определяется ситуацией, когда становятся явными отличия между характером интеллектуальной проблемы и бытием объекта в его конкретности. В такой ситуации человек пользуется, например, возможностью восприятия и описания горы как геометрической формы, а движущегося человека\\xa0— в качестве некой совокупности механических рычагов.\\n\\nВиды абстракции \\nНекоторые типы абстракции:\\n примитивная чувственная абстракция\\xa0— отвлекается от одних свойств предмета или явления, выделяя другие его свойства или качества (выделение формы предмета, отвлёкшись от его цвета или наоборот). В силу бесконечного многообразия действительности никакое восприятие не в состоянии охватить все её стороны, поэтому примитивная чувственная абстракция совершается в каждом процессе восприятия и неизбежно связана с ним.\\n обобщающая абстракция\\xa0— даёт обобщённую картину явления, отвлечённую от частных отклонений. В результате такой абстракции выделяется общее свойство исследуемых объектов или явлений. Данный вид абстракции считается основным в математике и математической логике.\\n идеализация\\xa0— замещение реального эмпирического явления идеализированной схемой, отвлечённой от несущественных для данного исследования реальных атрибутов. В результате образуются понятия идеализированных (идеальных) объектов: «идеальный газ», «абсолютно чёрное тело», «прямая» и др.\\n изолирующая абстракция\\xa0— тесным образом связана с непроизвольным вниманием, поскольку при этом выделяется то содержание, на котором сосредоточивается внимание.\\n конструктивизация\\xa0— отвлечение от неопределённости границ реальных объектов, их «огрубление».\\nПо целям:\\n формальная абстракция\\xa0— выделение таких свойств предмета, которые сами по себе и независимо от него не существуют (форма или цвет). Этот тип абстракции служит основой усвоения детьми знаний, описывающих предметы по их внешним свойствам, что служит предпосылкой теоретического мышления.\\n содержательная абстракция\\xa0— вычленение тех свойств предмета, которые сами по себе обладают относительной самостоятельностью (клетка организма). Этот тип абстракции у учащихся развивает способность оперировать ими.\\n\\nАбстрактное и конкретное \\nВ диалектической логике понятие «абстрактное» противопоставляется конкретному, например, конкретное мышление\\xa0— абстрактное мышление (см. Восхождение от абстрактного к конкретному). В диалектической логике понятие абстракция часто употребляется в негативном смысле: как нечто одностороннее, неразвитое, слишком оторванное от жизни, в отличие от конкретного.\\n\\nАбстрактное мышление подразумевает оперирование абстракциями («человек вообще», «число три», «дерево», и\\xa0т.\\xa0д.), конкретное мышление имеет дело с конкретными объектами и процессами («Сократ», «три банана», «дуб во дворе», и\\xa0т.\\xa0д.). Способность к абстрактному мышлению является одной из отличительных черт человека, которая, вероятно, сформировалась одновременно с языковыми навыками и во многом благодаря языку (так, нельзя было бы даже мысленно оперировать «числом три» вообще, не имея для него определённого языкового знака\\xa0— «три», поскольку в окружающем нас мире такого абстрактного, ни к чему не привязанного понятия, попросту не существует: это всегда «три человека», «три дерева», «три банана» и\\xa0т.\\xa0п.).\\n\\nОпределение через абстракцию \\nОпределение через абстракцию\\xa0— способ описания (выделения, «абстрагирования») не воспринимаемых чувственно («абстрактных») свойств предметов путём задания на предметной области некоторого отношения типа равенства (тождества, эквивалентности). Такое отношение, обладающее свойствами рефлексивности, симметричности и транзитивности, индуцирует разбиение предметной области на непересекающиеся классы (классы абстракции, или классы эквивалентности), причём элементы, принадлежащие одному и тому же классу, неотличимы по определяемому таким образом свойству.\\n\\nМедицина \\nВвиду некоторых физиологических особенностей головного мозга индивидуумов,\\xa0у людей, имеющих такие заболевания, как умственная отсталость, может отсутствовать или быть слабо выражено абстрактное мышление.\\n\\nСм. также \\n Абстрактное мышление\\n Абстракция данных\\n Идеализация\\n Мереологический нигилизм\\n Обобщение\\n Слой абстрагирования (уровень абстракции) в программировании\\n Трансцендентность\\n\\nПримечания\\n\\nЛитература \\n\\n на русском языке\\n Виленкин Н. Я., Шрейдер Ю. А. Понятия математики и объектов науки. // Вопросы философии. 1974. № 2;\\n Горский Д. П. Вопросы абстракции и образование понятий. М., 1961;\\n Ильенков Э. В. Диалектика абстрактного и конкретного в научно-теоретическом мышлении. — Собрание сочинений. Т. 1. М., 2019;\\n Лазарев Φ. В. О природе научных абстракций. М., 1971;\\n Лазарев Φ. В. Абстракция и реальность. // «Вестник МГУ», 1974; № 5;\\n Петров Ю. А. Логические проблемы абстракций бесконечности и осуществимости. М., 1967;\\n Новосёлов М. М. Об абстракциях неразличимости, индивидуации и постоянства // Творческая природа научного познания, М., 1984;\\n Новосёлов М. М. Абстракция и научный метод. — В кн.: Актуальные вопросы логики научного познания. М., 1987;\\n Розов М. А. Научная абстракция и её виды. Новосибирск, 1965;\\n Яновская С. А. Методологические проблемы науки. М., 1972.\\n\\n на других языках\\n\\n Sclmeider H. l. Historische und systematische Untersuchungen zur Abstraction. Erlangen, 1970;\\n Jules Vuillemin. La logique et le monde sensiable. Etude sur les théories contemporaines de l’abstraction. P., 1971;\\n Logic and abstraction. Göteborg, 1986;\\n Pollard St. What is abstraction?\\xa0— «Nous», 1987, vol. 21, №\\xa02;\\n Roeper P. Principles of abstraction for events and processes.\\xa0— «J. of philos. Logic», 1987, vol. 16, №\\xa03.\\n\\n Ссылки \\n \\n Ильенков Э. В.\\'\\' Абстракция. // Философская энциклопедия. Т. 1. М.: Советская энциклопедия, 1960. \\n \\n\\nФилософские термины\\nЭпистемология\\nАбстракция\\nГраф Бурхард Кристоф фон Мюнних (, в России был известен как Христофо́р Анто́нович Ми́них; , Нойенхунторф, Ольденбург\\xa0— , Санкт-Петербург)\\xa0— русский военный и государственный деятель немецкого происхождения, генерал-фельдмаршал (1732), наиболее активный период деятельности которого пришёлся на правление императрицы Анны Иоанновны. \\nПодполковник Преображенского лейб-гвардии полка (с 1739 за победу над Турцией). Отец дипломата и мемуариста графа Иоганна Эрнста Миниха.\\n\\nРанние годы \\n \\n\\nБудущий фельдмаршал родился в Ольденбурге в семье потомственных инженеров, занимавшихся водными сообщениями. Получил основательное образование, овладев инженерным и чертёжным искусствами, освоил латынь и французский язык, а также получил опыт в области гидротехники.\\n\\nВ 1700—1720\\xa0годах он служил инженером во французской, гессен-дармштадтской, гессен-кассельской и польско-саксонской армиях. Под знаменами принца Евгения Савойского и герцога Мальборо участвовал в Войне за испанское наследство, в ряде военных походов в Европе, что дало ему боевой опыт. В Германии заслужил чин полковника, в Польше получил от Августа II чин генерал-майора.\\n\\nСподвижник Петра I \\nВ 1721\\xa0году по приглашению русского посла в Варшаве Г.\\xa0Ф.\\xa0Долгорукова Миних прибыл в Россию вести инженерные дела, задуманные Петром I. Когда он представил царю чертёж нового укрепления Кронштадта, довольный Пётр сказал:\\n\\n«Спасибо Долгорукову, он доставил мне искусного инженера и генерала».\\n\\nУспешная деятельность Миниха по устройству судоходства на Неве, прокладке дорог, строительству Балтийского порта, проведению первого обходного Ладожского канала в 1723—1728\\xa0годах принесла ему глубокое уважение царя. В 1722\\xa0году он был произведён в генерал-лейтенанты, в 1726\\xa0году, уже при Екатерине I,\\xa0— в генерал-аншефы, удостоен ордена Святого Александра Невского.\\n\\nИменно Миних, будучи талантливым инженером-гидротехником, доказал невозможность устройства «водных фиерий» в Стрельне и убедил царя перенести загородную резиденцию в Петергоф, так как в случае реализации фонтанного комплекса в Стрельнинской резиденции территории в десятки квадратных километров грозило бы затопление.\\n\\nПосле смерти Петра его преемники Екатерина I и А.\\xa0Д.\\xa0Меншиков не имели намерения отменять результаты его деятельности, но создалась такая неопределённая ситуация, что указы Петра перестали исполняться, а полицмейстер А.\\xa0М.\\xa0Девиер нередко допускал в этом вопросе послабления. С весны 1725\\xa0года началось всеобщее бегство лиц из Петербурга, принадлежащих к любому сословию, которые стремились уехать из столицы в Москву или в провинцию. 24 февраля 1728\\xa0года молодой император Пётр II короновался в Москве, а накануне в неё переехал и двор. Император совершенно перестал интересоваться государственными делами и вёл праздную жизнь. Никому ничего не платили, и каждый воровал столько, сколько мог. Петербург опустел, и был даже поставлен вопрос о том, оставаться ли ему столицей, так как в течение четырёх лет в нём отсутствовал императорский двор.\\n\\nВ 1727\\xa0году император Пётр II, переехавший со своим двором в Москву, назначает Миниха правителем Петербурга и обер-директором над фортификациями Российской империи. C 1728 он\\xa0— граф, генерал-губернатор Ингерманландии, Карелии и Финляндии (до 1734\\xa0года).\\n\\nВ это время Миних ведёт интенсивное строительство в Петербурге, Выборге и Кронштадте. К этому времени Миних показал себя деятельным, настойчивым и распорядительным администратором с весьма основательными знаниями в области гидротехники и военного дела. Окончание работ на Ладожском канале, обеспечившем безопасное плавание в обход бурного Ладожского озера, имело чрезвычайно большое значение для экономики города, поскольку соединяло его с центральными губерниями России и расширило товарооборот порта. В результате цены на товары первой необходимости сделались приемлемыми для большинства населения.\\n\\nПоложено было начало регулярному морскому сообщению с Европой, а из Кронштадта начали ходить почтовые и пассажирские пакетботы на Любек и Данциг с билетом ценой 3 рубля. В городе было завершено строительство здания 12 коллегий, постройка каменных бастионов Петропавловской крепости. Для оживления общественной жизни в столице и поддержания её столичного статуса он часто организовывал в своём доме балы, обеды, а в торжественные дни\\xa0— празднества, проводил парады и смотры войскам и торжества при спуске судов.\\n\\nБлагодаря его энергии Петербург сохранил свою роль важнейшего российского города до фактического возвращения ему функции столицы государства.\\n\\nВ царствование Анны Иоанновны \\n\\n28 апреля 1730\\xa0года в Москве была коронована Анна Иоанновна (1693—1740), дочь брата Петра Великого Иоанна Алексеевича. Это событие было отпраздновано в Петербурге, где после торжественного обеда в доме Миниха вечером был устроен невиданный даже при жизни Петра фейерверк. Год спустя Миних был вызван в Москву, где ему было поручено подготовить петербургские дворцы к возвращению двора. Осенью 1731\\xa0года в Петербург вернулась гвардия. 15 января 1732\\xa0года в город вернулась императрица, официальный въезд которой был организован с чрезвычайной пышностью. При этом Миних на льду Невы организовал инсценировку взятия снежной крепости.\\n\\nС возвращением двора временное запустение сменилось наплывом населения и в городе даже начался квартирный кризис. Чрезвычайно быстро начали застраиваться городские площади, ранее занятые лишь отдельно стоящими домами. Пограничная черта прошла по теперешнему Загородному проспекту, но и за ней вплоть до Смольного и Александро-Невской Лавры также велось строительство. Значительную часть этой площади Миних взялся осушить собственными средствами на условиях заимообразного отпуска денег и вечного права на десятую долю сделанного пригодным для жизни пространства. В короткое время пригодной под застройку стала обширная площадь на материковой стороне города, ныне занимаемой городским центром.\\n\\nПосле восшествия на престол Анны Иоанновны Христофор Антонович в короткое время (1730—1732) был пожалован генерал-фельдцейхмейстером, президентом Военной коллегии, а 25 февраля (7 марта) 1732 года\\xa0— генерал-фельдмаршалом. Ему было поручено принять меры по улучшению бедственного положения русской армии. Взявшись энергично за дело, Миних привёл в порядок армейские финансы, основал при войсках госпитали для раненых и гарнизонные школы.\\n\\nОн сформировал два новых гвардейских полка\\xa0— Конной гвардии и Измайловский, (названный так по имени подмосковного поселения Измайлово, в котором жила императрица), провёл переустройство гвардейских и армейских полков, преобразовал Военную коллегию; основал в Петербурге первый в России Шляхетский кадетский корпус, «дабы в нём от четырёх до пяти сот молодых дворян и офицерских детей воспитывать и обучать как телесным и военным упражнениям, так и чужестранным языкам, художествам и наукам». Поскольку не все ученики имели склонность к военной службе, а государству «не менее нужно политическое и гражданское обучение», в нём полагалось преподавать историю, географию, юриспруденцию, танцы, музыку и «прочия полезныя науки». Кадеты имели право посещать лекции академических профессоров с тем, чтобы иметь возможность поступить на гражданскую службу, а для их экзаменов привлекались профессора и адмиралы Академии. Миних многие годы опекал Шляхетский корпус, будучи в 1732—1741 годах его начальником.\\n\\nМиних составил новые штаты для армии, заменившие старую «табель» 1704, ввёл в армии корпус (12 полков) тяжёлой конницы (кирасир), создал первые полки гусар; сравнял жалованье русских офицеров с приглашёнными иностранными. Он создал новый для России род войск\\xa0— сапёрные полки\\xa0— и основал Инженерную школу для офицеров. При нём были модернизированы или построены 50 крепостей. Эти и другие преобразования улучшили состояние русской армии.\\n\\nОсада Данцига (1734\\xa0г.) \\n\\nВ 1734\\xa0году по предложению фаворита императрицы герцога Бирона Миних был направлен осаждать Данциг (нынешний Гданьск), где находился французский ставленник Станислав Лещинский. После кровопролитных боёв Данциг был взят, но Миних получил упрёки за долгую осаду и за допущение бегства Лещинского из города. Оправдываясь за медлительность, Миних писал: «В Данциге было тридцать тысяч вооружённых войск, я же не располагал и двадцатью тысячами, чтобы вести осаду, а между тем линия окружения крепости простиралась на девять немецких миль» (1 немецкая миля = 10 тысячам шагов, то есть приблизительно 8 километрам). На польский трон был посажен ставленник России и Австрии саксонский курфюрст Август.\\n\\nРусско-турецкая война (1735—1739) \\n\\nВ 1735\\xa0году было решено объявить войну Турции в ответ крымским татарам за набеги на русские земли. Кипучая энергия Миниха и его желание через военные победы возвысить свой авторитет, превзойти Остермана и Бирона побудили его принять пост главнокомандующего в этой войне.\\n\\nОрганизовав в 1736 году осаду Азова и Очакова, фельдмаршал во главе 50-тысячной армии двинулся к Перекопу для завоевания Крыма. После трудного месячного марша 21 мая (по юлианскому календарю) его войска штурмом овладели Перекопом и проникли в Крым. Перед штурмом Перекопа Миних пообещал, что первый солдат, взошедший на укрепления живым, будет произведён в офицеры. Первым был юный Василий Долгоруков, будущий Долгоруков-Крымский, получивший за это чин поручика. Узнав о повелении Анны Иоанновны никому из Долгоруковых чинов не давать, Миних при докладе императрице сумел повернуть дело так, что Василию Долгорукову императрица чин оставила. \\n\\nВ результате тяжёлого и изнурительного похода были завоёваны у татар Гезлев (нынешняя Евпатория), Ак-Мечеть и столица Крымского ханства Бахчисарай.\\n\\nПотери русской армии от вспыхнувшей эпидемии, распространения болезней, нехватки продовольствия и воды были значительными, и фельдмаршалу пришлось повернуть назад, в Малороссию, но путь в Крым для России всё же был проложен.\\n\\nТем временем фельдмаршал Пётр Ласси овладел Азовом (июнь 1736\\xa0года). В период Крымского похода выбыло из строя около половины всего состава армии Миниха (потери в боях не превысили 2000 человек), и фельдмаршал отклонил предложение Петербурга идти на Крым вторично осенью.\\n\\nВ 1737\\xa0году Миних предпринял новый военный поход, на этот раз через Днепр на Очаков. После упорного и кровопролитного штурма крепость была взята (13 июля) благодаря чрезвычайно эффективному действию русской артиллерии. Причём фельдмаршал подавал пример личной храбрости, командуя в строю батальоном лейб-гвардии Измайловского полка; он собственноручно водрузил гвардейское знамя на главной башне крепости. В период перехода к Очакову потери армии Миниха были велики (около трети состава)\\xa0— вновь из-за повальных болезней, тифа, чумы, недостатка продовольствия и фуража.\\n\\nВ следующем году главнокомандующий водил армию к Бендерам, но вернулся на Южный Буг, не дойдя до цели, и снова из-за эпидемий. Огромные потери в армии не смущали ни Миниха, ни Петербург, который требовал от фельдмаршала военных побед.\\n\\nЧтобы обеспечить взаимодействие с австрийскими войсками, действовавшими в Валахии и Боснии, русский главнокомандующий в начале 1739\\xa0года развернул наступление в Молдавию и добился перелома в войне. В августе русская армия разгромила турецкие войска в сражении под Ставучанами близ Хотина. Здесь турецкое войско численностью до 90 тысяч окружило русскую армию. Но Миних применил военную хитрость, имитируя атаку левым флангом, а затем обрушившись на противника главными силами справа. Турецкая армия в беспорядке отступила за реку Прут, потери армии Миниха составили 13 убитых и 54 раненых. Через два дня капитулировала турецкая крепость Хотин, вскоре была занята большая часть Молдавии. Эта победа была воспета Ломоносовым в его первой оде, которая считается первым поэтическим опытом в русской литературе\\n.\\n\\nУгроза нападения со стороны Швеции и выход из войны союзницы России\\xa0— Австрии\\xa0— вынудили Анну Иоанновну заключить с Турцией Белградский мир. Это остановило боевой порыв честолюбивого фельдмаршала, готовившегося к новым сражениям. Наградами ему за действия в войне стали орден святого Андрея Первозванного, звание подполковника лейб-гвардии Преображенского полка (звание полковника в этом полку имел право носить только монарх) и золотая шпага, осыпанная бриллиантами.\\n\\nСвержение власти Бирона \\nВ 1740 году после смерти Анны Иоанновны, согласно её завещанию, регентом при малолетнем императоре Иоанне Антоновиче стал герцог Бирон. Среди высшего дворянства недовольство регентом было чрезвычайно велико. В ночь на 8 ноября 1740\\xa0года Миних, заставший в своё время Анну Леопольдовну в слезах по причине притеснений со стороны Бирона и обещавший ей поддержку, приказал своему адъютанту Манштейну во главе команды из 20 солдат арестовать Бирона в его спальне.\\n\\nАнна Леопольдовна не возражала против пожалования Миниху чина генералиссимуса, но тот уступил этот титул отцу малолетнего императора\\xa0— Антону Ульриху Брауншвейгскому, получив взамен пост первого министра по военным, гражданским и дипломатическим делам. Однако вскоре в результате интриг Остермана Миних вынужден был уйти в отставку.\\n\\nОбвинение в измене, приговор и ссылка \\n\\nВ 1741\\xa0году, с воцарением Елизаветы Петровны, Миних был предан суду (вместе с Остерманом) и приговорён к смертной казни по целой серии ложных обвинений: в государственной измене, в пособничестве Бирону, в мздоимстве и казнокрадстве. Идя из крепости к месту казни, Миних сохранял бодрость духа, разговаривал с сопровождавшими его офицерами, вспоминал о войне и привычной для военного человека готовности к смерти. Уже на эшафоте он услышал новый приговор: казнь была заменена ссылкой в Сибирь, деревню Пелым, где отбывал ссылку смещённый Минихом Эрнст Бирон. Однако, к моменту вынесения в Петербурге приговора фельдмаршалу, Бироны уже паковали вещи в дорогу из Пелыма в Ярославль (Елизавета миловала Бирона без возможности въезда в Москву или Петербург) на постоянное проживание. «По иронии судьбы случилось так, что экипажи Бирона и Миниха встретились на столбовой дороге и бывшие великие сановники\\xa0— герцог и фельдмаршал\\xa0— посмотрели друг на друга и, даже не кивнув один другому, молча разъехались». В деревне Пелым Миних провёл 20 долгих лет.\\n\\nНе сдаваясь годам, он занимался физическим и умственным трудом, выращивал овощи, обучал детей, сочинял разные инженерные и военные проекты (остававшиеся, впрочем, без всякого применения). Время от времени Миних направлял в столицу предложения назначить его сибирским губернатором.\\n\\nВозвращение из ссылки. Последние годы \\n\\nЧерез 20 лет, в 1762\\xa0году, новый император Пётр III возвратил 78-летнего Миниха в Петербург, вернув ему все чины и награды и включив в Императорский совет.\\n\\nИзначально Миних поддерживал начинания нового императора, но со временем он стал сомневаться в его правоте. В частности, он был против войны с Данией и преобразований армии на прусский манер.\\n\\nКогда начался переворот в пользу императрицы Екатерины, из чувства благодарности к своему освободителю престарелый фельдмаршал советовал императору бежать в Ревель и присоединиться к находившимся в Пруссии русским войскам. После переворота Миних был прощён Екатериной и принёс ей присягу.\\n\\nСтав генерал-губернатором и получив под своё начальство Ревельский, Кронштадтский, Балтийский и другие порты, а также Ладожский канал, Миних ревностно продолжил свои труды. «Сон почти не смыкает моих глаз,\\xa0— писал он императрице.\\xa0— С разными планами я закрываю глаза и снова, проснувшись, обращаю к ним свои мысли».\\n\\nВ своих письмах Екатерине Миних неоднократно советовал ей начать новую войну против турок и крымских татар, чтобы довершить начатое им 30 лет назад, но не дожил до исполнения этого совета один год.\\n\\nВ последние годы он всё же был назначен, как некогда и хотел, губернатором Сибири (с проживанием в Петербурге).\\n\\nФельдмаршал граф Миних скончался в 1767 году. Первоначально он был погребен в Петрикирхе на Невском проспекте, но впоследствии прах перенесли в графское имение Луниа (Луунья) близ Дерпта. В советское время на месте упокоения графа коммунисты построили свинарник.\\n\\nОценка деятельности \\n\\nХристофор Антонович Миних имел немецкое происхождение, но его военные и государственные дарования проявились в России, которой он долго и ревностно служил как своей второй родине. Вошёл в русскую историю как выдающийся военный и хозяйственный деятель, непобедимый фельдмаршал, продолжатель дела Петра I.\\n\\nМинихом была проведена колоссальная работа по качественному совершенствованию русской армии, крепостного хозяйства и тыла. Огромная созидательная деятельность Миниха касалась также укрепления государственной системы Российской империи.\\n\\nРоль фельдмаршала графа Миниха в войнах XVIII века и вообще в военной истории России очень высока. Под командованием фельдмаршала русская армия впервые вторглась в Крым и, успешно и практически без потерь отразив и рассеяв орду крымского хана на его же территории, взяла столицу ханства Бахчисарай и сожгла его.\\n\\nМиних впервые в истории России победил в открытом полевом сражении турецкую армию, которую в Москве очень боялись и уважали, особенно после Чигиринских походов. Миф о непобедимости турок особенно сильно засел после неудачного Прутского похода Петра. Миних же в битве при Ставучанах обратил в бегство превосходящую его армию сераскира Бендерского Вели-паши. Это была первая настоящая победа русских над турками, положившая начало победоносных войн России с Портой, и именно фельдмаршал Миних первый положил начало этой странице русской боевой славы.\\n\\nГенерал-федьдмаршалу Миниху приписывают афоризм, который в настоящее время часто используется в разного рода около-исторических публикациях и однажды был процитирован президентом Российской Федерации В.\\xa0В.\\xa0Путиным: «Русское государство обладает тем преимуществом перед другими, что оно управляется непосредственно самим Богом, иначе невозможно понять, как оно существует». Однако эту фразу (в зависимости от перевода ее содержание может незначительно различаться) произнес его сын Иоганн Эрнст Миних, с 1764 года\\xa0— главный директор таможенных сборов Российской империи, в беседе с директором Петришуле А.\\xa0Ф.\\xa0Бюшингом, причем она имела ироничный подтекст\\xa0— подразумевалось отсутствие в России эффективного государственного управления . Авторство афоризма было изменено, предположительно, в 1910 году и, вероятно, по недоразумению\\xa0— в очерках «Итоги восемнадцатого века в России», выпущенных в Москве издательством И.\\xa0Д.\\xa0Сытина. В книге бывшего члена Государственного Совета Российской империи В.\\xa0И.\\xa0Гурко «Царь и царица» (Париж, 1927) эта ошибка была повторена. С тех пор о настоящем авторстве и изначальном смысле афоризма почти не вспоминают. Первоисточник и перевод на русский см. здесь: Mемуары Антона Бюшинга, Галле, 1789\" https://forum.ingenia.ru/viewtopic.php?id=30990\\n\\nОтзывы современников \\nОн очень хорошо знал военное дело и был отличным инженером; но самолюбив до чрезвычайности, весьма тщеславен, а честолюбие его выходило из пределов. Он был лжив, двоедушен, казался каждому другом, а на деле не был ничьим; внимателен и вежлив с посторонними, он был несносен в обращении с своими подчиненными.\\n\\nСемья \\n Отец: Антон Гюнтер (Грипен) фон Миних (1650—1721), инженер-гидротехник на датской службе, происходил из состоятельного крестьянского рода, вероятно из окрестностей г. Штедингена. В 1686 году датский король Кристиан V возвел его в дворянское достоинство с правом именоваться Мюнних.\\n мать: София Екатерина фон Эткенс (1659—1710), из датских дворян, дочь канцелярского и правительственного советника в Ольденбурге Иоганна Людольфа фон Откен (1629—1679)\\n старший брат: Иоганн Рудольф фон Миних (1676—1730), начальник приморских плотин в Ольденбурге\\n младший брат: Христиан Вильгельм фон Миних (1688—1768), на русской службе, обер-гофмейстером\\n сестры: Елена Елизавета (в зам-ве графиня фон Ритберг; 1679—1733), Доротея Елизавета (в зам-ве фон Вильден; 1685—1739), Шарлотта Амалия (в зам-ве фон Роль)\\n\\nБраки и дети \\n1.\\xa08 мая 1705 года\\xa0женился на Кристине Лукреции фон Витцлебен (25 августа 1685—10 февраля 1727), фрейлине при гессен-дармштадтском дворе. Она\\xa0всюду следовала за своим мужем, сопровождая его во всех походах. Кристина Лукреция родила 13 детей, из которых только четверо достигли совершеннолетия.\\xa0Её можно считать основательницей графской линии рода Минихов.Дети:\\n Эрнст (1706—1706), прожил 4 недели\\n Антон Гюнтер (30 декабря 1707— ?), брат-близнец Эрнста Иоганна, умер в младенчестве\\n Эрнст\\xa0Иоганн (Сергей Христофорович) (30 декабря 1707—24 января 1788), русский дипломат,\\xa0действительный тайный советник\\xa0\\n София\\xa0Анна Луиза (21 февраля 1709—6 ноября 1772), фрейлина цесаревны Елизаветы Петровны; муж с 1 августа 1729 полковник Герман Альбрехт фон Мальтцан (1687—1742)\\xa0\\n Луиза Доротея (30 сентября 1710\\xa0— 23 декабря 1775), 1-й муж с 24 октября 1730 Иоганн Вильгельм фон\\xa0Шаумберг (1681—1737); 2-й муж с 1739 граф\\xa0Фридрих Людвиг цу Зольмс-Вильденфельс унд Теклкнбург (1708—1789)\\n Кристина\\xa0Елизавета\\xa0(30 октября 1711—28 августа 1775), муж с 9 марта 1728 прусский камергер барон Иоганн Генрих фон Менгден (1700—1768)\\n Бурхард Кристоф (1721), умер в детстве\\n Вильгельмина (1722—1722), умерла в младенчестве\\n Фридрих (1724—1729), умер в детстве\\nЕщё четверо сыновей (родились в 1710, 1712, 1714, 1716) умерли в младенчестве сразу же после рождения.\\n\\n2. Через полтора года после смерти первой жены, 28 сентября 1728 года\\xa0Миних женился на Барбаре Элеоноре (в православии Варваре Ивановне) фон\\xa0Мальтцан (11 июня 1691—3 сентября 1774), гофмейстерине двора цесаревны Елизаветы Петровны.\\xa0Она был дважды вдовою. Её первым мужем (с 27 декабря 1708 года) был барон\\xa0Генрих Леопольд фон\\xa0Мальтцан (2 января 1680—3 февраля 1712), мекленбургский дворянин, происходил из того же рода что и она. Её вторым мужем (с 1719 года) был граф Михаил Алексеевич Салтыков\\xa0(ум. 29 августа 1723), посол России в Мекленбург-Cтрелице. От этих браков у\\xa0Барбары Элеоноры было три дочери. Графиня Барбара Элеонора Миних разделила впоследствии с\\xa0супругом долгие годы ссылки.\\xa0В новом браке была одна дочь:\\n Беата (1729—1738), умерла в детстве\\n\\nПамять \\n Фигура Миниха на памятнике «Тысячелетие России» в Великом Новгороде (в группе «Военные люди и герои», сидит в профиль чуть правее центра группы)\\n Мемориальная доска в притворе Петрикирхе в Санкт-Петербурге\\n Памятник Христофору Миниху в посёлке Луунья\\n\\nВ литературе \\nФельдмаршал Миних является одним из персонажей романа В. Пикуля «Слово и дело» и исторической миниатюры «Солдат Василий Михайлов», повести М.\\xa0А.\\xa0Алданова «Пуншевая водка».\\n\\nСм. также \\n 13-й драгунский Военного Ордена генерал-фельдмаршала графа Миниха полк\\n\\nПримечания\\n\\nЛитература \\n \\nПриказы графа Миниха за 1736-1738 гг.//Военн. статич. отд. Главного штаба. Под ред. А.К. Баитова. СПб. 1904 г. Сборн. военно-ист. матер. Вып. 14.\\n Миних Б.-Х. Записки фельдмаршала графа Миниха. Перевод с французскаго. Редакция издания и примечания С.\\xa0Н.\\xa0Шубинскаго. С приложением портрета графа Миниха. Спб., 1874.\\nБ.Х. Миних. Всеподданнейшие донесения гр. Миниха. Моск. отд. арх. Глав. штаба. По списку поруч. запас. арм. Кав. М.Н. Прокоповича.//Ред. А.З. Мышлаевский. СПб. Воен.-учеб. ком. Гл. штаб. 1897-1903 г. 3.Т. (Сбор. воен.-ист. мат. Вып. 10, 11, 13).\\n \\n Гаврилов\\xa0С.\\xa0Л. Остзейские немцы в Петербурге М., 2011.\\n\\nСсылки \\n\\n \\n Доклад фельдмаршала Миниха о собрании и издании всех Российских Указов и Регламентов, поданный 1735\\xa0г. мая 14 // Отечественные записки П. Свиньина. — Ч. 5.\\xa0— СПб: 1821\\n Анисимов Евгений Солдат удачи, или Бравый Миних // Еженедельник «Дело», №\\xa08 (305) от 08.12.2003\\n Дуров\\xa0Н.\\xa0П.  Записки и проч. труды фельдмаршала Миниха // Русская старина. — 1872.\\xa0— Т. 6.\\xa0— №\\xa09.\\xa0— С. 381—383.\\n  Миних\\xa0Б.\\xa0К., фон. Известие фельдмаршала Миниха о Ладожском канале // Сын отечества, 1818.\\xa0— Ч. 43.\\xa0— №\\xa04.\\xa0— С. 129—155.\\n  Миних Б. фон. Фельдмаршал Миних из Сибири. Письма // Русский архив, 1865.\\xa0— Изд. 2-е.\\xa0— М., 1866.\\xa0— Стб. 353—382.\\n  Миних\\xa0Б.\\xa0К. фон. Записки фельдмаршала Миниха. Извлечения / Пер. Е.\\xa0А.\\xa0Харитонова // Русская старина, 1874.\\xa0— Т. 9.\\xa0— №\\xa01.\\xa0— С. 73-105.\\xa0— Под загл. Сказания иноземцев о России XVIII века.\\n  Миних\\xa0Б.\\xa0К. фон. Миниховы кондиции с русским правительством 1721 и 1727\\xa0гг. / Публ. М.\\xa0Д.\\xa0Хмырова // Русский архив, 1867.\\xa0— Вып. 3.\\xa0— Стб. 321—332.\\n  Миних\\xa0Б.\\xa0К. фон. Перевод с письма к государственному канцлеру гр. Алексею Петровичу Бестужеву-Рюмину от бывшего фельдмаршала гр. Миниха из Пелыма от 4-го июня 1744 года, которое отдано, по именному её императорского величества, словесному повелению, его ж сиятельству государственному канцлеру чрез ст. сов. Демидова в 24-е июня 1744 года / Сообщ. С.\\xa0И.\\xa0Шубинским // Русский архив, 1866.\\xa0— Вып. 2.\\xa0— Стб. 171—185.\\n  Миних\\xa0Б.\\xa0К., фон. Диспозиция и церемониал торжественного въезда императрицы Анны Ивановны в С.-Петербург 16 генваря 1732 года / Сообщ. М.\\xa0Д.\\xa0Хмыров // Русский архив, 1867.\\xa0— Вып. 3.\\xa0— Стб. 332—341. \\n \\n\\nГенералы I Речи Посполитой\\nИнженеры по алфавиту\\nИнженеры Российской империи\\nГенерал-фельдцейхмейстеры\\nСподвижники Петра I\\nБурхард Кристоф\\nДиректора Первого кадетского корпуса\\nУчастники Русско-турецкой войны (1735—1739)\\nУчастники войны за испанское наследство\\nУчастники Войны за польское наследство\\nУчастники переворота 1762 года (сторонники Петра III)\\nПриговорённые к смертной казни\\nСосланные в Сибирь\\nМемуаристы Российской империи\\nПохороненные в Эстонии\\nЛишённые ордена Святого Александра Невского\\nЛишённые ордена Святого апостола Андрея Первозванного\\nУчастники штурма Перекопа 1736 года\\nКабинет-министры\\nНародная этимология (наивная этимология,  популярная этимология, преобразование по аналогии, повторный анализ, морфологический повторный анализ или этимологическое переосмысление, ложная этимология) — осмысление носителями языка происхождения слова, которое основано на ошибочном понимании его этимологического состава и изменение слова или фразы в результате замены незнакомой формы на знакомую.\\n\\nЧасто возникает при освоении заимствований, также в диалектной речи, просторечии. Основными причинами возникновения народной этимологии являются непонимание носителями языка реальной мотивационно-этимологической связи определённого слова с производящим его словом, «затемнение» данной связи по причине трансформации формы и значения производного слова (деэтимологизация), стремление включить слово в понятные носителям мотивационные связи с другими словами.\\n\\nНародная этимология представляет собой продуктивный процесс в исторической лингвистике, языковых изменениях.\\n\\nТермин народная этимология () введён немецким лингвистом Эрнстом Фёрстеманном в 1852 году.\\n\\nВиды \\nВыделяются два основных вида народной этимологии.\\n\\nВ первом случае заимствованное (реже родное) слово искажается и переосмысливается по образцу близкого ему по звучанию слова родного языка, которое отличается от него по происхождению: «спинжак» (по связи со спиной) вместо «пиджак» (в действительности от  ‘жакет из грубого сукна’), «полуклиника» («полу-»+ «клиника») вместо «поликлиника», «гульвар» (сопоставление с глаголом «гулять») вместо «бульвар» (от  ‘земляной вал’), «полусад» вместо «палисадник», «палисад» (от \\xa0— ‘частокол, дощатый забор, загородка, живая изгородь’), «скупилянт» вместо «спекулянт» (сопоставление с глаголом «скупать») и др. Такие случаи встречаются главным образом в народной речи, и с распространением грамотности их число снижается. Подобные искажения часто используют в художественной литературе, чтобы подчеркнуть народный характер повествования или прямой речи. Так, изобилует ими повесть Н.\\xa0С.\\xa0Лескова «Левша»: «свистовой» (вместо «вестовой»), «мелкоскоп» (вместо «микроскоп»), «студинг» (вместо «пудинг»), «клеветон» (вместо «фельетон») и др. С другой стороны, нередко слова искажаются и переосмысливаются сознательно, в том числе в СМИ: «прихватизация» вместо «приватизация», «зряплата» вместо «зарплата», «журнализы» вместо «журналисты», «дерьмократы» вместо «демократы», «маркетолухи» вместо «маркетологи» и др.\\n\\nВо втором случае искажения слова не происходит, однако его происхождение объясняется на основе внешнего созвучия, не имеющего отношения к действительной этимологии. Так, слово «подушка» иногда возводят к словосочетанию «под ухом», хотя истинная этимология связана, видимо, с корнем «дух» (нечто «надутое»). Слово «трактир» нередко производят от слова «тракт» (некоторые трактиры располагались вдоль широких дорог\\xa0— трактов), хотя термины происходят от разных латинских корней. Сочетание «малиновый звон» (в значении «приятный, стройный звон колоколов») ассоциируется с названием ягоды или малиновым цветом. В действительности сочетание восходит к названию бельгийского города Малин (ныне Мехелен), где находится старинный собор, при котором имеется специальная школа звонарей, своеобразных «малиновских» музыкантов, владеющих искусством игры на колоколах, и откуда в эпоху Петра I в Россию привозили особенно красиво звучавшие церковные колокола.\\n\\nДанный вид народной этимологии широко распространён в объяснении происхождения топонимов. Подобный вид устного народного творчества получил название топонимических легенд. По мнению Г.\\xa0П.\\xa0Смолицкой, данное явление обусловлено неизменным наличием у народа представления, «что название не может быть дано просто так, что оно дано в связи с каким-то необычным, важным событием». Так, название реки Яхрома объясняют тем, что супруга Юрия Долгорукого, оступившись близ неё, воскликнула: «Я хрома!». Название исторического района Санкт-Петербурга Охта связывают с Петром I, который, по легенде, провалился тут в грязь и впоследствии с горечью вспоминал об этом месте: «Ох, та сторона!». Название Рязань народная этимология производит от слова «резать» (так как тут была жестокая резня во время набегов кочевников) и\\xa0т.\\xa0п. Подчас подобные топонимические легенды могут читаться как анекдоты. И.\\xa0А.\\xa0Воробьёва приводит такой пример народной этимологии: «От Томска в километрах 35 была деревня Минаево. Там у одного крестьянина Михаила зародился непутёвый сын Григорий. Был он среднего роста, такой широкоплечий, сильный, хорошо боролся. Григорий подыскал себе лошадь, что перескакивала через любую изгородь, и стал грабить около одной деревни. Двигались мимо этой деревни все богатые, от них хорошо можно было поживиться. Если купцам удавалось проскочить эту деревню, рады были, и потому назвали её Проскоково. А уж как проскочат,\\xa0— спокойно ехали, останавливались и начинали обед варить. Поэтому следующая деревня стала называться Варюхино. И сейчас так зовут».\\n\\nНародно-этимологическая форма может сохраниться как единственная, что учитывается при этимологизации. Так, в современном русском языке слово «свидетель» связывается с глаголом «видеть» и понимается как ‘очевидец’. В действительности прежняя форма «съвѣдѣтель», имевшая значение ‘осведомлённый человек’, связано с глаголом «вѣдѣти» ‘знать’.\\n\\nПереразложение \\nНародная этимология может определять дальнейшую трансформацию слова. К народной этимологии близко примыкает явление переразложения, когда переосмысливается структура слова, обычно при заимствовании. Так, слово зонт образовано в результате переосмысления  (букв. «крыша от солнца»), которое было воспринято как имеющее уменьшительный суффикс -ик\\xa0— зонт-ик. Далее, по аналогии с другими словами русского языка, имеющими такой же суффикс, было образовано слово зонт, обозначающее предмет уже не маленьких, а нормальных размеров.\\n\\nВ китайском языке \\nВвиду обилия в китайском языке омофонов китайские авторы с древности прибегали к «народно-этимологическим» приёмам для обсуждения значения и происхождения слов (т.\\xa0н. «»). Роберт ван Гулик в своей работе «Гиббон в Китае» приводит достаточно типичный пример из фармацевтической энциклопедии времён Минской династии (XVI век) «Бэньцао ганму». Её составитель, Ли Шичжэнь, ссылаясь на своих отдалённых предшественников, объясняет происхождение слов míhóu (猕猴) \\'макака\\', его устаревших форм mùhóu (沐猴, буквально «моющая(ся) обезьяна»), mǔhóu (母猴, буквально «мать-обезьяна»), а также и самого hóu (猴) «обезьяна» следующим образом:\\n\\nБань Гу в своём «Отчёте [о дискуссии в Зале] Белого Тигра» (白虎通) говорит: hóu (猴, «обезьяна», «макака»)\\xa0— то же самое, что hóu (候, «ждать»). Если [она] видит, что люди готовят пищу, она затаится в ожидании возможности [разжиться едой]. Сидит где-нибудь на высоте и смотрит во все стороны. Она умеет ждать! Макаки любят тереть своё лицо [лапами], как будто умываются (沐, mù). Так и стали говорить «mùhóu». А потом люди исказили «mù» (沐, мыть) в «mǔ» (母, мать). А дальше исказили «mǔ» в «mí» (猕). Вот так, ошибка за ошибкой, всё глубже и заблуждались!\\n\\nВпрочем, по отношению к этому китайскому слову иные современные западные авторы тоже допускают немалый полёт фантазии. К примеру, американский синолог  возводит китайское míhóu «макака» через его предположительную древнекитайскую форму *mug-gug, к тому же африканскому корню, из которого происходит и слово «макака» в европейских языках. При этом китайское слово было документировано в течение не менее 2000 лет (с Ханьской династии), тогда как европейское принесено португальцами из одного из языков банту на атлантическом берегу Экваториальной Африки в XVII веке, и его первый слог «ма-» есть не что иное, как приставка множественного числа в африканском языке-источнике.\\n\\nСм. также \\n Любительская лингвистика\\n Контаминация\\n Топонимические легенды\\n Ослышка\\n Бэкроним\\n\\nПримечания\\n\\nЛитература \\n \\n \\n Варбот Ж. Ж. Народная этимология в истории языка и в научной этимологии // Славянское языкознание. XIII Международный съезд славистов. — М., 2003\\n \\n Гридина Т. А. Проблемы изучения народной этимологии. — Свердловск, 1989.\\n \\n Толстой Н. И., Толстая С. М. Народная этимология и структура ритуального текста // Славянское языкознание. X Международный съезд славистов. — М., 1988.\\n\\nСсылки \\n Популярно-занимательная филологическая мозаика: Интересные факты о народно-этимологических дублетах в русском языке.\\n\\nЭтимология\\nЭрнст Иога́нн Биро́н (; , мыза Калнцеем, Курляндия и\\xa0Семигалия (ныне Тирели, Елгавский край, Латвия)\\xa0— , Митавский дворец, Курляндия и Семигалия)\\xa0— фаворит русской императрицы Анны Иоанновны, регент Российской империи в октябре\\xa0— ноябре 1740 года, граф Священной Римской империи (с 1730), герцог Курляндии и Семигалии с 1737 года. В 1740—1761 годах находился в ссылке.\\n\\nБиография \\nПроисходит из мелкопоместных остзейских дворян (см. Бироны). Хотя фамилия его схожа с Биро́н (), какие-либо связи его предков с французскими дворянами, в частности, герцогами-однофамильцами, документально не подтверждены. Тем более что настоящим написанием его вестфальской по своим корням семьи было фон Бюрен ().\\n\\nС 1718 года служил при дворе герцогини Анны в Курляндии, в 1730 году в качестве обер-камергера её двора приехал в Россию. Имел огромное влияние на императрицу. В 1737 году при содействии Анны Иоанновны был избран герцогом Курляндии, которой управлял из Санкт-Петербурга. \\n\\nПо завещанию Анны Иоанновны Бирон после её смерти (17 октября 1740 года) стал регентом при несовершеннолетнем императоре Иване VI Антоновиче, что вызвало недовольство русского дворянства. В результате борьбы за власть, вылившейся в дворцовый переворот,  1740 года Бирон был арестован. Правительницей стала мать Ивана VI\\xa0— Анна Леопольдовна. По обвинению в «захвате регентства» и стремлении завладеть престолом Бирон был приговорён к смертной казни, заменённой ссылкой в Пелым, с 1742 года\\xa0— в Ярославль. Пётр III вернул Бирона в Петербург; Екатериной II он был восстановлен на курляндском герцогском престоле.\\n\\nДетство и юность \\nВторой сын Карла фон Бирена (Бюрена) и Гедвиги-Катарины, урождённой фон дер Рааб, родился  1690 года на родовой мызе Калнцеем в Курляндии (в нынешнем селе Тирели в Латвии). Сведения о его жизни до 1718 года фрагментарны и плохо поддаются проверке. Сообщается, что Эрнст Иоганн был послан учиться в Кёнигсбергский университет, однако его имя в списках студентов пока не обнаружено. К. Манштейн утверждает, что молодой Бирон пытался получить место камер-юнкера при супруге наследника российского престола Алексея Петровича, но ему было отказано по причине низкого происхождения. Княгиня Наталия Долгорукова пишет в своих воспоминаниях, что Бирон занимался сапожным ремеслом и даже шил сапоги её дяде, что также не находит подтверждения в других источниках.\\n\\nНачало карьеры \\nСогласно воспоминаниям самого Бирона, к 1740\\xa0году он находился на службе Анны Иоанновны уже 22 года, что позволяет отнести к 1718\\xa0году его появление при курляндском дворе, куда он был принят по протекции канцлера Курляндии Германа фон Кейзерлинга, либо, по другим сведениям, обер-гофмейстера герцогини Курляндской Петра Бестужева-Рюмина. Сначала Бирон занимал при дворе должность секретаря герцогини, затем, с 1720\\xa0года, управляющего её имением Вюрцау (Вирцава), в 1722\\xa0году назначен камер-юнкером, обер-камер-юнкером (к 1726\\xa0году), затем после 1727\\xa0года камергером.\\n25 февраля 1723\\xa0года женился на фрейлине герцогини Анны, Бенигне Готтлиб фон Тротта-Трейден (1703—1782), которая, по официальной версии, родила ему троих детей.\\n\\nОколо 1722\\xa0года, находясь в Кёнигсберге, участвовал в уличной драке с городской стражей, в результате которой один стражник был убит. Несколько месяцев провёл в тюрьме, откуда был выпущен с обязательством уплатить 700 рейхсталеров штрафа, о чём сохранилось его письмо в архиве П.\\xa0Я.\\xa0Дашкова. Исполняя поручения герцогини Анны, а также сопровождая её в поездках, несколько раз был в России, где получил известность при императорском дворе, в том числе как знаток лошадей.\\n\\nФаворит герцогини Курляндской \\nКогда Анна была избрана на русский престол, она взяла Бирона с собой в Россию и по случаю своей коронации назначила его (28 апреля 1730 года) обер-камергером (тогда это была придворная должность, а не звание), «с рангом действительного генерала».\\n\\nПри дворе Анны Иоанновны \\nВ том же году Бирон получил диплом на титул графа Священной Римской империи. В 1737\\xa0году избран при содействии России курляндским дворянством на место последнего герцога из рода фон Кеттлеров\\xa0— Фердинанда и с этого времени стал именоваться «божией милостью Эрнст-Иоганн герцог Курляндский». Король польский Август III, обязанный своим престолом России, согласился признать эту кандидатуру. России было выгодно иметь во главе Курляндии человека, который вполне от неё зависел бы. К этому стремился ещё Пётр Великий.\\n\\nВ царствование Анны Иоанновны Бирон управлял своим государством из Петербурга. По мнению историка В.\\xa0Н.\\xa0Строева (1873—1931), Бирон как герцог Курляндский «был всегда верен интересам России и не позволял увлечь себя подарками» ни прусскому королю, ни императору Священной Римской империи.\\n\\nГосударственная деятельность. Бироновщина \\nЛица, писавшие о царствовании Анны Иоанновны во второй половине XVIII века, представляют Бирона злым гением России со дня его появления здесь (княгиня Н. Долгорукова, Миних, его адъютант Манштейн и другие). По изображению этих авторов, Бирон был человеком в высшей степени грубым, необразованным, корыстолюбивым и кровожадным. На нём тяготело обвинение в господстве иностранцев, в жестокостях и казнях, совершавшихся будто бы по приказанию иностранца-временщика, в казнокрадстве и в разорении русского народа. Государством действительно управляли иностранные министры (Миних и Остерман), но они были выдвинуты Петром Великим, усвоили его традиции и действовали в интересах России; к тому же, их разделяла с Бироном непримиримая вражда. Бирон не вывез с собою в Петербург массы курляндцев, и они не составили собой ничего сплочённого, подобного тому, как впоследствии голштинцы при Петре III. Президенты большинства коллегий, как и большинство сенаторов, были русские. Много было иностранцев в армии и среди дипломатов, но их много было там и при Петре I.\\n\\nБирон был очень невысокого мнения о русских и не скрывал этого; но наряду с этим такая осведомлённая свидетельница, как леди Джейн Рондо, жена английского посланника, отмечает у него желание не раздражать русских неуважением к их обрядам. Этим подтверждаются известия других иностранцев, что он искал популярности. Наконец, в нём находили поддержку многие русские государственные люди, например, передовой человек в крестьянском вопросе Анисим Маслов. Бирон поддерживал на Украине князя Шаховского против Миниха и ввёл в кабинет министров Бестужева-Рюмина против Остермана. Политических преследований в царствование Анны было очень много, но Бирон не был в них заинтересован. В них были заинтересованы лично императрица и лица, которым она была обязана неограниченной властью (С.\\xa0А.\\xa0Салтыков, архиепископ Феофан, граф Г.\\xa0И.\\xa0Головкин, особенно Остерман; среди доносчиков были такие люди, как Татищев и Миних).\\n\\nИмевшая мало прав на престол, императрица очень ревниво относилась к тому, что говорили в народе о её правах. Правда, в делах об оскорблении величества постоянно фигурирует имя Бирона и его отношения к императрице, но в этих случаях оскорблённой является сама императрица, а не Бирон. И позже, при императрице Елизавете, секли кнутом и резали языки тем, кто говорил об отношениях Бирона к её предшественнице. В деле Волынского фигурировала жалоба Бирона, но она была очень незначительным фактом среди массы других обвинений. Некоторые лица при Анне были, несомненно, обязаны своим избавлением от опалы Бирону (например, Куракин).\\n\\nРассказы о страшном корыстолюбии Бирона основаны главным образом на голословном утверждении историка Болтина, что Бирон забрал себе недоимки на многие миллионы рублей, а государство вконец разорил. Точно так же не доказано и выставленное Татищевым обвинение, что Бирон при помощи своего клиента Шемберга эксплуатировал в свою пользу лучшие русские горные заводы и другие промыслы. Но имеются несомненные доказательства того, что он неоднократно отклонял от себя крупные денежные подарки, очень обычные для того времени. Из подарков государыни самым крупным были 500 тыс. рублей, пожалованные ему по случаю заключения мира с Турцией, из которых, однако, он получил только 100 тыс. рублей.\\n\\nДеятельность Бирона при Анне Иоанновне и степень его влияния очень мало поддаются точному определению. Во всяком случае, мысль о его регентстве была выдвинута не немцами, а русскими вельможами (кабинет-министр князь А.\\xa0М.\\xa0Черкасский, генерал-прокурор князь Н.\\xa0Ю.\\xa0Трубецкой, князь Куракин, граф Головин, граф М. Головкин и в особенности Бестужев-Рюмин).\\n\\nРегент Российской империи \\nСделавшись регентом после смерти императрицы Анны в силу её завещания (в октябре 1740\\xa0года), Бирон искал популярности среди русского общества и стал добросовестно заниматься делами. Не любивший его французский посланник Шетарди пишет: «Он непрерывно занят тем, что может его сделать угодным народу; последний много терпел от затруднений и медлительности, которыми отличалось ведение здешних дел; для того чтобы сократить срок делопроизводства, Бирон отправился третьего дня в сенат, оставался там по крайней мере четыре часа и будет туда являться отныне каждый четверг». И действительно, первые меры регента отличались, как отмечает и С.\\xa0М.\\xa0Соловьёв, гуманностью.\\n\\nПадение и арест \\n\\nОднако с самого начала его правления между ним и родителями императора Иоанна Антоновича начались недоразумения. Был открыт заговор, имевший целью устранить регента и поставить на его место принца Брауншвейгского или его супругу. Не подлежало сомнению, что принц имел связи с заговорщиками. Бирон апеллировал к собранию Кабинета Министров, Сената и генералитета, которое единогласно стало на его сторону. Отцу императора пришлось публично выслушать крайне резкое замечание от начальника Тайной канцелярии А.\\xa0И.\\xa0Ушакова. Между тем матери императора, Анне Леопольдовне, предложил свои услуги старый фельдмаршал граф Христофор Миних, который арестовал в ночь на  герцога Курляндского вместе с его женой.\\n\\nМиних вошёл в покои и подошёл к кровати посередине\\xa0— на кровати лежали супруги Бироны. Они так крепко спали, что не слышали шагов фельдмаршала. Он подошёл к ним и крикнул «Проснитесь!» Бирон проснулся и сердито сказал «Что? Что тебе нужно? Как ты смеешь?» Но увидев входивших в комнату солдат, понял всё, закричал от страха и полез под кровать. Его вытащили, сунули в рот платок, посадили в стоявшие у порога дворца сани и увезли на гауптвахту.\\n\\nБирон был предан суду, и ему было поставлено в вину, по меткому выражению того же Шетарди, даже и то, что он принимал награды и подарки от императрицы.\\n\\nГлавные обвинения против Бирона были выставлены следующие: «захват» регентства, «небрежение» о здоровье покойной государыни, желание удалить царскую фамилию из России с целью завладеть престолом и притеснения русских.  был обнародован манифест «о винах бывшего герцога Курляндского». Он был приговорён к смертной казни четвертованием, но манифестом был помилован, и казнь была заменена ему вечной ссылкой в Пелым, за три тысячи вёрст от Петербурга. Он впал в мрачное настроение духа и стал готовиться к смерти.\\n\\nКогда на престол вступила Елизавета, которой он в прошлом оказывал некоторые услуги, она вспомнила изгнанника и перевела его на житьё в Ярославль, но не решилась предоставить полную свободу. Павший временщик написал для государыни записку, в которой оправдывался в возведённых на него обвинениях, в том числе и в захвате регентства. Впоследствии Екатерина II находила эту записку заслуживающей доверия.\\n\\nВозвращение из ссылки. Последние годы \\n\\nПётр III вызвал Бирона в Петербург, возвратил ему ордена и знаки отличия, но не вернул Курляндского герцогства, которое прочил своему дяде, герцогу Георгу Голштинскому.\\n\\nЕкатерина II восстановила бывшего временщика на курляндском герцогском троне, причём Бирон обязался пропускать через Курляндию русские войска, не вступать ни в какие сношения с врагами России, оказывать веротерпимость православным и разрешить постройку православного храма. Эти условия вызвали величайшее неудовольствие курляндского дворянства. Он отказался от власти в пользу сына своего Петра. Вскоре Бирон умер 82 лет от роду в Митаве, где и был погребён в герцогском склепе. Гроб его впоследствии был открыт, и тело оказалось удивительно сохранившимся: вполне сохранилась даже андреевская мантия, в которой он завещал себя похоронить.\\n\\nХарактеристика \\nСлово «бироновщина»\\xa0— не народное; народных песен или преданий о времени Бирона не сохранилось. В делах, где фигурировали отношения Бирона к государыне, были замешаны почти исключительно гвардейские солдаты, дворяне и чиновники, недовольные строгостью к ним императрицы Анны. Александр Пушкин высказал по этому поводу такое замечание: «Он (Бирон) имел несчастие быть немцем; на него свалили весь ужас царствования Анны, которое было в духе его времени и в нравах народа».\\n\\nВ воспоминаниях современников \\nГраф Миних:\\nУ него было две страсти: одна, весьма благородная,\\xa0— к лошадям и верховой езде… Герцог убедил ея величество сделать большие издержки на устройство конских заводов в России, где был недостаток в лошадях. Племенные жеребцы для заводов доставлялись из Испании, Англии, Неаполя, Германии, Персии, Турции и Аравии. Было бы желательно, чтобы эти великолепные заводы поддерживались и после него. Вторая страсть его была\\xa0— игра. Он не мог провести ни одного дня без карт и играл вообще в большую игру, находя в этом свои выгоды, что ставило часто в весьма затруднительное положение тех, кого он выбирал своими партнёрами. Он был довольно красивой наружности, вкрадчив и очень предан императрице, которую никогда не покидал, не оставив около нея вместо себя своей жены.\\n\\nИспанский посол герцог Лирийский:\\nВ обращении он был весьма вежлив; имел хорошее воспитание; любил славу своей государыни и желал быть для всех приятным; но ума в нём было мало и потому дозволял другим управлять собою до того, что не мог отличать дурных советов от хороших. Несмотря на всё это, он был любезен в обращении; наружность его была приятна; им владело честолюбие, с большею примесью тщеславия.\\n\\nСемья и потомки \\nСреди историков XIX века (например, П.\\xa0В.\\xa0Долгоруков) бытовало мнение, что на самом деле Бенигна Готтлиб была бездетной, а свадьба была устроена с таким расчётом, чтобы избежать кривотолков в отношении герцогини Анны, которая была вдовой после смерти мужа герцога Курляндского почти сразу после свадьбы. Дети же у семьи Биронов родились от герцогини Анны, а Бенигна ближе к появлению ребёнка носила под платьем подушки, изображая беременность. Вместе с тем, современные исследователи (например, И. Курукин), основываясь, на переписке Бирона с женой и тщательном изучении фактологических данных, утверждают, что, по крайней мере, двое старших детей были рождены именно Бенигной Бирон. Так, например, старший сын Пётр родился 15 февраля 1724 года в Митаве, в то время как Бирон с герцогиней Анной находились в Москве на коронации Екатерины Алексеевны. Также до сих пор не найдено прямых доказательств того, что матерью младшего сына Карла Эрнста была Анна.\\n\\n Пётр Бирон\\xa0— сын\\n Гедвига Елизавета Бирон, в замужестве Екатерина Ивановна Черкасова\\xa0— дочь\\n Карл Эрнст Бирон\\xa0— сын\\n Катарина-Фридерика-Вильгельмина Бирон\\xa0— внучка\\n Доротея Бирон\\xa0— внучка\\n\\nПотомки рода Бирона существуют и поныне. В 1990 году в Рундальском дворце на торжества по поводу 300-летия Бирона собралось 12 его потомков из разных стран мира.\\n\\nВ кинематографе \\n «Давид Гурамишвили», 1945\\xa0г., ГССР, Тбилисская киностудия, режиссёр Николоз Санишвили. В роли Бирона\\xa0— Яков Малютин.\\n «Михайло Ломоносов», 1986, СССР, режиссёр Александр Прошкин. В роли Бирона\\xa0— Михаил Солодовник.\\n «Баллада о Беринге и его друзьях», 1970, СССР, режиссёр Юрий Швырёв. В роли Бирона\\xa0— Геннадий Сергеев.\\n «Демидовы», 1983\\xa0г., СССР, режиссёр Ярополк Лапшин. В роли Бирона\\xa0— Михаил Козаков.\\n «Тайны дворцовых переворотов» (2000—2013\\xa0г. , Россия; режиссёр\\xa0— Светлана Дружинина), в роли Бирона\\xa0— Александр Лазарев (младший).\\n «Романовы (документальный цикл)», 2013\\xa0г., Россия, режиссёр Максим Беспалый, 8-серийный документально-игровой телефильм к 400-летию династии Романовых.\\n «1000 поцелуев Бирона», «Эрнст Бирон и императрица Анна Иоанновна»\\xa0— программы цикла «Больше, чем любовь», «Культура», 2008\\xa0г., Россия, режиссёр Александр Столяров.\\n\\nКомментарии\\n\\nПримечания\\n\\nЛитература \\n Анисимов\\xa0Е.\\xa0В. Анна Иоанновна.\\xa0— М.: Молодая гвардия, 2004.\\xa0— 2-е изд.\\xa0— 362 с.\\xa0— (ЖЗЛ).\\xa0— ISBN 5-235-02649-7.\\n Курукин И. Бирон.\\xa0— М.: Молодая гвардия, 2014.\\xa0— 2-е изд.\\xa0— 428 c.\\xa0— (ЖЗЛ).\\xa0— ISBN 978-5-235-03679-6.\\n \\n Павленко\\xa0Н.\\xa0И. Страсти у трона.\\xa0— М.: Родина, 1996.\\xa0— 320 с.\\n Соловьёв\\xa0В.\\xa0С. Капитан гренадерской роты.\\n \\n В.Пикуль \"Слово и дело\"\\n\\nСсылки \\n\\n Бюлер\\xa0Ф.\\xa0А. Герцог Бирон, регент Российской империи. Род. 1690 ум. 1772\\xa0г.  // Русская старина 1873.\\xa0— Т. 7.\\xa0— №\\xa01.\\xa0— С. 52—66.\\n Для биографии герцога Бирона. (Материалы)  // Русский архив 1867.\\xa0— Вып. 3.\\xa0— Стб. 469—473.\\n Пикуль В. «Слово и дело».\\n Шубинский\\xa0С.\\xa0Н. Арест и ссылка Бирона  // Русская старина, 1871.\\xa0— Т. 3.\\xa0— №\\xa05.\\xa0— С. 537—561.\\n Эрнст Иоганн Бирон: «Темная лошадка» Российской империи \\n Образцы подписи Э.\\xa0И.\\xa0Бирона на сайте проекта «Памятники русского письма в собраниях Отдела рукописей РНБ» \\n\\nПравители Латвии\\nФавориты и любовники Романовых\\nИстория XVIII века\\nСосланные в Ярославль\\nРегенты России\\nОбер-камергеры (Российская империя)\\nПриговорённые к смертной казни\\nСосланные в Сибирь\\nЛишённые ордена Святого Александра Невского\\nЛишённые ордена Святого апостола Андрея Первозванного\\nЭрнст Иоганн\\nСистема небесных координат используется в астрономии для описания положения светил на небе или точек на воображаемой небесной сфере. Координаты светил или точек задаются двумя угловыми величинами (или дугами), однозначно определяющими положение объектов на небесной сфере. Таким образом, система небесных координат является сферической системой координат, в которой третья координата\\xa0— расстояние\\xa0— часто неизвестна и не играет роли.\\n\\nСистемы небесных координат отличаются друг от друга выбором основной плоскости (см. Фундаментальная плоскость) и началом отсчёта. В зависимости от стоя́щей задачи, может быть более удобным использовать ту или иную систему. Наиболее часто используются горизонтальная и экваториальная системы координат. Реже\\xa0— эклиптическая, галактическая и другие.\\n\\nГоризонтальная топоцентрическая система координат \\n\\nВ этой системе центр помещается в месте нахождения наблюдателя на поверхности Земли, основной плоскостью является плоскость математического горизонта. Одной координатой при этом является либо высота светила h, либо его зенитное расстояние z. Другой координатой является азимут A. Вследствие того что горизонтальная система координат всегда топоцентрическая (наблюдатель всегда находится на поверхности Земли, либо на некотором возвышении) слово «топоцентрическая» обычно опускается.\\n\\nВысотой h светила называется дуга вертикального круга от математического горизонта до светила, или угол между плоскостью математического горизонта и направлением на светило. Высоты отсчитываются в пределах от 0° до +90° к зениту и от 0° до −90° к надиру.\\n\\nЗенитным расстоянием z светила называется дуга вертикального круга от зенита до светила, или угол между отвесной линией и направлением на светило. Зенитные расстояния отсчитываются в пределах от 0° до 180° от зенита к надиру.\\n\\nАзимутом A светила называется дуга математического горизонта от точки юга до вертикального круга светила, или угол между полуденной линией и линией пересечения плоскости математического горизонта с плоскостью вертикального круга светила. Азимуты отсчитываются в сторону суточного вращения небесной сферы, то есть к западу от точки юга, в пределах от 0° до 360°. Иногда азимуты отсчитываются от 0° до +180° к западу и от 0° до −180° к востоку. (В геодезии и навигации азимуты отсчитываются от точки севера.)\\n\\nИзменения координат при вращении небесной сферы \\nВысота h, зенитное расстояние z, азимут A и часовой угол t светил постоянно изменяются вследствие вращения небесной сферы, так как отсчитываются от точек, не связанных с этим вращением. Склонение δ, полярное расстояние p и прямое восхождение α светил при вращении небесной сферы не изменяются, но они могут меняться из-за движений светил, не связанных с суточным вращением.\\n\\nПервая экваториальная система координат \\n\\nВ этой системе основной плоскостью является плоскость небесного экватора. Одной координатой при этом является склонение δ (реже\\xa0— полярное расстояние p). Другой координатой\\xa0— часовой угол t.\\n\\nСклонением δ светила называется дуга круга склонения от небесного экватора до светила, или угол между плоскостью небесного экватора и направлением на светило. Склонения отсчитываются в пределах от 0° до +90° к северному полюсу мира и от 0° до −90° к южному полюсу мира.\\n\\nПолярным расстоянием p светила называется дуга круга склонения от северного полюса мира до светила, или угол между осью мира и направлением на светило. Полярные расстояния отсчитываются в пределах от 0° до 180° от северного полюса мира к южному.\\n\\nЧасовым углом t светила называется дуга небесного экватора от верхней точки небесного экватора (то есть точки пересечения небесного экватора с верхней частью небесного меридиана) до круга склонения светила, или двугранный угол между плоскостями небесного меридиана и круга склонения светила. Часовые углы отсчитываются в сторону суточного вращения небесной сферы, то есть к западу от верхней точки небесного экватора, в пределах от 0° до 360° (в градусной мере) или от 0h до 24h (в часовой мере). Иногда часовые углы отсчитываются от 0° до +180° (от 0h до +12h) к западу и от 0° до −180° (от 0h до −12h) к востоку.\\n\\nВторая экваториальная система координат \\n\\nВ этой системе, как и в первой экваториальной, основной плоскостью является плоскость небесного экватора, а одной координатой\\xa0— склонение δ (реже\\xa0— полярное расстояние p). Другой координатой является прямое восхождение α.\\n\\nПрямым восхождением (RA, α) светила называется дуга небесного экватора от точки весеннего равноденствия до круга склонения светила, или угол между направлением на точку весеннего равноденствия и плоскостью круга склонения светила. Прямые восхождения отсчитываются в сторону, противоположную суточному вращению небесной сферы, в пределах от 0° до 360° (в градусной мере) или от 0h до 24h (в часовой мере).\\n\\nRA\\xa0— астрономический эквивалент земной долготы. И RA и долгота измеряют угол восток-запад вдоль экватора; обе меры берут отсчёт от нулевого пункта на экваторе. Для долготы, нулевой пункт\\xa0— нулевой меридиан; для RA нулевой отметкой является место на небе, где Солнце пересекает небесный экватор, в направлении с юга на север (в весеннее равноденствие).\\n\\nСклонение (δ) в астрономии\\xa0— одна из двух координат экваториальной системы координат. Равняется угловому расстоянию на небесной сфере от плоскости небесного экватора до светила и обычно выражается в градусах, минутах и секундах дуги. Склонение положительно к северу от небесного экватора и отрицательно к югу.\\n Объект на небесном экваторе имеет склонение 0°\\n Склонение северного полюса небесной сферы равно +90°\\n Склонение южного −90°\\nУ склонения всегда указывается знак, даже если склонение положительно.\\n\\nСклонение небесного объекта, проходящего через зенит, равно широте наблюдателя (если считать северную широту со знаком +, а южную отрицательной). В северном полушарии Земли для заданной широты φ небесные объекты со склонением δ > +90° − φ не заходят за горизонт, поэтому называются незаходящими. Если же склонение объекта δ < −90° + φ, то объект называется невосходящим, а значит он ненаблюдаем на широте φ.\\n\\nЭклиптическая система координат \\n\\nВ этой системе основной плоскостью является плоскость эклиптики. Одной координатой при этом является эклиптическая широта β, а другой\\xa0— эклиптическая долгота λ.\\n\\nЭклиптической широтой β светила называется дуга круга широты от эклиптики до светила, или угол между плоскостью эклиптики и направлением на светило. Эклиптические широты отсчитываются в пределах от 0° до +90° к северному полюсу эклиптики и от 0° до −90° к южному полюсу эклиптики.\\n\\nЭклиптической долготой λ светила называется дуга эклиптики от точки весеннего равноденствия до круга широты светила, или угол между направлением на точку весеннего равноденствия и плоскостью круга широты светила. Эклиптические долготы отсчитываются в сторону видимого годового движения Солнца по эклиптике, то есть с запада к востоку от точки весеннего равноденствия в пределах от 0° до 360°.\\n\\nГалактическая система координат \\n\\nВ этой системе основной плоскостью является плоскость нашей Галактики. Одной координатой при этом является галактическая широта b, а другой\\xa0— галактическая долгота l.\\n\\nГалактической широтой b светила называется дуга круга галактической широты от эклиптики до светила, или угол между плоскостью галактического экватора и направлением на светило.\\n\\nГалактические широты отсчитываются в пределах от 0° до +90° к северному галактическому полюсу и от 0° до −90° к южному галактическому полюсу.\\n\\nГалактической долготой l светила называется дуга галактического экватора от точки начала отсчёта C до круга галактической широты светила, или угол между направлением на точку начала отсчёта C и плоскостью круга галактической широты светила. Галактические долготы отсчитываются против часовой стрелки, если смотреть с северного галактического полюса, то есть к востоку от точки начала отсчёта C в пределах от 0° до 360°.\\n\\nТочка начала отсчёта C находится вблизи направления на галактический центр, но не совпадает с ним, поскольку последний, вследствие небольшой приподнятости Солнечной системы над плоскостью галактического диска, лежит примерно на 1° к югу от галактического экватора. Точку начала отсчёта C выбирают таким образом, чтобы точка пересечения галактического и небесного экваторов с прямым восхождением 280° имела галактическую долготу 32,93192° (на эпоху 2000).\\n\\nКоординаты точки начала отсчёта C на эпоху 2000 в экваториальной системе координат составляют:\\n\\nИстория и применение \\nНебесные координаты употреблялись уже в глубокой древности. Описание некоторых систем содержится в трудах древнегреческого геометра Евклида (около 300 до\\xa0н.\\xa0э.). Опубликованный в «Альмагесте» Птолемея звёздный каталог Гиппарха содержит положения 1022 звёзд в эклиптической системе небесных координат.\\n\\nНаблюдения изменений небесных координат привели к величайшим открытиям в астрономии, которые имеют огромное значение для познания Вселенной. К ним относятся явления прецессии, нутации, аберрации, параллакса, собственных движений звёзд и другие. Небесные координаты позволяют решать задачу измерения времени, определять географические координаты различных мест земной поверхности. Широкое применение находят небесные координаты при составлении различных звёздных каталогов, при изучении истинных движений небесных тел\\xa0— как естественных, так и искусственных\\xa0— в небесной механике и астродинамике и при изучении пространственного распределения звёзд в проблемах звёздной астрономии.\\n\\nИспользование различных систем координат\\n\\nИспользование горизонтальной топоцентрической системы координат \\nГоризонтальная топоцентрическая система координат используется наблюдателем, находящимся в определённом месте на поверхности земного шара для определения положения какого-либо светила на небе.\\n \\nКоординаты небесных светил в данной системе координат могут быть получены с помощью угломерных инструментов и при наблюдениях в телескоп, смонтированный на азимутальной установке.\\n\\nБольшинство астрономических компьютерных программ способны выдавать положения светил в данной системе координат.\\n\\nПри наблюдениях следует учитывать поправку на рефракцию.\\n\\nИспользование первой экваториальной системы координат \\nПервая экваториальная система координат используется для определения точного времени и при наблюдениях в телескоп, смонтированный на экваториальной установке.\\n\\nИспользование второй экваториальной системы координат \\nВторая экваториальная система координат является общепринятой в астрометрии.\\n\\nВ экваториальной гелиобарицентрической системе координат составляются современные звёздные карты и описываются положения светил в каталогах. При этом координаты светил приводятся к определённому положению небесного экватора и точки весеннего равноденствия, то есть к определённой эпохе (в астрономии применяются эпохи B1950 и J2000.0).\\n\\nЭкваториальная геоцентрическая система координат отличается от экваториальной гелиобарицентрической системы координат тем, что координаты звёзд скорректированы в ней из-за явления годичного параллакса, а положение небесного экватора и точки весеннего равноденствия приводятся к текущей дате.\\n\\nИспользование эклиптической системы координат \\nЭклиптическая геоцентрическая система координат используется в небесной механике для расчёта орбиты Луны, а также является основной или единственной в большинстве школ астрологии.\\n\\nЭклиптическая гелиоцентрическая система координат используется для расчёта орбит планет и других тел Солнечной системы обращающихся вокруг Солнца.\\n\\nПрименение различных систем небесных координат \\nНа практике, как правило, требуется пользоваться несколькими системами координат.\\nНапример для расчёта положения Луны на небе необходимо сначала рассчитать координаты Луны в эклиптической геоцентрической системе координат, пересчитать координаты в экваториальную геоцентрическую систему координат, затем перейти к горизонтальной топоцентрической системе координат.\\n\\nСм. также \\n Небесная сфера\\n Сферическая система координат\\n\\nПримечания\\n\\nЛитература\\n\\nСсылки \\n\\n NOVAS, the U.S. Naval Observatory’s Vector Astrometry Software, an integrated package of subroutines and functions for computing various commonly needed quantities in positional astronomy\\n SOFA, the IAU’s Standards of Fundamental Astronomy, an accessible and authoritative set of algorithms and procedures that implement standard models used in fundamental astronomy\\n\\nНаблюдательная астрономия\\nАстрометрия\\nСистемы небесных координат\\nВячесла́в Миха́йлович Мо́лотов (настоящая фамилия Скря́бин; , Кукарка, Вятская губерния (позднее в составе Нижегородской губернии)\\xa0— 8 ноября 1986, Москва)\\xa0— русский революционер, советский политический, государственный и партийный деятель. Председатель Совета народных комиссаров СССР в 1930—1941 годах, народный комиссар иностранных дел СССР в 1939—1946 годах, министр иностранных дел СССР в 1946—1949, 1953—1956 годах. Один из высших руководителей ВКП(б) и КПСС с 1921 по 1957\\xa0год. Герой Социалистического Труда (1943). Депутат Верховного Совета СССР I—IV созывов.\\n\\nВступив в 1906 году в РСДРП, Вячеслав Молотов был дважды (в 1909 и 1915 годах) арестован за свою революционную деятельность. После Октябрьской революции работал в нескольких провинциальных партийных организациях. В 1921 году Молотов стал членом и секретарём Центрального комитета, а также кандидатом в члены Политбюро. После смерти Владимира Ленина он решительно поддержал Иосифа Сталина, и в декабре 1926 года его назначили полноправным членом Политбюро. Затем Молотов стал руководить Московским областным комитетом и в 1928—1930 годах очистил организацию от антисталински настроенных членов. В 1930 году стал председателем Совета народных комиссаров и занимал этот пост до 1941 года.\\n\\nВ мае 1939 года Молотов был назначен Сталиным на должность народного комиссара иностранных дел СССР. В этой должности в августе 1939 года он участвовал в переговорах о заключении советско-германского пакта о ненападении, известного как пакт Молотова — Риббентропа. В ноябре 1939 года Молотов санкционировал Советско-финляндскую войну. Финские военные широко использовали зажигательное оружие, сделанное из бутылок, наполненных смесью смолы, этанола и бензина, заткнутых фитилями. В качестве чёрного юмора финны назвали их «коктейлями Молотова». Популярность этого оружия во время войны между Финляндией и СССР привела к тому, что термин «коктейль Молотова» был принят во всём мире.\\n\\nВ мае 1941 года, когда Сталин занял пост председателя Совета министров (бывшего Совета народных комиссаров), Молотов остался его первым заместителем. После начала Великой Отечественной войны он также входил в состав Государственного комитета обороны. Молотов организовал советские союзы с Великобританией и США и участвовал в конференциях союзников в Тегеране (1943), Ялте (1945) и Потсдаме (1945), а также в Сан-Францисской конференции (1945), на которой была создана Организация Объединённых Наций. В своих отношениях с союзниками во время войны и после неё он приобрёл репутацию бескомпромиссного врага Запада.\\n\\nВ марте 1949 года Молотов отказался от поста министра, но после смерти Сталина в марте 1953 года вновь занял его и удерживал его до тех пор, пока его политические разногласия с Никитой Хрущёвым не привели к его отставке в июне 1956 года. В ноябре 1956 года он стал министром государственного контроля, но, присоединившись к «антипартийной группе», которая безуспешно пыталась сместить Хрущёва в июне 1957 года, потерял свои руководящие партийные и государственные посты. Впоследствии Молотов работал послом в Монголии, а в 1960—1963 годах\\xa0— постоянным представителем СССР при МАГАТЭ. В 1962 году, после очередной критики Хрущёва, он был исключён из КПСС, в дальнейшем жил на пенсии в Москве.\\n\\nДетство и юность \\n\\nРодился в слободе Кукарка Кукарской волости Яранского уезда Вятской губернии (ныне Советск Кировской области). Отец\\xa0— Михаил Прохорович Скрябин (1856\\xa0— ок. 1923), из мещан города Нолинска, был приказчиком в Кукарке. Дед\\xa0— Прохор Наумович (ум. весной 1903), нолинский мещанин. Мать\\xa0— Анна Яковлевна Небогатикова из купеческой семьи города Нолинска.\\n\\nВячеслав был шестым ребёнком, всего в семье родилось десять детей (Михаил, Виктор, Николай (он же\\xa0— композитор Нолинский), Зинаида, Владимир, Вячеслав, Сергей).\\n\\nВо время учёбы в школе Вячеслав Скрябин играл на скрипке и писал стихи. С 1902 года вместе со старшими братьями до 1908 года учился в Казанском первом реальном училище. В эти годы большая часть казанской молодёжи была настроена весьма радикально. Вячеслав вступил в один из кружков самообразования по изучению марксистской литературы. Там он подружился с сыном богатого купца и наследником крупного состояния Виктором Тихомирновым, который вошёл в большевистскую группу в Казани в 1905 году. Его одноклассником по реальному училищу также был Александр Яковлевич Аросев, будущий полпред в Швеции, Латвии, Литве, Чехословакии, отец актрис Ольги и Елены Аросевых.\\n\\nНачало революционной деятельности \\nЛетом 1906 года Вячеслав, следом за Тихомирновым, вступил в РСДРП.\\nПринимал участие в создании нелегальной революционной организации учащихся.\\n\\nВ 1909 году был арестован за революционную деятельность и был отправлен в ссылку в Вологду. Освобождён в 1911 году. Сдав экстерном экзамены за реальное училище, в том же году поступил в Санкт-Петербургский политехнический институт и, согласно собственным воспоминаниям, был зачислен на кораблестроительный факультет, однако почти сразу переведён на экономический, где доучился до четвёртого курса: «Я очень мало занимался, но личная работа моя, внутри меня, значила много»,\\xa0— вспоминал он. Вёл партийную работу в Санкт-Петербурге и Москве.\\n\\nВ 1912 году начала издаваться первая легальная большевистская газета «Правда». К работе в газете Вячеслава Скрябина привлёк Тихомирнов, который передал на нужды газеты крупную сумму денег. Там В.\\xa0М.\\xa0Молотов работал секретарём редакции с 1912 по 1913 год. Во время подготовки издания «Правды» познакомился с одним из лидеров большевиков\\xa0— Иосифом Сталиным. Сталин стал первым из руководителей большевистского подполья, с которым Скрябин лично встретился.\\n\\nС осени 1914 года работал в Москве над воссозданием парторганизации, закрытой в начале Первой мировой войны. В 1915 году был арестован и сослан на три года в Иркутскую губернию, но в 1916 году бежал. В том же году стал членом Русского бюро ЦК РСДРП и вошёл в его руководящую тройку.\\n\\nВ годы Первой мировой войны всячески уклонялся от призыва в армию, проживая под чужими фамилиями: «Фотокарточки тогда не требовалось, фотография не так была развита, но нужно было, чтоб возраст соответствовал. Война, а я самого такого призывного возраста. Почему я освобождён? Вот горбун. Значит, освобождён по статье такой-то… Для туберкулёзников тоже статья была. Так я и встретил февральскую революцию Александром Степановичем Потехиным. И тогда пришлось выправить свой паспорт».\\n\\nВ 1915 году Вячеслав Скрябин стал использовать партийный псевдоним Молотов (в начале XX века такой же псевдоним имел деятель международного социал-демократического движения и сотрудник газет «Искра» и «Заря» Александр Львович Парвус).\\n\\n…Молотов\\xa0— это звучало вполне по-пролетарски, индустриально, что должно было импонировать рабочим, которые недолюбливали партийцев из интеллигенции. Вторая причина\\xa0— вполне прозаическая. Деду было легче его произносить. В слове Скрябин три первых согласных звука заставляли его заикаться, особенно, когда он волновался.\\n\\nВ ночь на 27 февраля 1917 года на заседании Петроградского Совета впервые выступил как Молотов. 4 марта того же года решением Русского бюро ЦК РСДРП Вячеслав Молотов был введён в редакцию «Правды», в марте того же года был избран депутатом и членом Исполкома Петроградского совета, членом Петроградского комитета РСДРП(б). Во время Февральской революции Молотов высказывался в пользу углубления революции и против содействия Временному правительству. Сталин часто звал его Молотошвили.\\n\\nУчастник (от Петроградской организации) VII (апрельской) Всероссийской конференции РСДРП(б) проходившей 24—29 апреля 1917 года. Был выдвинут в состав ЦК (№\\xa021, без обсуждения), но не был избран. Являлся делегатом (от Петроградской организации) VI съезда РСДРП(б), проходившего с 26 июля по 3 августа. На заседании 31 июля высказался за необходимость вооружённого восстания. В октябре 1917 года был членом Петроградского военно-революционного комитета.\\n\\nПосле Октябрьской революции \\nСо введением после Октябрьской социалистической революции в РКП(б) партбилетов Вячеславу Молотову был вручён партбилет с порядковым номером 5.\\n\\nВ 1918 году он был назначен председателем Совета народного хозяйства (СНХ) Северной области, при этом он был одним из ближайших сотрудников Григория Зиновьева.\\n\\nС 1919 года работал уполномоченным ЦК РКП(б) и СНК РСФСР в Поволжье и председателем Нижегородского губисполкома. Коммунар (боец) ЧОН. В том же году в Петрограде вышла первая написанная им брошюра «Как рабочие учатся строить своё хозяйство» (опубликованная под псевдонимом «Молотов»). Летом 1919 года во время плавания на агитационном пароходе «Красная звезда» познакомился с Надеждой Крупской (с В.\\xa0И.\\xa0Лениным он познакомился ещё в апреле 1917 года). Вскоре у Вячеслава Молотова стали возникать острые конфликты с местными руководителями, в связи с этим его перевели работать на Украину.\\n\\nВ 1920—1921 годах он работал в ЦК КП(б) Украины, был членом Политбюро и Оргбюро, первым секретарём ЦК.\\n\\nC 16 марта 1921 по 21 декабря 1930 года Молотов являлся секретарём ЦК ВКП(б) (с 1921 года был ответственным секретарём, но 3 апреля 1922 года на этот пост, получивший название «генеральный секретарь», был назначен Сталин).\\n\\nЧлен комиссии по организации похорон Ленина. После смерти Ленина Вячеслав Молотов начал активно поддерживать Сталина в борьбе с его политическими противниками\\xa0— Львом Троцким, Григорием Зиновьевым, Львом Каменевым, «правыми уклонистами».\\n\\nВ 1924—1927 годах кандидат в члены, в 1929—1931 годах\\xa0— член Президиума ЦИК СССР. С 1927 года являлся членом Президиума ВЦИК.\\n\\nС 1928 по 1929 годы работал Первым секретарём московского городского комитета партии, сменив на посту одного из лидеров правой оппозиции Николая Угланова. В московском городском комитете провёл «чистку»: своих постов лишились 4 из 6 заведующих отделами горкома, 4 из 6 секретарей райкомов, 99 из 157 членов Московского комитета.\\n\\n1930-е годы: глава правительства \\n19 декабря 1930 года решением объединённого пленума ЦК и ЦКК ВКП(б) Молотов назначен на пост председателя СНК СССР и Совета труда и обороны (28 апреля 1937 года Совет труда и обороны был распущен) вместо оппозиционера А.\\xa0И.\\xa0Рыкова. В начале 1930-х годов при СНК СССР была создана постоянная Комиссия обороны (с 1937 года\\xa0— Комитет обороны), который возглавлял до 1940 года Молотов. В 1937—1939 годах занимал должность председателя Экономического Совета (ЭкоСо) СНК СССР.\\n\\nВремя нахождения Вячеслава Молотова на посту председателя СНК СССР принято связывать с эпохой высокого роста внутреннего валового продукта и обороноспособности государства, строительства, индустриализации, урбанизации и модернизации, массового энтузиазма во время первых пятилеток. Они совпали с поиском эффективных инструментов развития страны и моделей управления народным хозяйством для дальнейшей централизации и создания монолитного общества в условиях враждебного отношения других государств. Данный поиск был связан с противоречиями, негативными явлениями в политической жизни, которые были связаны как с охранительными тенденциями, так и с леворадикальными административно-командными перегибами на фоне растущей шпионской деятельности. Молотов усердно работал в годы первой и второй пятилеток, однако во многом не ладил со своими главными помощниками\\xa0— наркомами, в том числе с народным комиссаром тяжёлой промышленности СССР Г.\\xa0К.\\xa0Орджоникидзе. В подобных случаях Сталин почти всегда поддерживал председателя СНК.\\n\\nВ 1931—1932 годах Молотов, наряду с другими высшими партийными руководителями, в качестве чрезвычайного уполномоченного занимался форсированием хлебозаготовок на юге Украины. В декабре 1931 года на заседании Политбюро ЦК КП(б)У Вячеслав Михайлович отметил крайнюю неудовлетворённость выполнением плана хлебозаготовок и возникшую прямую угрозу их срыва. Он потребовал применения «особых мер» и повышения «большевистской бдительности в отношении классового врага». В наше время в Украине он считается одним из виновников Голодомора. По этой причине в отношении Молотова 22 мая 2009 года Главным следственным управлением Службы безопасности Украины было заведено уголовное дело.\\n\\nВ 1936 году Молотов чуть сам не оказался на скамье подсудимых, выступая против открытого процесса над Львом Каменевым и Григорием Зиновьевым.\\n\\nОднако вскоре Молотов перестал возражать против проведения репрессий, более того, он принял самое активное участие в организации массового террора 1937—1938 годов.\\n\\nВскоре наиболее приближённые к И. Сталину члены Политбюро ЦК стали подписывать важнейшие постановления, связанные с репрессиями, а также расстрельные списки на высших парт- и госаппаратчиков, составлявшиеся для рассмотрения дел в закрытом и упрощённом порядке. На счету В. Молотова самое большое их количество\\xa0— 372, что выше чем у И. Сталина (для сравнения, минимальное число у С.\\xa0В.\\xa0Косиора\\xa0— 5).\\n\\nИсключительный для биографии Молотова случай рассказал известный в прошлом футболист «Спартака» Н.\\xa0П.\\xa0Старостин: против братьев Старостиных наркомом внутренних дел СССР Л.\\xa0П.\\xa0Берией было выдвинуто обвинение в создании террористической организации среди спортсменов. Однако Молотов не подписал ордер на арест.\\n\\nВ 1937 году Молотову пришлось столкнуться с выпадами в свой адрес со стороны Сталина:\\n\\nДокументы свидетельствуют о том, что в конце 30-х годов Сталин оказывал на Молотова более заметное давление и по служебной линии, неоднократно делая ему выговоры по поводу тех или иных решений Совнаркома. Например, 28 января 1937\\xa0г. Молотов обратился в Политбюро с просьбой об утверждении дополнительных капитальных вложений для НКВД.\\nСталин откликнулся на это резкой резолюцией: «т. Молотову. Почему нельзя было предусмотреть это дело при рассмотрении титульных списков? Прозевали? Надо обсудить в ПБ». Уже на следующий день предложение Совнаркома было принято, и это также свидетельствует о том, что раздражение Сталина было вызвано, скорее всего, не деловыми причинами.\\n17 октября 1937\\xa0г. Молотов обратился в Политбюро с просьбой об утверждении дополнительных капиталовложений для двух предприятий химической промышленности. Сталин поставил на письме резолюцию: «т. Чубарю. Кем составлена эта записка? Кто проверял цифры? Трудно голосовать за предложение т. Молотова». Подобное обращение Сталина к Чубарю через голову Молотова (который, судя по протоколам Политбюро, находился в это время в Москве) представляло собой демонстративное нарушение существующей субординации, выпад против Молотова, а, возможно, и попытку внести дополнительное напряжение во взаимоотношения Чубаря и Молотова. Чубарь, хотя и являлся заместителем председателя СНК и наркомом финансов, был подчинённым Молотова, и то, что письмо в Политбюро было подписано Молотовым, означало, что на уровне Совнаркома вопрос согласован и окончательно решён. Несмотря на это очевидное обстоятельство, Сталин вновь повторил свой выпад через несколько дней. 20 октября 1937\\xa0г. Молотов обратился в Политбюро с просьбой утвердить выделение из резервного фонда СНК 40\\xa0млн руб. на пополнение оборотных средств торгов системы Наркомата внутренней торговли, а Сталин вновь наложил на письме резолюцию: «А как думает на этот счёт т. Чубарь?» И в том, и в другом случае решение в конце концов было принято. Это означало, что Сталин не был против самих постановлений, а, скорее, устраивал некие политические демонстрации. Примеры сталинских атак на Молотова по поводу решений Совнаркома можно продолжить.\\nВ достаточно унизительное положение был поставлен Молотов во время работы XVIII съезда ВКП(б). 14 марта 1939\\xa0г. он выступил на съезде с традиционным для председателя СНК докладом об очередном (третьем) пятилетнем плане развития народного хозяйства СССР. По содержанию доклад не представлял собой ничего особенного, и его основные положения были заранее согласованы и одобрены Политбюро. Однако, уже на следующий день, 15 марта, Политбюро, несомненно, по инициативе Сталина (на подлиннике постановления сохранилась сталинская правка), приняло постановление «О докладе т. Молотова на XVIII съезде ВКП(б) о третьей пятилетке». В нём говорилось: «1) Признать неправильным, что т. Молотов в своём докладе… не остановился на итогах дискуссии и на анализе основных поправок и дополнений к тезисам. 2) Предложить т. Молотову исправить это положение». Выполняя это решение Политбюро, Молотов в заключительном слове 17 марта изложил основное содержание предсъездовской «дискуссии», признав при этом (естественно, без ссылок на постановление Политбюро от 15 марта), что исправляет «упущение», сделанное в докладе.\\nВ общем, ничего необычного в требовании дополнить доклад материалами предсъездовского обсуждения не было. Необычной была формула этого требования: демонстративное решение Политбюро, официальная констатация ошибки Молотова. Всё это разительным образом отличалось от аналогичных ситуаций, возникавших в 20-х и в первой половине 1930-х годов. 7 ноября 1926\\xa0г., например, Сталин так писал Молотову по поводу публикации их выступлений на XV конференции: «…Я теперь только понял всю неловкость тогда, что я не показал никому свой доклад. Твоя настойчивость насчёт поправок (поправок к речи Молотова перед её публикацией.\\xa0— О. Х.) не говорит ли она о том, что я ошибся, не разослав друзьям (членам Политбюро.\\xa0— О. Х.) свою речь? Я и так чувствую себя неловко после позавчерашних споров. А теперь ты хочешь меня убить своей скромностью, вновь настаивая на просмотре речи. Нет, уж лучше воздержусь. Печатай лучше в том виде, в каком ты считаешь нужным». Сохранившиеся письма показывают, что по крайней мере вплоть до 1936\\xa0г., Сталин демонстративно одобрял качество публичных выступлений Молотова. «Сегодня я читал международную часть. Вышло хорошо…»,\\xa0— писал он в январе 1933\\xa0г. по поводу предстоящего доклада Молотова на сессии ЦИК СССР. «Просмотрел. Вышло неплохо…»,\\xa0— так оценил Сталин предварительный текст доклада Молотова о советской конституции в феврале 1936\\xa0г. Если у Сталина и возникали в тот период какие-либо замечания, то он высказывал их Молотову приватно. «Глава о „демпинге“ хороша. Глава о „принудительном“ труде не полна, недостаточна. Замечания и поправки смотри в тексте»,\\xa0— писал Сталин Молотову по поводу проекта доклада последнего на съезде Советов СССР в марте 1931\\xa0г.\\n\\nСам Вячеслав Молотов о том периоде отзывался так:\\n\\nКонечно, мы наломали дров. Сказать, что Сталин об этом ничего не знал,\\xa0— абсурд, сказать, что он один за это отвечает,\\xa0— неверно. Если обвинять во всём одного Сталина, то тогда он один и социализм построил, и войну выиграл. А вы назовите того, кто меньше, чем Сталин, ошибался? Сыграл свою роль наш партийный карьеризм\\xa0— каждый держится за своё место. И потом у нас если уж проводится какая-то кампания, то проводится упорно, до конца. И масштабы, и возможности большие. Контроль над органами был недостаточным. Революции без жертв не бывает.\\n\\nГоворя о степени своей ответственности за политические репрессии, Молотов заявлял: Нет, я никогда не считал Берию главным ответственным, а считал всегда ответственным главным Сталина и нас, которые одобряли, которые были активными, а я всё время был активным, стоял за принятие мер. Никогда не жалел и никогда не пожалею, что действовал очень круто. Но были и ошибки, конечно.\\n\\nВ декабре 1935\\xa0г. Молотов писал академику И.\\xa0П.\\xa0Павлову:\\n\\n…советские власти охотно исправят действительно допущенные на месте ошибки, и в отношении указываемых Вами лиц будет произведена надлежащая проверка. Но, с другой стороны, должен Вам прямо сказать, что в ряде случаев дело оказывается вовсе не таким простым и безобидным, как это иногда кажется на основе обычного житейского опыта, старых встреч, прежних знакомств и\\xa0т.\\xa0п. Мне во всяком случае не раз приходилось в этом убеждаться, особенно в сложной и богатой крутыми переменами политической обстановке нашего времени.\\n\\nНарком иностранных дел СССР \\n3 мая 1939 года на посту наркома иностранных дел СССР Максима Литвинова сменил сохраняющий должность председателя Совнаркома СССР Вячеслав Молотов.\\n «С его именем связан вынужденный отход советской дипломатии от предвоенной политики, направленной на обеспечение коллективной безопасности в Европе, к попыткам самостоятельного решения вопроса безопасности страны»,\\xa0— отмечается в Очерках истории Министерства иностранных дел России. 1802—2002. Т. 3. М., 2002. С. 355.\\n\\nВступив в новую должность, Молотов провёл кадровые перестановки в наркомате, в частности, уже 4 мая была арестована группа ближайших к Литвинову сотрудников, но сам Литвинов арестован не был. 23 июля 1939 года собрание НКИД приняло резолюцию, в которой в частности говорилось: «За этот короткий промежуток времени проделана огромная работа по очищению НКИД от негодных, сомнительных и враждебных элементов».\\n\\nМолотов выдвинул на ответственную дипломатическую работу Андрея Громыко и ряд других молодых специалистов, получивших впоследствии широкую известность в сфере внешнеполитической деятельности.\\n\\nДоговор о ненападении между СССР и Германией \\n\\nЛетом 1939 года Молотов активно участвовал в англо-франко-советских переговорах в Москве, а после их неудачи провёл переговоры и подготовил заключение Договора о ненападении с Германией, который по докладу Молотова был ратифицирован Верховным Советом СССР 31 августа 1939 года.\\n\\n28 сентября 1939 года Молотовым был подписан новый германо-советский договор «О дружбе и границе». В результате новых советско-германских соглашений к УССР и БССР были присоединены восточные воеводства Польши с преимущественно украинским и белорусским населением, а Виленский край с городом Вильно вошёл в состав тогда ещё независимой Литвы.\\n\\nОфициальная внешнеполитическая позиция СССР в отношении процессов, сопровождавших начало Второй мировой войны, подробно изложена В.\\xa0М.\\xa0Молотовым в докладе от 31 октября 1939 года на внеочередной пятой сессии Верховного Совета СССР:\\n\\nоказалось достаточным короткого удара по Польше со стороны сперва германской армии, а затем\\xa0— Красной Армии, чтобы ничего не осталось от этого уродливого детища Версальского договора … Идеологию гитлеризма, как и всякую другую идеологическую систему, можно признавать или отрицать, это\\xa0— дело политических взглядов. Но любой человек поймёт, что идеологию нельзя уничтожить силой, нельзя покончить с нею войной. Поэтому не только бессмысленно, но и преступно вести такую войну, как война за «уничтожение гитлеризма» прикрываемая фальшивым флагом борьбы за «демократию».\\n\\nЯвлялся непосредственным участником советско-финских переговоров об изменении границы, продлившихся всего два месяца. В речи по радио от 29 ноября 1939 года обосновал необходимость войны с «финляндским правительством, запутавшимся в своих антисоветских связях с империалистами», и объявил о разрыве пакта о ненападении. 29 марта 1940 года по окончании Зимней войны охарактеризовал её как «столкновение наших войск не просто с финскими войсками, а с соединёнными силами империалистов». Первым озвучил нереальные данные о «линии Маннергейма», потерях, размерах военной помощи со стороны западных стран, и заявил о фактах расчленения советских пленных и прочих зверствах.\\n\\nПрибытие Вячеслава Молотова в середине ноября 1940 года в Берлин с целью переговоров стало ответным визитом на два приезда в Москву Риббентропа. За трёхдневное пребывание советской делегации в Берлине состоялись беседы с Адольфом Гитлером и две официальные встречи с Иоахимом Риббентропом, но по результатам этих переговоров стороны так и не пришли к компромиссу: советская сторона не присоединилась к Тройственному союзу. Кроме того Народный комиссариат по иностранным делам выразил недовольство Советского Союза присутствием немецких войск в Румынии и Финляндии, а также угрозой введения их в Болгарию.\\n\\n8 марта 1940 года в связи с 50-летним юбилеем В.\\xa0М.\\xa0Молотова указом Президиума ВС СССР г. Пермь был переименован в г. Молотов и Пермская область\\xa0— в Молотовскую (оба прежних названия будут возвращены в октябре 1957 года).\\n\\n5 апреля 1941 года был подписан договор о дружбе и ненападении с Югославией (за сутки до начала германской агрессии против этой страны), затем подписан советско-японский пакт о нейтралитете. Молотов, как глава внешнеполитического ведомства, принимал непосредственное участие в этих дипломатических действиях.\\n\\n6 мая 1941 года Молотов был освобождён от должности главы правительства «ввиду неоднократных заявлений о том, что ему трудно исполнять обязанности наряду с исполнением обязанностей наркома», СНК возглавил лично Сталин, а сам Молотов был назначен его заместителем.\\n\\nПериод Великой Отечественной войны \\nРанним утром в 4 часа 22 июня 1941 года после артиллерийской и авиационной подготовки немецкие войска перешли границу СССР. Уже после этого, в 5:30 утра (по словам самого Молотова, раньше\\xa0— около 3 часов ночи) посол Германии в СССР В. Шуленбург явился к Молотову и сделал заявление, содержание которого сводилось к тому, что советское правительство проводило подрывную политику в Германии и в оккупированных ею странах, а также внешнюю политику, направленную против Германии, и «сосредоточило на германской границе все свои войска в полной боевой готовности». Заявление заканчивалось следующими словами: «Фюрер поэтому приказал германским вооружённым силам противостоять этой угрозе всеми имеющимися в их распоряжении средствами».\\n\\nВ 12 часов того же дня Молотов выступил по радио с историческим объявлением о начале войны, закончив эту речь знаменитыми словами: «Наше дело правое. Враг будет разбит. Победа будет за нами».\\n\\nФинляндия не позволила Германии нанести непосредственный удар со своей территории, и немецкие части в Петсамо и Салла были вынуждены воздержаться от перехода границы. Происходили лишь эпизодические перестрелки между советскими и финскими пограничниками, но в целом на советско-финской границе сохранялась спокойная обстановка. Однако, начиная с 22 июня, бомбардировщики немецкого люфтваффе начали использовать финские аэродромы как дозаправочную базу перед возвращением в Германию. Эти данные стали известны намного позже, а 23 июня Молотов вызвал к себе финского поверенного в делах Хюннинена и спросил лишь о том, что означают в выступлении Гитлера от 22 июня слова о немецких войсках, которые «в союзе с финскими товарищами … защищают финскую землю». Финский представитель не смог объяснить сказанное Гитлером. Молотов потребовал от Финляндии чёткого определения её позиции по отношению к СССР.\\n\\n26 июня Молотов пишет послу СССР в США Константину Уманскому: «Вам следует немедленно пойти к Рузвельту или Халлу и запросить, каково отношение американского правительства к этой войне и к СССР. Вопросов о помощи сейчас не следует ставить». 12 июля Молотов и посол Криппс подписали Соглашение между правительствами СССР и Великобритании о совместных действиях в войне против Германии. Результатом данного соглашения являлось то, что налаживалось сотрудничество со странами антигитлеровской коалиции, восстанавливались дипломатические отношения с правительствами европейских государств, оккупированных нацистской Германией, находившимися в эмиграции в Лондоне (Бельгия, Норвегия, Польша, Чехословакия и др.).\\n\\n30 июня 1941\\xa0года с образованием Государственного комитета обороны (ГКО) Молотов был утверждён заместителем его председателя Сталина.\\n\\n14 августа Молотов сообщил послу СССР в Турции Сергею Виноградову, что советское правительство согласно установить официальные отношения с Шарлем Де Голлем как руководителем французов-антифашистов.\\n\\nС 29 сентября по 1 октября 1941 года в Москве состоялась конференция, в которой принимали участие СССР, США и Великобритания; на конференции были согласованы вопросы о военных поставках Советскому Союзу. Выступая на заключительном заседании, глава советской делегации Молотов сказал, что «отныне создан мощный фронт свободолюбивых народов во главе с Советским Союзом, Англией и Соединёнными Штатами Америки». В октябре 1941 года наркомат иностранных дел СССР вместе с дипкорпусом был эвакуирован в Куйбышев, но Молотов, как и Сталин, оставался в Москве. В Москве уделял внимание военным поставкам из Великобритании и США и открытию второго фронта в Европе.\\n\\nВ октябре 1941 года во время катастрофы под Вязьмой Вячеслав Молотов в единственный раз был послан на фронт, но основные решения принимал сопровождавший его А. Василевский.\\n\\nВ конце мая\\xa0— начале июня 1942 года Молотов посетил с дипломатической миссией союзников: Великобританию и США. Перелёт в Великобританию на самолёте Пе-8 под управлением лётчика Энделя Пусэпа проходил через линию фронта и далее через территорию, занятую немецкими войсками, с посадкой в Шотландии. 26 мая Молотов вместе с Энтони Иденом подписал в Лондоне Англо-советский союзный договор. . Далее был не менее рискованный перелёт в США, где переговоры в Белом доме закончились 1 июня. На обратном пути вновь посадка в Британии и ещё одни переговоры. 12 июня делегация вернулась в Москву.\\n\\nПодписал постановление СНК о производстве бутылок с зажигательной смесью, которая получила неофициальное название «коктейль Молотова» (по одной из версий, данное название было дано финнами\\xa0— «коктейли для Молотова»). 16 августа 1942 года Молотов был повышен до первого заместителя председателя СНК. Вячеслав Молотов принимал участие в Тегеранской, Ялтинской, Потсдамской конференциях, которые создали основы послевоенного мирного урегулирования.\\n\\nПомимо дипломатической работы Вячеслав Молотов отвечал за производство танков. Кроме того, изначально именно Молотову, в 1942 году, было поручено руководство советским «атомным проектом»\\xa0— работами по созданию в СССР атомного оружия. Однако, по воспоминаниям академика И.\\xa0В.\\xa0Курчатова, из-за своего рутинного мышления Молотов так и не смог досконально вникнуть во все детали данного проекта, из-за этого все работы над бомбой «топтались на месте», в результате чего было упущено несколько лет.\\n\\nУказом №\\xa079 Президиума Верховного Совета СССР от 30 сентября 1943 года за особые заслуги перед советским государством в развитии танковой промышленности в годы Великой Отечественной войны Вячеславу Михайловичу Молотову присвоено звание Героя Социалистического Труда со вручением ордена Ленина и медали «Серп и Молот».\\n\\nКроме военных вопросов, Молотов курировал вопросы науки, в том числе работу МГУ. В его архиве сохранилась переписка, связанная с письмом 14 академиков председателю Всесоюзного комитета по делам высшей школы Сергею Кафтанову, и документы, связанные с дальнейшим развитием этой ситуации.\\nПисьмо четырёх академиков, написанное от лица Абрама Иоффе, было адресовано лично к нему.\\nВячеслав Молотов вмешался в ситуацию противостояния между так называемой «академической» и «университетской» физикой и разрешил этот вопрос.\\n\\nКроме того, по инициативе Молотова в целях подготовки кадров для дипломатических учреждений СССР 14 октября 1944 года на базе факультета международных отношений МГУ был создан Московский государственный институт международных отношений.\\n\\nПослевоенный период \\nВ первые послевоенные годы Молотов в качестве главы советской внешней политики часто выезжал за границу: он участвовал в конференции в Сан-Франциско, на которой создавалась Организация Объединённых Наций. Молотов также возглавлял советские делегации на большинстве сессий Совета министров иностранных дел\\xa0— СССР, США, Великобритании, Франции и Китая, на Парижской мирной конференции 1946 года, где он активно защищал территориальные интересы Албании, Болгарии и Югославии.\\n\\n19 марта 1946 года СНК был преобразован в Совет министров; соответственно, Молотов стал первым заместителем председателя Совета министров СССР. На этом посту курировал образование, науку и правоохранительные органы.\\n\\nВспоминая о выработке в июне 1947 года советской позиции в отношении предложения США об оказании помощи странам Европы, Молотов говорил:\\n\\n«Вначале мы в МИД хотели предложить участвовать всем социалистическим странам, но быстро догадались, что это неправильно. Они затягивали нас в свою компанию, но подчинённую компанию, мы бы зависели от них, но ничего бы не получили толком, а зависели бы безусловно. Но если на Западе считают, что это была наша ошибка, что мы отказались от плана Маршалла, значит, правильно мы сделали».\\n\\nВячеслав Молотов часто выезжал в США для участия в работе ООН, причём из-за своей непримиримой позиции, а также частого использования права «вето», в дипломатических кругах получил прозвище «Господин Нет»(вариант «Мистер Нет» (англ. Mr. No, Mr. Nyet); позднее это прозвище «унаследовал» А.\\xa0А.\\xa0Громыко).\\n\\nВ 1947 году Молотову были делегированы полномочия Сталина по атомному проекту: 8 февраля 1947 года на заседании Политбюро ЦК ВКП(б) было принято решение о том, что вопросы работы Спецкомитета при Совете министров СССР докладываются или непосредственно председателю Совета министров И.\\xa0В.\\xa0Сталину или его первому заместителю В.\\xa0М.\\xa0Молотову. С 1947 по 1949 годы Молотов возглавлял советскую внешнюю разведку в качестве председателя Комитета информации при Совете министров СССР.\\n\\nВ 1949 году входил в Постоянную комиссию по проведению открытых судебных процессов по наиболее важным делам бывших военнослужащих германской армии и немецких карательных органов, изобличённых в зверствах против советских граждан на временно оккупированной территории Советского Союза. Участвовал в организации процессов над немецкими и японскими военными преступниками.\\n\\n29 января 1949 года была арестована жена Молотова Полина Жемчужина, а 4 марта того же года он был снят с поста министра иностранных дел (пост занял Андрей Вышинский). По мнению Жореса Медведева, «заговор против Молотова был спланирован очень умело, но и очень жестоко. Он включал убийство Михоэлса, аресты и расстрелы членов ЕАК, включая Лозовского, и арест Полины Жемчужиной. Заговор против ленинградской партийно-государственной группы был менее тонким, но не менее жестоким. К концу 1949 года Маленков и Берия практически полностью расчистили себе дорогу к власти».\\n\\nВ октябре 1952 года на послесъездовском (XIX съезд КПСС) пленуме ЦК Молотов, хоть и был избран в состав Президиума ЦК, не вошёл в состав его руководящего бюро; на том же пленуме ЦК он и Анастас Микоян были подвергнуты уничтожительной критике Сталиным. О существовании секретного, не предусмотренного партийным уставом бюро Президиума в печати не сообщалось. В официальной советской пропаганде Молотов по-прежнему изображался как ближайший из соратников Сталина; в частности, в букваре 1952\\xa0г. в конце приводились портреты и биографии Ленина, Сталина и Молотова.\\n\\nПосле Сталина \\n5 марта 1953 года после смерти Сталина Молотов был снова назначен министром иностранных дел и одновременно первым заместителем председателя Совета Министров СССР. Бюро Президиума ЦК было ликвидировано, состав Президиума ЦК существенно сокращён, Молотов остался его членом, в результате чего он вернулся в состав высшего руководства страны.\\n\\nВ июне 1953 года поддержал инициативу Маленкова и Хрущёва по аресту Берии, а затем, в 1954—1955 годах поддержал Хрущёва в его противостоянии с Маленковым.\\n\\nВ 1955 году Молотов был назначен председателем комиссии по пересмотру открытых процессов и закрытого суда над военачальниками.\\n\\nВ последующем Молотов и Хрущёв стали расходиться по многим вопросам. Молотов возражал против полного вывода советских войск из Австрии, скептически отнёсся к нормализации отношений с Югославией, считая необходимой критику антисоветских выступлений югославского руководства, разногласия касались также целесообразности чрезмерного и форсированного освоения целины, включения Крыма в состав УССР.\\n\\nВ марте 1956 года в Тбилиси прошёл ряд манифестаций под лозунгами «Долой Хрущёва!» и «Молотова\\xa0— во главе КПСС», демонстрации были разогнаны армией. 1 июня 1956 года Молотов под предлогом неправильной югославской политики был освобождён от должности министра иностранных дел, но 21 ноября, «в компенсацию», назначен министром государственного контроля СССР.\\n\\nВ 1957 году Молотов возглавил так называемую «антипартийную группу» против Хрущёва. Объединившись с Лазарем Кагановичем и Георгием Маленковым, Молотов предпринял попытку смещения Хрущёва. На заседании Президиума ЦК группа Молотова выступила с критикой работы Хрущёва в должности Первого секретаря ЦК (основные претензии заключались в фактах нарушения Хрущёвым правил «коллективного руководства», а также в спорах вокруг выявившихся хозяйственно-экономических и внешнеполитических проблем) и получила поддержку подавляющего большинства членов высшего партийного органа (Климент Ворошилов, Николай Булганин, Михаил Первухин, Максим Сабуров, Дмитрий Шепилов). Хрущёва предполагалось назначить министром сельского хозяйства, а пост Первого секретаря передать Молотову или вообще упразднить. Но сторонникам Хрущёва удалось быстро собрать Пленум ЦК, на котором «антипартийная группа» потерпела поражение. Спохватившись, что против Хрущёва выступил фактически почти весь Президиум ЦК КПСС, все высшие руководители страны, включая главу государства\\xa0— председателя Президиума Верховного Совета и главу правительства\\xa0— председателя Совета Министров СССР, пленум решил отставить первых заместителей председателя Совмина\\xa0— Маленкова, Кагановича, Молотова и министра иностранных дел Шепилова. 29 июня 1957 года Молотов был снят со всех постов «за принадлежность к антипартийной группе», выведен из состава Президиума ЦК КПСС и из ЦК КПСС. Три города, названные в его честь, в 1957 году были переименованы.\\n\\nВ 1957 году Вячеслав Молотов был назначен послом СССР в Монголии. С 1960 по 1961 годы руководил советским представительством при штаб-квартире агентства ООН по атомной энергии (МАГАТЭ) в Вене. На состоявшемся в октябре 1961 года XXII съезде КПСС Хрущёв и его союзники впервые заявили о прямой персональной ответственности Молотова, Кагановича и Маленкова за беззакония, совершавшиеся при Сталине, и потребовали исключить их из партии. В середине ноября 1961 года Молотов был отозван из Вены, снят с занимаемой должности и исключён из партии. 12 сентября 1963 года Молотов был отправлен на пенсию.\\n\\nПо воспоминаниям главного редактора газеты «Известия» Алексея Аджубея, после XXII съезда КПСС жена Молотова добилась приёма у Хрущёва. «В ответ на её просьбу восстановить мужа в партии Никита Сергеевич показал ей документ с резолюцией Молотова о расстреле жён Косиора, Постышева и других ответственных работников Украины, затем спросил, можно ли, по её мнению, говорить о восстановлении Молотова в партии или надо привлекать его к суду».\\n\\nПоследние годы \\nНесмотря на опалу, Молотов продолжил вести активный образ жизни, постоянно работал дома или в библиотеке. Мемуары он не писал, но свои взгляды на те или иные события общественной жизни он излагал в записках, направляемых в ЦК КПСС. В течение ряда лет добивался восстановления членства в партии и в 1984 году при поддержке главного редактора журнала «Коммунист» Р.\\xa0И.\\xa0Косолапова Молотов был восстановлен в партии. Генеральный секретарь К.\\xa0У.\\xa0Черненко лично вручал ему партийный билет. Однако решение о восстановлении Молотова в партии было проведено без объявления в партийной печати. С восстановлением в партии с сохранением партстажа с 1906 года он стал её старейшим членом. В 1986 году успел дать интервью газете «Московские новости», в котором сообщил: «У меня счастливая старость. Хочу дожить до 100 лет».Больше всего [Молотов] переживал, что его исключили из партии. И всё время писал в ЦК, Комитет партийного контроля письма с просьбами о восстановлении. Для себя в материальном плане он не просил ничего.\\n\\nЖил он на маленькой деревянной даче в Жуковке, которую мы [Совмин] ему выделили. До девяноста лет ездил в поликлинику на электричке. Всегда там сидел в общей очереди, хотя все, конечно, предлагали пропустить его.\\n\\nКак-то мой товарищ, живший на даче рядом с Молотовым, рассказал мне, что Вячеслав Михайлович с женой бедствуют. Пенсия у него была 300 рублей в месяц, но из неё они полностью платили за дачу, уголь, оплачивали истопника и женщину, которая помогала им по хозяйству, и в результате у них не оставалось практически ничего. Мы приняли решение об увеличении им с Кагановичем пенсии на 50 рублей, освободили от платы за дачу и уголь. Истопнику и сестре-хозяйке дали зарплату…\\n\\nВ последний раз я видел [Молотова] на похоронах Булганина [1975 год]. Он стоял в сторонке, один. Я подошёл, говорю: «Вячеслав Михайлович, давайте подойдём ближе, простимся». Он был очень тронут этим проявлением внимания.\\n\\nВ отличие от имён Маленкова и Кагановича, имя Молотова и после отставки и исключения из партии продолжало свободно упоминаться в литературе, печати, кино, статьи о нём помещались в энциклопедии. Образ Молотова неоднократно появлялся в художественных фильмах, его играл, главным образом Николай Засухин (ранее, в 1940-е годы\\xa0— Максим Штраух).\\n\\nВ 1970-е и 1980-е годы поэт и журналист Феликс Чуев часто гостил в доме Молотовых, делал записи, на основании которых позднее были изданы книги\\xa0— «Сто сорок бесед с Молотовым» и «Полудержавный властелин». Из этих публикаций видно, что до конца своей жизни Молотов оставался ортодоксальным приверженцем политики Сталина, оправдывал политические репрессии в СССР:\\nЯ защищал и защищаю Сталина, в том числе и в террористических делах, я считаю, что мы без террора не могли бы пройти перед войной, чтобы после войны у нас было более-менее устойчивое положение в нашей стране. Я считаю, что это в значительной степени было обеспечено в период конца 30-х годов. \\n\\nВ июне 1986 года Молотов был госпитализирован в Кунцевскую больницу в Москве, где умер 8 ноября. За свою долгую жизнь Молотов перенёс 7 инфарктов миокарда, однако прожил 96 лет. Вячеслав Молотов похоронен на Новодевичьем кладбище в Москве рядом с супругой (1 уч.). 11 ноября 1986 года о смерти государственного деятеля сообщила газета «Известия». Ряд статей вышел в западной прессе. В Албании в связи с печальным событием был объявлен государственный траур. После вскрытия конверта с завещанием Молотова в нём обнаружили сберегательную книжку, в которой значилось, что на его банковском счёте находятся 500 рублей.\\n\\nЛичная жизнь и семья \\n\\nВ 1921 году Вячеслав Молотов женился на Полине Жемчужиной. По словам их внука: «Они очень любили, даже обожали друг друга, хотя были людьми разными: он простецкий такой, в ней\\xa0— внутренний аристократизм». В 1949 году Полина Жемчужина была арестована, на Пленуме ЦК КПСС, когда её выводили из кандидатов в члены ЦК, Молотов, в отличие от других, проголосовавших за, единственным воздержался при голосовании. Незадолго до её ареста супруги фиктивно расстались и разъехались. «Молотов всю жизнь страстно любил Полину Семёновну\\xa0— пишет писатель Л. Млечин.\\xa0— Когда он куда-то ездил, то всегда брал с собой фотографию жены и дочери. Арест жены явился для него колоссальной трагедией». Незадолго до смерти Сталина Жемчужина была арестована в ссылке и переведена в Москву, где допрашивалась в ходе подготовки к новому процессу. Сразу после смерти Сталина в марте 1953 года в дни его похорон она была освобождена Берией и возвращена Молотову.\\n\\nУ Молотовых была единственная дочь\\xa0— Светлана (1929—1989)\\xa0— научный сотрудник Института всеобщей истории.\\n\\nПервый зять\\xa0— лётчик-испытатель В.\\xa0С.\\xa0Ильюшин, сын авиаконструктора С.\\xa0В.\\xa0Ильюшина.\\n\\nВторой зять\\xa0— Алексей Дмитриевич Никонов (1917—1992) работал сотрудником НКВД, профессором МГИМО, сотрудником Института мировой экономики и международных отношений, редактором журнала «Коммунист».\\n\\nВнуки: Лариса Алексеевна Скрябина-Королева (Ильюшина), Любовь Алексеевна Никонова, Вячеслав Алексеевич Никонов (1956\\xa0г. р.)\\xa0— известный российский политолог, соучредитель фонда «Политика».\\n\\nВячеслав Молотов приходился двоюродным дядей популярному актёру Борису Чиркову, а также был другом юности деятеля ВКП (б), прозаика Александра Аросева\\xa0— отца актрисы Ольги Аросевой.\\n\\nЛичные качества \\nХарактер и личные качества Молотова в разных источниках интерпретируются по-разному. Единодушно отмечается его усидчивость и кабинетная работоспособность, за что он ещё в начале карьеры получил от большевиков первого поколения прозвище «каменная задница».\\n\\n— Ещё говорят: Ленин назвал вас «каменной жопой»\\n\\n— Знали б они, как Ленин других называл!.\\n\\nУинстон Черчилль говорил о Молотове: «Я не видел человека, в котором более полно была бы представлена современная концепция робота».[Уничижительные характеристики: «железная задница», «главный партийный канцелярист», «безропотный исполнитель указаний Сталина»] придумывали люди, которые никогда не работали с Молотовым, а чаще всего и в глаза его не видели. Я работал с ним долгие годы и знаю, что послушным исполнителем указаний Молотов был далеко не всегда. Он менялся в зависимости от обстоятельств. Не был он и примитивным канцеляристом, каким его теперь [2000 год] часто рисуют…\\n\\n[Самой сильной стороной Молотова-политика было] умение точно оценивать свои возможности. Молотов всегда знал, что в любом деле есть граница, переходить которую нельзя даже ему. Кроме того, Вячеслав Михайлович был очень сильным организатором. Настоящим… Решения принимались быстро… Молотов вообще не терпел многословия…\\n\\nМолотов вообще старался говорить поменьше и пореже. Он заикался и, как мне казалось, стеснялся этого…\\n\\nЕсли говорить об особенностях Молотова, нужно сказать, что у него постоянно было желание всё улучшать. Может быть, потому, что это свойственно большинству педантичных людей. Но возможно, и потому, что инженерный талант Молотова остался нереализованным: из-за участия в подпольной партийной работе он не окончил Петербургский политехнический институт…\\n\\nВсе знали, что Молотов не терпит никакой неряшливости. Ни в работе, ни в одежде. Сам он всегда был одет скромно, но опрятно. И требовал того же от других.\\n\\nПо оценке Жореса Медведева, Молотов, «бывший главой Советского правительства больше десяти лет, причём в труднейший период коллективизации, индустриализации и террора, был человеком слабовольным. Молотов был субъективно честен, исключительно работоспособен, умён и не имел заметных пороков». К тому же, как отмечает Медведев, он «был единственным кроме Сталина членом Политбюро, который обладал популярностью в народе и особенно среди интеллигенции». Молотов «пытался расширить международное сотрудничество и уменьшить всесилие цензуры».\\n\\nКонстантин Симонов в своих «Размышлениях о И.\\xa0В.\\xa0Сталине» подчёркивал:\\nМолотов при этом существовал неизменно как постоянная величина, пользовавшаяся\\xa0— боюсь употребить эти громкие, слишком значительные слова, хотя в данном случае они близки к истине,\\xa0— в нашей среде, в среде моего поколения, наиболее твёрдым и постоянным уважением и приоритетом.\\n\\nИмея репутацию исполнительного, обязательного и усердного работника, неукоснительно подчиняющегося партийной дисциплине, Молотов «полностью опирался на волю Сталина и поэтому выполнял все его поручения и директивы с необычайной пунктуальностью и быстротой». Кроме того, по некоторым сведениям, Молотов до конца своих дней оставался верен своей дружбе со Сталиным и, уже будучи вдовцом, провозглашал неизменные три тоста: «За товарища Сталина! За Полину! За коммунизм!».\\nСталин\\xa0— это человек весь в крови. Я видел его резолюции, которые пачками он подписывал вместе с Молотовым, Ворошиловым, Кагановичем и Ждановым. Эта самая пятёрка была инициативная. Молотов всегда добавлял: «заменить 10 лет на расстрел»\\n\\n«…как символ их всех (сотрудников органов внутренних дел) живёт на улице Грановского, 3\\xa0— самодовольный, тупой, до сих пор ни в чём не убедившийся Молотов, весь пропитанный нашей кровью, и благородно переходит тротуар сесть в длинный широкий автомобиль»\\xa0— Александр Солженицын «Архипелаг ГУЛаг» (Том 1).\\n\\nИзвестна фраза, сказанная Молотовым: «Нет такой любви между мужчиной и женщиной, ради которой можно было бы изменить Родине!».\\n\\nНаграды \\n Герой Социалистического Труда (30 сентября 1943)\\xa0— за особые заслуги в области усиления производства танков в трудных условиях\\n Четыре ордена Ленина (08.03.1940; 30.09.1943, 05.11.1945; 08.03.1950)\\n Орден «Знак Почёта» (30.10.1954)\\n медали\\n Большой крест ордена Возрождения Польши (ПНР, 1948)\\n Орден Красного Знамени (МНР, 1943)\\n Почётный академик Академии наук СССР (29 ноября 1946)\\n\\nФакты \\n\\n Являлся самым долгоживущим руководителем правительства среди глав правительств СССР и России.\\n По свидетельству его внука, после Сталина из мировых политиков\\xa0Молотов особенно уважал Черчилля.\\n В честь Молотова была названа простейшая зажигательная граната\\xa0— «коктейль Молотова».\\n Советскую кассетную авиационную бомбу РРАБ-3 финны называли «хлебной корзиной Молотова» (), поскольку она в воздухе рассыпала «буханки»\\xa0— суббоеприпасы.\\n Грузовик ГАЗ-51, поставляющийся за границу, называли «Молотовка».\\n Молотов, как и его предшественник на посту Председателя СНК СССР Алексей Рыков, был заикой.\\n Жена, родные и друзья называли В.\\xa0М.\\xa0Молотова Веча\\xa0— сокращённо от имени Вячеслав.\\n В беседах с журналистом Феликсом Чуевым Молотов заметил, что начал читать в очках только после 80 лет. Но при этом перестал пользоваться очками для дали (Но зато на воздух я смотрю без очков. А раньше я в очках смотрел).\\n\\nПамять \\nЗаслуги Молотова почитались небольшое время при его жизни как видного деятеля Коммунистической партии. В 1957 году после разгрома «антипартийной группы» и запрета называть улицы и другие географические объекты в честь живущих, многие объекты, названные в честь него, были переименованы.\\n\\nГеографические названия \\n ледник Молотова\\xa0— о. Комсомолец, архипелаг Северная Земля (название сохранено)\\n ледник Молотова\\xa0— Памир, Таджикская ССР\\n мыс Молотова\\xa0— мыс Арктический, о. Комсомолец, архипелаг Северная Земля\\n пик Молотова\\xa0— пик Россия, Памир, Таджикская ССР\\n\\nСубъекты федерации \\n Молотовская область\\xa0— Пермская область, РСФСР с 1940 по 1957\\xa0г.\\n\\nГорода и районы областного подчинения \\n Молотов\\xa0— название Перми с 1940 по 1957\\xa0годы.\\n Молотовск (быв. Судострой) (1938—1957)\\xa0— город Северодвинск, Архангельская область\\n Молотовский район (быв. Изылбашский)\\xa0— Иртышский район, Омская область\\n Молотовский (сельский) район\\xa0— Волжский район, Самарская область\\n Молотовский район\\xa0— Нолинский район, Кировская область\\n Молотовский район\\xa0— Красногвардейский район, Ставропольский край\\n Молотовский район (быв. Покровский)\\xa0— Октябрьский район, Приморский край\\n Молотовский район\\xa0— Балкашинский (ныне Сандыктауский район), Целиноградская область, Казахская ССР\\n\\nМуниципальные поселения районного подчинения \\n Молотовск (1940—1957)\\xa0— город Нолинск, Кировская область\\n имени В.\\xa0М.\\xa0Молотова\\xa0— посёлок Октябрьский, Горьковская область\\n зерносовхоз имени Молотова\\xa0— посёлок Российский, Оренбургская область\\n Молотовабад\\xa0— посёлок Уч-Коргон Ошская область, Киргизская ССР\\n Молотовабад\\xa0— посёлок Дусти, Таджикская ССР\\n Молотово (быв. Розенберг)\\xa0— посёлок Триалети, Грузинская ССР\\n Молотово (быв. Изылбашский)\\xa0— посёлок Иртыш, Омская область\\n Молотово\\xa0— посёлок Учкуприк, Ферганская область, Узбекская ССР\\n Молотово (быв. Янгитурмыш)\\xa0— посёлок Авангард, Ташкентская область, Узбекская ССР\\n Молотовский\\xa0— включён в город Новошахтинск, Ростовская область\\n Молотовский\\xa0— посёлок Каинды, Киргизская ССР\\n Молотовское (быв. Медвежье, Евдокимовское)\\xa0— село Красногвардейское, Ставропольский край\\n Молотов\\xa0— село Октябрькенд (ныне село Хачав), Азербайджанская ССР\\n имени Молотова (быв. Осинники)\\xa0— село Горьковское, Алтайский край\\n Молотово\\xa0— село Орловка, Башкирская АССР\\n Молотово\\xa0— село им. 1 мая (ныне Берлик) Талды-Курганская область, Казахская ССР\\n Молотово\\xa0— село Родино Алтайский край\\n Молотово (быв. Дрязги)\\xa0— село Октябрьское, Липецкая область\\n Молотово\\xa0— село Никольский, Рязанская область\\n Молотово\\xa0— село Срибное, Сталинская область, Украинская ССР\\n Молотово\\xa0— село Першотравневое, Полтавская область, Украинская ССР\\n Молотов\\xa0— хутор Виноградный, Ростовская область\\n имени Молотова (быв. Маглиновский)\\xa0— хутор Победа, Краснодарский край\\n\\nГородские районы \\n Молотовский район\\xa0— Советский район Самары\\n Молотовский район\\xa0— Советский район Уфы\\n Молотовский район\\xa0— Ленинский район Кирова\\n Молотовский район\\xa0— Октябрьский район Омска\\n Молотовский район\\xa0— Центральный район Новокузнецка\\n Молотовский район\\xa0— Шевченковский район Киева\\n Молотовский район\\xa0— вошёл в состав Пролетарского района Москвы\\n\\nУлицы \\nИмя Молотова носят улицы в: посёлках Знамя Труда и Новое Ирикеево, сёлах Гусиное Озеро и Красный Лиман, слободе Ефремово-Степановка, деревне Вырубово.\\n Улица Кольцевая в Уфе до 1957 года носила имя Молотова\\n Улица Ленинградская в Ворошиловск-Коммунарск-Алчевске до 1957 года носила имя Молотова\\n Проспект Металлургов в Новокузнецке с 1935 по 1957 носил имя Молотова\\n Уральская улица в Перми с 1937 по 1957 носила имя Молотова\\n Улица Молотовая в Усолье-Сибирском с 8 января 1954 года по 27 сентября 1957 года называлась улицей имени Молотова.\\n\\nУчреждения образования \\n\\n Вологодский государственный педагогический институт имени В.\\xa0М.\\xa0Молотова\\n Военно-морское авиационно-техническое училище имени В.\\xa0М.\\xa0Молотова, г. Пермь (1936—1958), 24 апреля 1958 года имя В.\\xa0М.\\xa0Молотова снято\\n Военная академия тыла и снабжения Красной армии имени В.\\xa0М.\\xa0Молотова (1935—1956; с 1939 Военно-хозяйственная академия РККА имени В.\\xa0М.\\xa0Молотова), она и Военно-транспортная академия с 1 июня 1956 года объединены в единую\\xa0— Военную академию тыла и транспорта\\n Всесоюзная плановая академия имени В.\\xa0М.\\xa0Молотова при Госплане СССР. Ликвидирована в 1941\\xa0г.\\n Всесоюзная промышленная академия лёгкой индустрии имени В.\\xa0М.\\xa0Молотова\\n Горьковское училище зенитной артиллерии имени В.\\xa0М.\\xa0Молотова, носило имя В.\\xa0М.\\xa0Молотова 1940—1956\\n Ереванский государственный университет имени В.\\xa0М.\\xa0Молотова\\n Куйбышевский краевой коммунистический университет журналистики имени В.\\xa0М.\\xa0Молотова\\n Казахский медицинский институт имени В.\\xa0М.\\xa0Молотова\\n Ленинградская Краснознамённая ордена Ленина Высшая офицерская бронетанковая школа Красной армии имени В.\\xa0М.\\xa0Молотова\\n Ленинградский технологический институт им. В.\\xa0М.\\xa0Молотова, ныне Санкт-Петербургский государственный технологический университет растительных полимеров\\n Московский государственный библиотечный институт имени В.\\xa0М.\\xa0Молотова Наркомпроса РСФСР\\n Московский институт механизации и электрификации сельского хозяйства имени В.\\xa0М.\\xa0Молотова\\n Московский энергетический институт имени В.\\xa0М.\\xa0Молотова. Ныне Московский энергетический институт\\n Ростовский государственный университет имени В.\\xa0М.\\xa0Молотова. Ныне Ростовский государственный университет\\n Саратовский автомобильно-дорожный институт имени В.\\xa0М.\\xa0Молотова\\n Смоленское военно-политическое училище имени В.\\xa0М.\\xa0Молотова (1940—1956)\\n Томский государственный медицинский институт имени В.\\xa0М.\\xa0Молотова. Ныне Сибирский государственный медицинский университет\\n Школа авиационных техников имени В.\\xa0М.\\xa0Молотова (Пермь)\\n Школа №\\xa023 имени В.\\xa0М.\\xa0Молотова (Вологда)\\n\\nЗаводы и предприятия \\n\\n Горьковский автомобильный завод (ЗИМ)\\n Детский костно-туберкулёзный санаторий имени Молотова Наркомздрава СССР\\n Днепропетровский завод стальных конструкций и мостов\\n Железная дорога (1936—1943), затем вновь Забайкальская\\n Завод «Красный гидропресс» (г. Таганрог)\\n Завод №\\xa062 стальных самолётов ГУ ГВФ Завод имени Молотова (бывший завод «Красный гвоздильщик», Ленинград)\\n Кень-Аральский зерносовхоз\\n Киевский Дворец пионеров\\n Минский радиозавод\\n Никитский ботанический сад (Крым)\\n Первый государственный завод бактериальных удобрений (Московская обл.)\\n Пионерский лагерь «Артек» с 1938 по 1957\\xa0гг.\\n Полиграфический комбинат (Москва)\\n Ташкентский канал\\n Харьковский станкостроительный завод\\n\\nТехника \\n\\n Крейсер «Молотов», крейсер проекта 26-бис. В 1957 году переименован в «Слава».\\n Крейсер «Молотовск», проекта 68-бис. В 1957 году переименован в «Октябрьскую революцию»\\n Океанский лайнер «Вячеслав Молотов», построен в Нидерландах в 1940 году, во время Великой Отечественной войны военный транспорт ВТ-509. В 1957 году судно переименовано в «Балтика»\\n Ледокол «В. Молотов», проект 51, в период с августа по декабрь 1941 года на Балтийском заводе ледокол «В. Молотов» переоборудован во вспомогательный крейсер. В 1958 году ледокол переименован в «Адмирал Макаров»\\n Танкер «Молотов», относится к танкерам типа «Ленин», с 1957\\xa0г. переименован в «Герой Мехти»\\n Речной грузо-пассажирский пароход «Молотов», проект СБ-7А. Во время Великой Отечественной войны мобилизован 23.06.1941\\xa0г. и вошёл в состав Пинской флотилии в качестве госпитального судна. Входил в состав Днепровского отряда речных кораблей. Расформирован 16.08.1941\\xa0г. и 16.09.1941\\xa0г. затоплен в оз. Лезерень\\n Речной пассажирский теплоход пароходства Канала Москва-Волга «Вячеслав Молотов» типа «Иосиф Сталин» построен на заводе «Красное Сормово» в 1937 году. 27 августа 1957 года переименован в «Михаил Калинин»\\n Тепловоз ВМ20 (Вячеслав Молотов)\\n Грузо-пассажирский колесный пароход «Императрица Александра» пароходного общества «По Волге» (построен в 1896 году на Сормовском заводе) носил название «Вячеслав Молотов» с 1936 по 1957 год (списан в 1969 году, утилизирован).\\n Грузо-пассажирский колесный пароход «Иван» пароходного общества братьев Каменских (построен в 1905 году на Сормовском заводе) носил название «Молотов-Скрябин» с 1936 по 1957 год (списан в 1964 году, утилизирован)\\n\\nПамятники \\n\\n Бюст в Никитском ботаническом саду. Был установлен в 1930-х годах, когда сад носил его имя. В 1957 году бюст был снесён и заменён бюстом Ленина. В 2008 году бюст Молотова был восстановлен рядом с бюстом Ленина. Долгое время бюсты обоих деятелей стояли в центре сада, у бассейна. В 2012 году они были перенесены к зданию музея Никитского ботанического сада, а на их место воздвигнута статуя богини Флоры. В 2019 году бюст Ленина был перенесён на прежнее место, бюст Молотова остался на своём.\\n Увековечен в художественной композиции «Заседание штаба Западного фронта» в деревне Красновидово Московской области.\\n\\nМузей \\n В 2005 потомки главы советского правительства выкупили полуразрушенный дом деда в Нолинске и после капитального ремонта в 2006 году открыли в нём Дом-музей В.\\xa0М.\\xa0Молотова. Один из инициаторов открытия музея\\xa0— внук Молотова, известный политолог, член общественной палаты России Вячеслав Никонов.\\n\\nВ филателии \\nВ 1950\\xa0году почтовое ведомство НРБ выпустило серию из 4-х марок, посвящённых второй годовщине заключения советско-болгарского Договора о дружбе, на одной из которых был запечатлён В.\\xa0М.\\xa0Молотов (наряду с И.\\xa0В.\\xa0Сталиным, Г. Димитровым и В. Коларовым) \\n\\nВ 1970\\xa0году почта ГДР выпустила почтовую эмиссию, посвящённую 25-летию Потсдамской конференции, с изображением советской делегации за столом конференции во главе с И.\\xa0В.\\xa0Сталиным, В.\\xa0М.\\xa0Молотовым, А.\\xa0Я.\\xa0Вышинским и А.\\xa0А.\\xa0Громыко \\n\\nИмя В.\\xa0М.\\xa0Молотова упоминается на советских почтовых марках 1948 (теплоход «Вячеслав Молотов») и 1949 (город Молотов) гг., а также на малом листе Российской Федерации 2003 года выпуска (автозавод ГАЗ имени Молотова).\\n\\nВ нумизматике \\nВ 2000\\xa0г. Банк России выпустила монету посвящённую 55-й годовщине Победы в Великой Отечественной войне 1941—1945\\xa0гг., «Берлинская (Потсдамская) конференция», на которой, кроме других членов конференции, изображён Молотов.\\n\\nВ кулинарии \\n Португальский десерт Молотоф\\n\\nВ видеоиграх \\n Является одним из возможных советников Советского Союза в игре Hearts of Iron IV\\n Играет роль в сюжете игры Atomic Heart.\\n\\nКиновоплощения \\n\\xa0— Ленин в 1918 году — Георгий Богатов (нет в титрах)\\n\\xa0— Миссия в Москву\\xa0— Джин Локхарт\\n\\xa0— Падение Берлина; Сталинградская битва\\xa0— Максим Штраух\\n\\xa0— Семнадцать мгновений весны\\xa0— Валерий Даньшин\\n\\xa0— Выбор цели\\xa0— Николай Засухин\\n\\xa0— Красный монарх\\xa0— Найджел Сток\\n\\xa0— Битва за Москву\\xa0— Николай Засухин\\n\\xa0— Война на западном направлении\\xa0— Николай Засухин\\n\\xa0— Ближний круг\\xa0— Виктор Балабанов\\n\\xa0— Ангелы смерти\\xa0— Николай Засухин\\n\\xa0— Московская сага\\xa0— Павел Ремезов\\n\\xa0— Сталин. Live\\xa0— Сергей Вершинин\\n\\xa0— Смерть Сталина\\xa0— Майкл Пейлин\\n\\xa0— Власик. Тень Сталина\\xa0— Виктор Балабанов\\n\\xa0— Начальник разведки\\xa0— Станислав Курач\\n\\nЗвукозаписи выступлений В.\\xa0М.\\xa0Молотова \\nДоклад «Конституция социализма» 29 ноября 1936\\xa0г.\\n\\nДоклад, посвящённый 20-й годовщине Октябрьской революции, 6 ноября 1937\\xa0г. (фрагмент).\\n\\nВыступление по радио 22 июня 1941\\xa0г.\\n\\nСм. также \\n Жемчужина, Полина Семёновна\\xa0— жена В.\\xa0М.\\xa0Молотова\\n Никонов, Вячеслав Алексеевич\\xa0— политолог, внук и биограф В.\\xa0М.\\xa0Молотова\\n Коктейль Молотова\\n Линия Молотова\\n Пакт Молотова\\xa0— Риббентропа\\n Нет, Молотов\\n\\nПримечания\\n\\nЛитература \\n \\n Медведев Р. А Окружение Сталина\\xa0— М.: Молодая гвардия, 2010.\\xa0— (Жизнь замечательных людей).\\n \\n Никонов\\xa0В.\\xa0А. Молотов. Наше дело правое. В 2 книгах (комплект). М.:\\xa0— Молодая гвардия, 2016.\\n Никонов\\xa0В.\\xa0А. Молотов.\\xa0— М.: Молодая гвардия, 2017.\\xa0— (Жизнь замечательных людей).\\n \\n Чуев\\xa0Ф.\\xa0И.Молотов. Полудержавный властелин.\\n Чуев\\xa0Ф.\\xa0И.Из бесед в В.\\xa0М.\\xa0Молотовым // От оттепели до застоя.\\xa0— М.: Советская Россия, 1990.\\xa0— Тираж 50\\xa0000 экз.\\xa0— С. 36\\xa0— 77\\n\\nСсылки \\n\\n \\n Биографии Молотова // Хронос\\n \\n \\n Жорес Медведев. Соломон Лозовский, Полина Жемчужина и Вячеслав Молотов. Сталин и еврейская проблема. Новый анализ // Скепсис\\n «Пощадите же родину и нас»… Переписка академика И.\\xa0П.\\xa0Павлова с председателем СНК В.\\xa0М.\\xa0Молотовым\\n Аудио\\n Послушать Объявление о начале Великой Отечественной войны\\n Запись беседы Народного комиссара иностранных дел СССР В.\\xa0М.\\xa0Молотова с послом Японии в СССР С. Того // Руниверс\\n\\nБольшевики\\nРеволюционеры России\\nСосланные в Вологодскую губернию\\nСосланные в Вологду\\nСосланные в Сибирь\\nДелегаты VI съезда РСДРП(б)\\nДелегаты VIII съезда РКП(б)\\nДелегаты IX съезда РКП(б)\\nДелегаты X съезда РКП(б)\\nДелегаты XI съезда РКП(б)\\nДелегаты XII съезда РКП(б)\\nДелегаты XIII съезда РКП(б)\\nДелегаты XIV съезда ВКП(б)\\nДелегаты XV съезда ВКП(б)\\nДелегаты XVI съезда ВКП(б)\\nДелегаты XVIII съезда ВКП(б)\\nДелегаты XVII съезда ВКП(б)\\nДелегаты XIX съезда КПСС\\nДелегаты XX съезда КПСС\\nДелегаты VII конференции РСДРП(б)\\nДелегаты VIII конференции РКП(б)\\nДелегаты IX конференции РКП(б)\\nДелегаты X конференции РКП(б)\\nДелегаты XI конференции РКП(б)\\nДелегаты XII конференции РКП(б)\\nДелегаты XIII конференции РКП(б)\\nДелегаты XIV конференции РКП(б)\\nДелегаты XV конференции ВКП(б)\\nДелегаты XVI конференции ВКП(б)\\nДелегаты XVII конференции ВКП(б)\\nДелегаты XVIII конференции ВКП(б)\\nНародные комиссары иностранных дел СССР\\nМинистры государственного контроля СССР\\nМинистры иностранных дел СССР\\nПослы СССР в Монголии\\nВосстановленные в КПСС\\nЧлены ЦК КПСС\\nЧлены Политбюро ЦК КПСС\\nКандидаты в члены Политбюро ЦК КПСС\\nСекретари ЦК КПСС\\nЧлены Исполкома Коминтерна\\nПредседатели Совета народных комиссаров СССР\\nПочётные члены АН СССР\\nПолитики, известные под псевдонимами\\nДепутаты Совета Союза 1-го созыва\\nДепутаты Совета Союза 2-го созыва\\nДепутаты Совета Союза 3-го созыва\\nДепутаты Совета Союза 4-го созыва\\nДепутаты Совета Союза от Москвы\\n\\nДепутаты Верховного Совета Башкирской АССР первого созыва\\nДепутаты Верховного Совета Башкирской АССР второго созыва\\nДепутаты Верховного Совета Башкирской АССР третьего созыва\\nДепутаты Верховного Совета Карельской АССР\\nПредседатели Горьковского облисполкома\\nЧлены Президиума ВЦИК\\nЧлены Президиума ЦИК СССР\\nЧлены Оргбюро ЦК ВКП(б)\\nПервые заместители председателя Совета министров СССР\\nПервые секретари Московского обкома КПСС\\nПостоянные представители СССР при МАГАТЭ\\nДепутаты Верховного Совета РСФСР 1-го созыва\\nДепутаты Верховного Совета РСФСР 2-го созыва\\nДепутаты Верховного Совета РСФСР 3-го созыва\\nДепутаты Верховного Совета РСФСР 4-го созыва\\nПервые секретари Московского горкома КПСС\\nЧлены Политбюро ЦК КП Украины\\nВыпускники Санкт-Петербургского политехнического института (до 1917 года)\\nДепутаты Верховного Совета Украинской ССР 1-го созыва\\nДепутаты Верховного Совета Грузинской ССР 2-го созыва\\nДепутаты Верховного Совета АССР Немцев Поволжья\\nДепутаты Верховного Совета Чечено-Ингушской АССР\\nДепутаты Верховного Совета Удмуртской АССР\\nДепутаты Верховного Совета Северо-Осетинской АССР\\nДепутаты Верховного Совета Мордовской АССР\\nДепутаты Верховного Совета Молдавской АССР\\nДепутаты Верховного Совета Марийской АССР\\nДепутаты Верховного Совета Коми АССР\\nДепутаты Верховного Совета Калмыцкой АССР\\nДепутаты Верховного Совета Кабардино-Балкарской АССР\\nДепутаты Верховного Совета Дагестанской АССР\\nДепутаты Верховного Совета Казахской ССР 2-го созыва\\nДепутаты Верховного Совета Казахской ССР 3-го созыва\\nДепутаты Верховного Совета Казахской ССР 4-го созыва\\nДепутаты Верховного Совета Таджикской ССР 1-го созыва\\nДепутаты Верховного Совета Белорусской ССР 1-го созыва\\nДепутаты Верховного Совета Азербайджанской ССР 1-го созыва\\nИску́сственные языки́\\xa0— языки, созданные для воплощения некой цели: иллюстрации философской концепции, проведения экспериментов, международного общения (плановые языки), для использования в художественном произведении или в качестве хобби. Искусственные языки противопоставляются естественным, которые возникают в сообществе, не ставящем себе целью разработку языка. Искусственных языков существует более тысячи, постоянно создаются новые. На них выходит периодика, публикуют литературу, создают музыку.\\n\\nОпределение и классификация \\n\\nОпределить понятие «искусственные языки» может быть затруднительно. Это языки, которые возникли не сами собой (как естественные), не из коммуникативной нужды (как пиджины и креольские), но которые нужны для бытового общения людей (в отличие от языков программирования и других научно-технических систем); в то же время они представляют собой не обособленную группу, а один из полюсов спектра: естественные языки могут подвергаться стандартизации и другим видам языкового планирования, изменяясь до такой степени, что становятся близки к искусственным языкам.\\n\\nИскусственные языки обычно делят по двум критериям: методике и причине создания. Выделяют априорные (созданные с нуля) и апостериорные (основанные на других) искусственные языки, а также международные вспомогательные языки для коммуникации, вымышленные языки из вымышленных вселенных и , созданные для научных или философских целей. В отличие от пиджинов, искусственные языки создаются намеренно, обычно\\xa0— одним человеком, коллективное языкотворчество встречается значительно реже.\\n\\nЕщё искусственные языки можно разделить по степени зависимости от естественных языков: натуралистичные призваны имитировать естественные языки, тогда как схематичные стремятся к максимальной стройности своих парадигм и минимальному количеству исключений из правил. В некоторых случаях искусственный язык фактически является контролируемым регистром естественного языка, таким как бейсик-инглиш, хотя отнесение этих идиомов к языкам вызывает споры. Также существуют искусственные языки, основанные на других искусственных языках, обычно из-за раскола в сообществе; именно так от эсперанто откололись идо, эксельсиоро, эсперанто-сен-флексио, современный эсперанто, а от идо\\xa0— идо-аванцит; языки «семьи волапюка»\\xa0— балта, велтпарл и идиом-неутраль.\\n\\nСтандарт ISO 639-2 содержит код art для обозначения искусственных языков. Однако некоторые искусственные языки имеют свои собственные коды ISO 639 (например, eo и epo для эсперанто, jbo для ложбана, ia и ina для интерлингвы, tlh для клингонского языка и io и ido для идо).\\n\\nСоздание \\nМногие искусственные языки не обладают полнотой естественных: они могут иметь очень ограниченный словарь, обладать упрощённой грамматикой или вовсе не иметь фонетики (в частности, многие из искусственных языков XVII и XVIII веков были пазиграфными или чисто письменными языками); в этом случае их называют «миниатюрными искусственными языками».\\n\\nНекоторые создатели языков сперва придумывают письменность, а затем на её основе разрабатывают грамматику (у естественных языков письменность всегда вторична), другие разрабатывают орфографию после грамматики, а третьи делают оба дела одновременно. Помимо письменности к языку могут создавать также различные шрифты и использовать их в иллюстрациях. В то же время письменность может вовсе не иметь никакого отношения к языку и присутствовать исключительно для эстетического эффекта, как клингонское письмо или письмо инопланетян из фильма «Прибытие».\\n\\nИстория \\nДо XVII столетия искусственные языки создавались крайне редко, обычно им приписывались сверхъестественные свойства. Следующий возникший вид искусственных языков\\xa0— философские, они начали появляться в XVII веке. Затем во второй половине XIX столетия возникло несколько международных языков. В начале XX века стали появляться языки, замышлявшиеся как важная часть художественных произведений; позднее из этой разновидности возникло создание языков для удовольствия. Самый недавний вид искусственных языков появился для проведения психолингвистических экспериментов.\\n\\nРанние языки \\n\\nОднозначно установить, когда был создан первый искусственный язык, невозможно; вероятно, языки создают столько же времени, сколько они существуют. Самые ранние известные искусственные языки считали «сверхъестественными», мистическими, или божественно вдохновлёнными. Язык Lingua Ignota, созданный в XII веке монахиней Хильдегардой Бингенской для общения с Богом, стал первым сохранившимся полностью искусственным языком. Создатели енохианского языка, оккультисты Джон Ди и Эдвард Келли, также пытались с его помощью получать сообщения от ангелов. Примером из османской культуры служит язык Балейбелен, изобретённый в XVI веке. Музыкальные языки Возрождения были связаны с мистикой, волшебством и алхимией и иногда также назывались языком птиц.\\n\\nУниверсальные языки \\n\\nФилософские языки именуются также универсальными\\xa0— их целью является улучшение коммуникации, создание логичной универсальной системы для общения, которая бы при этом имела минимальную избыточность. Авторы философских языков опирались на идеи Возрождения о рациональности и познании как высшем стремлении человека. Кроме того, авторы философских языков часто считали, что «лучший» язык улучшит и мышление (гипотеза Сепира — Уорфа). Временем их расцвета был XVII век, однако ни один из языков этого типа не завоевал популярности.\\n\\nНаиболее известный язык этого типа принадлежит Джону Уилкинсу, он предпринял попытку создания языка на основе иерархической семантической классификации и описал свои соображения в трактате «Опыт о подлинной символике и философском языке». Язык Уилкинса использует семантическую классификацию для создания лексики; к примеру, слова «собака» и «волк» в нём этимологически родственны, что сразу же показывает связь между обозначаемыми ими понятиями. Другие известные философские языки того периода создавали , Томас Уркхарт (), Джордж Далгарно.\\n\\nУсилия по составлению иерархической системы человеческих знаний впоследствии привели к появлению французской Энциклопедии, однако Лейбниц и составители Энциклопедии поняли, что невозможно определённо уложить все человеческие знания в древовидную схему, и, следовательно, построить априорный язык, основанный на такой классификации понятий. Д’Аламбер критиковал проекты универсальных языков предыдущего века. Отдельные авторы, как правило, не знавшие об истории идеи, продолжали предлагать таксономические универсальные языки до начала XX века (например, язык ро), но самые последние языки ограничивались конкретной областью, как, например, математический формализм или вычисления (например, линкос и языки программирования), другие были предназначены для устранения синтаксической неоднозначности (например, логлан и ложбан). Языки токипона и ыфкуиль близки к универсальным, однако основной целью первого заявлено «упрощение мышления» и «усиление внимания к деталям», а второго\\xa0— «максимальная точность и максимальная краткость».\\n\\nМногие письменности для универсальных языков XVII века появились под впечатлением европейцев от китайской иероглифической письменности; их создатели считали, что идеальная письменность позволит людям иметь разные устные языки, но общаться между собой на письме.\\n\\nДля лингвистики универсальные языки представляют в основном исторический интерес как пример ранних попыток выделения семантических свойств, однако проект Уилкинса выделяется среди них благодаря интересу к произвольности языкового знака и стремлению его преодолеть за два века до работ де Соссюра.\\n\\nПлановые языки \\n\\nВ период 1850—1920\\xa0годов в Европе активизировалось создание плановых языков, чьей задачей было позволить людям, говорящим на разных языках, общаться между собой; в среднем в эти годы публиковали по три языка в год, а в 1886—1916\\xa0годы суммарно вышло 150 международных языков. Причиной этого стало появление железных дорог, почтовой и телеграфной связи, что вызвало резкое увеличение транспортной и информационной связности Европы, а следовательно,\\xa0— и возможностей для общения.\\n\\nЯзык сольресоль, созданный в 1866\\xa0году и использовавший для коммуникации музыкальные ноты, завоевал некоторую популярность в последней трети XIX\\xa0века. Первым по-настоящему популярным международным языком стал волапюк, созданный в 1879—1880\\xa0годах священником Иоганном Шлеером. Волапюк имеет богатую парадигму склонения существительных,\\xa0— суффиксы для четырёх падежей и двух чисел,\\xa0— и спряжения глаголов\\xa0— приставки для выражения видовременных значений и залога, а также суффиксы для лица, числа и наклонения.\\n\\nВ 1887\\xa0году Людвик Лазарь Заменгоф опубликовал описание самого успешного искусственного языка\\xa0— эсперанто. Он напоминает волапюк, хотя содержит меньше словоизменительной морфологии, а в лексике у него сильнее влияние латыни и её современных потомков. В 1907\\xa0году вышел идо, производный от эсперанто, который почти полностью избавился от словоизменения, а в 1928\\xa0— новиаль, перешедший к аналитизму и в глагольной морфологии.\\n\\nУ всех вышеуказанных языков появилось большое количество пользователей, и по состоянию на 2023\\xa0год лишь волапюк почти полностью растерял популярность. Систематического учёта носителей искусственных языков не ведётся, и их число можно назвать лишь приблизительно. Согласно справочнику Этнолог, с рождения на эсперанто говорит 200—2000 человек. Почти все они получают непоследовательные и фрагментарные данные от родителей (почти всегда\\xa0— отца) и утрачивают язык к подростковому возрасту, являясь по факту эритажными носителями эсперанто.\\n\\nС точки зрения структуры плановые языки в основном напоминают естественные, так как они создаются для изучения взрослыми людьми; это важное отличие от философских языков. Почти все ранние европейские международные языки имеют типично-европейскую фонологию (с противопоставлением звонких и глухих согласных и частыми стечениями согласных), порядок слов SVO, правое  и перенос  в начало предложения в специальных вопросах; у них крайне регулярная морфология, обычно агглютинативная, а лексика взята из крупных европейских языков. Большинство международных языков имитирует естественные языки романской ветви индоевропейской семьи (для них появился даже уничижительный термин «евроклон»), однако существует отдельный класс международных славянских языков, включая словио и межславянский язык, а также как минимум два панафриканских языка: африхили и .\\n\\nДля лингвистики языки этой категории предоставляют материал для изучения языковых универсалий и реакции на нарушение ожиданий: так, грамматика волапюка более необычна, чем грамматика эсперанто (например, там суффикс падежа предшествует суффису числа), это может быть одной из причин, по которой первый считают более сложным, чем второй. Сравнение скорости усвоения близких языков с разными стратегиями словообразования, таких как эсперанто и интерлингва, может быть полезно для сравнения усвоения языка у детей и взрослых.\\n\\nРазвитие международных языков также повторяет развитие лингвистики как науки: в волапюке отмечается влияние младограмматиков, структуралист Рене де Соссюр работал над эсперанто, Отто Есперсен был увлечён идо и создал новиаль, и так далее. При этом в дальнейшем лингвисты в основном отошли от создания искусственных языков, и даже проявляли неприязнь к этому занятию, хотя в конце XX столетия многие лингвисты вновь обратились к вымышленным языкам.\\n\\nИнтерлингвистика практически не касается лингвистики и не находится с ней в диалоге.\\n\\nВымышленные языки \\n\\nЯзыки, созданные для использования в художественных произведениях, начинают появляться в ранней современной литературе (в «Гаргантюа и Пантагрюэле», в утопиях), но получают известность в качестве серьёзных проектов только в начале XX века. Ранним примером романа с придуманным для него языком была «Принцесса Марса» Эдгара Берроуза.\\n\\nТолчок развитию вымышленных языков дал Джон Толкин: филологическое образование позволяло ему создавать натуралистичные языки с нуля, дополняя мир своих произведений новыми уровнями глубины и проработки. Толкина заботили эстетические черты его языков, в особенности их звучание. Он был первым учёным, который стал обсуждать художественные языки публично, и прочёл лекцию под названием «» на конгрессе в 1931 году, в которой также высказал идею о создании языков для развлечения. С 1880-х годов и до лекции Толкина считалось, что создание языков следует держать в тайне (отсюда и название лекции). Его подход, при котором вымышленный язык обогащает придуманный мир, постепенно завоевал популярность среди фантастов, а популяризаторская деятельность Толкина заложила основу для появившегося в 1990-х годах сообщества людей, занятых созданием языков,\\xa0— конлангеров.\\n\\nОдним из первых вымышленных языков современного поколения был пакуни, созданный Викторией Фромкин для детского телесериала , далее появились клингонский язык Марка Окранда, на’ви\\xa0— Пола Фроммера, дотракийский и язык фременов\\xa0— Дэвида Питерсона; существует и множество других, в том числе разрабатываемых фанатами после выхода произведений из отдельных слов, которые там прозвучали. Вымышленные языки часто создаются очень тщательно и подробно описаны, их авторы изучают лингвистическую типологию, выбирая из неё понравившиеся особенности; все примеры, приведённые в прошлом предложении, созданы лингвистами, причём Виктория Фромкин относится к выдающимся учёным этой науки.\\n\\nВвиду малого количества говорящих вымышленные языки вызывают ограниченный интерес лингвистов, хотя существуют научные статьи, посвящённые, например, усвоению клингонской просодии и сравнению разных искусственных языков между собой. В исследовании клингонского, на’ви, дотракийского и квеньи на следование языковым универсалиям Гринберга был сделан вывод о том, что дотракийский и квенья наиболее натуралистичны, на’ви натуралистичен, но выглядит как нетипичный естественный язык, тогда как клингонский нарушает так много универсалий, что его невозможно назвать натуралистичным (в нём имеется несколько типологических шуток). Журнал Fiat Lingua регулярно публикует обзоры искусственных языков, созданных энтузиастами.\\n\\nЯзыки для научных целей \\nДля проведения психолингвистических экспериментов по усвоению языка оказываются очень удобны именно искусственные языки, которые можно создавать с любыми чётко заданными параметрами, полностью контролируя также весь подаваемый испытуемым объём данных. Это позволяет тестировать детей и взрослых почти что идентичным образом. К примеру, если дать испытуемым данные двух языков, в одном из которых множественное число обычно образуется регулярно, одним и тем же суффиксом, а во втором нерегулярное склонение встречается примерно в половине случаев, дети пытаются применять ко всем новым словам первого (но не второго) языка регулярный суффикс, а взрослые пытаются понять вероятность использования суффикса в обоих языках.\\n\\nИскусственные языки также могут иметь педагогическую ценность для усвоения естественных: в экспериментах было показано, что изучение эсперанто упрощает изучение последующих языков, однако экспериментального сравнения между обучением эсперанто и обучением другому естественному языку перед целевым естественным языком не проводилось. Обучение говорящих на индоевропейских языках Европы эсперанто в качестве подготовки перед преподаванием других языков носит название .\\n\\nИзвестны случаи применения искусственных языков в обучении лингвистике как дисциплине: их лексика может использоваться для лингвистических задач, а создание своего языка быть заданием для курса любого уровня. Учебник лингвистической антропологии The Anthropology of Language: An Introduction to Linguistic Anthropology содержит такое задание с первого издания.\\n\\nПлановые языки и языковое планирование \\nВозрождаемые языки часто имеют много общего с искусственными. Так, современный иврит был основан на древнееврейском языке, а не создан с нуля, но он претерпел значительные изменения. Вследствие этого некоторые лингвисты, включая Гилада Цукермана, утверждают, что современный иврит основан не только на иврите, но и на идише и других языках, на которых говорят последователи движения за возрождение иврита. Аналогичные соображения высказывались о создании новой лексики и для других возрождаемых языков, в частности, корнского и маори.\\n\\nИскусственные языки, получившие достаточное распространение, начинают развиваться похоже на естественные, хотя и не подвергаются креолизации, как пиджины. Эсперанто как современный разговорный язык значительно отличается от первоначального варианта, опубликованного в 1887 году, так что современные выпуски грамматики, Fundamenta Krestomatio, созданной в 1903 году, требуют множества сносок на синтаксические и лексические различия между ранним и современным эсперанто. Эсперанто сравнивают с искусственным международным жестовым языком джестуно и появившимся в 1970-е естественным никарагуанским жестовым языком.\\n\\nДругая область, в которой искусственные языки можно сравнить с возрождаемыми,\\xa0— это недостаток данных прагматики при документации существующих и разработке новых языков. Многие создатели упускают невербальную информацию: жесты, выражения лица и так далее; эти же аспекты общения обычно не попадают и в грамматики угасающих языков.\\n\\nСообщества искусственных языков \\n\\nМногие известные создатели искусственных языков подчёркивали социальный характер этой деятельности: Толкин утверждал, что аудитория\\xa0— необходимая завершающая часть процесса создания языка, а Заменгоф изначально создал эсперанто в надежде на появление утопии, в которой все друг друга понимают.\\n\\nБольшинство искусственных языков создаётся одним человеком. В то же время есть языки, которые созданы группой людей, например язык интерлингва, разработанный Международной ассоциацией вспомогательного языка и ложбан, созданный Группой логического языка. Возможно и расширение круга создателей: талосский язык, культурная основа для виртуального государства под названием Талосса, был создан в 1979\\xa0году одним автором, но в 1983 его разработкой занялись Комитет по использованию талосского языка и другие организации энтузиастов.\\n\\nВ 1970—1990-е годы появилось несколько журналов об искусственных языках, например: Glossopoeic Quarterly, Taboo Jadoo и The Journal of Planned Languages. Основанная в 1991\\xa0году почтовая рассылка Conlang Listerv позволила множеству создателей языков начать обсуждать процесс создания языков, делиться отзывами на языки друг друга и учиться новому. С 2006\\xa0года раз в два года проходит специализированная конференция Language Creation Conference, участники которой в 2007\\xa0году учредили Language Creation Society , выпускающее журнал Fiat Lingua.\\n\\nНа форумах участники обсуждают философские и лингвистические вопросы, например, обладают ли определённые искусственные языки функциями естественного языка, и какие интересные функции естественных языков можно использовать применительно к искусственным языкам; на этих форумах размещают короткие тексты, интересные переводческие задачи, а также ведутся дискуссии о философии искусственных языков и целях участников этих сообществ. Антропологи отмечают, что сообщества создателей и любителей искусственных языков обычно не имеют внутренней культуры и собственных ценностей, единственным объединяющим фактором в них является владение искусственным языком, либо сам факт интереса к ним; исключением является Эсперантия. Другой язык, вокруг которого существует крупное сообщество,\\xa0— клингонский, с 1991\\xa0года работает Институт клингонского языка, публикующий обучающие и лингвистические материалы, переводы, а также организующий мероприятия.\\n\\nМногие люди, изучившие искусственные языки в какой-то мере, заявляют о влиянии этого опыта на их жизнь: это отмечали, в частности, говорящие на эсперанто и дотракийском. Писательница  создала язык лаадан для своего романа  и высказывала желание, чтобы лаадан помог феминистскому движению; позже она признала, что её эксперимент потерпел неудачу, однако маркеры эвиденциальности лаадана были заимствованы в язык ложбан.\\n\\nБольшинство создателей искусственных языков живёт в Европе и Северной Америке.\\n\\nАвторское право \\nСуществование сообщества говорящих важно для юридического статуса искусственного языка; в 2016 году Paramount Pictures и CBS Studies попытались засудить создателей фанатского фильма Axanar, поставленного во вселенной Star Trek, за нарушение копирайта на клингонский язык. Авторы фильма с помощью Language Creation Society смогли доказать, что язык используется в сообществе, а следовательно не может защищаться авторским правом.\\n\\nПримечания\\n\\nКомментарии\\n\\nСноски\\n\\nЛитература\\n\\nСсылки \\n\\n \\n Статьи о конструировании языков\\n \\n \\n\\nИскусственные языки\\nИнтерлингвистика\\nИнтерли́нгва (Interlingua)\\xa0— международный вспомогательный язык, разработанный в 1936—1951 годах Международной ассоциацией вспомогательного языка (IALA) под руководством Александра Гоуда. Интерлингва IALA\\xa0— это результат работы большого коллектива европейских и американских учёных-лингвистов. Словарный состав языка интерлингва включает в себя слова, имеющие латинские корни, а также международную лексику, взятую из итальянского, испанского, португальского, французского, английского, немецкого и русского языков.\\n\\nТак как в языке интерлингва используются не искусственно придуманные корни слов, как во многих других искусственных языках, а действительно существующие индоевропейские корни, интерлингва может быть понятен огромному числу людей во всём мире, в особенности тем, кто говорит на каком-либо романском языке. Тем не менее на данный момент количество людей, активно говорящих на интерлингве, не так велико, и в этом отношении интерлингва во многом уступает международному языку эсперанто.\\n\\nПример текста \\n«Отче наш»\\n\\nСм. также \\n Окциденталь\\n\\nПримечания\\n\\nЛитература \\n Alexander Gode, Hugh Blair A Grammar of Interligua\\n Alexander Gode Interlingua-English: A Dictionary of the International Language\\n British Interlingua Society\\xa0— Interlingua Institute Concise English-Interlingua Dictionary\\n\\nСсылки \\n\\n Union Mundial pro Interlingua\\n Интерлингва в России\\n Сайт Сергея Носова\\xa0— учебник, словари\\n Interlingua.narod.ru\\n Wiktionario\\n \\n\\nИскусственные языки\\nМеждународные вспомогательные языки\\nКо́смос ()\\xa0— проект международного вспомогательного языка Евгения Лауды (Eugene Lauda, Berlin, 1888). Представляет собой упрощённый латинский язык.\\n\\nЛатинские слова берутся в их неизмененной форме именительного падежа единственного или множественного числа: via, divitiae, castra и\\xa0т.\\xa0д. Грамматические отношения выражаются с помощью артикля. Для единственного числа:\\n ta\\xa0— именительный падеж;\\n tio\\xa0— родительный падеж;\\n te\\xa0— дательный падеж.\\n tan\\xa0— винительный падеж.\\n\\nПримеры: ta mensa (стол), tio mensa (стола), te mensa, tan mensa.\\n\\nВо множественном числе прибавляется s: tas mensa, tios mensa и\\xa0т.\\xa0д.\\n\\nСпряжение напоминает индоевропейское; настоящее время: amómi (люблю), amósi (любишь), amóti (любить), множественное число amòmis, amosis, amòtis; прошедшее время: amùmi, amusi, amuti, amumis, amusis, amutis; будущее amámi и\\xa0т.\\xa0д.\\n\\nТаким образом грамматика космоса отличается известной простотой и наглядностью, но звуковая его система мало годится для всеобщего употребления. Так, Лауда отличает ä от e, вводит смешанные и непрочные, a также малораспространённые гласные ö, ü и дифтонги ae, oe, au, eu, ai, ui и\\xa0т.\\xa0д. Впрочем, от некоторых других авторов подобных проектов Лауда отличается в хорошую сторону наличием филологического образования.\\n\\nЛитература \\n \\n \\n\\nИскусственные языки\\nКо́смос (\\xa0— «порядок»), также :\\n\\n Космос — мир, вселенная.\\n Космос (космическое пространство)\\xa0— относительно пустые участки Вселенной, которые лежат вне границ атмосфер небесных тел.\\n \\xa0— род американских травянистых растений семейства Астровые.\\n «Космос» — сметанный торт с глазурью; состоит из трёх коржей с прослойками из крема\\n «Космос»\\xa0— марка сигарет в СССР.\\n\\nПерсоны и персонажи \\n Космос\\xa0— персонаж вымышленной «Вселенной трансформеров», одно из действующих лиц мультсериала «Трансформеры G1» и ряда комиксов о трансформерах.\\n Космос Юрьевич Холмогоров — персонаж и главный герой актёра Дмитрия Дюжева в сериале «Бригада».\\n\\nСМИ, культура, искусство \\n Космос\\xa0— один из международных искусственных языков.\\n Космос\\xa0— собирательный термин для памятных монет ЦБ РФ.\\n Космос — понятие древнегреческой философии и культуры, представление о природном мире как о пластически упорядоченном гармоническом целом; миропорядок, упорядоченная Вселенная в противоположность хаосу.\\n «Космос»\\xa0— дуб в Московском Кремле, посаженный Юрием Гагариным в честь первого полёта человека в космос.\\n\\nСМИ \\n «Космос-10» — первый российский музыкальный телеканал.\\n «Космос»\\xa0— научно-популярная книга Карла Сагана, астронома и лауреата Пулитцеровской премии, изданная в 1980 году.\\n\\nФильмы, сериалы \\n «Космос»\\xa0— девятый эпизод первого сезона фантастического сериала «Секретные материалы».\\n «Космос» — канадский драматический фильм.\\n «» — турецко-болгарский драматический фильм.\\n «Космос»\\xa0— фильм 2015 года режиссёра Анджея Жулавского совместного франко-португальского производства.\\n\\nМузыка \\n «Космос»\\xa0— третий студийный альбом российской рок-группы «Элизиум», выпущенный лейблом «АиБ Records» 1 апреля 2003 года.\\n Cosmos\\xa0— латвийская а-капельная группа, созданная в Риге в 2002 году.\\n\\nПримечания\\n\\nЛитература \\n «» — 17-серийный роман, опубликованный в Science Fiction Digest (позже Fantasy Magazine) в 1933—1934 годах.\\n «Космос» (1965) — роман Витольда Гомбровича.\\n\\nВ науке и технике \\n «Космос»\\xa0— название советских и российских искусственных спутников Земли, запускавшихся в СССР с 16 марта 1962 для изучения космоса, решения технических проблем, отработки систем космических аппаратов.\\n «Космос-954»\\n «Космос»\\xa0— разработанные в СССР двухступенчатые ракеты-носители для запуска искусственных спутников Земли серии «Космос».\\n «Космос-3М»\\n «Космос»\\xa0— миниатюрный радиоприёмник Сарапульского радиозавода.\\n Cosmos\\xa0— операционная система с открытым кодом, написанная на C#.\\n\\nОрганизации \\n «Космос» — российская авиакомпания.\\n «Космос» (бренд)\\xa0— производитель батареек, ламп, фонарей, светильников, беспроводных звонков и другой электротехники.\\n «Космос»\\xa0— музей в Ярославской области, посвящённый Валентине Терешковой.\\n «Космос»\\xa0— гостиничный комплекс в Москве.\\n «Космос»\\xa0— донецкий государственный цирк.\\n «Космос» — русская масонская ложа во Франции.\\n\\nКинотеатры \\n «Космос»\\xa0— кинотеатр в Симферополе, Россия.\\n «Космос»\\xa0— киноконцертный театр в Екатеринбурге, Россия.\\n «Космос»\\xa0— до 1982 года\\xa0— кинотеатр в Киеве, Украина.\\n «Космос»\\xa0— кинотеатр в Таллине, Эстония. Памятник культуры.\\n\\nФутбольные клубы \\n «Космос» (Долгопрудный)\\xa0— российский футбольный клуб.\\n «Космос» (Долгопрудный, Электросталь, Егорьевск)\\xa0— название клуба «Сатурн-2» в 1991—2003 годах.\\n «Космос» (Серравалле)\\xa0— футбольный клуб из Сан-Марино.\\n «Космос» (Павлоград)\\xa0— бывший футбольный клуб из Казахстана.\\n «Космос» (Санкт-Петербург)\\xa0— название футбольного клуба «Кировец» в 1993 году.\\n «Нива-Космос» (Мироновка) — бывший футбольный клуб из Киевской области.\\n «Нью-Йорк Космос»\\xa0— бывший футбольный клуб из США.\\n «Нью-Йорк Космос» — современный футбольный клуб из США.\\n\\nТопоним \\n Башня «Космос»\\xa0— небоскрёб в Мадриде (Испания).\\n «Космос»\\xa0— 32-й павильон на ВДНХ в Москве.\\n «Космос»\\xa0— железнодорожная станция на ветке Домодедово-Аэропорт Павелецкого направления МЖД.\\n «Космос»\\xa0— домашняя арена мужского волейбольного клуба «Белогорье».\\n «Космос» — театрально-зрелищное учреждение культуры, расположенное в Ленинском районе Донецка.\\n\\nНаселённые пункты \\n Космос\\xa0— село в Енбекшиказахском районе Алматинской области Казахстана.\\n Космос\\xa0— город в округе Микер, штат Миннесота, США.\\n Космос\\xa0— тауншип в округе Микер, Миннесота, США.\\n\\nСм. также \\n\\n \\n Космос-1 (солнечный парус)\\n В Космос!\\n Вселенная\\nЭто статья об искусственном языке. О способах записи русских слов латиницей см. статьи Транслитерация, Транслит.\\n\\nВолапю́к, или воляпюк (: от  «мир» в род. падеже + \\xa0— язык, то есть «мировой язык»),\\xa0— международный искусственный социализованный язык (см. плановый язык), созданный в 1879 году немецким католическим священником Иоганном Мартином Шлейером (). Сейчас используется вариант волапюка, реформированный Ари де Йонгом () в 1929 году и представленный широкой публике в 1931 году.\\n\\nЯзык\\n\\nАлфавит и чтение \\n\\nАлфавит волапюка построен на основе латинского, состоит из 27 знаков:\\n\\nФонология, за исключением умлаутов, простая. Звук [r] и сложные сочетания согласных встречаются нечасто, что должно было облегчить произношение детям, а также китайцам (ханьцам) и другим народам, в языке которых такие звуки очень редки или вообще отсутствуют. Ударение всегда падает на последний слог, за исключением вопросительной частицы «-li».\\n\\nЧтение букв c, j, s, x, z. Из парных по звонкости/глухости звуков, ассоциирующихся с этими буквами, в современном волапюке предпочитается звонкий: c читается как j в английских словах joy, justice, j\\xa0— как s в английском pleasure или j во французском jardin (соответствует русской ж), s\\xa0— как s в немецком reisen (соответствует русской з), x\\xa0— как x в английском example или как gz как в английском zigzag (соответствует русскому кc и гз соответственно), z\\xa0— как ds в английском birds или zz в итальянском mezzo (соответствует русскому дз и дс).\\nДо реформы Де Йонга чтение букв j, s, x, z было другим: j произносилось как sh в английском shame или ch во французском cher (соответствует русской ш), s\\xa0— как s в английском sole (соответствует русской с; звук, обозначаемый этой буквой, мог в словах волапюка озвончаться между двумя гласными и в сочетаниях bs, ds, gs, ls, которые образовывались на конце слов множественного числа), x\\xa0— как x в английском expect (соответствует русскому кс), z\\xa0— как z в немецком Zeug (соответствует русской ц) или как dz (соответствует русскому дз).\\n\\nДополнительные буквы \\nНаряду с алфавитом из 27 букв, в текстах современного волапюка используются для написания собственных имён и передачи других слов естественных языков ещё два алфавита: 1) фонетический (список букв из официальной «Грамматики волапюка» содержит символы для отображения 64 основных звукотипов; гласные буквы могут сочетаться с диакритиками для отображения ударности/безударности соответствующих звуков) и 2) латинский, включающий не только символы латинского алфавита, но и все дополнительные буквы из алфавитов на латинской графической основе. Латинский алфавит используется для передачи собственных имён, а также иностранных слов, в соответствии с оригинальным написанием; в квадратных скобках после собственных имён или варваризмов может приводиться их транскрипция, записанная фонетическим алфавитом, например:\\n\\nBelödans ela London [lǻndĕn] nemons hielis ‚Yeomen of the Guards’ [yóŭmĕn óf ħĕ gar̊z] cogiko nog suvo elis ‚Beefeaters’ [bìfitĕr̊s].\\xa0— Жители Лондона ещё часто шутливо называют лейб-гвардейцев «бифитерами» (мясоедами).\\n\\nФонетический алфавит (волапюкский аналог МФА), предложенный Де Йонгом в «Грамматике волапюка», восходит к фонетическому алфавиту из 38 букв, разработанному И.\\xa0М.\\xa0Шлейером для передачи в волапюкских текстах собственных имён. Помимо символов волапюкского алфавита, он содержал 11 дополнительных:\\n å\\xa0— читается как a в английском all;\\n ħ\\xa0— th в английском the;\\n ŋ или ᶯ\\xa0— английский и немецкий носовой ng, как в немецком sang;\\n ƈ или c̄\\xa0— ch в английском child (русская ч);\\n ſ\\xa0— читается как немецкая буква ß, например в слове Fleiß;\\n курсивное l с петелькой наверху\\xa0— ll во французском fille;\\n rr\\xa0— rr в испанском Siérra;\\n m̂\\xa0— носовой во французском nom;\\n n̂\\xa0— носовой во французском mon;\\n ȷ\\xa0— j во французском je (русская ж);\\n дасия, часто заменявшаяся зеркальным апострофом (‛)\\xa0— густое придыхание, немецкая и эсперантская h.\\nДо 1887\\xa0г. дасия и h входили в основной алфавит волапюка и употреблялись соответственно вместо немецких h и ch (соответствует русскому х, эсперантскому ĥ). Таким образом, первоначально алфавит волапюка состоял из 28 букв, дасия и h обозначали разные фонемы. Ещё во втором издании словаря волапюка Шлейера (1882) употребляются обе буквы: ‛öl (ад), hemav (химия). В третьем издании словаря волапюка Шлейера (1885) употребляется преимущественно дасия, h встречается только в собственных именах. В ходе Второго Международного съезда волапюкистов (1887) было принято решение сохранить из этих двух в алфавите волапюка только одну букву\\xa0— h.\\n\\nВ отличие от норм современного волапюка, Шлейер предлагал в первую очередь писать выполненную фонетическим алфавитом транскрипцию, а в скобках приводить, в случае необходимости, оригинальное написание. Шлейер писал на своем фонетическом алфавите даже небольшие тексты на немецком языке (например, предисловие к 3 изданию словаря волапюка).\\n\\nОгюст Керкгоффс, как и большинство волапюкистов, проигнорировал фонетический алфавит Шлейера по следующим причинам:\\n этот алфавит не был совершенен и не мог служить своим целям (в нём отсутствовали знаки для звуков многих языков, например, не было буквы, аналогичной русской ы);\\n употребление дополнительных букв делало текст внешне неэстетичным, хаотичным (в изданиях самого Шлейера хаос усугублялся сочетанием волапюка и немецкого языка, причём для волапюка использовался шрифт антиква, а для немецкого\\xa0— готический);\\n многие волапюкисты путали чтение похожих букв волапюкского и фонетического алфавитов, в особенности j с точкой и без точки и c и ƈ. Например, почти во всех русских руководствах по изучению волапюка утверждалось, что волапюкская буква c соответствует русской ч.\\n\\nАльфред Пост (Alfred A. Post) приводит в своей книге «Comprehensive Volapük Grammar» некоторые дополнительные буквы, созданные Шлейером:\\n\\nЗвук [r] \\nПервоначально Мартин Шлейер хотел полностью исключить этот звук из алфавита, но позже стал добавлять в язык всё больше «новых слов», многие из которых содержали звук «р». В 1895 году он опубликовал в журнале «Kosmopolan» список так называемых «новых слов», в большинстве из них присутствовал этот звук.\\n\\nЭтимология и грамматика \\nБольшинство корней в волапюке взято из английского и французского языков, но перестроено в соответствии с ограничениями на состав фонем и строение корня в волапюке, а также с целью избежать омонимии (совпадений с уже имеющимися корнями). Кроме этого, Шлейер стремился сделать лексикон волапюка самостоятельным, лишённым отпечатков языков\\xa0— источников слов. В результате многие корни стали радикально, иногда до неузнаваемости, отличаться от своих этимонов. Например, английские world («мир») и speak («говорить») превратились в vol и pük, давшие название новому языку.\\n\\nНеобычная переделка международной лексики вызывала насмешки в прессе, само слово волапюк стало во многих языках синонимом чего-то неестественного (в компьютерном сленге так иногда называют набор русских слов латинскими буквами, транслит).\\n\\nВолапюк относится к агглютинативным языкам номинативного строя, принадлежит к искусственным языкам смешанного (априорно-апостериорного) типа, грамматика имеет синтетический характер и включает большое число именных и глагольных категорий (2 числа, 4 падежа, 3 лица, 6 времен, 4 наклонения, 2 вида и 2 залога).\\n\\nСуществительное \\nСуществительное склоняется по четырём падежам:\\n Именительный падеж\\xa0— нулевое окончание: dom («дом»), vol («мир»);\\n Родительный падеж\\xa0— окончание «a»: doma («дома»), vola («мира»);\\n Дательный падеж\\xa0— окончание «e»: dome («дому»), vole («миру»);\\n Винительный падеж\\xa0— окончание «i»: domi («дом»), voli («мир»);\\n Во множественном числе соответственно\\xa0— doms, domas, domes, domis.\\nНекоторые также выделяют в волапюке звательный падеж, обозначаемый восклицанием и частицей o: o böd(s)!\\xa0— «о птица (птицы)!».\\n\\nГлагол \\nУ волапюка сложная система образования глаголов и различных глагольных форм, но почти все они опциональны и необязательны к употреблению. Так, лично-числовые суффиксы глагола совпадают по форме с соответствующими местоимениями, например:\\n Местоимение ob(s)\\xa0— «я (мы)», при присоединении к корню löf («любовь») получается глагол löfob(s) («люблю, лю́бим»);\\n Местоимение ol(s)\\xa0— «ты (вы)») löfol(s)\\xa0— «любишь, лю́бите»;\\n Местоимение om(s)\\xa0— «он (они, мужчины)» löfom(s)\\xa0— «любит мужчина, любят мужчины»;\\n Местоимение of(s)\\xa0— «она (они, женщины)» löfof(s)\\xa0— «любит женщина, любят женщины»;\\n Местоимение on(s)\\xa0— в первой версии языка\\xa0— неопределённое местоимение, «что-то», во второй версии\\xa0— средний род, «оно (они среднего рода)», при присоединении в качестве суффикса получается löfon(s)\\xa0— «любит что-то (любят кто-то)» в первой версии и «любит оно, любят кто-то (среднего рода)»\\xa0— во второй;\\n Местоимение oy(s)\\xa0— введено реформой Де Йонга, заменило неопределённое местоимение из первой версии волапюка, означает то же, что и on(s) в первой версии («что-то»), при присоединении в качестве суффикса получается löfoy(s)\\xa0— «любит что-то (любят кто-то)».\\nИзменение по временам и наклонениям происходит с помощью постфиксов и префиксов:\\nНеперфектные формы, префиксы ä-, a- и o-:\\n Прошлое: älöfom\\xa0— «он любил»;\\n Настоящее: löfom\\xa0— «он любит» (в действительном залоге показатель настоящего времени не используется);\\n Будущее: olöfom\\xa0— «он будет любить»;\\n Будущее с точки зрения прошедшего: ölöfom\\xa0— «он <думал, что> будет любить» (время введено в язык после реформы Ари де Йонга)\\nПерфектные формы, префиксы i-, e- и u-:\\n Прошлое : ilöfom\\xa0— «он любил ранее»;\\n Настоящее : elöfom\\xa0— «он только что любил»;\\n Будущее : ulöfom\\xa0— «он закончит любить в будущем»;\\nТакже в языке существуют другие формы:\\n Инфинитив, постфикс -ön, löfön\\xa0— «любить»;\\n Причастие, постфикс -öl, löföl\\xa0— «любящий»;\\n Императив (повелительное наклонение), постфикс -öd , löfomöd!\\xa0— «пусть он любит!»;\\n Юссив (ещё более строгое повелительное наклонение), постфикс -öz, löfomöz!\\xa0— «он должен любить сейчас!» (постфикс использовался только в дореформенном волапюке);\\n Кондиционалис (условное наклонение), постфикс -öv, löfomöv, if …\\xa0— «он бы любил, если …»;\\n Пассив, префикс p-, palöfom\\xa0— «он люби́м» («его любят»);\\n Оптатив, постфикс -ös, löfomös\\xa0— «хочу, чтобы он любил» («пусть он любит»);\\n Субъюнктив, постфикс -la, löfom-la\\xa0— «он может любить, но это не точно» («возможно, он любит»);\\n Вопросительная, постфикс -li, löfom-li\\xa0— «он любит?»;\\n Указание возможности, постфикс -öx, löfomöx\\xa0— «он может любить» (постфикс использовался только в дореформенном волапюке);\\nВ общей сложности эти префиксы и постфиксы в языке, по разным данным, позволяют получить от нескольких тысяч до нескольких сотен тысяч разных глагольных форм.\\n\\nПрилагательное \\nПрилагательное образуется при помощи форманта -ik (gudik\\xa0— «хороший»), не склоняется и стоит после определяемого существительного. Наречие создаётся присоединением к прилагательному суффиксов -о или -i (gudiko\\xa0— «хорошо»), стоит после глагола, от которого зависит, и так же не изменяется.\\n\\nСловообразование \\nВ волапюке есть богатая система суффиксов и приставок, которые используются в словообразовании, например: fam («слава») и famum («бо́льшая слава»), но некоторые из них, включая данный пример, были отменены реформой Де Йонга.\\n\\nКак и в немецком языке, в волапюке можно создавать слова, состоящие из двух, трёх и более корней. Примером трёхкомпонентного слова может служить klonalitakip ‘люстра’ (klon ‘корона, венец’ + litakip ‘подсвечник, канделябр’; последнее, в свою очередь, содержит два корня: lit ‘свет’ и kip ‘удержание, хранение’, а также соединительную гласную -a-, иногда трактовавшуюся как показатель родительного падежа (и тогда перед нами пример не словосложения, а сращения)), являющееся, кстати говоря, калькой с немецкого Kronleuchter (этим объясняется нелогичность постановки корня со значением «корона» на первое, а не второе место: дословно получается, что klonalitakip не «канделябровый венец», а «коронный канделябр»).\\nСпособность волапюка к соединению в сложном слове неограниченного числа корней порой даже высмеивалась: так, как сообщают Л. Кутюра и Л. Ло в своей «Истории всеобщего языка», в журнале «Le Volapük» один остроумец спародировал эту словообразовательную особенность волапюка, сконструировав в шутку существительное klonalitakipafablüdacifalöpasekretan ‘секретарь дирекции (заводоуправления) люстровой фабрики’, а журнал «Cogabled» («Развлекательный листок») предложил своим читателям разгадать значение слова löpikalarevidasekretel ‘обер-секретарь (верховный секретарь) счётной палаты’, что оказалось под силу только двум волапюкистам. Что характерно, оба слова не существовали в волапюке: первое было придумано в шутку, другое\\xa0— как головоломка (в русском Интернете, в частности, на страничке про волапюк сайта «Мир эсперанто» говорится, что оба слова реально существовали в шлейеровском волапюке; кстати говоря, эти слова приводятся с ошибкой, без диакритик). Первое из этих слов вообще сложно представить в реальном волапюке: в шлейеровский период суффикс -el употреблялся намного чаще, чем -an (хотя против этой «экспансии» -el выступали многие волапюкисты, в том числе О. Керкгоффс), и использовалось слово sekretel ‘секретарь’ (а не sekretan); слово cifal ‘главный начальник’ (суффикс -al со значением ‘самое высокопоставленное лицо’) употреблялось по отношению к И. Шлейеру как руководителю волапюкского движения, но вряд ли им бы обозначили директора завода; потенциальное cifalöp ‘место, где находится главный начальник’ так же не фиксировалось словарями, возможно, потому что не поддаётся однозначному переводу (оно может обозначать и кабинет, и целое здание); наконец, сложно представить фабрику, которая выпускает одни только люстры (fablüd ‘фабрика’). Внутренняя форма второго слова отчасти семантически избыточна: в нём есть два связанных с идеей подсчёта корня kal ‘подсчёт’ и revid ‘ревизия’ (löpi-\\xa0— приставка, аналогичная следующим: обер-, верхне-), причём отсутствует необходимый для расшифровки элемент ‘комиссия, палата’.\\n\\nИстория\\n\\nПоявление и первая популярность \\n\\nПо словам Шлейера, в ночь на 31 марта 1879 года у него была сильная бессонница, он ходил всю ночь по дому, пока на него не снизошло озарение, и Шлейер тут же увидел, каким должен быть международный язык. Всю ночь он записывал его грамматику и словарь, после чего начал публиковать на нём предложения, а потом и целые стихи.\\n\\nПервая статья о волапюке была опубликована Шлейером в мае 1879 года в редактировавшемся им католическом журнале «Сионская арфа» (). В 1880 году автор языка издаёт подробный учебник на немецком. Сам Шлейер практически не писал книг на волапюке, хотя было несколько писателей, которые этим занимались. Долгое время язык был очень популярен, к 1889 году на нём во всём мире издавалось 25 журналов, было написано 316 учебников на 25 языках и действовало 283 клуба. Известен даже случай, когда волапюк был для человека его родным языком, это была дочь профессора волапюка Генри Кона () Коринн Кон (). О её дальнейшей судьбе ничего не известно. В 1884 году состоялась конвенция сторонников волапюка в Фридрихсхафене, однако рабочим языком на конвенции был немецкий, вторая конвенция, в Мюнхене, 1887 год, проходила так же. Только третья конвенция (в Париже, в 1889 году) проходила на волапюке. К 1889 году выходит более 30 периодических изданий обществ волапюка, а самих объединений насчитывалось около 255. Институт преподавания состоял в общем из 1100 учителей и 50 профессоров.\\n\\nСнижение популярности \\nПервоначальная популярность волапюка была во многом обусловлена относительной его простотой. В нём были уменьшены некоторые сложности естественных языков, например, отсутствовали:\\n сложная орфография (характерная для английского и французского языков);\\n двойственное число (характерное для арабского и некоторых славянских языков);\\n непредсказуемое место ударения (характерное для русского языка);\\n многозначные слова, омонимы и омофоны.\\nВ то же время многие особенности немецкого языка, не замечаемые его носителями как сложности, перекочевали и в волапюк. Например, существительные имели 2 числа и 4 падежа, глаголы\\xa0— 6 времён, 4 наклонения, 2 вида и 2 залога, изменялись по лицам и числам. Нарушался принцип взаимно однозначного соответствия букв и звуков (последовательности [ks], [gz], [ts], [dz], [tʃ], [dʒ] обозначались однобуквенно, некоторые буквы допускали два варианта прочтения).\\nМногие критики (в частности, первый директор Академии волапюка О. Керкгоффс) порицали волапюк за слишком длинные, как в немецком языке, сложные слова. В лексике используются изменённые до неузнаваемости элементы европейских языков. Сложность грамматики и неинтернациональность лексики вызывали критику и в дальнейшем (после появления более простых языков) стали одними из причин снижения популярности волапюка.\\n\\nВ течение долгих лет директором Академии волапюка был криптограф из Фландрии Огюст Керкгоффс (). С течением времени между ним и Шлейером возникли трения, связанные с нежеланием Шлейера, считавшего волапюк своим детищем и своей собственностью, признать необходимость внесения изменений, на чём настаивал Керкгоффс. Это вылилось в раскол и уход многих приверженцев волапюка в альтернативные языковые проекты, такие как идиом неутраль и эсперанто, более простого этимологически и грамматически языка, чьё появление в 1887 году ещё более усугубило положение волапюка. В результате многие волапюкистские клубы стали эсперантистскими.\\n\\nРеформа \\n\\nВ 1920 году небольшая группа волапюкистов во главе с нидерландцем Ари де Йонгом () разработала ревизию языка и представила её в 1931 году. Де Йонг упростил грамматику (отменил редкоиспользуемые глагольные формы), а звук [r] стал употребляться гораздо чаще. В результате этого некоторые слова вернулись к своему исконному английскому или немецкому звучанию (например, lömib («дождь») превратился в rein). После реформ де Йонга волапюк пережил краткий подъём популярности в Нидерландах и Германии, но с приходом нацистов изучение искусственных языков в этих странах попало под запрет, и это окончательно свело на нет волапюкское движение.\\n\\nВолапюк сегодня \\n\\nС того времени движение волапюкистов находится на стабильно низком уровне. На сегодняшний день в мире насчитывается 20—30 волапюкистов. Во главе волапюкского движения стоит так называемый лидер, или верховный руководитель (на волапюке ). Он выпускает эдикты, как правило, касающиеся присвоения официальных званий (преподаватель волапюка, член Академии волапюка). Важную роль в развитии волапюка играет Академия волапюка, состоящая из 8 членов, коллегиально принимающих решения о включении в лексикон новых слов, необходимых для отображения новых понятий. Волапюкисты, проживающие в одной стране, могут создавать национальные клубы, составляющие Федерацию клубов волапюка. Правда, в настоящее время волапюкистов недостаточно для создания разветвлённой международной организации.\\n\\nВ современном русском языке слово «волапюк» имеет также переносное значение\\xa0— «речь из мешанины, непонятных слов, тарабарщина».\\n\\nВикипедия на волапюке \\n\\nВикипедия на языке волапюк знаменита тем, что большинство её статей создано при помощи автоматической программы (бот). Бот был создан одним из немногих активных на тот момент участником проекта\\xa0— бразильско-нидерландским лингвистом . Это вызвало негодование у ряда участников других Википедий, которые высказывали мнение, что подобные методы несовместимы с правилами Википедии, и что данный раздел Википедии следует удалить. 25 декабря 2007\\xa0года было начато голосование за перенос Википедии на волапюке в Инкубатор Викимедиа. 28 января 2008\\xa0года голосование было закрыто с решением оставить Википедию на волапюке активным разделом Википедии.\\n\\nОбразцы текстов\\n\\nСравнение текстов на волапюке до и после реформы (молитва Отче наш)\\n\\nТекст о международном языке (реформированный вариант) \\n\\nVen lärnoy püki votik, vödastok plösenon fikulis. Mutoy ai dönu sukön vödis nesevädik, e seko nited paperon. In dil donatida, ye, säkäd at pebemaston, bi tradut tefik vöda alik pubon dis vöds Volapükik. Välot reidedas sökon, e pamobos, das vöds Volapükik pareidons laodiko. Gramat e stabavöds ya pedunons in nüdug; too loged viföfik traduta pakomandos ad garanön, das sinif valodik pegeton. Binos prinsip sagatik, kel sagon, das stud nemödik a del binos gudikum, ka stud mödik süpo.\\n\\nДословный перевод \\n\\nКогда изучают чужой язык, словарь представляет трудности. Необходимо постоянно искать неизвестные слова, и, как следствие, интерес теряется. В элементарной части, однако, эта проблема преодолена, потому что корректный перевод слова появляется под словами Волапюка. Следует подборка (текстов для) чтения и предполагается, что слова Волапюка прочитываются вслух. Грамматика и базовый словарь уже даны во введении; тем не менее рекомендуется беглый взгляд на перевод, чтобы обеспечивалось общее понимание. Мудро сказано, что лучше немного учения каждый день, чем много учения в один день.\\n\\nСм. также \\n Периодика на искусственных языках\\n Википедия на языке Волапюк\\n\\nПримечания\\n\\nЛитература \\n \\n Дрезен Э.\\xa0К.\\xa0За всеобщим языком: три века исканий. Изд. 3-е.\\xa0— М. : Едиториал УРСС, 2012.\\xa0— 272 с.\\n\\nСсылки \\n\\n Википедия на волапюке\\n Kniele, Rupert. 1889. Das erste Jahrzehnt der Weltsprache Volapük. (описание первых десяти лет истории волапюка).\\n Коллекция материалов, посвящённых волапюку.\\n Группа в Facebook (главная платформа общения волапюкистов после уничтожения Yahoo groops)\\n Группа «ВКонтакте»\\n Страница в Reddit\\n Обзор грамматики волапюка (англ.)\\n Статья о волапюке от 1911 года в энциклопедии Британника\\n Библиография книг на волапюке, NetEase\\n Volapükalised\\xa0— Группа волапюка на сайте Yahoo groups, бывшее главное место дискуссий на волапюке, о нём и о других искусственных языках (группа удалена вместе с другими с сайта Yahoo в декабре 2019\\xa0г.)\\n Flenef bevünetik Volapüka / International Friendship of The World Language\\n Blueprints for Babel: Volapük\\xa0— Описание грамматики волапюка\\n Большие коллекции текстов на волапюке и о его истории находятся в Музее эсперанто в Вене (), в Центре изучения и документирования международного языка в Ла-Шо-де-Фон (La Chaux-de-Fonds), Швейцария, в Американском Философском обществе в Филадельфии () и в Баварской государственной библиотеке.\\n\\nВолапюк\\nИскусственные языки\\nМеждународные вспомогательные языки\\nLengua Católica (исп. язык католический) — проект международного искусственного языка, предложенный в 1890 году чилийским морским врачом Альбертом Липтеем (Alberto Liptay). «Католический» в названии языка означает, прежде всего, «всеобщий» (от значения древнегреческого слова «καθολικός»).\\n\\nВ начале 1890-х Липтей публикует свою работу сначала на испанском — «La lengua católica ó sea proyecto de un idioma internacional sin construccion gramatical»  (название можно перевести как «Всеобщий язык или проект международного языка без грамматических конструкций»), а позже на французском (1892) и немецком языках (немецкое издание вышло в Лейпциге под названием «Eine Gemeinsprache der Kulturvölker» — «Общий язык культурных народов»).\\n\\nВ этой работе Липтей даёт как критический разбор некоторых предшествующих языковых проектов (С. Булич в статье ЭСБЕ оценивает его как остроумный, но совсем не научный), так и набросок нового международного языка, намечая лишь в общих чертах его словарь и грамматику, и обещая его полную разработку в будущем.\\n\\nПри этом Липтей провозглашает девиз «единственная оригинальность этого проекта заключается в отсутствии всякой оригинальности» и заявляет об отказе от намерения изобретать язык, пытаясь вместо этого показать, что международный язык уже есть — за счёт существования десятков тысяч общих и почти идентичных слов в английском, французском, немецком, испанском, итальянском языках и латыни (от которой все они в значительной степени произошли).\\n\\nПроект Липтея был довольно высоко оценен современниками. Так, С. Булич, рассмотрев в статье ЭСБЕ «Всемирный или международный язык» наряду с ним несколько других языковых проектов того времени (волапюк, пасилингва, эсперанто, космос), признал Lengua Católica «наиболее удачной из всех существующих попыток всеобщего языка», сославшись при этом также на мнение известного английского учёного Макса Мюллера.\\n\\nОднако в дальнейшем этот язык, в отличие от эсперанто, распространения не получил.\\n\\nЛитература \\n \\n Esperanto. The New York Times Saturday Review of books. 11 июля 1903 г. // В книге «Esperanto in The New York Times (1887 - 1922), стр. 22.\\n\\nИскусственные языки\\nИ́до (\\xa0— потомок)\\xa0— плановый международный язык, принятый в 1907 году Делегацией по принятию международного вспомогательного языка как усовершенствованный вариант эсперанто. Считается, что его автором был французский эсперантист Луи де Бофрон, представлявший в этой Делегации интересы Заменгофа, создателя эсперанто. Кроме него в создании нового языка участвовали французский математик Луи Кутюра, российско-германский физик Вильгельм Оствальд и датский лингвист Отто Есперсен.\\n\\nИстория \\nНа первых порах идо нанёс значительный ущерб эсперанто-движению\\xa0— на идо перешли до 10\\xa0% всех эсперантистов. Однако первые годы распространения и употребления идо прошли под знаком непрерывных изменений языка. Среди идистов возникли раздоры между «консерваторами» и сторонниками дальнейших реформ. Учебники и словари идо быстро устаревали, и в этом он терял своё качество как средства общения, вызывал неудовольствие со стороны своих последователей. Некоторые выдающиеся реформаторы создали даже новые проекты международного языка: эсперантидо, новиаль и другие, не получившие заметного числа сторонников. Движение идо пошло на убыль и к середине XX века уменьшилось до мизерных объёмов.\\n\\nВ начале XXI века, однако, наблюдается некоторый рост числа сторонников языка идо, преимущественно в Западной Европе. Объективно идо далеко продвинул эсперантологию, расширил опыт лингвопроектирования и обогатил эсперанто. Из идо в эсперанто перешли некоторые удачные суффиксы (-iz-, -oz-...), слова и выражения.\\n\\nОсобенности по сравнению с эсперанто \\n\\nВ идо по сравнению с эсперанто было внесено множество изменений на всех уровнях языка: фонетики и орфографии, морфологии, лексики и синтаксиса. Однако самыми заметными являются фонетико-орфографические и морфологические изменения, в меньшей степени лексические.\\n\\nВ области фонетики была сделана поправка на орфографию: для того чтобы «уложиться» в новолатинский алфавит без диакритик и дополнительных букв, из фонетической системы эсперанто была исключена фонема /x/ (в графике эсперанто\\xa0— буква ĥ), однако в собственных именах /x/ либо заменяется на /k/, либо сохраняется и обозначается диграфом kh. Также введено факультативное произношение фонемы /ʒ/ (буква j) как аффрикаты [ʤ] (в эсперанто это разные фонемы: /ʒ/ ĵ и /ʤ/ ĝ), но в собственных именах, чтобы избежать двусмысленности, /ʤ/ обозначается сочетанием dj.\\n\\nМесто ударения при чтении записанного текста в идо установить сложнее, чем в эсперанто, хотя общее правило постановки на предпоследнем слоге почти не изменилось, ср. эсп. língvo ~ идо linguo (из записанного не ясно, /língwo/ или /lingúo/, ср. идо arborglúo), эсп. familío ~ идо familio (из записанного не ясно, /famíljo/ или /familío/, ср. идо despía). Также в идо в правиле об ударении было введено исключение, касающееся инфинитивов, где ударение нужно ставить на последнем слоге слова: lektár.\\n\\nВ области графики и орфографии создателями идо была сделана попытка приблизиться к неким традиционным для западноевропейских (в первую очередь романских) языков орфографическим нормам. Однако, это привело к утрате однозначного соответствия между фонемой и буквой: фонемы /ʃ/ и /ʧ/ стали обозначаться буквосочетаниями (sh и ch соответственно; при этом, если буквы относятся к разным морфемам, то они читаются раздельно, как /sh/ и /ʦh/); наоборот, звукосочетание /ks/ стало обозначаться одной буквой x (при этом, если /k/ и /s/ относятся к разным морфемам, то пишется ks). Фонемы /w/ и /j/ (в эсперанто\\xa0— буквы ŭ и j соответственно) стали обозначаться двояко: /w/\\xa0— буквами w и u (в сочетании /CwV/), а /j/\\xa0— буквами y и i (в сочетании /CjV/), при этом был введён дополнительно диграф qu, читающийся как /kw/ (при этом /gw/ пишется gu).\\n\\nВ области морфологии были внесены следующие изменения по сравнению с эсперанто:\\n\\n Изменение формы множественного числа имен с агглютинативного форманта -o-j на флективный -i;\\n Необязательность употребления форманта прямого дополнения -n («винительного падежа»), а также прекращение использования его в значении директива;\\n Определения, обозначаемые формантом -a, стали неизменяемыми и не согласуются с определяемым именем в числе (в эсперанто неизменяемыми были артикль la, собирательное числительное ambaŭ «оба», местоимение mem «сам», а также kies, kiom и другие, кончающиеся на согласные);\\n Инфинитив стал обозначаться агглютинативными формантами -a-r, -i-r, -o-r (где -a-, -i-, -o-\\xa0— показатели времени, как в изъявительном наклонении);\\n А также некоторые другие изменения.\\n\\nВ области лексики была исправлена значительная часть слов, причём принципов исправлений было два, с противоположным уклоном: с одной стороны, слова приводились в более «естественный» вид (часто просто графически), с другой,\\xa0— слова, наоборот, подвергались упрощению, чтобы «облегчить» произношение (например: absceso > abceso, scienco > cienco), что иногда делало их нераспознаваемыми и противоречило принципу «естественности» формы слова.\\n\\nОднако основная работа создателей идо была направлена на исправление системы словообразования эсперанто. В эсперанто корень обычно привязан к определённой части речи, что влияет на способы и формы словообразования от данного корня. В идо корень сам по себе не относится ни к какой части речи, что теоретически должно было освободить учащегося от запоминания того, как от какого корня нужно образовывать производные слова. Однако, вместе с этим в идо была введена романская система образования имён действия и имён деятеля, в результате чего привязка корней к частям речи фактически сохранилась, ср. в эсперанто прил. granda «большой» → имя действия grando «величина», имя деятеля grandulo «великан» и глагол bati «бить» → имя действия bato «избиение», имя деятеля batisto «избиватель». В идо от прилагательных и от глаголов имена действия и деятеля образуются по-разному: granda → grandeso «величина», grando «великан», batar → bato «избиение», batisto «избиватель». Здесь видно, что имя действия от глагола имеет ту же форму, что имя деятеля от прилагательного, по этой причине нужно точно знать, является ли в идо корень глагольным или прилагательным.\\n\\nПомимо этого в идо была отменена практика использования аффиксов в качестве самостоятельных слов, а также введено большое количество дополнительных аффиксов для более точного выражения тех или иных семантических нюансов (ср. эсп. legisto «чтец» ~ идо lektisto «профессиональный чтец» и lektero «чтец-любитель» и под.).\\nВ эсперанто особое обозначение имеют лишь одушевлённые имена, обозначающие лиц женского пола (за исключением суффиксов фамильярного обращения), в идо\\xa0— и мужского пола также, тогда как отсутствие суффикса указывает на относимость к обоим полам сразу, ср. эсп. frato «брат», fratino «сестра» ~ идо frato «брат/сестра», fratulo «брат», fratino «сестра».\\n\\nВ области синтаксиса можно отметить следующие изменения:\\n Хотя и в эсперанто, и в идо положение прилагательного относительно определяемого слова не закреплено, но в эсперанто прилагательные принято ставить перед определяемым словом (влияние славянских и германских языков), а в идо\\xa0— после (влияние романских языков).\\n В идо, в отличие от эсперанто, возможен оборот «винительный с инфинитивом». При этом в эсперанто используется придаточное предложение со сказуемым в изъявительном наклонении, а идо использует инфинитив в соответствующем времени: ср. эсп. mi vidas ke li legas «я вижу, что он читает»/mi vidas ke li legis «я вижу, что он читал»/mi vidas ke li legos «я вижу, что он будет читать» ~ идо me vidas il lektar «я вижу, что он читает»/me vidas il lektir «я вижу, что он читал»/me vidas il lektor «я вижу, что он будет читать».\\n Инфинитив в эсперанто в качестве именной части сказуемого требует наречия, в идо инфинитив требует прилагательного, ср. эсп. vivi estas bone «жить\\xa0— хорошо» ~ идо vivar esas bona.\\n\\nСочетание и даже некоторое противоборство двух принципов\\xa0— приближения к естественным (в первую очередь романским, особенно французскому) языкам и принципа априорности придают идо своеобразный вид.\\n\\nФонология\\n\\nОрфография \\nИдо использует те же 26 букв латинского алфавита, что и английский, хотя значения некоторых букв различаются. Идо не использует диакритические знаки.\\n\\nКроме того, в идо есть три диграфа:\\n\\nГрамматика\\n\\nМестоимения\\n\\nПримеры \\nИз языка идо было заимствовано название «Интергельпо»\\xa0— производственного кооператива этнических чехов в Киргизии, существовавшего в довоенный период.\\n\\n«Отче наш»\\n\\nСм. также \\n Искусственный язык\\n Эсперанто\\n Новиаль\\n Эсперантидо\\n\\nПримечания\\n\\nСсылки \\n\\n Официальный сайт идо (идо)\\n Международный язык IDO\\n Форум на и об Идо (идо)\\n Учебники Идо на русском, идо-английский словарь Дайера\\n Международный вспомогательный язык ИДО (PDF)\\n En la rubriko «Euyasik» l´administranto deziras kolektar kontributuri a la temi «komunikado» e «linguo». La baricentro dil afero esez ye to la promoco di projetlingui, qui future povus servar kom linguo di komunikado.\\n\\nИскусственные языки\\nМеждународные вспомогательные языки\\nЭсперантоиды\\nИдо\\nНовиаль (новиал)\\xa0— проект международного искусственного языка, предложенный в 1928\\xa0году датским лингвистом Отто Есперсеном.\\n\\nЭтот проект являлся продолжением развития идо, но был полностью переработан. По своим лингвистическим характеристикам он далеко отошёл и от идо и, тем более, от эсперанто. Автор, некогда принимавший участие в создании идо, в новом проекте стремился совместить логичность идо с натуралистичностью окциденталя.\\n\\nАлфавит, произношение и ударение \\nИспользуется система письма, в целом сходная с идо. О. Есперсен обращает мало внимания на стандартизацию произношения и допускает многочисленные вариации, особенно в отношении диграфов. Буква s может всегда звучать как [s] или озвончаться между гласными, как во многих европейских языках. Буквы w и z\\xa0— только в именах собственных. Буквы c и q также в диграфах, присутствующих в словах самого новиаля. Диграфы ch и sh читаются как [ʧ] или [ʃ], qu как [ku]/[kw]/[kv] или [k]. Ударение падает на гласный перед последним согласным, но односогласные окончания, вроде -s, не меняют места ударения.\\n\\nЛексика \\nЛексика новиаля основывается преимущественно на лексике западноевропейских языков. Её основой служат слова международные или распространённые в нескольких языках. В целом она близка к лексике эсперанто и особенно идо.\\n\\nПодобно создателям идиом-неутраля, при подборе корней О. Есперсен пытался определить наиболее распространённые формы посредством подсчёта языков, в которых они встречаются, но при этом не включал в подсчёты латынь и старался учитывать количество говорящих и корни, известные через другие слова языка.\\n\\nГрамматика\\n\\nСловообразование \\nНовиаль является гипосхематическим языком. В отличие от эсперанто и идо все его суффиксы заимствованы из естественных языков. Однако в отличие от окциденталя используются не по образцу языков-источников, а по правилам самого новиаля.\\n\\nСловоизменение \\nВ отличие от идо, заимствующего из эсперанто суффиксы для обозначения частей речи (эсп. и идо. -o существительное, -a прилагательное, -e производное наречие и др.), в новиале эта система оказалась сильно видоизменена и фактически ликвидирована. Обязательное окончание есть только у прилагательных и производных наречий, остальные части речи могут оканчиваться различным образом в зависимости от других условий.\\n\\nАртикль \\nОпределённый артикль\\xa0— li.\\n\\nНеопределённого артикля нет, но числительное un может выражать неопределённость.\\n\\nСуществительное \\nБольшая часть существительных оканчивается на -e. Одушевлённые существительные, обозначающие только мужчин, оканчиваются на -o, а обозначающие только женщин\\xa0— на -a. Ряд существительных оканчивается на другие гласные (например, manu рука).\\n\\nМножественное число обозначается суффиксом -s (после u или согласного -es).\\n\\nПодлежащее и дополнение обычно различаются посредством порядка слов, остальные падежные значения выражаются предлогами.\\n\\nПрилагательное \\nПрилагательные новиаля оканчиваются на -i (его можно отбросить, если это не мешает удобопроизносимости и благозвучию).\\n\\nКак и в идо, прилагательные полностью неизменяемы.\\n\\nСтепени сравнения образуются путём прибавления соответствующих наречий. (Plu\\xa0— больше, maxim\\xa0— наибольший и др.) Например, plu boni, kam\\xa0— лучше, чем; maxim boni\\xa0— наилучший.\\n\\nЧислительные\\n\\nГлагол \\nСистема времён глагола и образование их форм калькирует английский язык.\\n\\nГлаголы в инфинитиве не имеют окончаний (оканчиваются на тематический гласный основы: -a, -e, -i, -u в порядке убывания). Если необходимо, перед инфинитивом может ставиться частица tu.\\n\\nСуществует только два причастия: активное на -nt и пассивное на -t (amant\\xa0— любящий, amat\\xa0— любимый). После основ на i, u или согласный перед -nt вставляется e.\\n\\nИзменение глагола по числам, лицам или родам отсутствует.\\n\\nНастоящее время совпадает с инфинитивом (Me ama vu.\\xa0— Я вас люблю.).\\n\\nПрошедшее образуется при помощи суффикса -d (после u, i или согласного -ed) или вспомогательного глагола did + инфинитив. Формы равнозначны. (Me amad vu. или Me did ama vu.\\xa0— Я вас любил.)\\n\\nБудущее образуется при помощи глагола sal + инфинитив.\\n\\nКомбинация ha + инфинитив даёт перфект, а комбинация had + инфинитив\\xa0— плюсквамперфект. При помощи sal ha + инфинитив\\xa0— предбудущее.\\n\\nСослагательное наклонение образуется при помощи вспомогательного глагола vud + инфинитив. При помощи vud ha + инфинитив образуется перфект сослагательного наклонения.\\n\\nПри помощи конструкции bli + инфинитив образуется пассив становления (Me bli nultem konvikte per lon argumentes.\\xa0— Меня никогда не убедят эти аргументы.) es + пассивное причастие\\xa0— пассив состояния (Me es konviket ke lo es mentiere.\\xa0— Я убеждён, что он лжец.)\\n\\nПовелительное наклонение совпадает с инфинитивом. Могут использоваться частицы let давайте и mey пусть.\\n\\nДействует правило согласования времён, как и в английском. Для будущего в прошедшем используется конструкция saled + инфинитив.\\n\\nНаречие \\nБольшинство наречий оканчиваются на -im.\\n\\nИспользование \\nПоявление новиаля вызвало хаос в идо-движении, так как новиаль позиционировался как «улучшенный идо». Произошло то же, что с эсперанто, только в меньшем масштабе: часть идистов перешла на новиаль, другие остались верны идо.\\n\\nСо смертью Есперсена в 1943\\xa0году новиаль постепенно вышел из употребления. Интерес к этому плановому языку стал возрождаться лишь в 1990-х годах.\\n\\nСуществует раздел Википедии на языке новиаль, где на нём написано примерно  статей.\\n\\nПримеры \\n Tes kel kreda ke lingue mus omnilok e omnitem disfala en nombre de dialektes, oblive li maxim importanti lege de linguali biologia, nomim ke konstanti interkomunikatione krea linguali uneso\\n (Те, кто считают, что [международный] язык в любом месте и в любое время распадётся на ряд диалектов, забывают важнейший закон языковой биологии, а именно, что постоянное взаимное общение создаёт единство языка)\\n\\n«Отче наш»:\\n\\nСм. также \\n Идо\\n Интерлингва\\n Эсперанто\\n Эсперантидо\\n Гипосхематические языки\\n\\nПримечания\\n\\nСсылки \\n\\n Novial Wikipedia\\n An International Language Otto Jespersen (1928)\\n Novial Lexike\\n Novial Wiki Book: A Novial course for beginners.\\n Novial Discussion Group: Novial discussion group at Yahoo!\\n https://web.archive.org/web/20010411135038/http://www.geocities.com/Athens/Forum/5037'"
      ]
     },
     "execution_count": 25,
     "metadata": {},
     "output_type": "execute_result"
    }
   ],
   "source": [
    "splt[10]"
   ]
  },
  {
   "cell_type": "code",
   "execution_count": 24,
   "id": "75531036",
   "metadata": {},
   "outputs": [
    {
     "data": {
      "text/plain": [
       "26"
      ]
     },
     "execution_count": 24,
     "metadata": {},
     "output_type": "execute_result"
    }
   ],
   "source": [
    "len(splt)"
   ]
  },
  {
   "cell_type": "code",
   "execution_count": 21,
   "id": "240b3437",
   "metadata": {},
   "outputs": [],
   "source": [
    "lens = [len(elem) for elem in splt]"
   ]
  },
  {
   "cell_type": "code",
   "execution_count": 22,
   "id": "e9451653",
   "metadata": {},
   "outputs": [
    {
     "data": {
      "text/plain": [
       "10362976"
      ]
     },
     "execution_count": 22,
     "metadata": {},
     "output_type": "execute_result"
    }
   ],
   "source": [
    "max(lens)"
   ]
  },
  {
   "cell_type": "code",
   "execution_count": 23,
   "id": "85c2b29a",
   "metadata": {},
   "outputs": [
    {
     "data": {
      "text/plain": [
       "(array([10.,  2.,  4.,  1.,  2.,  2.,  1.,  0.,  0.,  0.,  1.,  0.,  0.,\n",
       "         0.,  0.,  1.,  0.,  1.,  0.,  1.]),\n",
       " array([1.2000000e+01, 5.1816020e+05, 1.0363084e+06, 1.5544566e+06,\n",
       "        2.0726048e+06, 2.5907530e+06, 3.1089012e+06, 3.6270494e+06,\n",
       "        4.1451976e+06, 4.6633458e+06, 5.1814940e+06, 5.6996422e+06,\n",
       "        6.2177904e+06, 6.7359386e+06, 7.2540868e+06, 7.7722350e+06,\n",
       "        8.2903832e+06, 8.8085314e+06, 9.3266796e+06, 9.8448278e+06,\n",
       "        1.0362976e+07]),\n",
       " <BarContainer object of 20 artists>)"
      ]
     },
     "execution_count": 23,
     "metadata": {},
     "output_type": "execute_result"
    },
    {
     "data": {
      "image/png": "[encoded data removed]",
      "text/plain": [
       "<Figure size 640x480 with 1 Axes>"
      ]
     },
     "metadata": {},
     "output_type": "display_data"
    }
   ],
   "source": [
    "plt.hist(lens, bins=20)"
   ]
  },
  {
   "cell_type": "code",
   "execution_count": null,
   "id": "e9592ccb",
   "metadata": {},
   "outputs": [],
   "source": []
  },
  {
   "cell_type": "markdown",
   "id": "1155cac5",
   "metadata": {},
   "source": [
    "Class for dataset"
   ]
  },
  {
   "cell_type": "markdown",
   "id": "b9daaf8c",
   "metadata": {},
   "source": [
    "## Old versions of dataset"
   ]
  },
  {
   "cell_type": "code",
   "execution_count": null,
   "id": "88c3040a",
   "metadata": {},
   "outputs": [],
   "source": [
    "class CustomDatasetV1(Dataset):\n",
    "    def __init__(self, txt: str, tokenizer: object, max_length: int, stride: int):\n",
    "        self.tokenizer = tokenizer\n",
    "        self.input_ids = []\n",
    "        self.target_ids = []\n",
    "\n",
    "        token_ids = tokenizer.encode(txt)\n",
    "\n",
    "        for i in range(0, len(token_ids) - max_length, stride):\n",
    "            input_chunk = token_ids[i:i + max_length]\n",
    "            target_chunk = token_ids[i + 1:i + max_length + 1]\n",
    "            self.input_ids.append(torch.tensor(input_chunk))\n",
    "            self.target_ids.append(torch.tensor(target_chunk))\n",
    "        \n",
    "    def __len__(self):\n",
    "        return len(self.input_ids)\n",
    "    \n",
    "    def __getitem__(self, index):\n",
    "        return self.input_ids[index], self.target_ids[index]"
   ]
  },
  {
   "cell_type": "code",
   "execution_count": 13,
   "id": "2cd7efc6",
   "metadata": {},
   "outputs": [],
   "source": [
    "class CustomDatasetV2(Dataset):\n",
    "    def __init__(self, dataframe: str, tokenizer: object, max_length: int, stride: int):\n",
    "        self.tokenizer = tokenizer\n",
    "        self.input_ids = []\n",
    "        self.target_ids = []\n",
    "\n",
    "        for i, curr_chunk in dataframe.iterrows():\n",
    "            token_ids = tokenizer.encode(curr_chunk['Sample'])\n",
    "            for i in range(0, len(token_ids) - max_length, stride):\n",
    "                input_chunk = token_ids[i:i + max_length]\n",
    "                target_chunk = token_ids[i + 1:i + max_length + 1]\n",
    "                self.input_ids.append(torch.tensor(input_chunk))\n",
    "                self.target_ids.append(torch.tensor(target_chunk))\n",
    "        \n",
    "    def __len__(self):\n",
    "        return len(self.input_ids)\n",
    "    \n",
    "    def __getitem__(self, index):\n",
    "\n",
    "        return self.input_ids[index], self.target_ids[index]"
   ]
  },
  {
   "cell_type": "code",
   "execution_count": null,
   "id": "5d9ebfaa",
   "metadata": {},
   "outputs": [],
   "source": [
    "cd = CustomDatasetV2(dataframe=data_parquet.iloc[:100], tokenizer=tok, max_length=1024, stride=1)"
   ]
  },
  {
   "cell_type": "markdown",
   "id": "7d2fa17e",
   "metadata": {},
   "source": [
    "## Actual version of dataset"
   ]
  },
  {
   "cell_type": "code",
   "execution_count": 7,
   "id": "a4acec4b",
   "metadata": {},
   "outputs": [],
   "source": [
    "class CustomDatasetV3(Dataset):\n",
    "    def __init__(self, dataframe: str, tokenizer: object, max_length: int):\n",
    "        self.tokenizer = tokenizer\n",
    "        self.input_ids = []\n",
    "        self.target_ids = []\n",
    "\n",
    "        for i, curr_chunk in tqdm(dataframe.iterrows(), total=dataframe.shape[0]):\n",
    "            token_ids = tokenizer(curr_chunk['Sample'], return_tensors='pt', padding='max_length', max_length=max_length+1)['input_ids']\n",
    "            input_chunk = token_ids[:,:max_length].view(-1)\n",
    "            target_chunk = token_ids[:,1:max_length+1].view(-1)\n",
    "            #print(input_chunk.size(), target_chunk.size(),)\n",
    "            self.input_ids.append(input_chunk)\n",
    "            self.target_ids.append(target_chunk)\n",
    "        \n",
    "    def __len__(self):\n",
    "        return len(self.input_ids)\n",
    "    \n",
    "    def __getitem__(self, index):\n",
    "\n",
    "        return self.input_ids[index], self.target_ids[index]"
   ]
  },
  {
   "cell_type": "markdown",
   "id": "7457f136",
   "metadata": {},
   "source": [
    "# Load actual data and dataloader"
   ]
  },
  {
   "cell_type": "code",
   "execution_count": 20,
   "id": "a3528bae",
   "metadata": {},
   "outputs": [],
   "source": [
    "data_parquet = pd.read_parquet(PARQUET_DATA_DIR)"
   ]
  },
  {
   "cell_type": "code",
   "execution_count": 9,
   "id": "e6c582dd",
   "metadata": {},
   "outputs": [
    {
     "data": {
      "text/plain": [
       "(224662, 2)"
      ]
     },
     "execution_count": 9,
     "metadata": {},
     "output_type": "execute_result"
    }
   ],
   "source": [
    "data_parquet.shape"
   ]
  },
  {
   "cell_type": "code",
   "execution_count": null,
   "id": "121589e1",
   "metadata": {},
   "outputs": [
    {
     "data": {
      "application/vnd.jupyter.widget-view+json": {
       "model_id": "19f53e90157d41a2b38bb68897245928",
       "version_major": 2,
       "version_minor": 0
      },
      "text/plain": [
       "  0%|          | 0/10 [00:00<?, ?it/s]"
      ]
     },
     "metadata": {},
     "output_type": "display_data"
    }
   ],
   "source": [
    "train_cd = CustomDatasetV3(dataframe=data_parquet.iloc[:100000], tokenizer=tok, max_length=GPT_CONFIG['context_length'])#MY_GPT_CONFIG['context_length'])\n",
    "#train_cd = CustomDatasetV3(dataframe=data_parquet.iloc[:100], tokenizer=tok, max_length=GPT_CONFIG['context_length'])#MY_GPT_CONFIG['context_length'])"
   ]
  },
  {
   "cell_type": "code",
   "execution_count": null,
   "id": "95b00637",
   "metadata": {},
   "outputs": [
    {
     "data": {
      "application/vnd.jupyter.widget-view+json": {
       "model_id": "969d21cfd3494f34a7bd7965cf29c795",
       "version_major": 2,
       "version_minor": 0
      },
      "text/plain": [
       "  0%|          | 0/10 [00:00<?, ?it/s]"
      ]
     },
     "metadata": {},
     "output_type": "display_data"
    }
   ],
   "source": [
    "val_cd = CustomDatasetV3(dataframe=data_parquet.iloc[-10000:], tokenizer=tok, max_length=GPT_CONFIG['context_length'])#MY_GPT_CONFIG['context_length'])\n",
    "#val_cd = CustomDatasetV3(dataframe=data_parquet.iloc[-100:], tokenizer=tok, max_length=GPT_CONFIG['context_length'])#"
   ]
  },
  {
   "cell_type": "code",
   "execution_count": 23,
   "id": "7555dcdc",
   "metadata": {},
   "outputs": [],
   "source": [
    "train_data = DataLoader(dataset=train_cd, batch_size=4, shuffle=True, num_workers=0)\n",
    "val_data = DataLoader(dataset=val_cd, batch_size=4, shuffle=True, num_workers=0)"
   ]
  },
  {
   "cell_type": "code",
   "execution_count": 27,
   "id": "d4a74efc",
   "metadata": {},
   "outputs": [
    {
     "data": {
      "text/plain": [
       "[tensor([[  198,   198,   140,  ..., 15166, 21169, 18849],\n",
       "         [12466,    94, 25443,  ...,  4764, 12466,   116],\n",
       "         [ 1849,   141,   230,  ..., 21169, 25443,   123],\n",
       "         [  198,   140,   254,  ...,   228, 18849, 22177]]),\n",
       " tensor([[  198,   140,   240,  ..., 21169, 18849, 18849],\n",
       "         [   94, 25443,   111,  ..., 12466,   116,   140],\n",
       "         [  141,   230,   198,  ..., 25443,   123, 16843],\n",
       "         [  140,   254, 12466,  ..., 18849, 22177, 16142]])]"
      ]
     },
     "execution_count": 27,
     "metadata": {},
     "output_type": "execute_result"
    }
   ],
   "source": [
    "next(iter(train_data))"
   ]
  },
  {
   "cell_type": "markdown",
   "id": "d3fce445",
   "metadata": {},
   "source": [
    "# LLM Code"
   ]
  },
  {
   "cell_type": "markdown",
   "id": "9b42e13f",
   "metadata": {},
   "source": [
    "## Simple Attention"
   ]
  },
  {
   "cell_type": "markdown",
   "id": "0a7e3b06",
   "metadata": {},
   "source": [
    "### With prints"
   ]
  },
  {
   "cell_type": "code",
   "execution_count": null,
   "id": "a9f43119",
   "metadata": {},
   "outputs": [],
   "source": [
    "class MultiHeadAttention(nn.Module):\n",
    "    def __init__(self, d_in, d_out, context_length, dropout, num_heads, qkv_bias=False):\n",
    "        super().__init__()\n",
    "        assert (d_out % num_heads == 0)\n",
    "        self.d_out = d_out\n",
    "        self.num_heads = num_heads\n",
    "        self.head_dim = d_out // num_heads\n",
    "        self.W_key = nn.Linear(d_in, d_out, bias=qkv_bias)\n",
    "        self.W_query = nn.Linear(d_in, d_out, bias=qkv_bias)\n",
    "        self.W_value = nn.Linear(d_in, d_out, bias=qkv_bias)\n",
    "        self.out_proj = nn.Linear(d_out, d_out)\n",
    "        self.dropout = nn.Dropout(dropout)\n",
    "        self.register_buffer('mask', torch.triu(torch.ones(context_length, context_length)))\n",
    "\n",
    "    def forward(self, x):\n",
    "        b, num_tokens, d_in = x.size()\n",
    "        keys = self.W_key(x) # b, num_tokens, self.d_out\n",
    "        queries = self.W_query(x) # b, num_tokens, self.d_out\n",
    "        values = self.W_value(x) # b, num_tokens, self.d_out\n",
    "        print('values.shape is ' , values.shape)\n",
    "\n",
    "        keys = keys.view(b, num_tokens, self.num_heads, self.head_dim)\n",
    "        queries = queries.view(b, num_tokens, self.num_heads, self.head_dim)\n",
    "        values = values.view(b, num_tokens, self.num_heads, self.head_dim)\n",
    "        print('values.shape (after view) is ' , values.shape)\n",
    "\n",
    "        keys = keys.transpose(1, 2) # b, self.num_heads, num_tokens, self.head_dim\n",
    "        queries = queries.transpose(1, 2) # b, self.num_heads, num_tokens, self.head_dim\n",
    "        values = values.transpose(1, 2) # b, self.num_heads, num_tokens, self.head_dim\n",
    "        print('values.shape (after transpose) is ' , values.shape)\n",
    "\n",
    "        att_scores = queries @ keys.transpose(2, 3) # shapes = (num_tokens, self.head_dim) @ (self.head_dim, num_tokens) -> (num_tokens, num_tokens)\n",
    "        print('att_scores.shape is ' , att_scores.shape)\n",
    "\n",
    "        mask_bool = self.mask.bool()[:num_tokens, :num_tokens]\n",
    "        att_scores.masked_fill_(mask_bool, -torch.inf)\n",
    "\n",
    "        att_weights = torch.softmax(att_scores / keys.shape[-1]**.5, dim=-1)\n",
    "        att_weights = self.dropout(att_weights)\n",
    "\n",
    "        context_vec = (att_weights @ values).transpose(1, 2) # (num_tokens, num_tokens) @ (num_tokens, self.head_dim) -> (num_tokens, self.head_dim) -> transpose(1,2) of (b, self.num_heads, num_tokens, self.head_dim) ->\n",
    "        # -> (b, num_tokens, self.num_heads, self.head_dim) as view in previous code after inference of Linear layers\n",
    "        print('context_vec.shape is ' , att_scores.shape)\n",
    "        context_vec = context_vec.contiguous().view(b, num_tokens, self.d_out)\n",
    "        print('context_vec.shape is ' , att_scores.shape)\n",
    "        context_vec = self.out_proj(context_vec)\n",
    "        return context_vec"
   ]
  },
  {
   "cell_type": "markdown",
   "id": "24785a31",
   "metadata": {},
   "source": [
    "#### Check"
   ]
  },
  {
   "cell_type": "code",
   "execution_count": null,
   "id": "86d15f01",
   "metadata": {},
   "outputs": [],
   "source": [
    "mha = MultiHeadAttention(d_in=768, d_out=768, context_length=2048, dropout=0.1, num_heads=4)"
   ]
  },
  {
   "cell_type": "code",
   "execution_count": null,
   "id": "3d01cfb4",
   "metadata": {},
   "outputs": [
    {
     "data": {
      "text/plain": [
       "torch.Size([10, 2048, 768])"
      ]
     },
     "metadata": {},
     "output_type": "display_data"
    }
   ],
   "source": [
    "torch.rand(10, 2048, 768).size()"
   ]
  },
  {
   "cell_type": "code",
   "execution_count": null,
   "id": "001867d9",
   "metadata": {},
   "outputs": [],
   "source": [
    "a = mha(torch.rand(10, 2048, 768))"
   ]
  },
  {
   "cell_type": "code",
   "execution_count": null,
   "id": "7edc3627",
   "metadata": {},
   "outputs": [
    {
     "data": {
      "text/plain": [
       "torch.Size([10, 2048, 768])"
      ]
     },
     "metadata": {},
     "output_type": "display_data"
    }
   ],
   "source": [
    "a.shape"
   ]
  },
  {
   "cell_type": "markdown",
   "id": "f91e6b9b",
   "metadata": {},
   "source": [
    "### Without prints"
   ]
  },
  {
   "cell_type": "code",
   "execution_count": 8,
   "id": "9babe64e",
   "metadata": {},
   "outputs": [],
   "source": [
    "class MultiHeadAttention(nn.Module):\n",
    "    def __init__(self, d_in, d_out, context_length, dropout, num_heads, qkv_bias=False):\n",
    "        super().__init__()\n",
    "        assert (d_out % num_heads == 0)\n",
    "\n",
    "        self.d_out = d_out\n",
    "        self.num_heads = num_heads\n",
    "        self.head_dim = d_out // num_heads\n",
    "\n",
    "        self.W_key = nn.Linear(d_in, d_out, bias=qkv_bias)\n",
    "        self.W_query = nn.Linear(d_in, d_out, bias=qkv_bias)\n",
    "        self.W_value = nn.Linear(d_in, d_out, bias=qkv_bias)\n",
    "        self.out_proj = nn.Linear(d_out, d_out)\n",
    "        self.dropout = nn.Dropout(dropout)\n",
    "        self.register_buffer('mask', torch.triu(torch.ones(context_length, context_length), diagonal=1))\n",
    "\n",
    "    def forward(self, x):\n",
    "        b, num_tokens, d_in = x.size()\n",
    "        keys = self.W_key(x) # b, num_tokens, self.d_out\n",
    "        queries = self.W_query(x) # b, num_tokens, self.d_out\n",
    "        values = self.W_value(x) # b, num_tokens, self.d_out\n",
    "\n",
    "        keys = keys.view(b, num_tokens, self.num_heads, self.head_dim)\n",
    "        queries = queries.view(b, num_tokens, self.num_heads, self.head_dim)\n",
    "        values = values.view(b, num_tokens, self.num_heads, self.head_dim)\n",
    "\n",
    "        keys = keys.transpose(1, 2) # b, self.num_heads, num_tokens, self.head_dim\n",
    "        queries = queries.transpose(1, 2) # b, self.num_heads, num_tokens, self.head_dim\n",
    "        values = values.transpose(1, 2) # b, self.num_heads, num_tokens, self.head_dim\n",
    "\n",
    "        att_scores = queries @ keys.transpose(2, 3) # shapes = (num_tokens, self.head_dim) @ (self.head_dim, num_tokens) -> (num_tokens, num_tokens)\n",
    "\n",
    "        mask_bool = self.mask.bool()[:num_tokens, :num_tokens]\n",
    "        att_scores.masked_fill_(mask_bool, -torch.inf)\n",
    "\n",
    "        att_weights = torch.softmax(att_scores / keys.shape[-1]**0.5, dim=-1)\n",
    "        att_weights = self.dropout(att_weights)\n",
    "\n",
    "        context_vec = (att_weights @ values).transpose(1, 2) # (num_tokens, num_tokens) @ (num_tokens, self.head_dim) -> (num_tokens, self.head_dim) -> transpose(1,2) of (b, self.num_heads, num_tokens, self.head_dim) ->\n",
    "        # -> (b, num_tokens, self.num_heads, self.head_dim) as view in previous code after inference of Linear layers\n",
    "        context_vec = context_vec.contiguous().view(b, num_tokens, self.d_out)\n",
    "        context_vec = self.out_proj(context_vec)\n",
    "        return context_vec"
   ]
  },
  {
   "cell_type": "markdown",
   "id": "59b4aadd",
   "metadata": {},
   "source": [
    "## Other Attention"
   ]
  },
  {
   "cell_type": "code",
   "execution_count": 11,
   "id": "2e1f707b",
   "metadata": {},
   "outputs": [],
   "source": [
    "class CausalSelfAttention(nn.Module):\n",
    "\n",
    "    def __init__(self, d_in, d_out, context_length, dropout, num_heads,):\n",
    "        super().__init__()\n",
    "        # key, query, value projections for all heads, but in a batch\n",
    "        self.c_attn = nn.Linear(d_in, 3 * d_in)\n",
    "        # output projection\n",
    "        self.c_proj = nn.Linear(d_in, d_in)\n",
    "        # regularization\n",
    "        self.n_head = num_heads\n",
    "        self.n_embd = d_out\n",
    "\n",
    "    def forward(self, x):\n",
    "        B, T, C = x.size() # batch size, sequence length, embedding dimensionality (n_embd)\n",
    "        # calculate query, key, values for all heads in batch and move head forward to be the batch dim\n",
    "        # nh is \"number of heads\", hs is \"head size\", and C (number of channels) = nh * hs\n",
    "        # e.g. in GPT-2 (124M), n_head=12, hs=64, so nh*hs=C=768 channels in the Transformer\n",
    "        qkv = self.c_attn(x)\n",
    "        q, k, v = qkv.split(self.n_embd, dim=2)\n",
    "        k = k.view(B, T, self.n_head, C // self.n_head).transpose(1, 2) # (B, nh, T, hs)\n",
    "        q = q.view(B, T, self.n_head, C // self.n_head).transpose(1, 2) # (B, nh, T, hs)\n",
    "        v = v.view(B, T, self.n_head, C // self.n_head).transpose(1, 2) # (B, nh, T, hs)\n",
    "        y = F.scaled_dot_product_attention(q, k, v, is_causal=True) # flash attention\n",
    "        y = y.transpose(1, 2).contiguous().view(B, T, C) # re-assemble all head outputs side by side\n",
    "        # output projection\n",
    "        y = self.c_proj(y)\n",
    "        return y"
   ]
  },
  {
   "cell_type": "markdown",
   "id": "bac6cb10",
   "metadata": {},
   "source": [
    "## Additional classes"
   ]
  },
  {
   "cell_type": "code",
   "execution_count": 9,
   "id": "2a146d40",
   "metadata": {},
   "outputs": [],
   "source": [
    "class LayerNorm(nn.Module):\n",
    "    def __init__(self, emb_dim):\n",
    "        super().__init__()\n",
    "        self.eps = 1e-5\n",
    "        self.scale = nn.Parameter(torch.ones(emb_dim))\n",
    "        self.shift = nn.Parameter(torch.zeros(emb_dim))\n",
    "    def forward(self, x):\n",
    "        mean = x.mean(dim=-1, keepdim=True)\n",
    "        var = x.var(dim=-1, keepdim=True, unbiased=False)\n",
    "        norm_x = (x - mean) / torch.sqrt(var + self.eps)\n",
    "        return self.scale * norm_x + self.shift"
   ]
  },
  {
   "cell_type": "code",
   "execution_count": 15,
   "id": "18f7d75c",
   "metadata": {},
   "outputs": [],
   "source": [
    "# class LayerNorm(nn.Module):\n",
    "#     def __init__(self, emb_dim):\n",
    "#         super().__init__()\n",
    "#         self.eps = 1e-5\n",
    "#         self.scale = nn.Parameter(torch.ones(emb_dim))\n",
    "#         self.shift = nn.Parameter(torch.zeros(emb_dim))\n",
    "\n",
    "#     def forward(self, x):\n",
    "#         mean = x.mean(dim=-1, keepdim=True)\n",
    "#         var = x.var(dim=-1, keepdim=True, unbiased=False)\n",
    "#         norm_x = (x - mean) / torch.sqrt(var + self.eps)\n",
    "#         return self.scale * norm_x + self.shift"
   ]
  },
  {
   "cell_type": "code",
   "execution_count": 16,
   "id": "75ff207d",
   "metadata": {},
   "outputs": [],
   "source": [
    "# class GELU(nn.Module):\n",
    "#     def __init__(self):\n",
    "#         super().__init__()\n",
    "\n",
    "#     def forward(self, x):\n",
    "#         return 0.5 * x * (1 + torch.tanh( torch.sqrt(torch.tensor(2.0 / torch.pi)) * (x + 0.044715 * torch.pow(x, 3)) ))"
   ]
  },
  {
   "cell_type": "code",
   "execution_count": 10,
   "id": "b1ba07df",
   "metadata": {},
   "outputs": [],
   "source": [
    "class GELU(nn.Module):\n",
    "    def __init__(self):\n",
    "        super().__init__()\n",
    "\n",
    "    def forward(self, x):\n",
    "        return 0.5 * x * (1 + torch.tanh(\n",
    "            torch.sqrt(torch.tensor(2.0 / torch.pi)) * \n",
    "            (x + 0.044715 * torch.pow(x, 3))\n",
    "        ))"
   ]
  },
  {
   "cell_type": "code",
   "execution_count": 11,
   "id": "aa002c15",
   "metadata": {},
   "outputs": [],
   "source": [
    "class FeedForward(nn.Module):\n",
    "    def __init__(self, cfg):\n",
    "        super().__init__()\n",
    "        self.layers = nn.Sequential(\n",
    "            nn.Linear(cfg['emb_dim'], 4 * cfg['emb_dim']),\n",
    "            GELU(),\n",
    "            nn.Linear(4 * cfg['emb_dim'], cfg['emb_dim'])\n",
    "        )\n",
    "    def forward(self, x):\n",
    "        return self.layers(x)"
   ]
  },
  {
   "cell_type": "markdown",
   "id": "aca274e7",
   "metadata": {},
   "source": [
    "## Transformer Block"
   ]
  },
  {
   "cell_type": "code",
   "execution_count": 12,
   "id": "20f8f777",
   "metadata": {},
   "outputs": [],
   "source": [
    "class TransformerBlock(nn.Module):\n",
    "    def __init__(self, cfg):\n",
    "        super().__init__()\n",
    "        self.attn = MultiHeadAttention(d_in=cfg['emb_dim'], \n",
    "                                       d_out=cfg['emb_dim'], \n",
    "                                       context_length=cfg['context_length'], \n",
    "                                       dropout=cfg['drop_rate'], \n",
    "                                       num_heads=cfg['n_heads'], \n",
    "                                       qkv_bias=cfg['qkv_bias'])\n",
    "        self.ff = FeedForward(cfg)\n",
    "        self.norm1 = LayerNorm(cfg['emb_dim'])\n",
    "        self.norm2 = LayerNorm(cfg['emb_dim'])\n",
    "        self.drop_resid = nn.Dropout(cfg['drop_rate'])\n",
    "    \n",
    "    def forward(self, x):\n",
    "        #x = x + self.drop_resid(self.attn(self.norm1(x)))\n",
    "        #x = x + self.drop_resid(self.ff(self.norm2(x)))\n",
    "        shortcut = x\n",
    "        x = self.norm1(x)\n",
    "        x = self.attn(x)\n",
    "        x = self.drop_resid(x)\n",
    "        x = x + shortcut\n",
    "\n",
    "        shortcut = x\n",
    "        x = self.norm2(x)\n",
    "        x = self.ff(x)\n",
    "        x = self.drop_resid(x)\n",
    "        x = x + shortcut\n",
    "        return x"
   ]
  },
  {
   "cell_type": "code",
   "execution_count": 20,
   "id": "df3a88ee",
   "metadata": {},
   "outputs": [],
   "source": [
    "# class TransformerBlock(nn.Module):\n",
    "#     def __init__(self, cfg):\n",
    "#         super().__init__()\n",
    "#         self.att = MultiHeadAttention(\n",
    "#             d_in=cfg[\"emb_dim\"],\n",
    "#             d_out=cfg[\"emb_dim\"],\n",
    "#             context_length=cfg[\"context_length\"],\n",
    "#             num_heads=cfg[\"n_heads\"], \n",
    "#             dropout=cfg[\"drop_rate\"],\n",
    "#             qkv_bias=cfg[\"qkv_bias\"])\n",
    "#         self.ff = FeedForward(cfg)\n",
    "#         self.norm1 = LayerNorm(cfg[\"emb_dim\"])\n",
    "#         self.norm2 = LayerNorm(cfg[\"emb_dim\"])\n",
    "#         self.drop_shortcut = nn.Dropout(cfg[\"drop_rate\"])\n",
    "\n",
    "#     def forward(self, x):\n",
    "#         # Shortcut connection for attention block\n",
    "#         shortcut = x\n",
    "#         x = self.norm1(x)\n",
    "#         x = self.att(x)  # Shape [batch_size, num_tokens, emb_size]\n",
    "#         x = self.drop_shortcut(x)\n",
    "#         x = x + shortcut  # Add the original input back\n",
    "\n",
    "#         # Shortcut connection for feed forward block\n",
    "#         shortcut = x\n",
    "#         x = self.norm2(x)\n",
    "#         x = self.ff(x)\n",
    "#         x = self.drop_shortcut(x)\n",
    "#         x = x + shortcut  # Add the original input back\n",
    "\n",
    "#         return x"
   ]
  },
  {
   "cell_type": "markdown",
   "id": "03704a61",
   "metadata": {},
   "source": [
    "### Check"
   ]
  },
  {
   "cell_type": "code",
   "execution_count": 35,
   "id": "e6059426",
   "metadata": {},
   "outputs": [],
   "source": [
    "tb = TransformerBlock(GPT_CONFIG)"
   ]
  },
  {
   "cell_type": "code",
   "execution_count": 21,
   "id": "efc5bbc5",
   "metadata": {},
   "outputs": [
    {
     "data": {
      "text/plain": [
       "{'vocab_size': 50257,\n",
       " 'context_length': 1024,\n",
       " 'emb_dim': 768,\n",
       " 'n_heads': 2,\n",
       " 'n_layers': 2,\n",
       " 'drop_rate': 0.1,\n",
       " 'qkv_bias': False}"
      ]
     },
     "execution_count": 21,
     "metadata": {},
     "output_type": "execute_result"
    }
   ],
   "source": [
    "GPT_CONFIG"
   ]
  },
  {
   "cell_type": "code",
   "execution_count": 12,
   "id": "b99239cd",
   "metadata": {},
   "outputs": [],
   "source": [
    "init_size = 10, 1024, 768"
   ]
  },
  {
   "cell_type": "code",
   "execution_count": 34,
   "id": "8f2ccd8d",
   "metadata": {},
   "outputs": [
    {
     "data": {
      "text/plain": [
       "torch.Size([10, 1024, 768])"
      ]
     },
     "execution_count": 34,
     "metadata": {},
     "output_type": "execute_result"
    }
   ],
   "source": [
    "tb(torch.rand(*init_size, device='cpu')).size()"
   ]
  },
  {
   "cell_type": "code",
   "execution_count": 36,
   "id": "7e95bd26",
   "metadata": {},
   "outputs": [
    {
     "data": {
      "text/plain": [
       "tensor([[[    nan,     nan,     nan,  ...,     nan,     nan,     nan],\n",
       "         [-0.1282,  0.1958,  0.4158,  ...,  0.1775,  0.8038,  0.7860],\n",
       "         [ 0.7502, -0.4513,  0.6417,  ..., -0.0071,  0.3187,  0.3782],\n",
       "         ...,\n",
       "         [ 0.9968,  0.1533, -0.2926,  ..., -0.0057,  0.3411,  0.7333],\n",
       "         [ 0.1944, -0.0979,  0.7427,  ...,  0.4760,  0.3513,  0.3321],\n",
       "         [ 0.4361,  0.0266, -0.0217,  ...,  0.4803, -0.2651,  0.7020]],\n",
       "\n",
       "        [[    nan,     nan,     nan,  ...,     nan,     nan,     nan],\n",
       "         [ 0.3157,  0.6540, -0.2170,  ...,  0.2235,  0.1626,  0.8510],\n",
       "         [ 0.8748,  0.3798, -0.1871,  ...,  0.3344,  0.0285,  1.1137],\n",
       "         ...,\n",
       "         [ 0.8981,  0.1823,  0.8073,  ...,  0.4379,  0.6960,  0.2674],\n",
       "         [ 0.2251,  0.2450,  0.9060,  ...,  0.3705,  0.9815,  0.7649],\n",
       "         [ 0.6568,  0.5581,  0.9443,  ..., -0.0993,  0.3415,  0.5553]],\n",
       "\n",
       "        [[    nan,     nan,     nan,  ...,     nan,     nan,     nan],\n",
       "         [-0.6134,  0.7787, -0.1709,  ...,  0.5623, -0.4825,  0.3214],\n",
       "         [ 0.1582, -0.2044, -0.2949,  ...,  0.3350,  0.8383,  1.1529],\n",
       "         ...,\n",
       "         [ 0.2874,  0.8269,  0.6362,  ..., -0.0672,  0.9777,  1.1075],\n",
       "         [ 1.0621,  0.3664,  1.1541,  ...,  0.4116,  0.8795,  0.3876],\n",
       "         [ 0.3784,  1.1877,  0.7612,  ...,  0.3713,  0.5890,  0.9218]],\n",
       "\n",
       "        ...,\n",
       "\n",
       "        [[    nan,     nan,     nan,  ...,     nan,     nan,     nan],\n",
       "         [ 0.1155,  0.4761,  1.0025,  ...,  0.4380,  1.2599,  1.1072],\n",
       "         [ 0.1386,  0.1697,  0.9189,  ...,  0.6848,  1.3651,  0.5124],\n",
       "         ...,\n",
       "         [ 0.7667,  0.3959,  0.3279,  ...,  0.3423,  0.2119, -0.0163],\n",
       "         [ 0.4797,  0.4718,  0.9072,  ...,  0.2044,  0.3880,  0.7267],\n",
       "         [ 1.0495,  0.9679,  0.1505,  ...,  1.0458,  0.6331,  0.6313]],\n",
       "\n",
       "        [[    nan,     nan,     nan,  ...,     nan,     nan,     nan],\n",
       "         [ 0.3548,  0.6919,  0.4744,  ...,  0.2820,  0.8722,  0.5879],\n",
       "         [ 0.7718, -0.4001,  0.8295,  ...,  0.9881,  0.5661,  0.7328],\n",
       "         ...,\n",
       "         [ 0.3640, -0.0429, -0.1490,  ...,  0.7854, -0.3327,  0.1290],\n",
       "         [ 0.7663,  0.4685,  0.2726,  ...,  0.2447,  0.6358,  0.1398],\n",
       "         [ 0.4203,  0.5666, -0.0770,  ...,  0.3117, -0.1068,  0.3854]],\n",
       "\n",
       "        [[    nan,     nan,     nan,  ...,     nan,     nan,     nan],\n",
       "         [ 0.2667,  0.9284, -0.1111,  ...,  0.7412,  0.3844,  0.6992],\n",
       "         [-0.0427,  1.0213,  0.7060,  ...,  1.7460,  0.7865,  0.2155],\n",
       "         ...,\n",
       "         [ 0.7331,  0.3672,  0.5424,  ...,  0.8841,  0.0075,  0.1539],\n",
       "         [ 0.9537,  0.6988,  0.7578,  ...,  1.0097,  0.5681,  1.0775],\n",
       "         [ 0.3163,  0.8834,  0.7880,  ...,  0.6617,  0.6609,  0.2989]]],\n",
       "       grad_fn=<AddBackward0>)"
      ]
     },
     "execution_count": 36,
     "metadata": {},
     "output_type": "execute_result"
    }
   ],
   "source": [
    "tb(torch.rand(*init_size, device='cpu'))"
   ]
  },
  {
   "cell_type": "code",
   "execution_count": 13,
   "id": "f041287e",
   "metadata": {},
   "outputs": [],
   "source": [
    "s = nn.Sequential(*[TransformerBlock(GPT_CONFIG) for _ in range(4)])"
   ]
  },
  {
   "cell_type": "code",
   "execution_count": 14,
   "id": "9a7fa932",
   "metadata": {},
   "outputs": [
    {
     "data": {
      "text/plain": [
       "tensor([[[ 1.1181e+00,  9.0072e-02, -9.7242e-02,  ..., -7.9379e-01,\n",
       "           9.1935e-01,  1.6051e+00],\n",
       "         [ 4.5545e-01,  1.4940e+00, -6.5898e-01,  ..., -1.4196e+00,\n",
       "          -1.1886e-01,  5.9312e-01],\n",
       "         [ 6.9797e-01, -1.1730e+00, -1.4681e-01,  ..., -6.9243e-01,\n",
       "          -3.3176e-01,  2.8703e-01],\n",
       "         ...,\n",
       "         [ 1.0198e+00,  6.5788e-01, -3.9724e-02,  ...,  6.1315e-01,\n",
       "          -1.5974e-01,  1.2915e+00],\n",
       "         [ 5.9596e-01,  6.0242e-01,  5.7316e-01,  ..., -2.0221e-01,\n",
       "           1.2505e-01,  5.1213e-01],\n",
       "         [ 3.1996e-02,  3.2923e-01, -2.1279e-02,  ...,  2.8866e-01,\n",
       "           4.9295e-01,  1.0546e+00]],\n",
       "\n",
       "        [[ 6.7451e-01, -6.1569e-01,  1.3098e+00,  ...,  1.2463e+00,\n",
       "           8.5620e-01, -3.8584e-01],\n",
       "         [ 1.5214e-01, -1.3334e+00,  9.2979e-01,  ..., -9.8272e-01,\n",
       "          -5.7479e-02, -4.0280e-01],\n",
       "         [ 4.4263e-02, -8.4143e-01,  2.4693e-01,  ...,  3.2636e-01,\n",
       "           5.3633e-01, -6.6726e-01],\n",
       "         ...,\n",
       "         [ 1.0273e-01,  1.3614e+00, -3.2105e-01,  ...,  1.9382e-01,\n",
       "           7.7748e-01,  6.6433e-01],\n",
       "         [ 6.9248e-01,  2.6943e-01,  3.0104e-01,  ...,  2.9479e-01,\n",
       "           4.3471e-02,  2.3379e-04],\n",
       "         [ 1.2068e+00,  5.5467e-01, -1.0621e-01,  ...,  2.3127e-01,\n",
       "           4.8838e-01,  7.4483e-01]],\n",
       "\n",
       "        [[-1.6254e+00, -9.0594e-02, -1.4605e+00,  ...,  1.5829e-01,\n",
       "           9.5902e-01, -7.9560e-01],\n",
       "         [-4.1026e-01,  8.0511e-02,  3.9598e-01,  ...,  6.2653e-02,\n",
       "           1.4775e+00,  1.4749e-01],\n",
       "         [-6.5733e-01, -2.8009e-01,  6.8325e-01,  ..., -1.7368e-01,\n",
       "          -1.2962e-01,  9.0691e-01],\n",
       "         ...,\n",
       "         [ 4.2093e-01, -1.5026e-01, -5.6508e-02,  ...,  2.4257e-01,\n",
       "           6.7937e-01, -3.8805e-02],\n",
       "         [ 1.4009e-01,  6.7175e-01, -6.3716e-01,  ...,  5.5721e-01,\n",
       "           1.8746e+00, -2.8090e-01],\n",
       "         [ 2.2408e-01,  4.9024e-01,  9.4300e-01,  ..., -3.3753e-02,\n",
       "           4.1873e-01,  8.5980e-01]],\n",
       "\n",
       "        ...,\n",
       "\n",
       "        [[ 1.0669e+00,  1.1407e+00, -2.9852e-01,  ...,  2.2973e+00,\n",
       "          -4.9788e-03,  2.5568e-01],\n",
       "         [ 1.5500e+00,  7.4666e-01, -1.7664e-01,  ...,  1.2338e+00,\n",
       "          -2.1801e-01,  1.7731e-01],\n",
       "         [ 8.1924e-01,  1.4697e+00, -8.1137e-01,  ...,  1.5853e+00,\n",
       "           1.5020e-01,  8.0491e-01],\n",
       "         ...,\n",
       "         [ 2.5054e-01,  8.3836e-01, -6.8889e-01,  ...,  9.2765e-01,\n",
       "           6.1142e-01,  4.0038e-01],\n",
       "         [ 2.4251e-01, -4.9131e-01, -2.6291e-01,  ...,  4.8332e-01,\n",
       "           5.0281e-01, -3.8192e-01],\n",
       "         [ 3.2965e-01,  7.5469e-01, -2.4340e-01,  ...,  3.1976e-01,\n",
       "           7.5519e-01,  2.0347e-01]],\n",
       "\n",
       "        [[ 2.3809e-01,  4.2313e-01,  7.9046e-01,  ...,  8.2423e-02,\n",
       "           1.3174e+00,  2.4637e+00],\n",
       "         [ 2.8319e-02, -7.7223e-01, -1.2742e-01,  ...,  7.6921e-01,\n",
       "           7.2586e-01,  1.2436e+00],\n",
       "         [ 2.9686e-01, -2.7479e-01,  2.9518e-01,  ...,  1.3166e-01,\n",
       "           2.4915e-01,  1.5699e+00],\n",
       "         ...,\n",
       "         [ 4.4937e-01, -4.7304e-01, -2.9342e-01,  ...,  3.8902e-01,\n",
       "          -4.0036e-03,  3.0576e-01],\n",
       "         [ 3.4573e-01,  3.1784e-01,  3.7900e-01,  ...,  9.3987e-01,\n",
       "           7.0265e-01,  7.7182e-01],\n",
       "         [ 3.9121e-01,  7.4247e-01, -5.1926e-02,  ...,  9.9492e-01,\n",
       "          -1.7955e-01,  1.2479e+00]],\n",
       "\n",
       "        [[ 1.7546e+00,  2.1123e+00, -2.2274e-01,  ..., -1.1770e+00,\n",
       "           6.4206e-01, -1.8559e-01],\n",
       "         [ 7.9760e-01,  3.8425e-01, -4.4045e-01,  ..., -2.9730e-01,\n",
       "          -4.9181e-03,  8.2925e-02],\n",
       "         [ 5.0095e-01,  1.0113e+00, -5.8361e-01,  ..., -1.0562e+00,\n",
       "           1.3024e+00, -3.3594e-01],\n",
       "         ...,\n",
       "         [ 1.1072e+00,  1.4405e-01,  6.2117e-02,  ...,  4.4946e-01,\n",
       "           1.4421e+00,  4.4112e-01],\n",
       "         [ 7.3586e-01,  3.2544e-02,  1.7697e-01,  ...,  3.8436e-01,\n",
       "           1.4555e-01,  6.6762e-01],\n",
       "         [ 1.1632e+00,  8.3482e-01,  3.2082e-01,  ..., -5.6225e-01,\n",
       "           9.2887e-01, -1.2855e-01]]], grad_fn=<AddBackward0>)"
      ]
     },
     "execution_count": 14,
     "metadata": {},
     "output_type": "execute_result"
    }
   ],
   "source": [
    "s(torch.rand(*init_size))"
   ]
  },
  {
   "cell_type": "code",
   "execution_count": 14,
   "id": "2902050c",
   "metadata": {},
   "outputs": [
    {
     "data": {
      "text/plain": [
       "torch.Size([10, 1024, 768])"
      ]
     },
     "execution_count": 14,
     "metadata": {},
     "output_type": "execute_result"
    }
   ],
   "source": [
    "s(torch.rand(*init_size)).size()"
   ]
  },
  {
   "cell_type": "code",
   "execution_count": 15,
   "id": "73056cf0",
   "metadata": {},
   "outputs": [
    {
     "data": {
      "text/plain": [
       "True"
      ]
     },
     "execution_count": 15,
     "metadata": {},
     "output_type": "execute_result"
    }
   ],
   "source": [
    "init_size == s(torch.rand(*init_size)).size()"
   ]
  },
  {
   "cell_type": "code",
   "execution_count": 180,
   "id": "5b625ab3",
   "metadata": {},
   "outputs": [
    {
     "data": {
      "text/plain": [
       "True"
      ]
     },
     "execution_count": 180,
     "metadata": {},
     "output_type": "execute_result"
    }
   ],
   "source": [
    "init_size == tb(torch.rand(init_size)).size()"
   ]
  },
  {
   "cell_type": "markdown",
   "id": "875a52ee",
   "metadata": {},
   "source": [
    "## GPT class"
   ]
  },
  {
   "cell_type": "code",
   "execution_count": 13,
   "id": "8e9cc587",
   "metadata": {},
   "outputs": [],
   "source": [
    "class GPTModel(nn.Module):\n",
    "    def __init__(self, cfg):\n",
    "        super().__init__()\n",
    "        self.tok_emb = nn.Embedding(cfg['vocab_size'], cfg['emb_dim'])\n",
    "        self.pos_emb = nn.Embedding(cfg['context_length'], cfg['emb_dim'])\n",
    "        self.drop_emb = nn.Dropout(cfg['drop_rate'])\n",
    "\n",
    "        self.trf_blocks = nn.Sequential(*[TransformerBlock(cfg) for _ in range(cfg['n_layers'])])\n",
    "        self.final_norm = nn.LayerNorm(cfg['emb_dim'])\n",
    "        self.out_head = nn.Linear(cfg['emb_dim'], cfg['vocab_size'], bias=False)\n",
    "\n",
    "    def forward(self, in_idx):\n",
    "        batch_size, seq_len = in_idx.size()\n",
    "        tok_embeds = self.tok_emb(in_idx)\n",
    "        pos_embeds = self.pos_emb(torch.arange(seq_len, device=in_idx.device))\n",
    "        x = tok_embeds + pos_embeds\n",
    "        x = self.drop_emb(x)\n",
    "        x = self.trf_blocks(x)\n",
    "        x = self.final_norm(x)\n",
    "        logits = self.out_head(x)\n",
    "        return logits"
   ]
  },
  {
   "cell_type": "markdown",
   "id": "7ef8cbcd",
   "metadata": {},
   "source": [
    "### Check"
   ]
  },
  {
   "cell_type": "code",
   "execution_count": 53,
   "id": "4dc43b61",
   "metadata": {},
   "outputs": [],
   "source": [
    "m = GPTModel(GPT_CONFIG)"
   ]
  },
  {
   "cell_type": "code",
   "execution_count": 54,
   "id": "a51e2246",
   "metadata": {},
   "outputs": [
    {
     "name": "stdout",
     "output_type": "stream",
     "text": [
      "torch.Size([10, 1024])\n"
     ]
    }
   ],
   "source": [
    "for x, y in data_load:\n",
    "    print(x.size())\n",
    "    r = m(x)\n",
    "    break"
   ]
  },
  {
   "cell_type": "code",
   "execution_count": 55,
   "id": "78b37704",
   "metadata": {},
   "outputs": [
    {
     "data": {
      "text/plain": [
       "torch.Size([10, 1024, 50257])"
      ]
     },
     "execution_count": 55,
     "metadata": {},
     "output_type": "execute_result"
    }
   ],
   "source": [
    "r.size()"
   ]
  },
  {
   "cell_type": "markdown",
   "id": "ab15640c",
   "metadata": {},
   "source": [
    "## Generation"
   ]
  },
  {
   "cell_type": "code",
   "execution_count": 14,
   "id": "d243e92f",
   "metadata": {},
   "outputs": [],
   "source": [
    "def generate(model, idx, max_new_tokens, context_size):\n",
    "    model.eval()\n",
    "    for _ in range(max_new_tokens):\n",
    "        idx_cond = idx[:,-context_size:]\n",
    "        with torch.no_grad():\n",
    "            logits = model(idx_cond)\n",
    "        logits = logits[:, -1, :]\n",
    "        probas = torch.softmax(logits, dim=-1)\n",
    "        idx_next = torch.argmax(probas, dim=-1, keepdim=True)\n",
    "        idx = torch.cat((idx, idx_next), dim=1)\n",
    "    return idx"
   ]
  },
  {
   "cell_type": "markdown",
   "id": "c8510dff",
   "metadata": {},
   "source": [
    "### Check"
   ]
  },
  {
   "cell_type": "code",
   "execution_count": 64,
   "id": "6d74e195",
   "metadata": {},
   "outputs": [
    {
     "data": {
      "text/plain": [
       "(tensor([[  140,   253, 21169, 18849, 38857, 16843, 20375,    11, 12466,   118,\n",
       "          16142, 31583, 12466,   112, 16843, 30143, 16142,   220]]),)"
      ]
     },
     "execution_count": 64,
     "metadata": {},
     "output_type": "execute_result"
    }
   ],
   "source": [
    "torch.tensor(tok('Привет, как дела ')['input_ids']).unsqueeze(0), #tok('Привет, как дела mhjm', return_tensors='pt', padding='max_length', max_length=2048)['input_ids'].shape\n",
    "# tok('Привет, как дела mhjm', return_tensors='pt', padding='max_length', max_length=1024)['input_ids'].shape"
   ]
  },
  {
   "cell_type": "code",
   "execution_count": 74,
   "id": "c691c226",
   "metadata": {},
   "outputs": [
    {
     "data": {
      "text/plain": [
       "'Привет, как дела  eyes Lic hybrid Runs Skies07Attributeteenblogs scaleacia girltics detracteconomjump390 digital aided Remastered'"
      ]
     },
     "execution_count": 74,
     "metadata": {},
     "output_type": "execute_result"
    }
   ],
   "source": [
    "tok.decode(generate(model=m, idx=torch.tensor(tok('Привет, как дела ')['input_ids']).unsqueeze(0), max_new_tokens=20, context_size=1024).squeeze(0).tolist())"
   ]
  },
  {
   "cell_type": "code",
   "execution_count": 76,
   "id": "5a03f392",
   "metadata": {},
   "outputs": [
    {
     "data": {
      "text/plain": [
       "tensor([[1, 2, 3]])"
      ]
     },
     "execution_count": 76,
     "metadata": {},
     "output_type": "execute_result"
    }
   ],
   "source": [
    "torch.tensor([1,2,3]).unsqueeze(0)"
   ]
  },
  {
   "cell_type": "code",
   "execution_count": 78,
   "id": "63039892",
   "metadata": {},
   "outputs": [
    {
     "data": {
      "text/plain": [
       "tensor([[1],\n",
       "        [2],\n",
       "        [3]])"
      ]
     },
     "execution_count": 78,
     "metadata": {},
     "output_type": "execute_result"
    }
   ],
   "source": [
    "torch.tensor([1,2,3]).unsqueeze(1)"
   ]
  },
  {
   "cell_type": "code",
   "execution_count": 80,
   "id": "b31dc85d",
   "metadata": {},
   "outputs": [
    {
     "data": {
      "text/plain": [
       "tensor([1, 2, 3])"
      ]
     },
     "execution_count": 80,
     "metadata": {},
     "output_type": "execute_result"
    }
   ],
   "source": [
    "torch.tensor([[1,2,3]]).squeeze(0)"
   ]
  },
  {
   "cell_type": "markdown",
   "id": "e87c7569",
   "metadata": {},
   "source": [
    "## Training"
   ]
  },
  {
   "cell_type": "code",
   "execution_count": 27,
   "id": "1653599c",
   "metadata": {},
   "outputs": [],
   "source": [
    "from torch.utils.tensorboard import SummaryWriter\n",
    "writer = SummaryWriter()"
   ]
  },
  {
   "cell_type": "code",
   "execution_count": 28,
   "id": "33c25df7",
   "metadata": {},
   "outputs": [],
   "source": [
    "class Trainer():\n",
    "    def __init__(self, optimizer, params, device):\n",
    "        self.optimizer = optimizer\n",
    "        self.params = params\n",
    "        self.device = device\n",
    "    \n",
    "    def train_model(self, model, tokenizer, train_dataloader, val_dataloader, writer=None):\n",
    "        train_loss = []\n",
    "        val_loss = []\n",
    "        tokens_get = 0\n",
    "        for epoch in range(self.params['N_EPOCHS']):\n",
    "\n",
    "            \n",
    "            for x, y in train_dataloader:\n",
    "                if not (model.training):\n",
    "                    model.train()\n",
    "                x, y = x.to(self.device), y.to(self.device)\n",
    "                self.optimizer.zero_grad()\n",
    "                logits = model(x)\n",
    "                loss = nn.functional.cross_entropy(logits.flatten(0, 1), y.flatten())\n",
    "                loss.backward()\n",
    "                self.optimizer.step()\n",
    "                train_loss.append(loss)\n",
    "                tokens_get += len(x.flatten())\n",
    "\n",
    "                if (self.params['verbose'] is True) and (tokens_get % self.params['verbose_freq'] == 0):\n",
    "                    sample = tokenizer.decode(generate(model=model, idx=torch.tensor(tokenizer('Я большая языковая модель и ')['input_ids'], device=self.device).unsqueeze(0), max_new_tokens=25, context_size=1024).squeeze(0).tolist())\n",
    "                    print(f'Epoch {epoch}: Train loss = {loss}, sample: {sample}')\n",
    "                    if (writer is not None):\n",
    "                        writer.add_scalar(\"Loss/train in step\", loss, epoch)\n",
    "                        writer.add_text(\"Sample\", str(sample), epoch)\n",
    "                        if (self.params['gradients'] is True):\n",
    "                            grads = []\n",
    "                            for name, param in model.named_parameters():\n",
    "                                if ('weight' in name):\n",
    "                                    grads.append(param.grad.abs().flatten().mean().cpu().detach().numpy())\n",
    "                            writer.add_scalar(\"train/gradients\", np.array(grads).flatten().mean(), epoch)\n",
    "\n",
    "\n",
    "                    model.eval()\n",
    "                    with torch.no_grad():\n",
    "                        for x, y in val_dataloader:\n",
    "                            x, y = x.to(self.device), y.to(self.device)\n",
    "                            logits = model(x)\n",
    "                            loss = nn.functional.cross_entropy(logits.flatten(0, 1), y.flatten())\n",
    "                            val_loss.append(loss)\n",
    "                        if (writer is not None):\n",
    "                            writer.add_scalar(\"Loss/train in check\", torch.mean(torch.tensor(train_loss, device='cpu')), epoch)\n",
    "                            writer.add_scalar(\"Loss/val in check\", torch.mean(torch.tensor(val_loss, device='cpu')), epoch)\n",
    "            writer.close()\n",
    "            "
   ]
  },
  {
   "cell_type": "code",
   "execution_count": 29,
   "id": "928c4abd",
   "metadata": {},
   "outputs": [],
   "source": [
    "params = {'N_EPOCHS': 5, \n",
    "          'verbose': True, \n",
    "          'verbose_freq': 1,\n",
    "          'gradients': True}"
   ]
  },
  {
   "cell_type": "code",
   "execution_count": 30,
   "id": "c96064d5",
   "metadata": {},
   "outputs": [],
   "source": [
    "model = GPTModel(GPT_CONFIG)"
   ]
  },
  {
   "cell_type": "code",
   "execution_count": 31,
   "id": "50042235",
   "metadata": {},
   "outputs": [],
   "source": [
    "model = model.to(device)"
   ]
  },
  {
   "cell_type": "code",
   "execution_count": 32,
   "id": "36936ccf",
   "metadata": {},
   "outputs": [],
   "source": [
    "opt = torch.optim.AdamW(params=model.parameters(), lr=0.01)\n",
    "trainer = Trainer(optimizer=opt, params=params, device=device)"
   ]
  },
  {
   "cell_type": "code",
   "execution_count": 33,
   "id": "7cca986e",
   "metadata": {},
   "outputs": [
    {
     "name": "stdout",
     "output_type": "stream",
     "text": [
      "Epoch 0: Train loss = 10.977889060974121, sample: Я большая языковая модель и е �е �е �е �е �е �е �е �е �е �е �е �е\n",
      "Epoch 0: Train loss = 7.078422546386719, sample: Я большая языковая модель и  � � � � � � � � � � � � � � � � � � � � � � � � �\n",
      "Epoch 0: Train loss = 4.9288249015808105, sample: Я большая языковая модель и ссссссссссссссссссссссссс\n",
      "Epoch 0: Train loss = 5.983907699584961, sample: Я большая языковая модель и лл�лл�ллл�ллллл�лллл�л�лл\n",
      "Epoch 0: Train loss = 6.905112266540527, sample: Я большая языковая модель и                          \n",
      "Epoch 0: Train loss = 7.447443962097168, sample: Я большая языковая модель и о�о�о�о�о�о�о�о�о�о�о�о�о�о�о�о�о�о�о�о�о�о�о�о�о�\n",
      "Epoch 0: Train loss = 6.8631367683410645, sample: Я большая языковая модель и еееееееееееееееееееееееее\n",
      "Epoch 0: Train loss = 6.961722373962402, sample: Я большая языковая модель и ии�����������������������\n",
      "Epoch 0: Train loss = 6.0047736167907715, sample: Я большая языковая модель и ааааааааааааааааааааааааа\n",
      "Epoch 0: Train loss = 6.242106914520264, sample: Я большая языковая модель и ссссссссссссссссссссссссс\n",
      "Epoch 0: Train loss = 6.5283966064453125, sample: Я большая языковая модель и                          \n",
      "Epoch 0: Train loss = 5.778762340545654, sample: Я большая языковая модель и  �ттттттт �т �тттттттттттттт\n",
      "Epoch 0: Train loss = 5.896045684814453, sample: Я большая языковая модель и  � � � � � � � � � � � � � � � � � � � � � � � � �\n",
      "Epoch 0: Train loss = 5.3781514167785645, sample: Я большая языковая модель и ррррррррррррррррррррррррр\n",
      "Epoch 0: Train loss = 6.41880989074707, sample: Я большая языковая модель и �������������������������\n",
      "Epoch 0: Train loss = 5.683707237243652, sample: Я большая языковая модель и  IIь IIь IIь IIь IIь II� IIь II� II�ь IIь IIь II II\n",
      "Epoch 0: Train loss = 4.868232727050781, sample: Я большая языковая модель и � �� �� з� �� з� �� �� з з� з�\n",
      "Epoch 0: Train loss = 4.880791187286377, sample: Я большая языковая модель и еееееееееееееееееееееееее\n",
      "Epoch 0: Train loss = 6.201391696929932, sample: Я большая языковая модель и еееееееееееееееееееееееее\n",
      "Epoch 0: Train loss = 4.5586652755737305, sample: Я большая языковая модель и ттттттттттттттттттттттттт\n",
      "Epoch 0: Train loss = 4.309101104736328, sample: Я большая языковая модель и с с  с   с с с с с с с сс\n",
      "Epoch 0: Train loss = 4.027011394500732, sample: Я большая языковая модель и сасасасасассасасссасасасс\n",
      "Epoch 0: Train loss = 4.748059272766113, sample: Я большая языковая модель и сасасасасассасасссасасаса\n",
      "Epoch 0: Train loss = 3.998638391494751, sample: Я большая языковая модель и ррррррррррррррррррррррррр\n",
      "Epoch 0: Train loss = 4.541721820831299, sample: Я большая языковая модель и йййййййййййй�\n",
      "Epoch 0: Train loss = 4.418501377105713, sample: Я большая языковая модель и йййййййййй йй�\n",
      "Epoch 0: Train loss = 3.9648633003234863, sample: Я большая языковая модель и  з з з з з з з з з з з з �\n",
      "Epoch 0: Train loss = 3.6929538249969482, sample: Я большая языковая модель и ттттттттттттттттттттттттт\n",
      "Epoch 0: Train loss = 4.1235527992248535, sample: Я большая языковая модель и ттттттттттттттттттттттттт\n",
      "Epoch 0: Train loss = 3.837385654449463, sample: Я большая языковая модель и ттттттттттттттттттттттттт\n",
      "Epoch 0: Train loss = 5.331266403198242, sample: Я большая языковая модель и еееее вееееее веее веееее\n",
      "Epoch 0: Train loss = 3.7393105030059814, sample: Я большая языковая модель и еееееееееееееееееееееееее\n",
      "Epoch 0: Train loss = 3.5281789302825928, sample: Я большая языковая модель и са са са  са с с с сасе с\n",
      "Epoch 0: Train loss = 4.035463333129883, sample: Я большая языковая модель и ��га����гаганнга� г г\n",
      "Epoch 0: Train loss = 4.381076335906982, sample: Я большая языковая модель и �� г г � � г га� � � � � � га� � �\n",
      "Epoch 0: Train loss = 3.4073433876037598, sample: Я большая языковая модель и  г � � � � � � � � � � � � � � � � � � � � � � �\n",
      "Epoch 0: Train loss = 3.7357492446899414, sample: Я большая языковая модель и  � � � � � � � � � � � � � � � � � � � � � � � � �\n",
      "Epoch 0: Train loss = 3.8055708408355713, sample: Я большая языковая модель и  з з з � � з � � � � � � � � з з � � �\n",
      "Epoch 0: Train loss = 3.645873785018921, sample: Я большая языковая модель и  п п пттттттттт п пт� п� �\n",
      "Epoch 0: Train loss = 4.98631477355957, sample: Я большая языковая модель и  п п п � � п � � � � � � � � п п � � �\n",
      "Epoch 0: Train loss = 3.407064914703369, sample: Я большая языковая модель и  в в в � � в � � � � � � � � в в � � �\n",
      "Epoch 0: Train loss = 3.3681211471557617, sample: Я большая языковая модель и  й й й � � й � � � � � � � � й й � � �\n",
      "Epoch 0: Train loss = 3.3064310550689697, sample: Я большая языковая модель и            �ы й � й й й � � �\n",
      "Epoch 0: Train loss = 4.193755149841309, sample: Я большая языковая модель и            �ые  е �е �е  \n",
      "Epoch 0: Train loss = 3.4241931438446045, sample: Я большая языковая модель и  г геееееее г г � г г геее\n",
      "Epoch 0: Train loss = 3.513850450515747, sample: Я большая языковая модель и  п п пе Ї п Ї п Ї Ї п пе �\n",
      "Epoch 0: Train loss = 3.399519205093384, sample: Я большая языковая модель и  п п п Ї п пЇ Ї Ї пЇ п�\n",
      "Epoch 0: Train loss = 3.6224989891052246, sample: Я большая языковая модель и  п � � п � � п � � � � � � � � � п � � � �\n",
      "Epoch 0: Train loss = 3.4882423877716064, sample: Я большая языковая модель и  й � � � � � � � � � � � � � � � � � � � � � � �\n",
      "Epoch 0: Train loss = 3.7814297676086426, sample: Я большая языковая модель и  й й й Б й й й Б Бт й й й\n",
      "Epoch 0: Train loss = 3.333159923553467, sample: Я большая языковая модель и  й й й Б й й й Б Би й й й\n",
      "Epoch 0: Train loss = 3.2117249965667725, sample: Я большая языковая модель и  в в в Ў в в в Ў Ў ври в �\n",
      "Epoch 0: Train loss = 3.6153290271759033, sample: Я большая языковая модель и  в в в Ї в в в Ї Ї ври в �\n",
      "Epoch 0: Train loss = 3.191033363342285, sample: Я большая языковая модель и  п п пи пиии пи Їи пии пи\n",
      "Epoch 0: Train loss = 3.0686399936676025, sample: Я большая языковая модель и  п п пе п п п п п п п п�е\n",
      "Epoch 0: Train loss = 3.269153594970703, sample: Я большая языковая модель и  п пе пе пе пе п пе п пе �\n",
      "Epoch 0: Train loss = 3.274017095565796, sample: Я большая языковая модель и  г ге ге ге г г г ге ге г\n",
      "Epoch 0: Train loss = 3.3198421001434326, sample: Я большая языковая модель и  в ве в в ве в в в в в в �\n",
      "Epoch 0: Train loss = 3.2439494132995605, sample: Я большая языковая модель и  � � � � � � Б � � � � � � Б � � � � � � � � �\n",
      "Epoch 0: Train loss = 3.3134891986846924, sample: Я большая языковая модель и  � � � � � � Б � � � � � � Б � � � � � � � � �\n",
      "Epoch 0: Train loss = 3.8624987602233887, sample: Я большая языковая модель и  � � � � � � Б � � � � � � Б � � � � � � � � �\n",
      "Epoch 0: Train loss = 4.87369966506958, sample: Я большая языковая модель и  � � � � � � Ї � � � � � � Ї � � � � � � � � �\n",
      "Epoch 0: Train loss = 3.290538787841797, sample: Я большая языковая модель и  � пи пи пи пи пи пи пи пи\n",
      "Epoch 0: Train loss = 3.278557538986206, sample: Я большая языковая модель и  пи пи пи пи пи пи пи пи �\n",
      "Epoch 0: Train loss = 3.321765661239624, sample: Я большая языковая модель и  пи па�а�а�а�а п па па па\n",
      "Epoch 0: Train loss = 3.0714564323425293, sample: Я большая языковая модель и  в в в Ѕ в в в Ѕ в в в в �\n",
      "Epoch 0: Train loss = 3.8707799911499023, sample: Я большая языковая модель и  в в в Ѕ в в в Ѕ в в в в �\n",
      "Epoch 0: Train loss = 3.5316643714904785, sample: Я большая языковая модель и  � в в па в в в в в в в в �\n",
      "Epoch 0: Train loss = 7.1190338134765625, sample: Я большая языковая модель и  � о о о о о о о � о о о о �\n",
      "Epoch 0: Train loss = 3.551631212234497, sample: Я большая языковая модель и  � ге г � ге г г Б г � г г г\n",
      "Epoch 0: Train loss = 3.3668453693389893, sample: Я большая языковая модель и  й�а па��а па п � па па па\n",
      "Epoch 0: Train loss = 3.4655039310455322, sample: Я большая языковая модель и С�айБнаС�аБС�аС�а�\n",
      "Epoch 0: Train loss = 3.276404619216919, sample: Я большая языковая модель и паЇаЇа�апЇЇаппп�\n",
      "Epoch 0: Train loss = 3.2229537963867188, sample: Я большая языковая модель и паЇаЇа—ЇаЇЇапа—па\n",
      "Epoch 0: Train loss = 3.4692459106445312, sample: Я большая языковая модель и  � MЅ па MЅ па п � Ѕ � M па M �\n",
      "Epoch 0: Train loss = 3.1885597705841064, sample: Я большая языковая модель и  � в в в в в � в в в � в в в\n",
      "Epoch 0: Train loss = 3.3581159114837646, sample: Я большая языковая модель и  � в в в в � в в в в � в � в �\n",
      "Epoch 0: Train loss = 3.1252048015594482, sample: Я большая языковая модель и  � в в � � � � � � � � в � в � � в � � �\n",
      "Epoch 0: Train loss = 4.786828517913818, sample: Я большая языковая модель и  � � � в � � � � � � � � в � � � � � � � � � �\n",
      "Epoch 0: Train loss = 3.77384877204895, sample: Я большая языковая модель и  Б Б Б Б Б Б Б Б Б Б Б Б �\n",
      "Epoch 0: Train loss = 3.759666681289673, sample: Я большая языковая модель и  Б Б Б Б Б Б Б Б Б Б Б Б �\n",
      "Epoch 0: Train loss = 3.1824395656585693, sample: Я большая языковая модель и  Б Б Б Б Б Б Б Б Б Б Б Б �\n",
      "Epoch 0: Train loss = 4.250388145446777, sample: Я большая языковая модель и  па па�а па па п па п па �\n",
      "Epoch 0: Train loss = 3.213898181915283, sample: Я большая языковая модель и  ба ба�а ба ба б б ба ба�\n",
      "Epoch 0: Train loss = 3.3095455169677734, sample: Я большая языковая модель и  би би би би би � би би би\n",
      "Epoch 0: Train loss = 3.1601080894470215, sample: Я большая языковая модель и  в в в в в в в в в в в в �\n",
      "Epoch 0: Train loss = 3.6498219966888428, sample: Я большая языковая модель и  в в в в в в в в в в в в �\n",
      "Epoch 0: Train loss = 3.276045322418213, sample: Я большая языковая модель и  па па� п па в в в п в в �\n",
      "Epoch 0: Train loss = 3.294731616973877, sample: Я большая языковая модель и  па па�е пе па п пе п па �\n",
      "Epoch 0: Train loss = 4.983432292938232, sample: Я большая языковая модель и  п пе пе пе п п � пе п п п\n",
      "Epoch 0: Train loss = 3.2010014057159424, sample: Я большая языковая модель и  п пе пе пе па п пе п п п\n",
      "Epoch 0: Train loss = 3.327167510986328, sample: Я большая языковая модель и  па�а па па па п па п па �\n",
      "Epoch 0: Train loss = 3.469182252883911, sample: Я большая языковая модель и  ба�а ба ба ба б ба ба ба\n",
      "Epoch 0: Train loss = 3.1866817474365234, sample: Я большая языковая модель и  па� п па па па � па п па�\n",
      "Epoch 0: Train loss = 3.2629425525665283, sample: Я большая языковая модель и  па� п па па па � па п па�\n"
     ]
    },
    {
     "ename": "KeyboardInterrupt",
     "evalue": "",
     "output_type": "error",
     "traceback": [
      "\u001b[31m---------------------------------------------------------------------------\u001b[39m",
      "\u001b[31mKeyboardInterrupt\u001b[39m                         Traceback (most recent call last)",
      "\u001b[36mCell\u001b[39m\u001b[36m \u001b[39m\u001b[32mIn[33]\u001b[39m\u001b[32m, line 1\u001b[39m\n\u001b[32m----> \u001b[39m\u001b[32m1\u001b[39m \u001b[43mtrainer\u001b[49m\u001b[43m.\u001b[49m\u001b[43mtrain_model\u001b[49m\u001b[43m(\u001b[49m\u001b[43mmodel\u001b[49m\u001b[43m=\u001b[49m\u001b[43mmodel\u001b[49m\u001b[43m,\u001b[49m\u001b[43m \u001b[49m\u001b[43mtokenizer\u001b[49m\u001b[43m=\u001b[49m\u001b[43mtok\u001b[49m\u001b[43m,\u001b[49m\u001b[43m \u001b[49m\u001b[43mtrain_dataloader\u001b[49m\u001b[43m=\u001b[49m\u001b[43mtrain_data\u001b[49m\u001b[43m,\u001b[49m\u001b[43m \u001b[49m\u001b[43mval_dataloader\u001b[49m\u001b[43m=\u001b[49m\u001b[43mval_data\u001b[49m\u001b[43m,\u001b[49m\u001b[43m \u001b[49m\u001b[43mwriter\u001b[49m\u001b[43m=\u001b[49m\u001b[43mwriter\u001b[49m\u001b[43m)\u001b[49m\n\u001b[32m      2\u001b[39m writer.flush()\n",
      "\u001b[36mCell\u001b[39m\u001b[36m \u001b[39m\u001b[32mIn[28]\u001b[39m\u001b[32m, line 43\u001b[39m, in \u001b[36mTrainer.train_model\u001b[39m\u001b[34m(self, model, tokenizer, train_dataloader, val_dataloader, writer)\u001b[39m\n\u001b[32m     41\u001b[39m \u001b[38;5;28;01mwith\u001b[39;00m torch.no_grad():\n\u001b[32m     42\u001b[39m     \u001b[38;5;28;01mfor\u001b[39;00m x, y \u001b[38;5;129;01min\u001b[39;00m val_dataloader:\n\u001b[32m---> \u001b[39m\u001b[32m43\u001b[39m         x, y = \u001b[43mx\u001b[49m\u001b[43m.\u001b[49m\u001b[43mto\u001b[49m\u001b[43m(\u001b[49m\u001b[38;5;28;43mself\u001b[39;49m\u001b[43m.\u001b[49m\u001b[43mdevice\u001b[49m\u001b[43m)\u001b[49m, y.to(\u001b[38;5;28mself\u001b[39m.device)\n\u001b[32m     44\u001b[39m         logits = model(x)\n\u001b[32m     45\u001b[39m         loss = nn.functional.cross_entropy(logits.flatten(\u001b[32m0\u001b[39m, \u001b[32m1\u001b[39m), y.flatten())\n",
      "\u001b[31mKeyboardInterrupt\u001b[39m: "
     ]
    }
   ],
   "source": [
    "trainer.train_model(model=model, tokenizer=tok, train_dataloader=train_data, val_dataloader=val_data, writer=writer)\n",
    "writer.flush()"
   ]
  },
  {
   "cell_type": "markdown",
   "id": "b1b8e6e1",
   "metadata": {},
   "source": [
    "How to use tensorboard?  \n",
    "tensorboard --logdir=GPT_training or you name (instead of GPT_training) or tensorboard --logdir=runs  \n",
    "http://localhost:6006  "
   ]
  },
  {
   "cell_type": "markdown",
   "id": "27e8a0d5",
   "metadata": {},
   "source": [
    "### Saving weights"
   ]
  },
  {
   "cell_type": "code",
   "execution_count": 34,
   "id": "b5693566",
   "metadata": {},
   "outputs": [],
   "source": [
    "#torch.save(model.state_dict(), \"model.pth\") # without state of optimizer\n",
    "torch.save({\n",
    "    'model_state_dict': model.state_dict(),\n",
    "    'optimizer_state_dict': opt.state_dict(),\n",
    "    }, \"model_and_optimizer.pth\") # with state of optimizer"
   ]
  },
  {
   "cell_type": "markdown",
   "id": "846a67bb",
   "metadata": {},
   "source": [
    "### Loading weights"
   ]
  },
  {
   "cell_type": "code",
   "execution_count": 15,
   "id": "411cdd8a",
   "metadata": {},
   "outputs": [
    {
     "data": {
      "text/plain": [
       "GPTModel(\n",
       "  (tok_emb): Embedding(50257, 768)\n",
       "  (pos_emb): Embedding(1024, 768)\n",
       "  (drop_emb): Dropout(p=0.05, inplace=False)\n",
       "  (trf_blocks): Sequential(\n",
       "    (0): TransformerBlock(\n",
       "      (attn): MultiHeadAttention(\n",
       "        (W_key): Linear(in_features=768, out_features=768, bias=False)\n",
       "        (W_query): Linear(in_features=768, out_features=768, bias=False)\n",
       "        (W_value): Linear(in_features=768, out_features=768, bias=False)\n",
       "        (out_proj): Linear(in_features=768, out_features=768, bias=True)\n",
       "        (dropout): Dropout(p=0.05, inplace=False)\n",
       "      )\n",
       "      (ff): FeedForward(\n",
       "        (layers): Sequential(\n",
       "          (0): Linear(in_features=768, out_features=3072, bias=True)\n",
       "          (1): GELU()\n",
       "          (2): Linear(in_features=3072, out_features=768, bias=True)\n",
       "        )\n",
       "      )\n",
       "      (norm1): LayerNorm()\n",
       "      (norm2): LayerNorm()\n",
       "      (drop_resid): Dropout(p=0.05, inplace=False)\n",
       "    )\n",
       "    (1): TransformerBlock(\n",
       "      (attn): MultiHeadAttention(\n",
       "        (W_key): Linear(in_features=768, out_features=768, bias=False)\n",
       "        (W_query): Linear(in_features=768, out_features=768, bias=False)\n",
       "        (W_value): Linear(in_features=768, out_features=768, bias=False)\n",
       "        (out_proj): Linear(in_features=768, out_features=768, bias=True)\n",
       "        (dropout): Dropout(p=0.05, inplace=False)\n",
       "      )\n",
       "      (ff): FeedForward(\n",
       "        (layers): Sequential(\n",
       "          (0): Linear(in_features=768, out_features=3072, bias=True)\n",
       "          (1): GELU()\n",
       "          (2): Linear(in_features=3072, out_features=768, bias=True)\n",
       "        )\n",
       "      )\n",
       "      (norm1): LayerNorm()\n",
       "      (norm2): LayerNorm()\n",
       "      (drop_resid): Dropout(p=0.05, inplace=False)\n",
       "    )\n",
       "  )\n",
       "  (final_norm): LayerNorm((768,), eps=1e-05, elementwise_affine=True)\n",
       "  (out_head): Linear(in_features=768, out_features=50257, bias=False)\n",
       ")"
      ]
     },
     "execution_count": 15,
     "metadata": {},
     "output_type": "execute_result"
    }
   ],
   "source": [
    "checkpoint = torch.load(\"model_and_optimizer.pth\")\n",
    "model = GPTModel(GPT_CONFIG)\n",
    "model.load_state_dict(checkpoint['model_state_dict'])\n",
    "opt = torch.optim.AdamW(model.parameters(), lr=0.01)\n",
    "opt.load_state_dict(checkpoint['optimizer_state_dict'])\n",
    "model.train()"
   ]
  },
  {
   "cell_type": "code",
   "execution_count": 33,
   "id": "d346a2de",
   "metadata": {},
   "outputs": [
    {
     "data": {
      "text/plain": [
       "torch.Size([10, 1024])"
      ]
     },
     "execution_count": 33,
     "metadata": {},
     "output_type": "execute_result"
    }
   ],
   "source": [
    "torch.randint(0, 100, size=(10, 1024)).size()"
   ]
  },
  {
   "cell_type": "code",
   "execution_count": 36,
   "id": "d61b5479",
   "metadata": {},
   "outputs": [
    {
     "ename": "",
     "evalue": "",
     "output_type": "error",
     "traceback": [
      "\u001b[1;31mThe Kernel crashed while executing code in the current cell or a previous cell. \n",
      "\u001b[1;31mPlease review the code in the cell(s) to identify a possible cause of the failure. \n",
      "\u001b[1;31mClick <a href='https://aka.ms/vscodeJupyterKernelCrash'>here</a> for more info. \n",
      "\u001b[1;31mView Jupyter <a href='command:jupyter.viewOutput'>log</a> for further details."
     ]
    }
   ],
   "source": [
    "model(torch.randint(0, 100, size=(50, 1024))).size()"
   ]
  },
  {
   "cell_type": "code",
   "execution_count": null,
   "id": "1e049454",
   "metadata": {},
   "outputs": [],
   "source": []
  }
 ],
 "metadata": {
  "kernelspec": {
   "display_name": "LLM",
   "language": "python",
   "name": "python3"
  },
  "language_info": {
   "codemirror_mode": {
    "name": "ipython",
    "version": 3
   },
   "file_extension": ".py",
   "mimetype": "text/x-python",
   "name": "python",
   "nbconvert_exporter": "python",
   "pygments_lexer": "ipython3",
   "version": "3.12.9"
  }
 },
 "nbformat": 4,
 "nbformat_minor": 5
}
