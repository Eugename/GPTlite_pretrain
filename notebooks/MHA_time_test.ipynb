{
 "cells": [
  {
   "cell_type": "markdown",
   "id": "1add41a9",
   "metadata": {},
   "source": [
    "# Imports"
   ]
  },
  {
   "cell_type": "code",
   "execution_count": 1,
   "id": "14b62176",
   "metadata": {},
   "outputs": [
    {
     "data": {
      "text/plain": [
       "True"
      ]
     },
     "execution_count": 1,
     "metadata": {},
     "output_type": "execute_result"
    }
   ],
   "source": [
    "#import numpy as np\n",
    "import torch\n",
    "from torch import nn\n",
    "#from torch.utils.data import DataLoader, Dataset\n",
    "from torch.nn import functional as F\n",
    "from torch.nn.attention.flex_attention import flex_attention, create_block_mask\n",
    "#import transformers\n",
    "import pandas as pd\n",
    "import os\n",
    "import timeit\n",
    "import math\n",
    "from tqdm.notebook import tqdm\n",
    "import matplotlib.pyplot as plt\n",
    "import seaborn as sns\n",
    "from dotenv import load_dotenv\n",
    "load_dotenv()"
   ]
  },
  {
   "cell_type": "markdown",
   "id": "6fd5723f",
   "metadata": {},
   "source": [
    "Some of realization I take from here https://github.com/rasbt/LLMs-from-scratch/blob/main/ch03/02_bonus_efficient-multihead-attention/mha-implementations.ipynb"
   ]
  },
  {
   "cell_type": "markdown",
   "id": "a4600959",
   "metadata": {},
   "source": [
    "But I conduct investigation with CPU/GPU setup on Consumer CPU and Consumer GPU:\n",
    "Ryzen 7700X and RTX 4060ti 16gb"
   ]
  },
  {
   "cell_type": "markdown",
   "id": "11b266f2",
   "metadata": {},
   "source": [
    "# Config"
   ]
  },
  {
   "cell_type": "code",
   "execution_count": 2,
   "id": "2f691887",
   "metadata": {},
   "outputs": [],
   "source": [
    "torch.manual_seed(123)\n",
    "device = torch.device(\"cuda\" if torch.cuda.is_available() else \"cpu\")\n",
    "\n",
    "batch_size = 8\n",
    "context_len = 1024\n",
    "embed_dim = 768\n",
    "dropout=0.1 \n",
    "num_heads=4\n",
    "qkv_bias=False"
   ]
  },
  {
   "cell_type": "markdown",
   "id": "de04da3a",
   "metadata": {},
   "source": [
    "# Data"
   ]
  },
  {
   "cell_type": "code",
   "execution_count": 3,
   "id": "232a1b76",
   "metadata": {},
   "outputs": [],
   "source": [
    "embeddings = torch.randn((batch_size, context_len, embed_dim), device=device)"
   ]
  },
  {
   "cell_type": "markdown",
   "id": "a6a90723",
   "metadata": {},
   "source": [
    "# Different MHA"
   ]
  },
  {
   "cell_type": "markdown",
   "id": "c6c4cbf0",
   "metadata": {},
   "source": [
    "## Vanilla MHA"
   ]
  },
  {
   "cell_type": "code",
   "execution_count": 4,
   "id": "11ae9d0c",
   "metadata": {},
   "outputs": [],
   "source": [
    "class MultiHeadAttention(nn.Module):\n",
    "    def __init__(self, d_in, d_out, context_length, dropout, num_heads, qkv_bias=False):\n",
    "        super().__init__()\n",
    "        assert (d_out % num_heads == 0)\n",
    "\n",
    "        self.d_out = d_out\n",
    "        self.num_heads = num_heads\n",
    "        self.head_dim = d_out // num_heads\n",
    "\n",
    "        self.W_key = nn.Linear(d_in, d_out, bias=qkv_bias)\n",
    "        self.W_query = nn.Linear(d_in, d_out, bias=qkv_bias)\n",
    "        self.W_value = nn.Linear(d_in, d_out, bias=qkv_bias)\n",
    "        self.out_proj = nn.Linear(d_out, d_out)\n",
    "        self.dropout = nn.Dropout(dropout)\n",
    "        self.register_buffer('mask', torch.triu(torch.ones(context_length, context_length), diagonal=1))\n",
    "\n",
    "    def forward(self, x):\n",
    "        b, num_tokens, d_in = x.size()\n",
    "        queries = self.W_query(x) # b, num_tokens, self.d_out\n",
    "        keys = self.W_key(x) # b, num_tokens, self.d_out\n",
    "        values = self.W_value(x) # b, num_tokens, self.d_out\n",
    "\n",
    "        queries = queries.view(b, num_tokens, self.num_heads, self.head_dim)\n",
    "        keys = keys.view(b, num_tokens, self.num_heads, self.head_dim)\n",
    "        values = values.view(b, num_tokens, self.num_heads, self.head_dim)\n",
    "\n",
    "        queries = queries.transpose(1, 2) # b, self.num_heads, num_tokens, self.head_dim\n",
    "        keys = keys.transpose(1, 2) # b, self.num_heads, num_tokens, self.head_dim\n",
    "        values = values.transpose(1, 2) # b, self.num_heads, num_tokens, self.head_dim\n",
    "\n",
    "        att_scores = queries @ keys.transpose(2, 3) # shapes = (num_tokens, self.head_dim) @ (self.head_dim, num_tokens) -> (num_tokens, num_tokens)\n",
    "\n",
    "        mask_bool = self.mask.bool()[:num_tokens, :num_tokens]\n",
    "        att_scores.masked_fill_(mask_bool, -torch.inf)\n",
    "\n",
    "        att_weights = torch.softmax(att_scores / keys.shape[-1]**0.5, dim=-1)\n",
    "        att_weights = self.dropout(att_weights)\n",
    "\n",
    "        context_vec = (att_weights @ values).transpose(1, 2) # (num_tokens, num_tokens) @ (num_tokens, self.head_dim) -> (num_tokens, self.head_dim) -> transpose(1,2) of (b, self.num_heads, num_tokens, self.head_dim) ->\n",
    "        # -> (b, num_tokens, self.num_heads, self.head_dim) as view in previous code after inference of Linear layers\n",
    "        context_vec = context_vec.contiguous().view(b, num_tokens, self.d_out)\n",
    "        context_vec = self.out_proj(context_vec)\n",
    "        return context_vec"
   ]
  },
  {
   "cell_type": "code",
   "execution_count": null,
   "id": "43a973e6",
   "metadata": {},
   "outputs": [],
   "source": [
    "mha_vanilla = MultiHeadAttention(d_in=embed_dim, d_out=embed_dim, context_length=context_len, dropout=dropout, num_heads=num_heads, qkv_bias=qkv_bias)"
   ]
  },
  {
   "cell_type": "markdown",
   "id": "be58e2e7",
   "metadata": {},
   "source": [
    "GPU"
   ]
  },
  {
   "cell_type": "code",
   "execution_count": 132,
   "id": "51dc967b",
   "metadata": {},
   "outputs": [
    {
     "data": {
      "text/plain": [
       "MultiHeadAttention(\n",
       "  (W_key): Linear(in_features=768, out_features=768, bias=False)\n",
       "  (W_query): Linear(in_features=768, out_features=768, bias=False)\n",
       "  (W_value): Linear(in_features=768, out_features=768, bias=False)\n",
       "  (out_proj): Linear(in_features=768, out_features=768, bias=True)\n",
       "  (dropout): Dropout(p=0.1, inplace=False)\n",
       ")"
      ]
     },
     "execution_count": 132,
     "metadata": {},
     "output_type": "execute_result"
    }
   ],
   "source": [
    "mha_vanilla.to(device)"
   ]
  },
  {
   "cell_type": "code",
   "execution_count": 24,
   "id": "aac00abe",
   "metadata": {},
   "outputs": [
    {
     "name": "stdout",
     "output_type": "stream",
     "text": [
      "11.9 ms ± 603 μs per loop (mean ± std. dev. of 7 runs, 100 loops each)\n"
     ]
    }
   ],
   "source": [
    "%%timeit\n",
    "mha_vanilla(embeddings)"
   ]
  },
  {
   "cell_type": "code",
   "execution_count": 34,
   "id": "1b01e2b0",
   "metadata": {},
   "outputs": [
    {
     "data": {
      "text/plain": [
       "tensor([ 0.2587, -0.1688, -0.3089, -0.6273, -0.4353,  0.6085, -0.0685,  0.3217,\n",
       "        -0.1282, -0.3728, -0.3852,  0.6471,  0.0223, -0.4445, -0.0847,  0.0053,\n",
       "         0.0742,  0.2241,  0.2241,  0.2308], device='cuda:0',\n",
       "       grad_fn=<SliceBackward0>)"
      ]
     },
     "execution_count": 34,
     "metadata": {},
     "output_type": "execute_result"
    }
   ],
   "source": [
    "mha_vanilla(embeddings)[0][0][:20]"
   ]
  },
  {
   "cell_type": "markdown",
   "id": "be4ec731",
   "metadata": {},
   "source": [
    "CPU"
   ]
  },
  {
   "cell_type": "code",
   "execution_count": 25,
   "id": "9f688165",
   "metadata": {},
   "outputs": [],
   "source": [
    "mha_vanilla.to('cpu')\n",
    "embeddings_cpu = embeddings.to('cpu')"
   ]
  },
  {
   "cell_type": "code",
   "execution_count": 26,
   "id": "a5e2e413",
   "metadata": {},
   "outputs": [
    {
     "name": "stdout",
     "output_type": "stream",
     "text": [
      "383 ms ± 8.9 ms per loop (mean ± std. dev. of 7 runs, 1 loop each)\n"
     ]
    }
   ],
   "source": [
    "%%timeit\n",
    "mha_vanilla(embeddings_cpu)"
   ]
  },
  {
   "cell_type": "markdown",
   "id": "fc59ba19",
   "metadata": {},
   "source": [
    "Let's check autocast"
   ]
  },
  {
   "cell_type": "markdown",
   "id": "98925f20",
   "metadata": {},
   "source": [
    "GPU"
   ]
  },
  {
   "cell_type": "code",
   "execution_count": 137,
   "id": "83204dd9",
   "metadata": {},
   "outputs": [
    {
     "name": "stdout",
     "output_type": "stream",
     "text": [
      "616 μs ± 98.4 μs per loop (mean ± std. dev. of 7 runs, 1 loop each)\n"
     ]
    }
   ],
   "source": [
    "%%timeit\n",
    "with torch.autocast(device_type=device.type, dtype=torch.bfloat16):\n",
    "    mha_vanilla(embeddings)"
   ]
  },
  {
   "cell_type": "markdown",
   "id": "59e86b81",
   "metadata": {},
   "source": [
    "## Vanilla MHA with torch.functional softmax"
   ]
  },
  {
   "cell_type": "code",
   "execution_count": 5,
   "id": "528a5356",
   "metadata": {},
   "outputs": [],
   "source": [
    "class MultiHeadAttentionF(nn.Module):\n",
    "    def __init__(self, d_in, d_out, context_length, dropout, num_heads, qkv_bias=False):\n",
    "        super().__init__()\n",
    "        assert (d_out % num_heads == 0)\n",
    "\n",
    "        self.d_out = d_out\n",
    "        self.num_heads = num_heads\n",
    "        self.head_dim = d_out // num_heads\n",
    "\n",
    "        self.W_key = nn.Linear(d_in, d_out, bias=qkv_bias)\n",
    "        self.W_query = nn.Linear(d_in, d_out, bias=qkv_bias)\n",
    "        self.W_value = nn.Linear(d_in, d_out, bias=qkv_bias)\n",
    "        self.out_proj = nn.Linear(d_out, d_out)\n",
    "        self.dropout = nn.Dropout(dropout)\n",
    "        self.register_buffer('mask', torch.triu(torch.ones(context_length, context_length), diagonal=1))\n",
    "\n",
    "    def forward(self, x):\n",
    "        b, num_tokens, d_in = x.size()\n",
    "        queries = self.W_query(x) # b, num_tokens, self.d_out\n",
    "        keys = self.W_key(x) # b, num_tokens, self.d_out\n",
    "        values = self.W_value(x) # b, num_tokens, self.d_out\n",
    "\n",
    "        queries = queries.view(b, num_tokens, self.num_heads, self.head_dim)\n",
    "        keys = keys.view(b, num_tokens, self.num_heads, self.head_dim)\n",
    "        values = values.view(b, num_tokens, self.num_heads, self.head_dim)\n",
    "\n",
    "        queries = queries.transpose(1, 2) # b, self.num_heads, num_tokens, self.head_dim\n",
    "        keys = keys.transpose(1, 2) # b, self.num_heads, num_tokens, self.head_dim\n",
    "        values = values.transpose(1, 2) # b, self.num_heads, num_tokens, self.head_dim\n",
    "\n",
    "        att_scores = queries @ keys.transpose(2, 3) # shapes = (num_tokens, self.head_dim) @ (self.head_dim, num_tokens) -> (num_tokens, num_tokens)\n",
    "\n",
    "        mask_bool = self.mask.bool()[:num_tokens, :num_tokens]\n",
    "        att_scores.masked_fill_(mask_bool, -torch.inf)\n",
    "\n",
    "        att_weights = F.softmax(att_scores / keys.shape[-1]**0.5, dim=-1)\n",
    "        att_weights = self.dropout(att_weights)\n",
    "\n",
    "        context_vec = (att_weights @ values).transpose(1, 2) # (num_tokens, num_tokens) @ (num_tokens, self.head_dim) -> (num_tokens, self.head_dim) -> transpose(1,2) of (b, self.num_heads, num_tokens, self.head_dim) ->\n",
    "        # -> (b, num_tokens, self.num_heads, self.head_dim) as view in previous code after inference of Linear layers\n",
    "        context_vec = context_vec.contiguous().view(b, num_tokens, self.d_out)\n",
    "        context_vec = self.out_proj(context_vec)\n",
    "        return context_vec"
   ]
  },
  {
   "cell_type": "code",
   "execution_count": null,
   "id": "06f9db88",
   "metadata": {},
   "outputs": [],
   "source": [
    "mha_vanillaF = MultiHeadAttentionF(d_in=embed_dim, d_out=embed_dim, context_length=context_len, dropout=dropout, num_heads=num_heads, qkv_bias=qkv_bias)"
   ]
  },
  {
   "cell_type": "markdown",
   "id": "cf96d2db",
   "metadata": {},
   "source": [
    "GPU"
   ]
  },
  {
   "cell_type": "code",
   "execution_count": 48,
   "id": "0321865a",
   "metadata": {},
   "outputs": [
    {
     "data": {
      "text/plain": [
       "MultiHeadAttentionF(\n",
       "  (W_key): Linear(in_features=768, out_features=768, bias=False)\n",
       "  (W_query): Linear(in_features=768, out_features=768, bias=False)\n",
       "  (W_value): Linear(in_features=768, out_features=768, bias=False)\n",
       "  (out_proj): Linear(in_features=768, out_features=768, bias=True)\n",
       "  (dropout): Dropout(p=0.1, inplace=False)\n",
       ")"
      ]
     },
     "execution_count": 48,
     "metadata": {},
     "output_type": "execute_result"
    }
   ],
   "source": [
    "mha_vanillaF.to(device)"
   ]
  },
  {
   "cell_type": "code",
   "execution_count": 49,
   "id": "39b6484b",
   "metadata": {},
   "outputs": [
    {
     "name": "stdout",
     "output_type": "stream",
     "text": [
      "11.8 ms ± 582 μs per loop (mean ± std. dev. of 7 runs, 100 loops each)\n"
     ]
    }
   ],
   "source": [
    "%%timeit\n",
    "mha_vanillaF(embeddings)"
   ]
  },
  {
   "cell_type": "code",
   "execution_count": 50,
   "id": "9ab775fd",
   "metadata": {},
   "outputs": [
    {
     "data": {
      "text/plain": [
       "tensor([ 0.2789, -0.5492, -0.1859,  0.3443, -0.0859,  0.2804,  0.0042,  0.2920,\n",
       "         0.0533,  0.2780, -0.1724, -0.0357,  0.4125,  0.1117, -0.0151,  0.2045,\n",
       "        -0.2745, -0.6634, -0.4224,  0.0542], device='cuda:0',\n",
       "       grad_fn=<SliceBackward0>)"
      ]
     },
     "execution_count": 50,
     "metadata": {},
     "output_type": "execute_result"
    }
   ],
   "source": [
    "mha_vanillaF(embeddings)[0][0][:20]"
   ]
  },
  {
   "cell_type": "markdown",
   "id": "c4fa8134",
   "metadata": {},
   "source": [
    "CPU"
   ]
  },
  {
   "cell_type": "code",
   "execution_count": 52,
   "id": "533d1b5e",
   "metadata": {},
   "outputs": [],
   "source": [
    "mha_vanillaF.to('cpu')\n",
    "embeddings_cpu = embeddings.to('cpu')"
   ]
  },
  {
   "cell_type": "code",
   "execution_count": 53,
   "id": "c0856388",
   "metadata": {},
   "outputs": [
    {
     "name": "stdout",
     "output_type": "stream",
     "text": [
      "397 ms ± 19 ms per loop (mean ± std. dev. of 7 runs, 1 loop each)\n"
     ]
    }
   ],
   "source": [
    "%%timeit\n",
    "mha_vanillaF(embeddings_cpu)"
   ]
  },
  {
   "cell_type": "markdown",
   "id": "453e540a",
   "metadata": {},
   "source": [
    "Let's check autocast"
   ]
  },
  {
   "cell_type": "markdown",
   "id": "0595a8c2",
   "metadata": {},
   "source": [
    "GPU"
   ]
  },
  {
   "cell_type": "code",
   "execution_count": null,
   "id": "081e730d",
   "metadata": {},
   "outputs": [
    {
     "name": "stdout",
     "output_type": "stream",
     "text": [
      "616 μs ± 98.4 μs per loop (mean ± std. dev. of 7 runs, 1 loop each)\n"
     ]
    }
   ],
   "source": [
    "%%timeit\n",
    "with torch.autocast(device_type=device.type, dtype=torch.bfloat16):\n",
    "    mha_vanilla(embeddings)"
   ]
  },
  {
   "cell_type": "markdown",
   "id": "378ac692",
   "metadata": {},
   "source": [
    "## Combined QKV MHA"
   ]
  },
  {
   "cell_type": "code",
   "execution_count": 6,
   "id": "24644376",
   "metadata": {},
   "outputs": [],
   "source": [
    "class MultiHeadAttentionQKV(nn.Module):\n",
    "    def __init__(self, d_in, d_out, context_length, dropout, num_heads, qkv_bias=False):\n",
    "        super().__init__()\n",
    "        assert (d_out % num_heads == 0)\n",
    "\n",
    "        self.d_out = d_out\n",
    "        self.num_heads = num_heads\n",
    "        self.head_dim = d_out // num_heads\n",
    "\n",
    "        self.W_qkv = nn.Linear(d_in, 3 * d_out, bias=qkv_bias)\n",
    "        self.out_proj = nn.Linear(d_out, d_out)\n",
    "        self.dropout = nn.Dropout(dropout)\n",
    "        self.register_buffer('mask', torch.triu(torch.ones(context_length, context_length), diagonal=1))\n",
    "\n",
    "    def forward(self, x):\n",
    "        b, num_tokens, d_in = x.size()\n",
    "\n",
    "        qkv = self.W_qkv(x) # b, num_tokens, 3 * self.d_out\n",
    "        queries, keys, values = qkv.split(self.d_out, dim=2) # third dimension (3 * self.d_out) splitted onto 3 separate weight matrix\n",
    "\n",
    "        queries = queries.view(b, num_tokens, self.num_heads, self.head_dim)\n",
    "        keys = keys.view(b, num_tokens, self.num_heads, self.head_dim)\n",
    "        values = values.view(b, num_tokens, self.num_heads, self.head_dim)\n",
    "\n",
    "        queries = queries.transpose(1, 2) # b, self.num_heads, num_tokens, self.head_dim\n",
    "        keys = keys.transpose(1, 2) # b, self.num_heads, num_tokens, self.head_dim\n",
    "        values = values.transpose(1, 2) # b, self.num_heads, num_tokens, self.head_dim\n",
    "\n",
    "        att_scores = queries @ keys.transpose(2, 3) # shapes = (num_tokens, self.head_dim) @ (self.head_dim, num_tokens) -> (num_tokens, num_tokens)\n",
    "\n",
    "        mask_bool = self.mask.bool()[:num_tokens, :num_tokens]\n",
    "        att_scores.masked_fill_(mask_bool, -torch.inf)\n",
    "\n",
    "        att_weights = torch.softmax(att_scores / keys.shape[-1]**0.5, dim=-1)\n",
    "        att_weights = self.dropout(att_weights)\n",
    "\n",
    "        context_vec = (att_weights @ values).transpose(1, 2) # (num_tokens, num_tokens) @ (num_tokens, self.head_dim) -> (num_tokens, self.head_dim) -> transpose(1,2) of (b, self.num_heads, num_tokens, self.head_dim) ->\n",
    "        # -> (b, num_tokens, self.num_heads, self.head_dim) as view in previous code after inference of Linear layers\n",
    "        context_vec = context_vec.contiguous().view(b, num_tokens, self.d_out)\n",
    "        context_vec = self.out_proj(context_vec)\n",
    "        return context_vec"
   ]
  },
  {
   "cell_type": "code",
   "execution_count": null,
   "id": "053bb7b0",
   "metadata": {},
   "outputs": [],
   "source": [
    "mha_qkv = MultiHeadAttentionQKV(d_in=embed_dim, d_out=embed_dim, context_length=context_len, dropout=dropout, num_heads=num_heads, qkv_bias=qkv_bias)"
   ]
  },
  {
   "cell_type": "markdown",
   "id": "41c45308",
   "metadata": {},
   "source": [
    "GPU"
   ]
  },
  {
   "cell_type": "code",
   "execution_count": 56,
   "id": "0f491919",
   "metadata": {},
   "outputs": [
    {
     "data": {
      "text/plain": [
       "MultiHeadAttentionQKV(\n",
       "  (W_qkv): Linear(in_features=768, out_features=2304, bias=False)\n",
       "  (out_proj): Linear(in_features=768, out_features=768, bias=True)\n",
       "  (dropout): Dropout(p=0.1, inplace=False)\n",
       ")"
      ]
     },
     "execution_count": 56,
     "metadata": {},
     "output_type": "execute_result"
    }
   ],
   "source": [
    "mha_qkv.to(device)"
   ]
  },
  {
   "cell_type": "code",
   "execution_count": 57,
   "id": "e28ef47a",
   "metadata": {},
   "outputs": [
    {
     "name": "stdout",
     "output_type": "stream",
     "text": [
      "11.9 ms ± 738 μs per loop (mean ± std. dev. of 7 runs, 100 loops each)\n"
     ]
    }
   ],
   "source": [
    "%%timeit\n",
    "mha_qkv(embeddings)"
   ]
  },
  {
   "cell_type": "code",
   "execution_count": 58,
   "id": "6af794cd",
   "metadata": {},
   "outputs": [
    {
     "data": {
      "text/plain": [
       "tensor([-0.1313, -0.5466, -0.1908, -0.1089,  0.3935,  0.3790, -0.0702,  0.2113,\n",
       "        -0.4252,  0.2259,  0.1563,  0.1851,  0.3420, -0.2861, -0.5285,  0.5380,\n",
       "        -0.1931, -0.1920, -0.0404,  0.3192], device='cuda:0',\n",
       "       grad_fn=<SliceBackward0>)"
      ]
     },
     "execution_count": 58,
     "metadata": {},
     "output_type": "execute_result"
    }
   ],
   "source": [
    "mha_qkv(embeddings)[0][0][:20]"
   ]
  },
  {
   "cell_type": "markdown",
   "id": "356f2cb2",
   "metadata": {},
   "source": [
    "CPU"
   ]
  },
  {
   "cell_type": "code",
   "execution_count": 59,
   "id": "ba85c7d1",
   "metadata": {},
   "outputs": [],
   "source": [
    "mha_qkv.to('cpu')\n",
    "embeddings_cpu = embeddings.to('cpu')"
   ]
  },
  {
   "cell_type": "code",
   "execution_count": 60,
   "id": "5d0a4c0e",
   "metadata": {},
   "outputs": [
    {
     "name": "stdout",
     "output_type": "stream",
     "text": [
      "376 ms ± 7.94 ms per loop (mean ± std. dev. of 7 runs, 1 loop each)\n"
     ]
    }
   ],
   "source": [
    "%%timeit\n",
    "mha_qkv(embeddings_cpu)"
   ]
  },
  {
   "cell_type": "markdown",
   "id": "a8cde433",
   "metadata": {},
   "source": [
    "Let's check autocast"
   ]
  },
  {
   "cell_type": "markdown",
   "id": "1df23a6a",
   "metadata": {},
   "source": [
    "GPU"
   ]
  },
  {
   "cell_type": "code",
   "execution_count": null,
   "id": "3692afa6",
   "metadata": {},
   "outputs": [
    {
     "name": "stdout",
     "output_type": "stream",
     "text": [
      "616 μs ± 98.4 μs per loop (mean ± std. dev. of 7 runs, 1 loop each)\n"
     ]
    }
   ],
   "source": [
    "%%timeit\n",
    "with torch.autocast(device_type=device.type, dtype=torch.bfloat16):\n",
    "    mha_vanilla(embeddings)"
   ]
  },
  {
   "cell_type": "markdown",
   "id": "e521f81d",
   "metadata": {},
   "source": [
    "## MHA with Einsum"
   ]
  },
  {
   "cell_type": "code",
   "execution_count": 7,
   "id": "76109667",
   "metadata": {},
   "outputs": [],
   "source": [
    "import math\n",
    "\n",
    "class MHAEinsum(nn.Module):\n",
    "\n",
    "    def __init__(self, d_in, d_out, context_length, dropout, num_heads, qkv_bias=False):\n",
    "        super().__init__()\n",
    "        assert d_out % num_heads == 0, \"d_out must be divisible by num_heads\"\n",
    "\n",
    "        self.d_out = d_out\n",
    "        self.num_heads = num_heads\n",
    "        self.head_dim = d_out // num_heads\n",
    "\n",
    "        # Initialize parameters for Q, K, V\n",
    "        self.W_query = nn.Parameter(torch.randn(d_out, d_in))\n",
    "        self.W_key = nn.Parameter(torch.randn(d_out, d_in))\n",
    "        self.W_value = nn.Parameter(torch.randn(d_out, d_in))\n",
    "\n",
    "        if qkv_bias:\n",
    "            self.bias_q = nn.Parameter(torch.zeros(d_out))\n",
    "            self.bias_k = nn.Parameter(torch.zeros(d_out))\n",
    "            self.bias_v = nn.Parameter(torch.zeros(d_out))\n",
    "        else:\n",
    "            self.register_parameter(\"bias_q\", None)\n",
    "            self.register_parameter(\"bias_k\", None)\n",
    "            self.register_parameter(\"bias_v\", None)\n",
    "\n",
    "        self.out_proj = nn.Linear(d_out, d_out)\n",
    "        self.dropout = nn.Dropout(dropout)\n",
    "        self.register_buffer(\"mask\", torch.triu(torch.ones(context_length, context_length), diagonal=1))\n",
    "\n",
    "        # Initialize parameters\n",
    "        self.reset_parameters()\n",
    "\n",
    "\n",
    "    def reset_parameters(self):\n",
    "        nn.init.kaiming_uniform_(self.W_query, a=math.sqrt(5))\n",
    "        nn.init.kaiming_uniform_(self.W_key, a=math.sqrt(5))\n",
    "        nn.init.kaiming_uniform_(self.W_value, a=math.sqrt(5))\n",
    "        if self.bias_q is not None:\n",
    "            fan_in, _ = nn.init._calculate_fan_in_and_fan_out(self.W_query)\n",
    "            bound = 1 / math.sqrt(fan_in)\n",
    "            nn.init.uniform_(self.bias_q, -bound, bound)\n",
    "            nn.init.uniform_(self.bias_k, -bound, bound)\n",
    "            nn.init.uniform_(self.bias_v, -bound, bound)\n",
    "\n",
    "    def forward(self, x):\n",
    "        b, n, _ = x.shape\n",
    "\n",
    "        # Calculate Q, K, V using einsum, first perform linear transformations\n",
    "        Q = torch.einsum(\"bnd,di->bni\", x, self.W_query)\n",
    "        K = torch.einsum(\"bnd,di->bni\", x, self.W_key)\n",
    "        V = torch.einsum(\"bnd,di->bni\", x, self.W_value)\n",
    "\n",
    "        # Add biases if they are used\n",
    "        if self.bias_q is not None:\n",
    "            Q += self.bias_q\n",
    "            K += self.bias_k\n",
    "            V += self.bias_v\n",
    "\n",
    "        # Reshape for multi-head attention\n",
    "        Q = Q.view(b, n, self.num_heads, self.head_dim).transpose(1, 2)\n",
    "        K = K.view(b, n, self.num_heads, self.head_dim).transpose(1, 2)\n",
    "        V = V.view(b, n, self.num_heads, self.head_dim).transpose(1, 2)\n",
    "\n",
    "        # Scaled dot-product attention\n",
    "        scores = torch.einsum(\"bhnd,bhmd->bhnm\", Q, K) / (self.head_dim ** 0.5)\n",
    "\n",
    "        # Apply mask\n",
    "        mask = self.mask[:n, :n].unsqueeze(0).unsqueeze(1).expand(b, self.num_heads, n, n)\n",
    "        scores = scores.masked_fill(mask.bool(), -torch.inf)\n",
    "\n",
    "        # Softmax and dropout\n",
    "        attn_weights = torch.softmax(scores, dim=-1)\n",
    "        attn_weights = self.dropout(attn_weights)\n",
    "\n",
    "        # Aggregate the attended context vectors\n",
    "        context_vec = torch.einsum(\"bhnm,bhmd->bhnd\", attn_weights, V)\n",
    "\n",
    "        # Combine heads and project the output\n",
    "        context_vec = context_vec.transpose(1, 2).reshape(b, n, self.d_out)\n",
    "        context_vec = self.out_proj(context_vec)\n",
    "\n",
    "        return context_vec"
   ]
  },
  {
   "cell_type": "code",
   "execution_count": null,
   "id": "f831a7e6",
   "metadata": {},
   "outputs": [],
   "source": [
    "mha_ein = MHAEinsum(d_in=embed_dim, d_out=embed_dim, context_length=context_len, dropout=dropout, num_heads=num_heads, qkv_bias=qkv_bias)"
   ]
  },
  {
   "cell_type": "markdown",
   "id": "5ab98607",
   "metadata": {},
   "source": [
    "GPU"
   ]
  },
  {
   "cell_type": "code",
   "execution_count": 63,
   "id": "8ee3e12f",
   "metadata": {},
   "outputs": [
    {
     "data": {
      "text/plain": [
       "MHAEinsum(\n",
       "  (out_proj): Linear(in_features=768, out_features=768, bias=True)\n",
       "  (dropout): Dropout(p=0.1, inplace=False)\n",
       ")"
      ]
     },
     "execution_count": 63,
     "metadata": {},
     "output_type": "execute_result"
    }
   ],
   "source": [
    "mha_ein.to(device)"
   ]
  },
  {
   "cell_type": "code",
   "execution_count": 64,
   "id": "c2c84b9b",
   "metadata": {},
   "outputs": [
    {
     "name": "stdout",
     "output_type": "stream",
     "text": [
      "13.1 ms ± 123 μs per loop (mean ± std. dev. of 7 runs, 100 loops each)\n"
     ]
    }
   ],
   "source": [
    "%%timeit\n",
    "mha_ein(embeddings)"
   ]
  },
  {
   "cell_type": "code",
   "execution_count": 65,
   "id": "2a6166da",
   "metadata": {},
   "outputs": [
    {
     "data": {
      "text/plain": [
       "tensor([-0.4242, -0.1845,  0.9829, -0.4848, -0.3471,  0.4352, -0.0564,  0.5896,\n",
       "         0.2838, -0.6671,  0.3433, -0.7988, -0.0607,  0.3830,  0.0138, -0.3838,\n",
       "        -0.0921, -0.4485, -0.1877,  0.1288], device='cuda:0',\n",
       "       grad_fn=<SliceBackward0>)"
      ]
     },
     "execution_count": 65,
     "metadata": {},
     "output_type": "execute_result"
    }
   ],
   "source": [
    "mha_ein(embeddings)[0][0][:20]"
   ]
  },
  {
   "cell_type": "markdown",
   "id": "c3589d2e",
   "metadata": {},
   "source": [
    "CPU"
   ]
  },
  {
   "cell_type": "code",
   "execution_count": 66,
   "id": "bd2b14ba",
   "metadata": {},
   "outputs": [],
   "source": [
    "mha_ein.to('cpu')\n",
    "embeddings_cpu = embeddings.to('cpu')"
   ]
  },
  {
   "cell_type": "code",
   "execution_count": 67,
   "id": "7b751fb1",
   "metadata": {},
   "outputs": [
    {
     "name": "stdout",
     "output_type": "stream",
     "text": [
      "394 ms ± 12.6 ms per loop (mean ± std. dev. of 7 runs, 1 loop each)\n"
     ]
    }
   ],
   "source": [
    "%%timeit\n",
    "mha_ein(embeddings_cpu)"
   ]
  },
  {
   "cell_type": "markdown",
   "id": "03467617",
   "metadata": {},
   "source": [
    "Let's check autocast"
   ]
  },
  {
   "cell_type": "markdown",
   "id": "27f12516",
   "metadata": {},
   "source": [
    "GPU"
   ]
  },
  {
   "cell_type": "code",
   "execution_count": null,
   "id": "5f63cfc5",
   "metadata": {},
   "outputs": [
    {
     "name": "stdout",
     "output_type": "stream",
     "text": [
      "616 μs ± 98.4 μs per loop (mean ± std. dev. of 7 runs, 1 loop each)\n"
     ]
    }
   ],
   "source": [
    "%%timeit\n",
    "with torch.autocast(device_type=device.type, dtype=torch.bfloat16):\n",
    "    mha_vanilla(embeddings)"
   ]
  },
  {
   "cell_type": "markdown",
   "id": "b74499b0",
   "metadata": {},
   "source": [
    "## MHA with Scaled-dot-product"
   ]
  },
  {
   "cell_type": "code",
   "execution_count": 8,
   "id": "181301e1",
   "metadata": {},
   "outputs": [],
   "source": [
    "class MultiHeadAttentionDP(nn.Module):\n",
    "    def __init__(self, d_in, d_out, context_length, dropout, num_heads, qkv_bias=False):\n",
    "        super().__init__()\n",
    "        assert (d_out % num_heads == 0)\n",
    "\n",
    "        self.d_out = d_out\n",
    "        self.num_heads = num_heads\n",
    "        self.head_dim = d_out // num_heads\n",
    "\n",
    "        self.W_key = nn.Linear(d_in, d_out, bias=qkv_bias)\n",
    "        self.W_query = nn.Linear(d_in, d_out, bias=qkv_bias)\n",
    "        self.W_value = nn.Linear(d_in, d_out, bias=qkv_bias)\n",
    "        self.out_proj = nn.Linear(d_out, d_out)\n",
    "        self.dropout = dropout#nn.Dropout(dropout)\n",
    "        self.register_buffer('mask', torch.triu(torch.ones(context_length, context_length), diagonal=1))\n",
    "\n",
    "    def forward(self, x):\n",
    "        b, num_tokens, d_in = x.size()\n",
    "        queries = self.W_query(x) # b, num_tokens, self.d_out\n",
    "        keys = self.W_key(x) # b, num_tokens, self.d_out\n",
    "        values = self.W_value(x) # b, num_tokens, self.d_out\n",
    "\n",
    "        queries = queries.view(b, num_tokens, self.num_heads, self.head_dim)\n",
    "        keys = keys.view(b, num_tokens, self.num_heads, self.head_dim)\n",
    "        values = values.view(b, num_tokens, self.num_heads, self.head_dim)\n",
    "\n",
    "        queries = queries.transpose(1, 2) # b, self.num_heads, num_tokens, self.head_dim\n",
    "        keys = keys.transpose(1, 2) # b, self.num_heads, num_tokens, self.head_dim\n",
    "        values = values.transpose(1, 2) # b, self.num_heads, num_tokens, self.head_dim\n",
    "\n",
    "        # All code below we replace with torch.nn.functional.scaled_dot_product_attention\n",
    "        context_vec = torch.nn.functional.scaled_dot_product_attention(queries, keys, values, attn_mask=None, dropout_p=self.dropout if self.training else 0, is_causal=True)\n",
    "\n",
    "        # att_scores = queries @ keys.transpose(2, 3) # shapes = (num_tokens, self.head_dim) @ (self.head_dim, num_tokens) -> (num_tokens, num_tokens)\n",
    "        # mask_bool = self.mask.bool()[:num_tokens, :num_tokens]\n",
    "        # att_scores.masked_fill_(mask_bool, -torch.inf)\n",
    "        # att_weights = torch.softmax(att_scores / keys.shape[-1]**0.5, dim=-1)\n",
    "        # att_weights = self.dropout(att_weights)\n",
    "        # context_vec = (att_weights @ values).transpose(1, 2) # (num_tokens, num_tokens) @ (num_tokens, self.head_dim) -> (num_tokens, self.head_dim) -> transpose(1,2) of (b, self.num_heads, num_tokens, self.head_dim) ->\n",
    "        # # -> (b, num_tokens, self.num_heads, self.head_dim) as view in previous code after inference of Linear layers\n",
    "        \n",
    "        # Reshape etc\n",
    "        context_vec = context_vec.transpose(1, 2).contiguous().view(b, num_tokens, self.d_out)\n",
    "        context_vec = self.out_proj(context_vec)\n",
    "        return context_vec"
   ]
  },
  {
   "cell_type": "code",
   "execution_count": null,
   "id": "19f3a20f",
   "metadata": {},
   "outputs": [],
   "source": [
    "mha_dp = MultiHeadAttentionDP(d_in=embed_dim, d_out=embed_dim, context_length=context_len, dropout=dropout, num_heads=num_heads, qkv_bias=qkv_bias)"
   ]
  },
  {
   "cell_type": "markdown",
   "id": "13161401",
   "metadata": {},
   "source": [
    "GPU"
   ]
  },
  {
   "cell_type": "code",
   "execution_count": 76,
   "id": "b591a97f",
   "metadata": {},
   "outputs": [
    {
     "data": {
      "text/plain": [
       "MultiHeadAttentionDP(\n",
       "  (W_key): Linear(in_features=768, out_features=768, bias=False)\n",
       "  (W_query): Linear(in_features=768, out_features=768, bias=False)\n",
       "  (W_value): Linear(in_features=768, out_features=768, bias=False)\n",
       "  (out_proj): Linear(in_features=768, out_features=768, bias=True)\n",
       ")"
      ]
     },
     "execution_count": 76,
     "metadata": {},
     "output_type": "execute_result"
    }
   ],
   "source": [
    "mha_dp.to(device)"
   ]
  },
  {
   "cell_type": "code",
   "execution_count": 77,
   "id": "24a56c44",
   "metadata": {},
   "outputs": [
    {
     "name": "stdout",
     "output_type": "stream",
     "text": [
      "6.92 ms ± 29.3 μs per loop (mean ± std. dev. of 7 runs, 1,000 loops each)\n"
     ]
    }
   ],
   "source": [
    "%%timeit\n",
    "mha_dp(embeddings)"
   ]
  },
  {
   "cell_type": "markdown",
   "id": "4cf607bb",
   "metadata": {},
   "source": [
    "x2 boost"
   ]
  },
  {
   "cell_type": "code",
   "execution_count": 78,
   "id": "815504c8",
   "metadata": {},
   "outputs": [
    {
     "data": {
      "text/plain": [
       "tensor([-0.6507,  0.9647,  1.0425, -0.4682,  0.7048,  0.5620, -0.1579,  0.5434,\n",
       "        -0.1678, -0.6890, -0.0766, -0.1730, -0.1573,  0.0446, -0.3361, -0.0669,\n",
       "        -0.3259,  0.2017,  0.4310,  0.1543], device='cuda:0',\n",
       "       grad_fn=<SliceBackward0>)"
      ]
     },
     "execution_count": 78,
     "metadata": {},
     "output_type": "execute_result"
    }
   ],
   "source": [
    "mha_dp(embeddings)[0][0][:20]"
   ]
  },
  {
   "cell_type": "markdown",
   "id": "93b69b8c",
   "metadata": {},
   "source": [
    "CPU"
   ]
  },
  {
   "cell_type": "code",
   "execution_count": 79,
   "id": "acfe5705",
   "metadata": {},
   "outputs": [],
   "source": [
    "mha_dp.to('cpu')\n",
    "embeddings_cpu = embeddings.to('cpu')"
   ]
  },
  {
   "cell_type": "code",
   "execution_count": 80,
   "id": "86f7116c",
   "metadata": {},
   "outputs": [
    {
     "name": "stdout",
     "output_type": "stream",
     "text": [
      "400 ms ± 22.6 ms per loop (mean ± std. dev. of 7 runs, 1 loop each)\n"
     ]
    }
   ],
   "source": [
    "%%timeit\n",
    "mha_dp(embeddings_cpu)"
   ]
  },
  {
   "cell_type": "markdown",
   "id": "d68e1e93",
   "metadata": {},
   "source": [
    "Let's check autocast"
   ]
  },
  {
   "cell_type": "markdown",
   "id": "48374109",
   "metadata": {},
   "source": [
    "GPU"
   ]
  },
  {
   "cell_type": "code",
   "execution_count": null,
   "id": "cf8e12c7",
   "metadata": {},
   "outputs": [
    {
     "name": "stdout",
     "output_type": "stream",
     "text": [
      "616 μs ± 98.4 μs per loop (mean ± std. dev. of 7 runs, 1 loop each)\n"
     ]
    }
   ],
   "source": [
    "%%timeit\n",
    "with torch.autocast(device_type=device.type, dtype=torch.bfloat16):\n",
    "    mha_vanilla(embeddings)"
   ]
  },
  {
   "cell_type": "markdown",
   "id": "ea344ae7",
   "metadata": {},
   "source": [
    "## MHA with Scaled-dot-product and combined QKV"
   ]
  },
  {
   "cell_type": "code",
   "execution_count": 9,
   "id": "2e9a0d74",
   "metadata": {},
   "outputs": [],
   "source": [
    "class MultiHeadAttentionDP_QKV(nn.Module):\n",
    "    def __init__(self, d_in, d_out, context_length, dropout, num_heads, qkv_bias=False):\n",
    "        super().__init__()\n",
    "        assert (d_out % num_heads == 0)\n",
    "\n",
    "        self.d_out = d_out\n",
    "        self.num_heads = num_heads\n",
    "        self.head_dim = d_out // num_heads\n",
    "\n",
    "        self.W_qkv = nn.Linear(d_in, 3 * d_out, bias=qkv_bias)\n",
    "\n",
    "        self.out_proj = nn.Linear(d_out, d_out)\n",
    "        self.dropout = dropout#nn.Dropout(dropout)\n",
    "        self.register_buffer('mask', torch.triu(torch.ones(context_length, context_length), diagonal=1))\n",
    "\n",
    "    def forward(self, x):\n",
    "        b, num_tokens, d_in = x.size()\n",
    "        qkv = self.W_qkv(x) # b, num_tokens, 3 * self.d_out\n",
    "        queries, keys, values = qkv.split(self.d_out, dim=2)\n",
    "\n",
    "        queries = queries.view(b, num_tokens, self.num_heads, self.head_dim)\n",
    "        keys = keys.view(b, num_tokens, self.num_heads, self.head_dim)\n",
    "        values = values.view(b, num_tokens, self.num_heads, self.head_dim)\n",
    "\n",
    "        queries = queries.transpose(1, 2) # b, self.num_heads, num_tokens, self.head_dim\n",
    "        keys = keys.transpose(1, 2) # b, self.num_heads, num_tokens, self.head_dim\n",
    "        values = values.transpose(1, 2) # b, self.num_heads, num_tokens, self.head_dim\n",
    "\n",
    "        # All code below we replace with torch.nn.functional.scaled_dot_product_attention\n",
    "        context_vec = torch.nn.functional.scaled_dot_product_attention(queries, keys, values, attn_mask=None, dropout_p=self.dropout if self.training else 0, is_causal=True)\n",
    "\n",
    "        # att_scores = queries @ keys.transpose(2, 3) # shapes = (num_tokens, self.head_dim) @ (self.head_dim, num_tokens) -> (num_tokens, num_tokens)\n",
    "        # mask_bool = self.mask.bool()[:num_tokens, :num_tokens]\n",
    "        # att_scores.masked_fill_(mask_bool, -torch.inf)\n",
    "        # att_weights = torch.softmax(att_scores / keys.shape[-1]**0.5, dim=-1)\n",
    "        # att_weights = self.dropout(att_weights)\n",
    "        # context_vec = (att_weights @ values).transpose(1, 2) # (num_tokens, num_tokens) @ (num_tokens, self.head_dim) -> (num_tokens, self.head_dim) -> transpose(1,2) of (b, self.num_heads, num_tokens, self.head_dim) ->\n",
    "        # # -> (b, num_tokens, self.num_heads, self.head_dim) as view in previous code after inference of Linear layers\n",
    "        \n",
    "        # Reshape etc\n",
    "        context_vec = context_vec.transpose(1, 2).contiguous().view(b, num_tokens, self.d_out)\n",
    "        context_vec = self.out_proj(context_vec)\n",
    "        return context_vec"
   ]
  },
  {
   "cell_type": "code",
   "execution_count": null,
   "id": "c379d0e2",
   "metadata": {},
   "outputs": [],
   "source": [
    "mha_dp_qkv = MultiHeadAttentionDP_QKV(d_in=embed_dim, d_out=embed_dim, context_length=context_len, dropout=dropout, num_heads=num_heads, qkv_bias=qkv_bias)"
   ]
  },
  {
   "cell_type": "markdown",
   "id": "8b01f512",
   "metadata": {},
   "source": [
    "GPU"
   ]
  },
  {
   "cell_type": "code",
   "execution_count": 89,
   "id": "45df7cea",
   "metadata": {},
   "outputs": [
    {
     "data": {
      "text/plain": [
       "MultiHeadAttentionDP_QKV(\n",
       "  (W_qkv): Linear(in_features=768, out_features=2304, bias=False)\n",
       "  (out_proj): Linear(in_features=768, out_features=768, bias=True)\n",
       ")"
      ]
     },
     "execution_count": 89,
     "metadata": {},
     "output_type": "execute_result"
    }
   ],
   "source": [
    "mha_dp_qkv.to(device)"
   ]
  },
  {
   "cell_type": "code",
   "execution_count": 90,
   "id": "ff426cb2",
   "metadata": {},
   "outputs": [
    {
     "name": "stdout",
     "output_type": "stream",
     "text": [
      "6.84 ms ± 27.5 μs per loop (mean ± std. dev. of 7 runs, 1,000 loops each)\n"
     ]
    }
   ],
   "source": [
    "%%timeit\n",
    "mha_dp_qkv(embeddings)"
   ]
  },
  {
   "cell_type": "code",
   "execution_count": 91,
   "id": "ba93868f",
   "metadata": {},
   "outputs": [
    {
     "data": {
      "text/plain": [
       "tensor([ 0.4122,  0.3751,  0.1308, -0.3931,  0.4668, -0.0658,  0.2349, -0.3577,\n",
       "         0.2417, -0.4068, -0.0244,  0.2409, -0.1503,  0.2751,  0.0163,  0.2376,\n",
       "        -0.3103,  0.1475, -0.2411, -0.5817], device='cuda:0',\n",
       "       grad_fn=<SliceBackward0>)"
      ]
     },
     "execution_count": 91,
     "metadata": {},
     "output_type": "execute_result"
    }
   ],
   "source": [
    "mha_dp_qkv(embeddings)[0][0][:20]"
   ]
  },
  {
   "cell_type": "markdown",
   "id": "6cbce5d5",
   "metadata": {},
   "source": [
    "CPU"
   ]
  },
  {
   "cell_type": "code",
   "execution_count": 92,
   "id": "6fc00ffb",
   "metadata": {},
   "outputs": [],
   "source": [
    "mha_dp_qkv.to('cpu')\n",
    "embeddings_cpu = embeddings.to('cpu')"
   ]
  },
  {
   "cell_type": "code",
   "execution_count": 93,
   "id": "34f65d10",
   "metadata": {},
   "outputs": [
    {
     "name": "stdout",
     "output_type": "stream",
     "text": [
      "411 ms ± 16 ms per loop (mean ± std. dev. of 7 runs, 1 loop each)\n"
     ]
    }
   ],
   "source": [
    "%%timeit\n",
    "mha_dp_qkv(embeddings_cpu)"
   ]
  },
  {
   "cell_type": "markdown",
   "id": "c9710951",
   "metadata": {},
   "source": [
    "Let's check autocast"
   ]
  },
  {
   "cell_type": "markdown",
   "id": "f1e2fd5d",
   "metadata": {},
   "source": [
    "GPU"
   ]
  },
  {
   "cell_type": "code",
   "execution_count": null,
   "id": "84883129",
   "metadata": {},
   "outputs": [
    {
     "name": "stdout",
     "output_type": "stream",
     "text": [
      "616 μs ± 98.4 μs per loop (mean ± std. dev. of 7 runs, 1 loop each)\n"
     ]
    }
   ],
   "source": [
    "%%timeit\n",
    "with torch.autocast(device_type=device.type, dtype=torch.bfloat16):\n",
    "    mha_vanilla(embeddings)"
   ]
  },
  {
   "cell_type": "markdown",
   "id": "214f2c20",
   "metadata": {},
   "source": [
    "## MHA Pytorch built-in"
   ]
  },
  {
   "cell_type": "code",
   "execution_count": 10,
   "id": "931eb165",
   "metadata": {},
   "outputs": [],
   "source": [
    "class MHAPyTorch(nn.Module):\n",
    "    def __init__(self, d_in, d_out, context_length, dropout, num_heads, qkv_bias=False, need_weights=True):\n",
    "        super().__init__()\n",
    "\n",
    "        self.context_length = context_length\n",
    "        self.multihead_attn = nn.MultiheadAttention(\n",
    "            embed_dim=d_out,\n",
    "            num_heads=num_heads,\n",
    "            dropout=dropout,\n",
    "            bias=qkv_bias,\n",
    "            add_bias_kv=qkv_bias,\n",
    "            batch_first=True,\n",
    "        )\n",
    "\n",
    "        self.need_weights = need_weights\n",
    "        self.out_proj = nn.Linear(d_out, d_out)\n",
    "        self.register_buffer(\"mask\", torch.triu(torch.ones(context_length, context_length), diagonal=1).bool())\n",
    "\n",
    "    def forward(self, x):\n",
    "        b, num_tokens, d_in = x.size()\n",
    "\n",
    "        # Ensure attn_mask is compatible with expected shape and `batch_first=True`\n",
    "        # No need to manually adjust for num_heads; ensure it's right for the sequence\n",
    "        if self.context_length >= num_tokens:\n",
    "            attn_mask = self.mask[:num_tokens, :num_tokens]\n",
    "        else:\n",
    "            attn_mask = self.mask[:self.context_length, :self.context_length]\n",
    "\n",
    "        # attn_mask broadcasting will handle batch_size dimension implicitly\n",
    "        attn_output, _ = self.multihead_attn(\n",
    "            x, x, x, attn_mask=attn_mask, need_weights=self.need_weights\n",
    "        )\n",
    "\n",
    "        context_vec = self.out_proj(attn_output)\n",
    "\n",
    "        return context_vec"
   ]
  },
  {
   "cell_type": "code",
   "execution_count": null,
   "id": "f6fbcc01",
   "metadata": {},
   "outputs": [],
   "source": [
    "mha_torch = MHAPyTorch(d_in=embed_dim, d_out=embed_dim, context_length=context_len, dropout=dropout, num_heads=num_heads, qkv_bias=qkv_bias)"
   ]
  },
  {
   "cell_type": "markdown",
   "id": "744df037",
   "metadata": {},
   "source": [
    "GPU"
   ]
  },
  {
   "cell_type": "code",
   "execution_count": 97,
   "id": "62ab43c1",
   "metadata": {},
   "outputs": [
    {
     "data": {
      "text/plain": [
       "MHAPyTorch(\n",
       "  (multihead_attn): MultiheadAttention(\n",
       "    (out_proj): NonDynamicallyQuantizableLinear(in_features=768, out_features=768, bias=False)\n",
       "  )\n",
       "  (out_proj): Linear(in_features=768, out_features=768, bias=True)\n",
       ")"
      ]
     },
     "execution_count": 97,
     "metadata": {},
     "output_type": "execute_result"
    }
   ],
   "source": [
    "mha_torch.to(device)"
   ]
  },
  {
   "cell_type": "code",
   "execution_count": 98,
   "id": "be8915b9",
   "metadata": {},
   "outputs": [
    {
     "name": "stdout",
     "output_type": "stream",
     "text": [
      "487 μs ± 121 μs per loop (mean ± std. dev. of 7 runs, 1 loop each)\n"
     ]
    }
   ],
   "source": [
    "%%timeit\n",
    "mha_torch(embeddings)"
   ]
  },
  {
   "cell_type": "markdown",
   "id": "288a1a9a",
   "metadata": {},
   "source": [
    "Significant boost here"
   ]
  },
  {
   "cell_type": "code",
   "execution_count": 99,
   "id": "06855586",
   "metadata": {},
   "outputs": [
    {
     "data": {
      "text/plain": [
       "tensor([ 0.1265,  0.2446,  0.0797, -0.0448,  0.1704, -0.2221, -0.0832, -0.3347,\n",
       "        -0.3488,  0.3705,  0.0370, -0.1837,  0.3036, -0.2020, -0.2883, -0.0963,\n",
       "        -0.1082,  0.1825,  0.2147,  0.0461], device='cuda:0',\n",
       "       grad_fn=<SliceBackward0>)"
      ]
     },
     "execution_count": 99,
     "metadata": {},
     "output_type": "execute_result"
    }
   ],
   "source": [
    "mha_torch(embeddings)[0][0][:20]"
   ]
  },
  {
   "cell_type": "markdown",
   "id": "1abd1eac",
   "metadata": {},
   "source": [
    "CPU"
   ]
  },
  {
   "cell_type": "code",
   "execution_count": 100,
   "id": "c0dae9a5",
   "metadata": {},
   "outputs": [],
   "source": [
    "mha_torch.to('cpu')\n",
    "embeddings_cpu = embeddings.to('cpu')"
   ]
  },
  {
   "cell_type": "code",
   "execution_count": 101,
   "id": "3fc4387f",
   "metadata": {},
   "outputs": [
    {
     "name": "stdout",
     "output_type": "stream",
     "text": [
      "413 ms ± 10.6 ms per loop (mean ± std. dev. of 7 runs, 1 loop each)\n"
     ]
    }
   ],
   "source": [
    "%%timeit\n",
    "mha_torch(embeddings_cpu)"
   ]
  },
  {
   "cell_type": "markdown",
   "id": "e1163897",
   "metadata": {},
   "source": [
    "Let's check autocast"
   ]
  },
  {
   "cell_type": "markdown",
   "id": "4228f236",
   "metadata": {},
   "source": [
    "GPU"
   ]
  },
  {
   "cell_type": "code",
   "execution_count": null,
   "id": "667301d5",
   "metadata": {},
   "outputs": [
    {
     "name": "stdout",
     "output_type": "stream",
     "text": [
      "616 μs ± 98.4 μs per loop (mean ± std. dev. of 7 runs, 1 loop each)\n"
     ]
    }
   ],
   "source": [
    "%%timeit\n",
    "with torch.autocast(device_type=device.type, dtype=torch.bfloat16):\n",
    "    mha_vanilla(embeddings)"
   ]
  },
  {
   "cell_type": "markdown",
   "id": "1dfc3915",
   "metadata": {},
   "source": [
    "Using PyTorch's torch.nn.MultiheadAttention with `scaled_dot_product_attention`"
   ]
  },
  {
   "cell_type": "code",
   "execution_count": null,
   "id": "a4d33721",
   "metadata": {},
   "outputs": [],
   "source": [
    "mha_torch_dp = MHAPyTorch(d_in=embed_dim, d_out=embed_dim, context_length=context_len, dropout=dropout, num_heads=num_heads, qkv_bias=qkv_bias, need_weights=False)"
   ]
  },
  {
   "cell_type": "markdown",
   "id": "180cde03",
   "metadata": {},
   "source": [
    "GPU"
   ]
  },
  {
   "cell_type": "code",
   "execution_count": 104,
   "id": "9903bf87",
   "metadata": {},
   "outputs": [
    {
     "data": {
      "text/plain": [
       "MHAPyTorch(\n",
       "  (multihead_attn): MultiheadAttention(\n",
       "    (out_proj): NonDynamicallyQuantizableLinear(in_features=768, out_features=768, bias=False)\n",
       "  )\n",
       "  (out_proj): Linear(in_features=768, out_features=768, bias=True)\n",
       ")"
      ]
     },
     "execution_count": 104,
     "metadata": {},
     "output_type": "execute_result"
    }
   ],
   "source": [
    "mha_torch_dp.to(device)"
   ]
  },
  {
   "cell_type": "code",
   "execution_count": 105,
   "id": "a9695e40",
   "metadata": {},
   "outputs": [
    {
     "name": "stdout",
     "output_type": "stream",
     "text": [
      "12 ms ± 152 μs per loop (mean ± std. dev. of 7 runs, 100 loops each)\n"
     ]
    }
   ],
   "source": [
    "%%timeit\n",
    "mha_torch_dp(embeddings)"
   ]
  },
  {
   "cell_type": "markdown",
   "id": "a3b841ab",
   "metadata": {},
   "source": [
    "Significant boost here"
   ]
  },
  {
   "cell_type": "code",
   "execution_count": 106,
   "id": "b51a9e8f",
   "metadata": {},
   "outputs": [
    {
     "data": {
      "text/plain": [
       "tensor([ 0.2552,  0.1269, -0.1312,  0.0389,  0.0434,  0.3826, -0.2642,  0.2161,\n",
       "        -0.2794, -0.2151,  0.3436, -0.3315, -0.1128, -0.0779, -0.1682, -0.2084,\n",
       "        -0.1017, -0.3217, -0.0512,  0.1602], device='cuda:0',\n",
       "       grad_fn=<SliceBackward0>)"
      ]
     },
     "execution_count": 106,
     "metadata": {},
     "output_type": "execute_result"
    }
   ],
   "source": [
    "mha_torch_dp(embeddings)[0][0][:20]"
   ]
  },
  {
   "cell_type": "markdown",
   "id": "e7d12824",
   "metadata": {},
   "source": [
    "CPU"
   ]
  },
  {
   "cell_type": "code",
   "execution_count": 107,
   "id": "8f752b2a",
   "metadata": {},
   "outputs": [],
   "source": [
    "mha_torch_dp.to('cpu')\n",
    "embeddings_cpu = embeddings.to('cpu')"
   ]
  },
  {
   "cell_type": "code",
   "execution_count": 108,
   "id": "f907c7b2",
   "metadata": {},
   "outputs": [
    {
     "name": "stdout",
     "output_type": "stream",
     "text": [
      "427 ms ± 15.3 ms per loop (mean ± std. dev. of 7 runs, 1 loop each)\n"
     ]
    }
   ],
   "source": [
    "%%timeit\n",
    "mha_torch_dp(embeddings_cpu)"
   ]
  },
  {
   "cell_type": "markdown",
   "id": "a4c7f380",
   "metadata": {},
   "source": [
    "Let's check autocast"
   ]
  },
  {
   "cell_type": "markdown",
   "id": "673aa540",
   "metadata": {},
   "source": [
    "GPU"
   ]
  },
  {
   "cell_type": "code",
   "execution_count": null,
   "id": "acc03028",
   "metadata": {},
   "outputs": [
    {
     "name": "stdout",
     "output_type": "stream",
     "text": [
      "616 μs ± 98.4 μs per loop (mean ± std. dev. of 7 runs, 1 loop each)\n"
     ]
    }
   ],
   "source": [
    "%%timeit\n",
    "with torch.autocast(device_type=device.type, dtype=torch.bfloat16):\n",
    "    mha_vanilla(embeddings)"
   ]
  },
  {
   "cell_type": "markdown",
   "id": "488d7b5d",
   "metadata": {},
   "source": [
    "## FlexAttention in Pytorch"
   ]
  },
  {
   "cell_type": "code",
   "execution_count": 127,
   "id": "79d451f2",
   "metadata": {},
   "outputs": [],
   "source": [
    "def causal(b, h, q_idx, kv_idx):\n",
    "    return q_idx >= kv_idx\n",
    "\n",
    "\n",
    "class MHAPyTorchFlexAttention(nn.Module):\n",
    "\n",
    "    def __init__(self, d_in, d_out, num_heads, context_length, dropout=0.0, qkv_bias=False):\n",
    "        super().__init__()\n",
    "\n",
    "        assert d_out % num_heads == 0, \"embed_dim is indivisible by num_heads\"\n",
    "\n",
    "        self.num_heads = num_heads\n",
    "        self.context_length = context_length\n",
    "        self.head_dim = d_out // num_heads\n",
    "        self.d_out = d_out\n",
    "\n",
    "        self.qkv = nn.Linear(d_in, 3 * d_out, bias=qkv_bias)\n",
    "        self.proj = nn.Linear(d_out, d_out)\n",
    "        self.dropout = dropout\n",
    "        # self.register_buffer(\"block_mask\", create_block_mask(causal, B=None, H=None, Q_LEN=context_length, KV_LEN=context_length))\n",
    "        # `create_block_mask` function does not support buffers, yet\n",
    "        self.block_mask = create_block_mask(causal, B=None, H=None, Q_LEN=context_length, KV_LEN=context_length, device=device)\n",
    "\n",
    "\n",
    "    def forward(self, x):\n",
    "        batch_size, num_tokens, embed_dim = x.shape\n",
    "\n",
    "        # (b, num_tokens, embed_dim) --> (b, num_tokens, 3 * embed_dim)\n",
    "        qkv = self.qkv(x)\n",
    "\n",
    "        # (b, num_tokens, 3 * embed_dim) --> (b, num_tokens, 3, num_heads, head_dim)\n",
    "        qkv = qkv.view(batch_size, num_tokens, 3, self.num_heads, self.head_dim)\n",
    "\n",
    "        # (b, num_tokens, 3, num_heads, head_dim) --> (3, b, num_heads, num_tokens, head_dim)\n",
    "        qkv = qkv.permute(2, 0, 3, 1, 4)\n",
    "\n",
    "        # (3, b, num_heads, num_tokens, head_dim) -> 3 times (b, num_heads, num_tokens, head_dim)\n",
    "        queries, keys, values = qkv\n",
    "\n",
    "        # use_dropout = 0. if not self.training else self.dropout\n",
    "\n",
    "        # Ensure attn_mask is compatible with expected shape and `batch_first=True`\n",
    "        # No need to manually adjust for num_heads; ensure it's right for the sequence\n",
    "        if self.context_length >= num_tokens:\n",
    "            attn_mask = self.block_mask[:num_tokens, :num_tokens]\n",
    "        else:\n",
    "            attn_mask = self.block_mask[:self.context_length, :self.context_length]\n",
    "\n",
    "        context_vec = flex_attention(queries, keys, values, block_mask=attn_mask)\n",
    "\n",
    "        # Combine heads, where self.d_out = self.num_heads * self.head_dim\n",
    "        context_vec = context_vec.transpose(1, 2).contiguous().view(batch_size, num_tokens, self.d_out)\n",
    "\n",
    "        context_vec = self.proj(context_vec)\n",
    "\n",
    "        return context_vec"
   ]
  },
  {
   "cell_type": "code",
   "execution_count": null,
   "id": "4f0ede2c",
   "metadata": {},
   "outputs": [],
   "source": [
    "mha_torch_flex = MHAPyTorchFlexAttention(d_in=embed_dim, d_out=embed_dim, context_length=context_len, dropout=dropout, num_heads=num_heads, qkv_bias=qkv_bias)"
   ]
  },
  {
   "cell_type": "markdown",
   "id": "1dd667cb",
   "metadata": {},
   "source": [
    "GPU"
   ]
  },
  {
   "cell_type": "code",
   "execution_count": 125,
   "id": "46e0ba1d",
   "metadata": {},
   "outputs": [
    {
     "data": {
      "text/plain": [
       "MHAPyTorchFlexAttention(\n",
       "  (qkv): Linear(in_features=768, out_features=2304, bias=False)\n",
       "  (proj): Linear(in_features=768, out_features=768, bias=True)\n",
       ")"
      ]
     },
     "execution_count": 125,
     "metadata": {},
     "output_type": "execute_result"
    }
   ],
   "source": [
    "mha_torch_flex.to(device)"
   ]
  },
  {
   "cell_type": "code",
   "execution_count": 128,
   "id": "6b2d45e8",
   "metadata": {},
   "outputs": [
    {
     "name": "stdout",
     "output_type": "stream",
     "text": [
      "16.4 ms ± 36.4 μs per loop (mean ± std. dev. of 7 runs, 10 loops each)\n"
     ]
    }
   ],
   "source": [
    "%%timeit\n",
    "mha_torch_flex(embeddings)"
   ]
  },
  {
   "cell_type": "markdown",
   "id": "cee773fb",
   "metadata": {},
   "source": [
    "Significant boost here"
   ]
  },
  {
   "cell_type": "code",
   "execution_count": 117,
   "id": "a7a5c936",
   "metadata": {},
   "outputs": [
    {
     "data": {
      "text/plain": [
       "tensor([-0.0443, -0.0227,  0.0127, -0.0257, -0.0044, -0.0001, -0.0042, -0.0336,\n",
       "         0.0128, -0.0318, -0.0133,  0.0093,  0.0134, -0.0457,  0.0139,  0.0129,\n",
       "         0.0038,  0.0124, -0.0079, -0.0258], device='cuda:0',\n",
       "       grad_fn=<SliceBackward0>)"
      ]
     },
     "execution_count": 117,
     "metadata": {},
     "output_type": "execute_result"
    }
   ],
   "source": [
    "mha_torch_flex(embeddings)[0][0][:20]"
   ]
  },
  {
   "cell_type": "markdown",
   "id": "73d0ef05",
   "metadata": {},
   "source": [
    "CPU"
   ]
  },
  {
   "cell_type": "code",
   "execution_count": 122,
   "id": "de1add7f",
   "metadata": {},
   "outputs": [],
   "source": [
    "mha_torch_flex.to('cpu')\n",
    "embeddings_cpu = embeddings.to('cpu')"
   ]
  },
  {
   "cell_type": "code",
   "execution_count": 123,
   "id": "683f78a9",
   "metadata": {},
   "outputs": [
    {
     "ename": "RuntimeError",
     "evalue": "Expect q/k/v and block_mask to be on the same device but got cpu and cuda:0.",
     "output_type": "error",
     "traceback": [
      "\u001b[31m---------------------------------------------------------------------------\u001b[39m",
      "\u001b[31mRuntimeError\u001b[39m                              Traceback (most recent call last)",
      "\u001b[36mCell\u001b[39m\u001b[36m \u001b[39m\u001b[32mIn[123]\u001b[39m\u001b[32m, line 1\u001b[39m\n\u001b[32m----> \u001b[39m\u001b[32m1\u001b[39m \u001b[43mget_ipython\u001b[49m\u001b[43m(\u001b[49m\u001b[43m)\u001b[49m\u001b[43m.\u001b[49m\u001b[43mrun_cell_magic\u001b[49m\u001b[43m(\u001b[49m\u001b[33;43m'\u001b[39;49m\u001b[33;43mtimeit\u001b[39;49m\u001b[33;43m'\u001b[39;49m\u001b[43m,\u001b[49m\u001b[43m \u001b[49m\u001b[33;43m'\u001b[39;49m\u001b[33;43m'\u001b[39;49m\u001b[43m,\u001b[49m\u001b[43m \u001b[49m\u001b[33;43m'\u001b[39;49m\u001b[33;43mmha_torch_flex(embeddings_cpu)\u001b[39;49m\u001b[38;5;130;43;01m\\n\u001b[39;49;00m\u001b[33;43m'\u001b[39;49m\u001b[43m)\u001b[49m\n",
      "\u001b[36mFile \u001b[39m\u001b[32mx:\\Users\\jeka_\\miniconda3\\envs\\LLM\\Lib\\site-packages\\IPython\\core\\interactiveshell.py:2547\u001b[39m, in \u001b[36mInteractiveShell.run_cell_magic\u001b[39m\u001b[34m(self, magic_name, line, cell)\u001b[39m\n\u001b[32m   2545\u001b[39m \u001b[38;5;28;01mwith\u001b[39;00m \u001b[38;5;28mself\u001b[39m.builtin_trap:\n\u001b[32m   2546\u001b[39m     args = (magic_arg_s, cell)\n\u001b[32m-> \u001b[39m\u001b[32m2547\u001b[39m     result = \u001b[43mfn\u001b[49m\u001b[43m(\u001b[49m\u001b[43m*\u001b[49m\u001b[43margs\u001b[49m\u001b[43m,\u001b[49m\u001b[43m \u001b[49m\u001b[43m*\u001b[49m\u001b[43m*\u001b[49m\u001b[43mkwargs\u001b[49m\u001b[43m)\u001b[49m\n\u001b[32m   2549\u001b[39m \u001b[38;5;66;03m# The code below prevents the output from being displayed\u001b[39;00m\n\u001b[32m   2550\u001b[39m \u001b[38;5;66;03m# when using magics with decorator @output_can_be_silenced\u001b[39;00m\n\u001b[32m   2551\u001b[39m \u001b[38;5;66;03m# when the last Python token in the expression is a ';'.\u001b[39;00m\n\u001b[32m   2552\u001b[39m \u001b[38;5;28;01mif\u001b[39;00m \u001b[38;5;28mgetattr\u001b[39m(fn, magic.MAGIC_OUTPUT_CAN_BE_SILENCED, \u001b[38;5;28;01mFalse\u001b[39;00m):\n",
      "\u001b[36mFile \u001b[39m\u001b[32mx:\\Users\\jeka_\\miniconda3\\envs\\LLM\\Lib\\site-packages\\IPython\\core\\magics\\execution.py:1225\u001b[39m, in \u001b[36mExecutionMagics.timeit\u001b[39m\u001b[34m(self, line, cell, local_ns)\u001b[39m\n\u001b[32m   1223\u001b[39m \u001b[38;5;28;01mfor\u001b[39;00m index \u001b[38;5;129;01min\u001b[39;00m \u001b[38;5;28mrange\u001b[39m(\u001b[32m0\u001b[39m, \u001b[32m10\u001b[39m):\n\u001b[32m   1224\u001b[39m     number = \u001b[32m10\u001b[39m ** index\n\u001b[32m-> \u001b[39m\u001b[32m1225\u001b[39m     time_number = \u001b[43mtimer\u001b[49m\u001b[43m.\u001b[49m\u001b[43mtimeit\u001b[49m\u001b[43m(\u001b[49m\u001b[43mnumber\u001b[49m\u001b[43m)\u001b[49m\n\u001b[32m   1226\u001b[39m     \u001b[38;5;28;01mif\u001b[39;00m time_number >= \u001b[32m0.2\u001b[39m:\n\u001b[32m   1227\u001b[39m         \u001b[38;5;28;01mbreak\u001b[39;00m\n",
      "\u001b[36mFile \u001b[39m\u001b[32mx:\\Users\\jeka_\\miniconda3\\envs\\LLM\\Lib\\site-packages\\IPython\\core\\magics\\execution.py:183\u001b[39m, in \u001b[36mTimer.timeit\u001b[39m\u001b[34m(self, number)\u001b[39m\n\u001b[32m    181\u001b[39m gc.disable()\n\u001b[32m    182\u001b[39m \u001b[38;5;28;01mtry\u001b[39;00m:\n\u001b[32m--> \u001b[39m\u001b[32m183\u001b[39m     timing = \u001b[38;5;28;43mself\u001b[39;49m\u001b[43m.\u001b[49m\u001b[43minner\u001b[49m\u001b[43m(\u001b[49m\u001b[43mit\u001b[49m\u001b[43m,\u001b[49m\u001b[43m \u001b[49m\u001b[38;5;28;43mself\u001b[39;49m\u001b[43m.\u001b[49m\u001b[43mtimer\u001b[49m\u001b[43m)\u001b[49m\n\u001b[32m    184\u001b[39m \u001b[38;5;28;01mfinally\u001b[39;00m:\n\u001b[32m    185\u001b[39m     \u001b[38;5;28;01mif\u001b[39;00m gcold:\n",
      "\u001b[36mFile \u001b[39m\u001b[32m<magic-timeit>:1\u001b[39m, in \u001b[36minner\u001b[39m\u001b[34m(_it, _timer)\u001b[39m\n",
      "\u001b[36mFile \u001b[39m\u001b[32mx:\\Users\\jeka_\\miniconda3\\envs\\LLM\\Lib\\site-packages\\torch\\nn\\modules\\module.py:1751\u001b[39m, in \u001b[36mModule._wrapped_call_impl\u001b[39m\u001b[34m(self, *args, **kwargs)\u001b[39m\n\u001b[32m   1749\u001b[39m     \u001b[38;5;28;01mreturn\u001b[39;00m \u001b[38;5;28mself\u001b[39m._compiled_call_impl(*args, **kwargs)  \u001b[38;5;66;03m# type: ignore[misc]\u001b[39;00m\n\u001b[32m   1750\u001b[39m \u001b[38;5;28;01melse\u001b[39;00m:\n\u001b[32m-> \u001b[39m\u001b[32m1751\u001b[39m     \u001b[38;5;28;01mreturn\u001b[39;00m \u001b[38;5;28;43mself\u001b[39;49m\u001b[43m.\u001b[49m\u001b[43m_call_impl\u001b[49m\u001b[43m(\u001b[49m\u001b[43m*\u001b[49m\u001b[43margs\u001b[49m\u001b[43m,\u001b[49m\u001b[43m \u001b[49m\u001b[43m*\u001b[49m\u001b[43m*\u001b[49m\u001b[43mkwargs\u001b[49m\u001b[43m)\u001b[49m\n",
      "\u001b[36mFile \u001b[39m\u001b[32mx:\\Users\\jeka_\\miniconda3\\envs\\LLM\\Lib\\site-packages\\torch\\nn\\modules\\module.py:1762\u001b[39m, in \u001b[36mModule._call_impl\u001b[39m\u001b[34m(self, *args, **kwargs)\u001b[39m\n\u001b[32m   1757\u001b[39m \u001b[38;5;66;03m# If we don't have any hooks, we want to skip the rest of the logic in\u001b[39;00m\n\u001b[32m   1758\u001b[39m \u001b[38;5;66;03m# this function, and just call forward.\u001b[39;00m\n\u001b[32m   1759\u001b[39m \u001b[38;5;28;01mif\u001b[39;00m \u001b[38;5;129;01mnot\u001b[39;00m (\u001b[38;5;28mself\u001b[39m._backward_hooks \u001b[38;5;129;01mor\u001b[39;00m \u001b[38;5;28mself\u001b[39m._backward_pre_hooks \u001b[38;5;129;01mor\u001b[39;00m \u001b[38;5;28mself\u001b[39m._forward_hooks \u001b[38;5;129;01mor\u001b[39;00m \u001b[38;5;28mself\u001b[39m._forward_pre_hooks\n\u001b[32m   1760\u001b[39m         \u001b[38;5;129;01mor\u001b[39;00m _global_backward_pre_hooks \u001b[38;5;129;01mor\u001b[39;00m _global_backward_hooks\n\u001b[32m   1761\u001b[39m         \u001b[38;5;129;01mor\u001b[39;00m _global_forward_hooks \u001b[38;5;129;01mor\u001b[39;00m _global_forward_pre_hooks):\n\u001b[32m-> \u001b[39m\u001b[32m1762\u001b[39m     \u001b[38;5;28;01mreturn\u001b[39;00m \u001b[43mforward_call\u001b[49m\u001b[43m(\u001b[49m\u001b[43m*\u001b[49m\u001b[43margs\u001b[49m\u001b[43m,\u001b[49m\u001b[43m \u001b[49m\u001b[43m*\u001b[49m\u001b[43m*\u001b[49m\u001b[43mkwargs\u001b[49m\u001b[43m)\u001b[49m\n\u001b[32m   1764\u001b[39m result = \u001b[38;5;28;01mNone\u001b[39;00m\n\u001b[32m   1765\u001b[39m called_always_called_hooks = \u001b[38;5;28mset\u001b[39m()\n",
      "\u001b[36mCell\u001b[39m\u001b[36m \u001b[39m\u001b[32mIn[113]\u001b[39m\u001b[32m, line 49\u001b[39m, in \u001b[36mMHAPyTorchFlexAttention.forward\u001b[39m\u001b[34m(self, x)\u001b[39m\n\u001b[32m     46\u001b[39m \u001b[38;5;28;01melse\u001b[39;00m:\n\u001b[32m     47\u001b[39m     attn_mask = \u001b[38;5;28mself\u001b[39m.block_mask[:\u001b[38;5;28mself\u001b[39m.context_length, :\u001b[38;5;28mself\u001b[39m.context_length]\n\u001b[32m---> \u001b[39m\u001b[32m49\u001b[39m context_vec = \u001b[43mflex_attention\u001b[49m\u001b[43m(\u001b[49m\u001b[43mqueries\u001b[49m\u001b[43m,\u001b[49m\u001b[43m \u001b[49m\u001b[43mkeys\u001b[49m\u001b[43m,\u001b[49m\u001b[43m \u001b[49m\u001b[43mvalues\u001b[49m\u001b[43m,\u001b[49m\u001b[43m \u001b[49m\u001b[43mblock_mask\u001b[49m\u001b[43m=\u001b[49m\u001b[43mattn_mask\u001b[49m\u001b[43m)\u001b[49m\n\u001b[32m     51\u001b[39m \u001b[38;5;66;03m# Combine heads, where self.d_out = self.num_heads * self.head_dim\u001b[39;00m\n\u001b[32m     52\u001b[39m context_vec = context_vec.transpose(\u001b[32m1\u001b[39m, \u001b[32m2\u001b[39m).contiguous().view(batch_size, num_tokens, \u001b[38;5;28mself\u001b[39m.d_out)\n",
      "\u001b[36mFile \u001b[39m\u001b[32mx:\\Users\\jeka_\\miniconda3\\envs\\LLM\\Lib\\site-packages\\torch\\nn\\attention\\flex_attention.py:1308\u001b[39m, in \u001b[36mflex_attention\u001b[39m\u001b[34m(query, key, value, score_mod, block_mask, scale, enable_gqa, return_lse, kernel_options)\u001b[39m\n\u001b[32m   1305\u001b[39m     scale = \u001b[32m1.0\u001b[39m / math.sqrt(query.size(-\u001b[32m1\u001b[39m))\n\u001b[32m   1307\u001b[39m \u001b[38;5;28;01mif\u001b[39;00m query.device != block_mask.kv_num_blocks.device:  \u001b[38;5;66;03m# type: ignore[union-attr]\u001b[39;00m\n\u001b[32m-> \u001b[39m\u001b[32m1308\u001b[39m     \u001b[38;5;28;01mraise\u001b[39;00m \u001b[38;5;167;01mRuntimeError\u001b[39;00m(\n\u001b[32m   1309\u001b[39m         \u001b[33mf\u001b[39m\u001b[33m\"\u001b[39m\u001b[33mExpect q/k/v and block_mask to be on the same device \u001b[39m\u001b[33m\"\u001b[39m\n\u001b[32m   1310\u001b[39m         \u001b[33mf\u001b[39m\u001b[33m\"\u001b[39m\u001b[33mbut got \u001b[39m\u001b[38;5;132;01m{\u001b[39;00mquery.device\u001b[38;5;132;01m}\u001b[39;00m\u001b[33m and \u001b[39m\u001b[38;5;132;01m{\u001b[39;00mblock_mask.kv_num_blocks.device\u001b[38;5;132;01m}\u001b[39;00m\u001b[33m.\u001b[39m\u001b[33m\"\u001b[39m  \u001b[38;5;66;03m# type: ignore[union-attr]\u001b[39;00m\n\u001b[32m   1311\u001b[39m     )\n\u001b[32m   1313\u001b[39m kernel_options = _apply_kernel_options(\n\u001b[32m   1314\u001b[39m     query,\n\u001b[32m   1315\u001b[39m     key,\n\u001b[32m   (...)\u001b[39m\u001b[32m   1318\u001b[39m     kernel_options,\n\u001b[32m   1319\u001b[39m )\n\u001b[32m   1321\u001b[39m \u001b[38;5;28;01mif\u001b[39;00m torch.compiler.is_dynamo_compiling():\n\u001b[32m   1322\u001b[39m     \u001b[38;5;66;03m# mark head_dim and number of heads to be static\u001b[39;00m\n",
      "\u001b[31mRuntimeError\u001b[39m: Expect q/k/v and block_mask to be on the same device but got cpu and cuda:0."
     ]
    }
   ],
   "source": [
    "%%timeit\n",
    "mha_torch_flex(embeddings_cpu)"
   ]
  },
  {
   "cell_type": "markdown",
   "id": "6bfb2cc6",
   "metadata": {},
   "source": [
    "Don't work on CPU?"
   ]
  },
  {
   "cell_type": "markdown",
   "id": "d69e25fa",
   "metadata": {},
   "source": [
    "Let's check autocast"
   ]
  },
  {
   "cell_type": "markdown",
   "id": "c2f634cd",
   "metadata": {},
   "source": [
    "GPU"
   ]
  },
  {
   "cell_type": "code",
   "execution_count": null,
   "id": "f647a03f",
   "metadata": {},
   "outputs": [
    {
     "name": "stdout",
     "output_type": "stream",
     "text": [
      "616 μs ± 98.4 μs per loop (mean ± std. dev. of 7 runs, 1 loop each)\n"
     ]
    }
   ],
   "source": [
    "%%timeit\n",
    "with torch.autocast(device_type=device.type, dtype=torch.bfloat16):\n",
    "    mha_vanilla(embeddings)"
   ]
  },
  {
   "cell_type": "markdown",
   "id": "c01c99d9",
   "metadata": {},
   "source": [
    "## KV-cache"
   ]
  },
  {
   "cell_type": "markdown",
   "id": "c09e5c60",
   "metadata": {},
   "source": [
    "### 1 version"
   ]
  },
  {
   "cell_type": "code",
   "execution_count": null,
   "id": "e115665e",
   "metadata": {},
   "outputs": [],
   "source": [
    "class KVCache:\n",
    "    \"\"\"\n",
    "    Класс для управления кэшированием ключей (K) и значений (V) в трансформерах.\n",
    "    Полезно для поэтапной генерации (inference), чтобы не перемножать контексты заново.\n",
    "    \"\"\"\n",
    "    def __init__(self):\n",
    "        # Словарь для хранения пар (ключи, значения) на каждый слой\n",
    "        self.cache = {}\n",
    "\n",
    "    def set(self, layer_id, key, value):\n",
    "        \"\"\"\n",
    "        Установить или обновить кэш для заданного слоя.\n",
    "        Если ранее были сохранены ключи/значения, они дополняются.\n",
    "        \"\"\"\n",
    "        if layer_id in self.cache:\n",
    "            # Конкатенируем по размерности временной последовательности\n",
    "            k_prev, v_prev = self.cache[layer_id]\n",
    "            key = torch.cat([k_prev, key], dim=2)  # dim=2 => seq_len\n",
    "            value = torch.cat([v_prev, value], dim=2)\n",
    "        self.cache[layer_id] = (key, value)\n",
    "\n",
    "    def get(self, layer_id):\n",
    "        \"\"\"\n",
    "        Получить кэшированные ключи/значения для заданного слоя.\n",
    "        Если нет кэша, возвращает (None, None).\n",
    "        \"\"\"\n",
    "        return self.cache.get(layer_id, (None, None))\n",
    "\n",
    "    def clear(self):\n",
    "        \"\"\"\n",
    "        Очистить весь кэш.\n",
    "        \"\"\"\n",
    "        self.cache.clear()"
   ]
  },
  {
   "cell_type": "markdown",
   "id": "67c87ceb",
   "metadata": {},
   "source": [
    "### 2 version"
   ]
  },
  {
   "cell_type": "code",
   "execution_count": 43,
   "id": "56ef1970",
   "metadata": {},
   "outputs": [],
   "source": [
    "class KVCache:\n",
    "    \"\"\"\n",
    "    It's first version of my implementation of KV-cache.\n",
    "    Maybe something wrong, need refactor\n",
    "    \"\"\"\n",
    "    def __init__(self, batch_size, d_out, context_length, num_heads, device): #batch_size, num_heads, max_seq_len, head_dim, device):\n",
    "\n",
    "        self.batch_size = batch_size\n",
    "        self.num_heads = num_heads\n",
    "        self.head_dim = d_out // self.num_heads\n",
    "        self.context_length = context_length\n",
    "        self.device = device\n",
    "\n",
    "        # Предварительно выделяем память для ключей и значений\n",
    "        self.keys = torch.empty(batch_size, num_heads, self.context_length, self.head_dim, device=self.device)\n",
    "        self.values = torch.empty(batch_size, num_heads, self.context_length, self.head_dim, device=self.device)\n",
    "        # Индекс, указывающий на текущую длину кэша\n",
    "        self.current_len = 0\n",
    "        \n",
    "    def update(self, new_keys, new_values):\n",
    "        \"\"\"\n",
    "        new_keys: тензор с формой [batch_size, num_heads, context_length, self.head_dim] \n",
    "        Т.е. после keys = keys.transpose(1, 2) # b, self.num_heads, num_tokens, self.head_dim\n",
    "        new_values: аналогично\n",
    "        Записывает новые ключи и значения в кэш.\n",
    "        \"\"\"\n",
    "        new_seq_len = new_keys.size(2)\n",
    "        end_pos = self.current_len + new_seq_len\n",
    "        \n",
    "        #if end_pos > self.context_length:\n",
    "        #    raise ValueError(\"Превышена максимальная длина кэша. Рассмотрите возможность использования скользящего окна или увеличения max_seq_len.\")\n",
    "        \n",
    "        # Записываем новые данные в заранее выделенные тензоры\n",
    "        self.keys[:, :, self.current_len:end_pos, :] = new_keys\n",
    "        self.values[:, :, self.current_len:end_pos, :] = new_values\n",
    "        \n",
    "        # Обновляем указатель текущей длины\n",
    "        self.current_len = end_pos\n",
    "\n",
    "    def get_cache(self):\n",
    "        \"\"\"\n",
    "        Возвращает актуальные ключи и значения до текущей длины.\n",
    "        \"\"\"\n",
    "        #return self.keys[:, :, :self.current_len, :], self.values[:, :, :self.current_len, :]\n",
    "        #return self.keys, self.values\n",
    "        return self.keys[:, :, -self.context_length:, :], self.values[:, :, -self.context_length:, :]\n",
    "\n",
    "    def reset(self):\n",
    "        \"\"\"\n",
    "        Сбрасывает кэш для начала новой последовательности.\n",
    "        \"\"\"\n",
    "        self.current_len = 0"
   ]
  },
  {
   "cell_type": "code",
   "execution_count": 56,
   "id": "01675d2a",
   "metadata": {},
   "outputs": [],
   "source": [
    "class MultiHeadAttentionWithPreallocatedKV(nn.Module):\n",
    "    def __init__(self, d_in, d_out, context_length, dropout, num_heads, qkv_bias=False):\n",
    "        super().__init__()\n",
    "        assert (d_out % num_heads == 0)\n",
    "\n",
    "        self.d_out = d_out\n",
    "        self.num_heads = num_heads\n",
    "        self.head_dim = d_out // num_heads\n",
    "\n",
    "        self.W_key = nn.Linear(d_in, d_out, bias=qkv_bias)\n",
    "        self.W_query = nn.Linear(d_in, d_out, bias=qkv_bias)\n",
    "        self.W_value = nn.Linear(d_in, d_out, bias=qkv_bias)\n",
    "        self.out_proj = nn.Linear(d_out, d_out)\n",
    "        self.dropout = nn.Dropout(dropout)\n",
    "        self.register_buffer('mask', torch.triu(torch.ones(context_length, context_length), diagonal=1))\n",
    "\n",
    "    def forward(self, x, kv_cache=None):\n",
    "        b, num_tokens, d_in = x.size()\n",
    "        queries = self.W_query(x) # b, num_tokens, self.d_out\n",
    "        keys = self.W_key(x) # b, num_tokens, self.d_out\n",
    "        values = self.W_value(x) # b, num_tokens, self.d_out\n",
    "\n",
    "        queries = queries.view(b, num_tokens, self.num_heads, self.head_dim)\n",
    "        keys = keys.view(b, num_tokens, self.num_heads, self.head_dim)\n",
    "        values = values.view(b, num_tokens, self.num_heads, self.head_dim)\n",
    "\n",
    "        queries = queries.transpose(1, 2) # b, self.num_heads, num_tokens, self.head_dim\n",
    "        keys = keys.transpose(1, 2) # b, self.num_heads, num_tokens, self.head_dim\n",
    "        values = values.transpose(1, 2) # b, self.num_heads, num_tokens, self.head_dim\n",
    "\n",
    "        # KV-cache update\n",
    "        if (kv_cache != None):\n",
    "            kv_cache.update(new_keys=keys, new_values=values)\n",
    "            k_full, v_full = kv_cache.get_cache()\n",
    "        else:\n",
    "            k_full, v_full = keys, values\n",
    "            \n",
    "        att_scores = queries @ k_full.transpose(2, 3) # shapes = (num_tokens, self.head_dim) @ (self.head_dim, num_tokens) -> (num_tokens, num_tokens)\n",
    "\n",
    "        mask_bool = self.mask.bool()[:num_tokens, :num_tokens]\n",
    "        att_scores.masked_fill_(mask_bool, -torch.inf)\n",
    "\n",
    "        att_weights = torch.softmax(att_scores / k_full.shape[-1]**0.5, dim=-1)\n",
    "        att_weights = self.dropout(att_weights)\n",
    "\n",
    "        context_vec = (att_weights @ v_full).transpose(1, 2) # (num_tokens, num_tokens) @ (num_tokens, self.head_dim) -> (num_tokens, self.head_dim) -> transpose(1,2) of (b, self.num_heads, num_tokens, self.head_dim) ->\n",
    "        # -> (b, num_tokens, self.num_heads, self.head_dim) as view in previous code after inference of Linear layers\n",
    "        context_vec = context_vec.contiguous().view(b, num_tokens, self.d_out)\n",
    "        context_vec = self.out_proj(context_vec)\n",
    "        return context_vec"
   ]
  },
  {
   "cell_type": "code",
   "execution_count": 60,
   "id": "3a6a0518",
   "metadata": {},
   "outputs": [],
   "source": [
    "kv_cache = KVCache(batch_size=batch_size, d_out=embed_dim, context_length=context_len*2, num_heads=num_heads, device=device)\n",
    "mha_torch_kv_cache = MultiHeadAttentionWithPreallocatedKV(d_in=embed_dim, d_out=embed_dim, context_length=context_len, dropout=dropout, num_heads=num_heads, qkv_bias=qkv_bias)"
   ]
  },
  {
   "cell_type": "code",
   "execution_count": 61,
   "id": "e186091f",
   "metadata": {},
   "outputs": [
    {
     "data": {
      "text/plain": [
       "MultiHeadAttentionWithPreallocatedKV(\n",
       "  (W_key): Linear(in_features=768, out_features=768, bias=False)\n",
       "  (W_query): Linear(in_features=768, out_features=768, bias=False)\n",
       "  (W_value): Linear(in_features=768, out_features=768, bias=False)\n",
       "  (out_proj): Linear(in_features=768, out_features=768, bias=True)\n",
       "  (dropout): Dropout(p=0.1, inplace=False)\n",
       ")"
      ]
     },
     "execution_count": 61,
     "metadata": {},
     "output_type": "execute_result"
    }
   ],
   "source": [
    "mha_torch_kv_cache.to(device)"
   ]
  },
  {
   "cell_type": "code",
   "execution_count": 47,
   "id": "ff255aad",
   "metadata": {},
   "outputs": [
    {
     "data": {
      "text/plain": [
       "torch.Size([8, 1024, 768])"
      ]
     },
     "execution_count": 47,
     "metadata": {},
     "output_type": "execute_result"
    }
   ],
   "source": [
    "mha_torch_kv_cache(embeddings).shape"
   ]
  },
  {
   "cell_type": "code",
   "execution_count": 48,
   "id": "be9b4502",
   "metadata": {},
   "outputs": [
    {
     "data": {
      "text/plain": [
       "torch.Size([8, 4, 2048, 192])"
      ]
     },
     "execution_count": 48,
     "metadata": {},
     "output_type": "execute_result"
    }
   ],
   "source": [
    "kv_cache.get_cache()[-1].shape"
   ]
  },
  {
   "cell_type": "code",
   "execution_count": 49,
   "id": "702ce2ed",
   "metadata": {},
   "outputs": [
    {
     "data": {
      "text/plain": [
       "tensor([[[[ 2.3511e-38,  2.3694e-38,  2.3694e-38,  ...,  2.3694e-38,\n",
       "            2.3694e-38,  2.3694e-38],\n",
       "          [ 9.2196e-41,  2.3694e-38,  2.3694e-38,  ...,  2.3694e-38,\n",
       "            9.2196e-41,  2.3511e-38],\n",
       "          [ 2.3694e-38,  2.3511e-38,  2.3694e-38,  ...,  2.3694e-38,\n",
       "            2.3511e-38,  9.2196e-41],\n",
       "          ...,\n",
       "          [ 2.3511e-38,  2.3694e-38,  2.3694e-38,  ...,  2.3694e-38,\n",
       "            2.3694e-38,  2.3694e-38],\n",
       "          [ 2.3694e-38,  2.3694e-38,  2.3694e-38,  ...,  9.2196e-41,\n",
       "            2.3694e-38,  2.3694e-38],\n",
       "          [ 2.3694e-38,  2.3694e-38,  9.2196e-41,  ...,  2.3694e-38,\n",
       "            2.3694e-38,  2.3694e-38]],\n",
       "\n",
       "         [[ 2.3694e-38,  2.3694e-38,  2.3694e-38,  ...,  2.3694e-38,\n",
       "            2.3694e-38,  2.3694e-38],\n",
       "          [ 2.3694e-38,  2.3694e-38,  2.3694e-38,  ...,  2.3511e-38,\n",
       "            2.3694e-38,  2.3510e-38],\n",
       "          [ 2.3694e-38,  2.3510e-38,  9.2196e-41,  ...,  2.3694e-38,\n",
       "            2.3694e-38,  2.3694e-38],\n",
       "          ...,\n",
       "          [ 2.3694e-38,  2.3694e-38,  9.2196e-41,  ...,  2.3511e-38,\n",
       "            2.3694e-38,  2.3694e-38],\n",
       "          [ 2.3694e-38,  2.3694e-38,  2.3694e-38,  ...,  2.3694e-38,\n",
       "            2.3694e-38,  2.3694e-38],\n",
       "          [ 2.3694e-38,  2.3694e-38,  2.3511e-38,  ...,  2.3694e-38,\n",
       "            2.3694e-38,  2.3694e-38]],\n",
       "\n",
       "         [[ 2.3694e-38,  2.3694e-38,  2.3694e-38,  ...,  2.3694e-38,\n",
       "            2.3694e-38,  2.3694e-38],\n",
       "          [ 2.3694e-38,  2.3694e-38,  9.1837e-41,  ...,  2.3694e-38,\n",
       "            2.3694e-38,  2.3511e-38],\n",
       "          [ 2.3694e-38,  9.2196e-41,  2.3694e-38,  ...,  2.3694e-38,\n",
       "            2.3694e-38,  2.3694e-38],\n",
       "          ...,\n",
       "          [ 2.3510e-38,  2.3694e-38,  2.3694e-38,  ...,  2.3694e-38,\n",
       "            2.3694e-38,  2.3694e-38],\n",
       "          [ 2.3694e-38,  2.3694e-38,  2.3694e-38,  ...,  2.3694e-38,\n",
       "            2.3694e-38,  2.3511e-38],\n",
       "          [ 2.3694e-38,  2.3694e-38,  2.3694e-38,  ...,  9.2196e-41,\n",
       "            2.3511e-38,  2.3511e-38]],\n",
       "\n",
       "         [[ 2.3694e-38,  2.3694e-38,  2.3694e-38,  ...,  2.3694e-38,\n",
       "            2.3694e-38,  2.3694e-38],\n",
       "          [ 2.3694e-38,  2.3511e-38,  2.3694e-38,  ...,  2.3694e-38,\n",
       "            9.2196e-41,  3.6013e-43],\n",
       "          [ 2.3694e-38,  2.3694e-38,  2.3694e-38,  ...,  2.3511e-38,\n",
       "            2.3694e-38,  2.3694e-38],\n",
       "          ...,\n",
       "          [ 2.3694e-38,  2.3694e-38,  2.3694e-38,  ...,  2.3694e-38,\n",
       "            2.3694e-38,  2.3694e-38],\n",
       "          [ 2.3694e-38,  2.3694e-38,  9.2196e-41,  ...,  2.3694e-38,\n",
       "            2.3694e-38,  2.3694e-38],\n",
       "          [ 2.3694e-38,  2.3694e-38,  2.3694e-38,  ...,  2.3694e-38,\n",
       "            2.3694e-38,  2.3511e-38]]],\n",
       "\n",
       "\n",
       "        [[[ 2.3694e-38,  2.3694e-38,  2.3694e-38,  ...,  2.3694e-38,\n",
       "            2.3694e-38,  2.3694e-38],\n",
       "          [ 2.3694e-38,  2.3694e-38,  2.3694e-38,  ...,  2.3694e-38,\n",
       "            2.3511e-38,  2.3694e-38],\n",
       "          [ 2.3694e-38,  2.3694e-38,  2.3694e-38,  ...,  2.3694e-38,\n",
       "            2.3694e-38,  9.2196e-41],\n",
       "          ...,\n",
       "          [ 2.3694e-38,  2.3694e-38,  2.3694e-38,  ...,  3.6013e-43,\n",
       "            2.3694e-38,  2.3694e-38],\n",
       "          [ 3.6013e-43,  2.3511e-38,  9.2196e-41,  ...,  2.3511e-38,\n",
       "            9.2196e-41,  9.2194e-41],\n",
       "          [ 2.3694e-38,  2.3694e-38,  2.3694e-38,  ...,  2.3511e-38,\n",
       "            2.3694e-38,  2.3694e-38]],\n",
       "\n",
       "         [[ 9.2196e-41,  2.3694e-38,  2.3694e-38,  ...,  2.3694e-38,\n",
       "            2.3511e-38,  2.3511e-38],\n",
       "          [ 2.3694e-38,  2.3694e-38,  2.3511e-38,  ...,  9.2196e-41,\n",
       "            2.3694e-38,  2.3694e-38],\n",
       "          [ 2.3694e-38,  2.3511e-38,  2.3694e-38,  ...,  2.3694e-38,\n",
       "            2.3694e-38,  2.3694e-38],\n",
       "          ...,\n",
       "          [ 3.3747e-01, -6.2604e-01,  1.1189e+00,  ...,  8.2941e-01,\n",
       "            1.2853e-01,  3.3504e-01],\n",
       "          [-1.4037e-01, -5.6967e-01, -2.1482e-01,  ..., -1.5291e+00,\n",
       "           -3.9614e-01, -3.8252e-01],\n",
       "          [ 7.1985e-01,  5.7368e-01, -5.0842e-01,  ..., -5.5386e-02,\n",
       "           -7.6983e-02,  6.1882e-02]],\n",
       "\n",
       "         [[ 1.0899e+00,  1.0597e+00, -5.5711e-02,  ...,  3.8869e-01,\n",
       "            3.1157e-01, -7.9215e-01],\n",
       "          [ 2.2458e-01, -2.3408e-01, -4.4700e-01,  ...,  6.4710e-02,\n",
       "           -1.1864e-02, -8.6991e-01],\n",
       "          [ 7.4696e-01, -7.3506e-01, -4.2527e-01,  ...,  2.8359e-01,\n",
       "           -4.2855e-01,  2.4317e-01],\n",
       "          ...,\n",
       "          [-2.0961e-01, -6.7427e-01,  2.3249e-01,  ..., -6.0814e-02,\n",
       "            4.8089e-01, -5.3551e-01],\n",
       "          [-7.0680e-01,  1.2547e+00, -8.2021e-01,  ..., -5.1035e-01,\n",
       "           -1.8694e-01,  3.4015e-01],\n",
       "          [ 6.2810e-01, -1.0723e+00,  9.5540e-01,  ..., -7.7002e-01,\n",
       "            3.3377e-01,  6.3177e-02]],\n",
       "\n",
       "         [[ 2.4847e-01, -7.6996e-01,  2.9443e-01,  ...,  8.4187e-02,\n",
       "           -1.3404e+00, -2.1673e-01],\n",
       "          [ 1.2267e+00,  6.6481e-01, -1.3832e+00,  ..., -4.0574e-01,\n",
       "           -2.9391e-01,  2.8371e-01],\n",
       "          [-4.8423e-01,  3.1386e-01, -5.0211e-01,  ...,  5.9881e-01,\n",
       "           -1.9836e-01, -1.0235e+00],\n",
       "          ...,\n",
       "          [-1.6042e+00,  3.1383e-01,  1.0944e-02,  ..., -1.1488e-01,\n",
       "            5.1978e-01, -1.8303e-01],\n",
       "          [-1.5772e-01,  3.5589e-01, -9.3297e-01,  ..., -3.2257e-01,\n",
       "           -8.9011e-01,  1.3376e+00],\n",
       "          [-5.0191e-01, -1.4699e-01,  2.9748e-01,  ...,  1.8237e-01,\n",
       "            2.2042e-01,  2.8697e-01]]],\n",
       "\n",
       "\n",
       "        [[[ 4.8617e-01,  7.9135e-02, -2.6620e-01,  ...,  7.4469e-01,\n",
       "            1.3415e-01, -1.0954e+00],\n",
       "          [ 2.5504e-01, -4.4818e-01, -6.7281e-01,  ...,  1.3309e-01,\n",
       "           -5.0354e-01, -1.1760e-01],\n",
       "          [-6.8954e-01, -3.1660e-01,  2.0824e-01,  ...,  2.2757e-01,\n",
       "           -1.2317e+00,  9.6492e-02],\n",
       "          ...,\n",
       "          [ 1.0182e-01,  5.7983e-01,  2.9672e-01,  ...,  4.5804e-01,\n",
       "           -1.8466e-01,  8.1623e-01],\n",
       "          [-1.0591e-01,  1.1740e-01,  1.8688e-01,  ..., -7.3963e-01,\n",
       "            5.1151e-01,  3.6239e-01],\n",
       "          [-1.6653e-01,  1.9713e-03,  5.2190e-01,  ...,  7.2444e-01,\n",
       "           -1.4247e-01,  4.0687e-01]],\n",
       "\n",
       "         [[ 1.0468e+00,  4.1308e-01,  1.6213e-01,  ..., -9.8716e-01,\n",
       "            1.1571e-02,  6.5322e-01],\n",
       "          [ 5.4480e-01, -5.2093e-01, -2.6562e-01,  ..., -1.6788e-01,\n",
       "            4.3709e-01,  8.6955e-01],\n",
       "          [-3.2944e-01,  8.0552e-01, -5.2328e-02,  ..., -2.5299e-01,\n",
       "            1.3111e-01,  2.9753e-01],\n",
       "          ...,\n",
       "          [-1.0625e+00, -1.0904e+00,  3.0772e-01,  ...,  7.0346e-02,\n",
       "           -5.6534e-01, -3.9709e-01],\n",
       "          [ 2.8054e-01, -1.0394e-01,  6.2982e-01,  ..., -1.4127e-02,\n",
       "           -2.3084e-01,  6.4457e-01],\n",
       "          [ 3.2462e-02, -5.0371e-01, -3.8922e-01,  ...,  2.9536e-01,\n",
       "           -3.8832e-01, -7.7041e-02]],\n",
       "\n",
       "         [[-3.5126e-01, -7.0090e-02, -6.0925e-01,  ...,  3.2544e-01,\n",
       "            6.8730e-02, -4.5727e-01],\n",
       "          [ 1.3647e+00, -2.2136e-01,  1.9869e-01,  ..., -2.8642e-01,\n",
       "           -4.9478e-02,  1.7923e-01],\n",
       "          [-3.6479e-01, -6.4849e-01,  5.2831e-01,  ..., -2.0549e-01,\n",
       "           -9.6122e-01, -7.3378e-01],\n",
       "          ...,\n",
       "          [ 6.6749e-01, -7.0555e-01, -7.4978e-01,  ..., -6.7585e-01,\n",
       "           -7.9060e-01,  5.5266e-01],\n",
       "          [ 8.5009e-01, -4.6235e-02,  6.1012e-01,  ..., -8.6331e-01,\n",
       "           -1.8878e-01,  4.5872e-01],\n",
       "          [-1.8560e-02, -4.0863e-01,  3.6925e-01,  ...,  4.8189e-03,\n",
       "            5.6074e-01, -1.6546e-01]],\n",
       "\n",
       "         [[ 3.6484e-01,  1.3143e-01, -1.0642e-01,  ..., -1.1474e+00,\n",
       "           -4.5275e-01,  1.0942e+00],\n",
       "          [-4.9209e-01,  4.5229e-01, -3.6581e-01,  ...,  9.4351e-01,\n",
       "           -3.8565e-01,  1.0893e-01],\n",
       "          [-1.5668e-01, -8.6459e-01,  7.8339e-01,  ...,  2.8517e-01,\n",
       "            3.5929e-01,  3.6012e-01],\n",
       "          ...,\n",
       "          [ 7.2933e-02,  8.0785e-02, -1.4767e+00,  ...,  1.1565e+00,\n",
       "           -5.3118e-01, -1.0900e-01],\n",
       "          [ 1.9268e-01,  1.2545e-02, -2.7357e-02,  ...,  1.9522e-01,\n",
       "           -5.4958e-01,  1.8579e-01],\n",
       "          [-5.1659e-01, -3.2353e-01,  5.8758e-02,  ...,  2.3760e-01,\n",
       "           -8.0798e-01, -9.3368e-02]]],\n",
       "\n",
       "\n",
       "        ...,\n",
       "\n",
       "\n",
       "        [[[ 8.1712e-02, -6.2252e-02,  1.3380e-02,  ..., -5.4260e-01,\n",
       "           -2.7872e-01,  5.0090e-01],\n",
       "          [ 1.9897e-01, -2.0382e-01,  6.7576e-01,  ..., -3.0238e-01,\n",
       "           -2.8752e-01, -2.1983e-01],\n",
       "          [-4.1167e-01, -7.4555e-01, -2.5528e-02,  ...,  5.9243e-01,\n",
       "            1.6323e+00,  4.2445e-01],\n",
       "          ...,\n",
       "          [ 5.4479e-01,  1.4184e-01,  5.0684e-01,  ..., -4.9808e-02,\n",
       "            3.8367e-01,  4.4849e-01],\n",
       "          [-5.4411e-01, -7.9370e-01,  2.0888e-01,  ..., -1.0976e+00,\n",
       "            7.1545e-01,  2.1894e-01],\n",
       "          [ 1.6424e-01,  4.4202e-01,  3.3104e-01,  ...,  2.3832e-01,\n",
       "            1.2768e-01, -4.5218e-01]],\n",
       "\n",
       "         [[-5.4734e-01,  2.2964e-01, -1.4503e+00,  ...,  2.2379e-01,\n",
       "           -7.1542e-01,  1.5940e-01],\n",
       "          [-8.1073e-01, -1.6682e-01,  1.2758e+00,  ..., -1.0625e+00,\n",
       "            4.1173e-01, -4.5286e-01],\n",
       "          [-2.4353e-01, -1.8057e-01,  5.5451e-01,  ...,  4.7209e-01,\n",
       "           -1.1902e+00, -6.4691e-01],\n",
       "          ...,\n",
       "          [ 1.3623e-02,  8.6540e-03, -1.9803e-04,  ...,  1.1701e-02,\n",
       "           -2.9439e-02, -1.1479e-02],\n",
       "          [-4.6029e-02, -4.3218e-02, -1.8577e-02,  ..., -2.3877e-02,\n",
       "            8.5796e-03, -4.0752e-02],\n",
       "          [ 3.4423e-02, -1.7642e-02,  2.6660e-02,  ...,  2.5565e-02,\n",
       "            2.5623e-02,  7.5709e-02]],\n",
       "\n",
       "         [[-3.1571e-02, -1.2103e-02,  1.0258e-02,  ..., -1.2393e-02,\n",
       "            3.1418e-02,  4.0787e-03],\n",
       "          [ 1.8768e-02,  4.3664e-03, -4.2359e-02,  ...,  1.6283e-02,\n",
       "           -2.4749e-02, -7.7754e-03],\n",
       "          [-3.7973e-02, -5.3731e-02, -1.6014e-02,  ..., -4.2175e-02,\n",
       "            1.3348e-02, -4.1490e-02],\n",
       "          ...,\n",
       "          [ 3.3005e-02, -1.8842e-02, -2.9161e-02,  ..., -1.3962e-03,\n",
       "           -4.1042e-03,  7.8970e-03],\n",
       "          [-3.7096e-02, -3.4369e-02, -1.7062e-02,  ..., -4.4162e-02,\n",
       "            3.3915e-02, -4.6314e-02],\n",
       "          [ 2.3156e-02, -9.3644e-03,  1.1707e-02,  ..., -1.8824e-02,\n",
       "            1.9120e-02,  3.5838e-02]],\n",
       "\n",
       "         [[-4.4590e-02, -8.0402e-04,  8.9797e-04,  ..., -3.9693e-03,\n",
       "            2.9777e-02, -1.5669e-02],\n",
       "          [ 2.3281e-02,  2.0825e-03, -3.5303e-02,  ...,  3.7434e-03,\n",
       "           -2.0730e-02,  1.9603e-02],\n",
       "          [-3.4374e-02, -4.4644e-02, -2.3110e-02,  ..., -2.9819e-02,\n",
       "            1.9584e-02, -2.5708e-02],\n",
       "          ...,\n",
       "          [ 5.1387e-02, -3.4604e-04, -9.8368e-03,  ...,  1.8253e-02,\n",
       "           -1.5728e-02,  1.3265e-03],\n",
       "          [-8.3233e-03, -5.3991e-02, -1.7752e-02,  ..., -1.8585e-02,\n",
       "            3.7823e-02, -2.0454e-02],\n",
       "          [ 2.9068e-02, -6.5044e-03, -5.5364e-03,  ...,  1.6114e-03,\n",
       "           -3.0140e-02, -1.9266e-03]]],\n",
       "\n",
       "\n",
       "        [[[-1.0634e-02, -8.1593e-03, -4.9386e-03,  ..., -4.8784e-03,\n",
       "            8.1862e-03, -3.6307e-02],\n",
       "          [ 4.9585e-02,  8.8778e-04, -1.2249e-02,  ...,  3.6036e-02,\n",
       "            5.0391e-03,  1.0363e-02],\n",
       "          [-6.5779e-03, -5.5491e-02, -3.2518e-02,  ..., -3.3723e-02,\n",
       "            3.4946e-02, -1.4345e-02],\n",
       "          ...,\n",
       "          [ 2.2474e-02, -2.1784e-02, -1.7532e-02,  ...,  2.3746e-02,\n",
       "           -5.6955e-03,  7.0294e-03],\n",
       "          [-1.5500e-02, -3.9895e-02, -1.1852e-02,  ..., -2.6402e-02,\n",
       "            2.3406e-02, -3.6061e-02],\n",
       "          [ 2.7134e-02, -3.4830e-02,  2.9974e-03,  ...,  6.0001e-03,\n",
       "           -6.6200e-03,  1.5227e-02]],\n",
       "\n",
       "         [[-1.8358e-02, -2.8424e-03,  1.8251e-02,  ..., -2.6521e-03,\n",
       "            2.8685e-02, -2.3126e-02],\n",
       "          [ 3.4035e-02, -1.9808e-02, -7.9434e-03,  ...,  3.6657e-02,\n",
       "           -1.5389e-02,  8.7637e-03],\n",
       "          [-3.7513e-02, -3.5120e-02, -1.2850e-02,  ..., -3.7574e-02,\n",
       "            2.9960e-02, -4.8574e-02],\n",
       "          ...,\n",
       "          [ 1.8077e-02, -6.7503e-03, -7.2677e-02,  ...,  1.0037e-02,\n",
       "           -4.6333e-02,  4.6512e-02],\n",
       "          [-3.0571e-02, -4.4671e-02, -6.5069e-03,  ...,  6.9262e-03,\n",
       "            2.0159e-02, -3.1990e-03],\n",
       "          [-8.9407e-03, -2.9758e-02,  8.8104e-03,  ...,  1.3013e-02,\n",
       "            2.7528e-02,  1.3820e-02]],\n",
       "\n",
       "         [[-4.6055e-02, -2.4844e-03,  5.6960e-03,  ...,  8.7701e-03,\n",
       "            2.1355e-02, -3.7460e-02],\n",
       "          [ 3.2564e-02,  1.1742e-02, -5.9198e-02,  ...,  3.7696e-03,\n",
       "           -2.0608e-02,  3.2971e-02],\n",
       "          [-2.6355e-02, -4.2242e-02,  6.9463e-04,  ...,  1.7642e-02,\n",
       "            3.5739e-02, -2.6261e-02],\n",
       "          ...,\n",
       "          [ 3.7801e-02, -1.5230e-02, -3.9139e-02,  ...,  9.3333e-03,\n",
       "           -3.3625e-02,  3.0676e-02],\n",
       "          [-3.7138e-02, -2.8892e-02, -8.3234e-04,  ...,  1.4618e-02,\n",
       "            4.7521e-02, -7.9668e-03],\n",
       "          [ 7.1961e-03, -2.1580e-02,  1.3700e-02,  ..., -1.3812e-02,\n",
       "            2.0740e-02,  1.7467e-02]],\n",
       "\n",
       "         [[-3.9915e-02,  7.5280e-03,  1.7801e-03,  ...,  1.7801e-02,\n",
       "            1.9022e-02, -2.8430e-02],\n",
       "          [ 4.3256e-02,  6.4565e-03, -2.3277e-02,  ...,  2.8316e-02,\n",
       "           -4.0575e-02,  2.8119e-02],\n",
       "          [-2.5280e-02, -2.7699e-02, -4.8692e-03,  ...,  1.1148e-02,\n",
       "            3.7113e-02, -7.3680e-03],\n",
       "          ...,\n",
       "          [ 2.9700e-02,  1.1801e-03, -1.6217e-02,  ...,  1.3905e-02,\n",
       "           -1.5247e-02,  3.1552e-02],\n",
       "          [-3.5279e-02, -3.5836e-02, -5.6006e-03,  ...,  9.8511e-03,\n",
       "            6.4313e-02, -2.5843e-02],\n",
       "          [ 6.0709e-02, -3.7931e-02,  3.0775e-02,  ..., -2.2730e-02,\n",
       "            4.3496e-05,  2.4780e-02]]],\n",
       "\n",
       "\n",
       "        [[[-3.4620e-02, -1.3052e-02,  4.7107e-02,  ...,  1.1042e-02,\n",
       "            3.6351e-02, -4.6653e-03],\n",
       "          [ 3.4887e-02,  3.0956e-03, -6.2080e-03,  ..., -9.0518e-04,\n",
       "           -3.9747e-02,  2.8598e-02],\n",
       "          [-1.9687e-02, -3.9408e-02, -2.3768e-03,  ...,  3.5670e-03,\n",
       "            5.6015e-02, -3.6662e-02],\n",
       "          ...,\n",
       "          [ 1.4370e-02,  1.0055e-04, -2.0986e-02,  ...,  8.7789e-03,\n",
       "           -2.6697e-02,  1.3947e-02],\n",
       "          [-8.0590e-03, -2.8603e-02,  1.5804e-03,  ..., -3.7091e-03,\n",
       "            3.5208e-02, -2.3176e-02],\n",
       "          [ 1.7403e-02, -3.9023e-02,  4.0797e-02,  ..., -8.6390e-03,\n",
       "            1.1278e-03,  2.2356e-02]],\n",
       "\n",
       "         [[-3.6747e-02,  1.9068e-02,  2.0755e-02,  ...,  3.1668e-03,\n",
       "            3.5560e-02, -9.9399e-03],\n",
       "          [ 1.8972e-02, -5.2590e-03, -7.2482e-03,  ...,  4.5738e-03,\n",
       "           -3.8033e-02,  5.5676e-03],\n",
       "          [-1.7975e-02, -2.4702e-02,  1.4274e-02,  ..., -8.0371e-03,\n",
       "            1.6397e-02, -2.3117e-02],\n",
       "          ...,\n",
       "          [ 4.0372e-02,  3.0794e-02,  8.1142e-03,  ...,  1.9694e-02,\n",
       "           -5.4588e-02, -1.7565e-02],\n",
       "          [-2.9878e-02,  2.6062e-02, -1.9428e-03,  ...,  3.5189e-02,\n",
       "            1.9231e-02, -3.7068e-02],\n",
       "          [ 2.5633e-02, -4.7254e-03,  1.3643e-02,  ..., -4.7420e-03,\n",
       "           -8.5552e-03,  1.6776e-02]],\n",
       "\n",
       "         [[-2.8900e-02, -2.8458e-03,  4.5256e-03,  ..., -5.6693e-03,\n",
       "            3.2236e-02, -5.4433e-02],\n",
       "          [ 2.7515e-02,  2.5678e-02, -7.8792e-03,  ...,  2.3585e-02,\n",
       "           -6.4690e-02, -6.1704e-03],\n",
       "          [-1.5567e-03, -3.9729e-03, -3.2314e-02,  ...,  2.1050e-02,\n",
       "            2.1444e-02, -4.0106e-02],\n",
       "          ...,\n",
       "          [ 6.4968e-02, -5.5360e-03, -1.1293e-02,  ...,  2.6380e-02,\n",
       "           -4.2695e-02,  1.3572e-02],\n",
       "          [-8.2884e-03, -2.3690e-02,  4.0547e-03,  ..., -1.7899e-02,\n",
       "            3.0626e-02, -1.7690e-02],\n",
       "          [ 3.5632e-02, -5.9013e-03, -2.4403e-03,  ..., -1.8763e-03,\n",
       "            1.8694e-02,  4.5415e-03]],\n",
       "\n",
       "         [[-4.0595e-02,  7.4373e-03,  9.3509e-03,  ...,  7.9077e-03,\n",
       "            2.5289e-02, -8.1675e-03],\n",
       "          [ 6.1300e-02, -1.2810e-02, -1.7223e-02,  ...,  3.5868e-02,\n",
       "           -4.6364e-02,  2.0933e-02],\n",
       "          [-1.2676e-02, -1.0161e-02,  4.3228e-03,  ..., -5.6866e-03,\n",
       "            2.6226e-02, -2.0079e-02],\n",
       "          ...,\n",
       "          [ 7.2106e-02,  1.1969e-02, -4.3628e-02,  ...,  4.2045e-02,\n",
       "           -2.0788e-02,  1.4565e-02],\n",
       "          [-2.0556e-02, -1.2789e-02,  1.9159e-03,  ...,  7.2956e-03,\n",
       "            2.5744e-02, -3.4550e-02],\n",
       "          [-1.1937e-02, -3.0307e-02,  2.4986e-02,  ..., -9.4031e-03,\n",
       "           -6.1782e-03,  4.0881e-02]]]], device='cuda:0')"
      ]
     },
     "execution_count": 49,
     "metadata": {},
     "output_type": "execute_result"
    }
   ],
   "source": [
    "kv_cache.get_cache()[-1]"
   ]
  },
  {
   "cell_type": "code",
   "execution_count": 50,
   "id": "4e6936d9",
   "metadata": {},
   "outputs": [
    {
     "data": {
      "text/plain": [
       "torch.Size([8, 1024, 768])"
      ]
     },
     "execution_count": 50,
     "metadata": {},
     "output_type": "execute_result"
    }
   ],
   "source": [
    "mha_torch_kv_cache(embeddings).shape"
   ]
  },
  {
   "cell_type": "code",
   "execution_count": 51,
   "id": "27f45714",
   "metadata": {},
   "outputs": [
    {
     "data": {
      "text/plain": [
       "tensor([[[[ 2.3511e-38,  2.3694e-38,  2.3694e-38,  ...,  2.3694e-38,\n",
       "            2.3694e-38,  2.3694e-38],\n",
       "          [ 9.2196e-41,  2.3694e-38,  2.3694e-38,  ...,  2.3694e-38,\n",
       "            9.2196e-41,  2.3511e-38],\n",
       "          [ 2.3694e-38,  2.3511e-38,  2.3694e-38,  ...,  2.3694e-38,\n",
       "            2.3511e-38,  9.2196e-41],\n",
       "          ...,\n",
       "          [ 2.3511e-38,  2.3694e-38,  2.3694e-38,  ...,  2.3694e-38,\n",
       "            2.3694e-38,  2.3694e-38],\n",
       "          [ 2.3694e-38,  2.3694e-38,  2.3694e-38,  ...,  9.2196e-41,\n",
       "            2.3694e-38,  2.3694e-38],\n",
       "          [ 2.3694e-38,  2.3694e-38,  9.2196e-41,  ...,  2.3694e-38,\n",
       "            2.3694e-38,  2.3694e-38]],\n",
       "\n",
       "         [[ 2.3694e-38,  2.3694e-38,  2.3694e-38,  ...,  2.3694e-38,\n",
       "            2.3694e-38,  2.3694e-38],\n",
       "          [ 2.3694e-38,  2.3694e-38,  2.3694e-38,  ...,  2.3511e-38,\n",
       "            2.3694e-38,  2.3510e-38],\n",
       "          [ 2.3694e-38,  2.3510e-38,  9.2196e-41,  ...,  2.3694e-38,\n",
       "            2.3694e-38,  2.3694e-38],\n",
       "          ...,\n",
       "          [ 2.3694e-38,  2.3694e-38,  9.2196e-41,  ...,  2.3511e-38,\n",
       "            2.3694e-38,  2.3694e-38],\n",
       "          [ 2.3694e-38,  2.3694e-38,  2.3694e-38,  ...,  2.3694e-38,\n",
       "            2.3694e-38,  2.3694e-38],\n",
       "          [ 2.3694e-38,  2.3694e-38,  2.3511e-38,  ...,  2.3694e-38,\n",
       "            2.3694e-38,  2.3694e-38]],\n",
       "\n",
       "         [[ 2.3694e-38,  2.3694e-38,  2.3694e-38,  ...,  2.3694e-38,\n",
       "            2.3694e-38,  2.3694e-38],\n",
       "          [ 2.3694e-38,  2.3694e-38,  9.1837e-41,  ...,  2.3694e-38,\n",
       "            2.3694e-38,  2.3511e-38],\n",
       "          [ 2.3694e-38,  9.2196e-41,  2.3694e-38,  ...,  2.3694e-38,\n",
       "            2.3694e-38,  2.3694e-38],\n",
       "          ...,\n",
       "          [ 2.3510e-38,  2.3694e-38,  2.3694e-38,  ...,  2.3694e-38,\n",
       "            2.3694e-38,  2.3694e-38],\n",
       "          [ 2.3694e-38,  2.3694e-38,  2.3694e-38,  ...,  2.3694e-38,\n",
       "            2.3694e-38,  2.3511e-38],\n",
       "          [ 2.3694e-38,  2.3694e-38,  2.3694e-38,  ...,  9.2196e-41,\n",
       "            2.3511e-38,  2.3511e-38]],\n",
       "\n",
       "         [[ 2.3694e-38,  2.3694e-38,  2.3694e-38,  ...,  2.3694e-38,\n",
       "            2.3694e-38,  2.3694e-38],\n",
       "          [ 2.3694e-38,  2.3511e-38,  2.3694e-38,  ...,  2.3694e-38,\n",
       "            9.2196e-41,  3.6013e-43],\n",
       "          [ 2.3694e-38,  2.3694e-38,  2.3694e-38,  ...,  2.3511e-38,\n",
       "            2.3694e-38,  2.3694e-38],\n",
       "          ...,\n",
       "          [ 2.3694e-38,  2.3694e-38,  2.3694e-38,  ...,  2.3694e-38,\n",
       "            2.3694e-38,  2.3694e-38],\n",
       "          [ 2.3694e-38,  2.3694e-38,  9.2196e-41,  ...,  2.3694e-38,\n",
       "            2.3694e-38,  2.3694e-38],\n",
       "          [ 2.3694e-38,  2.3694e-38,  2.3694e-38,  ...,  2.3694e-38,\n",
       "            2.3694e-38,  2.3511e-38]]],\n",
       "\n",
       "\n",
       "        [[[ 2.3694e-38,  2.3694e-38,  2.3694e-38,  ...,  2.3694e-38,\n",
       "            2.3694e-38,  2.3694e-38],\n",
       "          [ 2.3694e-38,  2.3694e-38,  2.3694e-38,  ...,  2.3694e-38,\n",
       "            2.3511e-38,  2.3694e-38],\n",
       "          [ 2.3694e-38,  2.3694e-38,  2.3694e-38,  ...,  2.3694e-38,\n",
       "            2.3694e-38,  9.2196e-41],\n",
       "          ...,\n",
       "          [ 2.3694e-38,  2.3694e-38,  2.3694e-38,  ...,  3.6013e-43,\n",
       "            2.3694e-38,  2.3694e-38],\n",
       "          [ 3.6013e-43,  2.3511e-38,  9.2196e-41,  ...,  2.3511e-38,\n",
       "            9.2196e-41,  9.2194e-41],\n",
       "          [ 2.3694e-38,  2.3694e-38,  2.3694e-38,  ...,  2.3511e-38,\n",
       "            2.3694e-38,  2.3694e-38]],\n",
       "\n",
       "         [[ 9.2196e-41,  2.3694e-38,  2.3694e-38,  ...,  2.3694e-38,\n",
       "            2.3511e-38,  2.3511e-38],\n",
       "          [ 2.3694e-38,  2.3694e-38,  2.3511e-38,  ...,  9.2196e-41,\n",
       "            2.3694e-38,  2.3694e-38],\n",
       "          [ 2.3694e-38,  2.3511e-38,  2.3694e-38,  ...,  2.3694e-38,\n",
       "            2.3694e-38,  2.3694e-38],\n",
       "          ...,\n",
       "          [ 3.3747e-01, -6.2604e-01,  1.1189e+00,  ...,  8.2941e-01,\n",
       "            1.2853e-01,  3.3504e-01],\n",
       "          [-1.4037e-01, -5.6967e-01, -2.1482e-01,  ..., -1.5291e+00,\n",
       "           -3.9614e-01, -3.8252e-01],\n",
       "          [ 7.1985e-01,  5.7368e-01, -5.0842e-01,  ..., -5.5386e-02,\n",
       "           -7.6983e-02,  6.1882e-02]],\n",
       "\n",
       "         [[ 1.0899e+00,  1.0597e+00, -5.5711e-02,  ...,  3.8869e-01,\n",
       "            3.1157e-01, -7.9215e-01],\n",
       "          [ 2.2458e-01, -2.3408e-01, -4.4700e-01,  ...,  6.4710e-02,\n",
       "           -1.1864e-02, -8.6991e-01],\n",
       "          [ 7.4696e-01, -7.3506e-01, -4.2527e-01,  ...,  2.8359e-01,\n",
       "           -4.2855e-01,  2.4317e-01],\n",
       "          ...,\n",
       "          [-2.0961e-01, -6.7427e-01,  2.3249e-01,  ..., -6.0814e-02,\n",
       "            4.8089e-01, -5.3551e-01],\n",
       "          [-7.0680e-01,  1.2547e+00, -8.2021e-01,  ..., -5.1035e-01,\n",
       "           -1.8694e-01,  3.4015e-01],\n",
       "          [ 6.2810e-01, -1.0723e+00,  9.5540e-01,  ..., -7.7002e-01,\n",
       "            3.3377e-01,  6.3177e-02]],\n",
       "\n",
       "         [[ 2.4847e-01, -7.6996e-01,  2.9443e-01,  ...,  8.4187e-02,\n",
       "           -1.3404e+00, -2.1673e-01],\n",
       "          [ 1.2267e+00,  6.6481e-01, -1.3832e+00,  ..., -4.0574e-01,\n",
       "           -2.9391e-01,  2.8371e-01],\n",
       "          [-4.8423e-01,  3.1386e-01, -5.0211e-01,  ...,  5.9881e-01,\n",
       "           -1.9836e-01, -1.0235e+00],\n",
       "          ...,\n",
       "          [-1.6042e+00,  3.1383e-01,  1.0944e-02,  ..., -1.1488e-01,\n",
       "            5.1978e-01, -1.8303e-01],\n",
       "          [-1.5772e-01,  3.5589e-01, -9.3297e-01,  ..., -3.2257e-01,\n",
       "           -8.9011e-01,  1.3376e+00],\n",
       "          [-5.0191e-01, -1.4699e-01,  2.9748e-01,  ...,  1.8237e-01,\n",
       "            2.2042e-01,  2.8697e-01]]],\n",
       "\n",
       "\n",
       "        [[[ 4.8617e-01,  7.9135e-02, -2.6620e-01,  ...,  7.4469e-01,\n",
       "            1.3415e-01, -1.0954e+00],\n",
       "          [ 2.5504e-01, -4.4818e-01, -6.7281e-01,  ...,  1.3309e-01,\n",
       "           -5.0354e-01, -1.1760e-01],\n",
       "          [-6.8954e-01, -3.1660e-01,  2.0824e-01,  ...,  2.2757e-01,\n",
       "           -1.2317e+00,  9.6492e-02],\n",
       "          ...,\n",
       "          [ 1.0182e-01,  5.7983e-01,  2.9672e-01,  ...,  4.5804e-01,\n",
       "           -1.8466e-01,  8.1623e-01],\n",
       "          [-1.0591e-01,  1.1740e-01,  1.8688e-01,  ..., -7.3963e-01,\n",
       "            5.1151e-01,  3.6239e-01],\n",
       "          [-1.6653e-01,  1.9713e-03,  5.2190e-01,  ...,  7.2444e-01,\n",
       "           -1.4247e-01,  4.0687e-01]],\n",
       "\n",
       "         [[ 1.0468e+00,  4.1308e-01,  1.6213e-01,  ..., -9.8716e-01,\n",
       "            1.1571e-02,  6.5322e-01],\n",
       "          [ 5.4480e-01, -5.2093e-01, -2.6562e-01,  ..., -1.6788e-01,\n",
       "            4.3709e-01,  8.6955e-01],\n",
       "          [-3.2944e-01,  8.0552e-01, -5.2328e-02,  ..., -2.5299e-01,\n",
       "            1.3111e-01,  2.9753e-01],\n",
       "          ...,\n",
       "          [-1.0625e+00, -1.0904e+00,  3.0772e-01,  ...,  7.0346e-02,\n",
       "           -5.6534e-01, -3.9709e-01],\n",
       "          [ 2.8054e-01, -1.0394e-01,  6.2982e-01,  ..., -1.4127e-02,\n",
       "           -2.3084e-01,  6.4457e-01],\n",
       "          [ 3.2462e-02, -5.0371e-01, -3.8922e-01,  ...,  2.9536e-01,\n",
       "           -3.8832e-01, -7.7041e-02]],\n",
       "\n",
       "         [[-3.5126e-01, -7.0090e-02, -6.0925e-01,  ...,  3.2544e-01,\n",
       "            6.8730e-02, -4.5727e-01],\n",
       "          [ 1.3647e+00, -2.2136e-01,  1.9869e-01,  ..., -2.8642e-01,\n",
       "           -4.9478e-02,  1.7923e-01],\n",
       "          [-3.6479e-01, -6.4849e-01,  5.2831e-01,  ..., -2.0549e-01,\n",
       "           -9.6122e-01, -7.3378e-01],\n",
       "          ...,\n",
       "          [ 6.6749e-01, -7.0555e-01, -7.4978e-01,  ..., -6.7585e-01,\n",
       "           -7.9060e-01,  5.5266e-01],\n",
       "          [ 8.5009e-01, -4.6235e-02,  6.1012e-01,  ..., -8.6331e-01,\n",
       "           -1.8878e-01,  4.5872e-01],\n",
       "          [-1.8560e-02, -4.0863e-01,  3.6925e-01,  ...,  4.8189e-03,\n",
       "            5.6074e-01, -1.6546e-01]],\n",
       "\n",
       "         [[ 3.6484e-01,  1.3143e-01, -1.0642e-01,  ..., -1.1474e+00,\n",
       "           -4.5275e-01,  1.0942e+00],\n",
       "          [-4.9209e-01,  4.5229e-01, -3.6581e-01,  ...,  9.4351e-01,\n",
       "           -3.8565e-01,  1.0893e-01],\n",
       "          [-1.5668e-01, -8.6459e-01,  7.8339e-01,  ...,  2.8517e-01,\n",
       "            3.5929e-01,  3.6012e-01],\n",
       "          ...,\n",
       "          [ 7.2933e-02,  8.0785e-02, -1.4767e+00,  ...,  1.1565e+00,\n",
       "           -5.3118e-01, -1.0900e-01],\n",
       "          [ 1.9268e-01,  1.2545e-02, -2.7357e-02,  ...,  1.9522e-01,\n",
       "           -5.4958e-01,  1.8579e-01],\n",
       "          [-5.1659e-01, -3.2353e-01,  5.8758e-02,  ...,  2.3760e-01,\n",
       "           -8.0798e-01, -9.3368e-02]]],\n",
       "\n",
       "\n",
       "        ...,\n",
       "\n",
       "\n",
       "        [[[ 8.1712e-02, -6.2252e-02,  1.3380e-02,  ..., -5.4260e-01,\n",
       "           -2.7872e-01,  5.0090e-01],\n",
       "          [ 1.9897e-01, -2.0382e-01,  6.7576e-01,  ..., -3.0238e-01,\n",
       "           -2.8752e-01, -2.1983e-01],\n",
       "          [-4.1167e-01, -7.4555e-01, -2.5528e-02,  ...,  5.9243e-01,\n",
       "            1.6323e+00,  4.2445e-01],\n",
       "          ...,\n",
       "          [ 5.4479e-01,  1.4184e-01,  5.0684e-01,  ..., -4.9808e-02,\n",
       "            3.8367e-01,  4.4849e-01],\n",
       "          [-5.4411e-01, -7.9370e-01,  2.0888e-01,  ..., -1.0976e+00,\n",
       "            7.1545e-01,  2.1894e-01],\n",
       "          [ 1.6424e-01,  4.4202e-01,  3.3104e-01,  ...,  2.3832e-01,\n",
       "            1.2768e-01, -4.5218e-01]],\n",
       "\n",
       "         [[-5.4734e-01,  2.2964e-01, -1.4503e+00,  ...,  2.2379e-01,\n",
       "           -7.1542e-01,  1.5940e-01],\n",
       "          [-8.1073e-01, -1.6682e-01,  1.2758e+00,  ..., -1.0625e+00,\n",
       "            4.1173e-01, -4.5286e-01],\n",
       "          [-2.4353e-01, -1.8057e-01,  5.5451e-01,  ...,  4.7209e-01,\n",
       "           -1.1902e+00, -6.4691e-01],\n",
       "          ...,\n",
       "          [ 1.3623e-02,  8.6540e-03, -1.9803e-04,  ...,  1.1701e-02,\n",
       "           -2.9439e-02, -1.1479e-02],\n",
       "          [-4.6029e-02, -4.3218e-02, -1.8577e-02,  ..., -2.3877e-02,\n",
       "            8.5796e-03, -4.0752e-02],\n",
       "          [ 3.4423e-02, -1.7642e-02,  2.6660e-02,  ...,  2.5565e-02,\n",
       "            2.5623e-02,  7.5709e-02]],\n",
       "\n",
       "         [[-3.1571e-02, -1.2103e-02,  1.0258e-02,  ..., -1.2393e-02,\n",
       "            3.1418e-02,  4.0787e-03],\n",
       "          [ 1.8768e-02,  4.3664e-03, -4.2359e-02,  ...,  1.6283e-02,\n",
       "           -2.4749e-02, -7.7754e-03],\n",
       "          [-3.7973e-02, -5.3731e-02, -1.6014e-02,  ..., -4.2175e-02,\n",
       "            1.3348e-02, -4.1490e-02],\n",
       "          ...,\n",
       "          [ 3.3005e-02, -1.8842e-02, -2.9161e-02,  ..., -1.3962e-03,\n",
       "           -4.1042e-03,  7.8970e-03],\n",
       "          [-3.7096e-02, -3.4369e-02, -1.7062e-02,  ..., -4.4162e-02,\n",
       "            3.3915e-02, -4.6314e-02],\n",
       "          [ 2.3156e-02, -9.3644e-03,  1.1707e-02,  ..., -1.8824e-02,\n",
       "            1.9120e-02,  3.5838e-02]],\n",
       "\n",
       "         [[-4.4590e-02, -8.0402e-04,  8.9797e-04,  ..., -3.9693e-03,\n",
       "            2.9777e-02, -1.5669e-02],\n",
       "          [ 2.3281e-02,  2.0825e-03, -3.5303e-02,  ...,  3.7434e-03,\n",
       "           -2.0730e-02,  1.9603e-02],\n",
       "          [-3.4374e-02, -4.4644e-02, -2.3110e-02,  ..., -2.9819e-02,\n",
       "            1.9584e-02, -2.5708e-02],\n",
       "          ...,\n",
       "          [ 5.1387e-02, -3.4604e-04, -9.8368e-03,  ...,  1.8253e-02,\n",
       "           -1.5728e-02,  1.3265e-03],\n",
       "          [-8.3233e-03, -5.3991e-02, -1.7752e-02,  ..., -1.8585e-02,\n",
       "            3.7823e-02, -2.0454e-02],\n",
       "          [ 2.9068e-02, -6.5044e-03, -5.5364e-03,  ...,  1.6114e-03,\n",
       "           -3.0140e-02, -1.9266e-03]]],\n",
       "\n",
       "\n",
       "        [[[-1.0634e-02, -8.1593e-03, -4.9386e-03,  ..., -4.8784e-03,\n",
       "            8.1862e-03, -3.6307e-02],\n",
       "          [ 4.9585e-02,  8.8778e-04, -1.2249e-02,  ...,  3.6036e-02,\n",
       "            5.0391e-03,  1.0363e-02],\n",
       "          [-6.5779e-03, -5.5491e-02, -3.2518e-02,  ..., -3.3723e-02,\n",
       "            3.4946e-02, -1.4345e-02],\n",
       "          ...,\n",
       "          [ 2.2474e-02, -2.1784e-02, -1.7532e-02,  ...,  2.3746e-02,\n",
       "           -5.6955e-03,  7.0294e-03],\n",
       "          [-1.5500e-02, -3.9895e-02, -1.1852e-02,  ..., -2.6402e-02,\n",
       "            2.3406e-02, -3.6061e-02],\n",
       "          [ 2.7134e-02, -3.4830e-02,  2.9974e-03,  ...,  6.0001e-03,\n",
       "           -6.6200e-03,  1.5227e-02]],\n",
       "\n",
       "         [[-1.8358e-02, -2.8424e-03,  1.8251e-02,  ..., -2.6521e-03,\n",
       "            2.8685e-02, -2.3126e-02],\n",
       "          [ 3.4035e-02, -1.9808e-02, -7.9434e-03,  ...,  3.6657e-02,\n",
       "           -1.5389e-02,  8.7637e-03],\n",
       "          [-3.7513e-02, -3.5120e-02, -1.2850e-02,  ..., -3.7574e-02,\n",
       "            2.9960e-02, -4.8574e-02],\n",
       "          ...,\n",
       "          [ 1.8077e-02, -6.7503e-03, -7.2677e-02,  ...,  1.0037e-02,\n",
       "           -4.6333e-02,  4.6512e-02],\n",
       "          [-3.0571e-02, -4.4671e-02, -6.5069e-03,  ...,  6.9262e-03,\n",
       "            2.0159e-02, -3.1990e-03],\n",
       "          [-8.9407e-03, -2.9758e-02,  8.8104e-03,  ...,  1.3013e-02,\n",
       "            2.7528e-02,  1.3820e-02]],\n",
       "\n",
       "         [[-4.6055e-02, -2.4844e-03,  5.6960e-03,  ...,  8.7701e-03,\n",
       "            2.1355e-02, -3.7460e-02],\n",
       "          [ 3.2564e-02,  1.1742e-02, -5.9198e-02,  ...,  3.7696e-03,\n",
       "           -2.0608e-02,  3.2971e-02],\n",
       "          [-2.6355e-02, -4.2242e-02,  6.9463e-04,  ...,  1.7642e-02,\n",
       "            3.5739e-02, -2.6261e-02],\n",
       "          ...,\n",
       "          [ 3.7801e-02, -1.5230e-02, -3.9139e-02,  ...,  9.3333e-03,\n",
       "           -3.3625e-02,  3.0676e-02],\n",
       "          [-3.7138e-02, -2.8892e-02, -8.3234e-04,  ...,  1.4618e-02,\n",
       "            4.7521e-02, -7.9668e-03],\n",
       "          [ 7.1961e-03, -2.1580e-02,  1.3700e-02,  ..., -1.3812e-02,\n",
       "            2.0740e-02,  1.7467e-02]],\n",
       "\n",
       "         [[-3.9915e-02,  7.5280e-03,  1.7801e-03,  ...,  1.7801e-02,\n",
       "            1.9022e-02, -2.8430e-02],\n",
       "          [ 4.3256e-02,  6.4565e-03, -2.3277e-02,  ...,  2.8316e-02,\n",
       "           -4.0575e-02,  2.8119e-02],\n",
       "          [-2.5280e-02, -2.7699e-02, -4.8692e-03,  ...,  1.1148e-02,\n",
       "            3.7113e-02, -7.3680e-03],\n",
       "          ...,\n",
       "          [ 2.9700e-02,  1.1801e-03, -1.6217e-02,  ...,  1.3905e-02,\n",
       "           -1.5247e-02,  3.1552e-02],\n",
       "          [-3.5279e-02, -3.5836e-02, -5.6006e-03,  ...,  9.8511e-03,\n",
       "            6.4313e-02, -2.5843e-02],\n",
       "          [ 6.0709e-02, -3.7931e-02,  3.0775e-02,  ..., -2.2730e-02,\n",
       "            4.3496e-05,  2.4780e-02]]],\n",
       "\n",
       "\n",
       "        [[[-3.4620e-02, -1.3052e-02,  4.7107e-02,  ...,  1.1042e-02,\n",
       "            3.6351e-02, -4.6653e-03],\n",
       "          [ 3.4887e-02,  3.0956e-03, -6.2080e-03,  ..., -9.0518e-04,\n",
       "           -3.9747e-02,  2.8598e-02],\n",
       "          [-1.9687e-02, -3.9408e-02, -2.3768e-03,  ...,  3.5670e-03,\n",
       "            5.6015e-02, -3.6662e-02],\n",
       "          ...,\n",
       "          [ 1.4370e-02,  1.0055e-04, -2.0986e-02,  ...,  8.7789e-03,\n",
       "           -2.6697e-02,  1.3947e-02],\n",
       "          [-8.0590e-03, -2.8603e-02,  1.5804e-03,  ..., -3.7091e-03,\n",
       "            3.5208e-02, -2.3176e-02],\n",
       "          [ 1.7403e-02, -3.9023e-02,  4.0797e-02,  ..., -8.6390e-03,\n",
       "            1.1278e-03,  2.2356e-02]],\n",
       "\n",
       "         [[-3.6747e-02,  1.9068e-02,  2.0755e-02,  ...,  3.1668e-03,\n",
       "            3.5560e-02, -9.9399e-03],\n",
       "          [ 1.8972e-02, -5.2590e-03, -7.2482e-03,  ...,  4.5738e-03,\n",
       "           -3.8033e-02,  5.5676e-03],\n",
       "          [-1.7975e-02, -2.4702e-02,  1.4274e-02,  ..., -8.0371e-03,\n",
       "            1.6397e-02, -2.3117e-02],\n",
       "          ...,\n",
       "          [ 4.0372e-02,  3.0794e-02,  8.1142e-03,  ...,  1.9694e-02,\n",
       "           -5.4588e-02, -1.7565e-02],\n",
       "          [-2.9878e-02,  2.6062e-02, -1.9428e-03,  ...,  3.5189e-02,\n",
       "            1.9231e-02, -3.7068e-02],\n",
       "          [ 2.5633e-02, -4.7254e-03,  1.3643e-02,  ..., -4.7420e-03,\n",
       "           -8.5552e-03,  1.6776e-02]],\n",
       "\n",
       "         [[-2.8900e-02, -2.8458e-03,  4.5256e-03,  ..., -5.6693e-03,\n",
       "            3.2236e-02, -5.4433e-02],\n",
       "          [ 2.7515e-02,  2.5678e-02, -7.8792e-03,  ...,  2.3585e-02,\n",
       "           -6.4690e-02, -6.1704e-03],\n",
       "          [-1.5567e-03, -3.9729e-03, -3.2314e-02,  ...,  2.1050e-02,\n",
       "            2.1444e-02, -4.0106e-02],\n",
       "          ...,\n",
       "          [ 6.4968e-02, -5.5360e-03, -1.1293e-02,  ...,  2.6380e-02,\n",
       "           -4.2695e-02,  1.3572e-02],\n",
       "          [-8.2884e-03, -2.3690e-02,  4.0547e-03,  ..., -1.7899e-02,\n",
       "            3.0626e-02, -1.7690e-02],\n",
       "          [ 3.5632e-02, -5.9013e-03, -2.4403e-03,  ..., -1.8763e-03,\n",
       "            1.8694e-02,  4.5415e-03]],\n",
       "\n",
       "         [[-4.0595e-02,  7.4373e-03,  9.3509e-03,  ...,  7.9077e-03,\n",
       "            2.5289e-02, -8.1675e-03],\n",
       "          [ 6.1300e-02, -1.2810e-02, -1.7223e-02,  ...,  3.5868e-02,\n",
       "           -4.6364e-02,  2.0933e-02],\n",
       "          [-1.2676e-02, -1.0161e-02,  4.3228e-03,  ..., -5.6866e-03,\n",
       "            2.6226e-02, -2.0079e-02],\n",
       "          ...,\n",
       "          [ 7.2106e-02,  1.1969e-02, -4.3628e-02,  ...,  4.2045e-02,\n",
       "           -2.0788e-02,  1.4565e-02],\n",
       "          [-2.0556e-02, -1.2789e-02,  1.9159e-03,  ...,  7.2956e-03,\n",
       "            2.5744e-02, -3.4550e-02],\n",
       "          [-1.1937e-02, -3.0307e-02,  2.4986e-02,  ..., -9.4031e-03,\n",
       "           -6.1782e-03,  4.0881e-02]]]], device='cuda:0')"
      ]
     },
     "execution_count": 51,
     "metadata": {},
     "output_type": "execute_result"
    }
   ],
   "source": [
    "kv_cache.get_cache()[-1]"
   ]
  },
  {
   "cell_type": "code",
   "execution_count": 52,
   "id": "65a8f03b",
   "metadata": {},
   "outputs": [
    {
     "data": {
      "text/plain": [
       "torch.Size([8, 4, 2048, 192])"
      ]
     },
     "execution_count": 52,
     "metadata": {},
     "output_type": "execute_result"
    }
   ],
   "source": [
    "kv_cache.get_cache()[-1].shape"
   ]
  },
  {
   "cell_type": "code",
   "execution_count": 25,
   "id": "13a012aa",
   "metadata": {},
   "outputs": [
    {
     "name": "stdout",
     "output_type": "stream",
     "text": [
      "11 ms ± 101 μs per loop (mean ± std. dev. of 7 runs, 100 loops each)\n"
     ]
    }
   ],
   "source": [
    "%%timeit\n",
    "mha_torch_kv_cache(embeddings)"
   ]
  },
  {
   "cell_type": "code",
   "execution_count": null,
   "id": "fcdd2da2",
   "metadata": {},
   "outputs": [
    {
     "name": "stdout",
     "output_type": "stream",
     "text": [
      "Выход без кэша: torch.Size([8, 1024, 768])\n",
      "Выход с поэтапной генерацией: torch.Size([8, 1024, 768])\n"
     ]
    }
   ],
   "source": [
    "#kv_cache \n",
    "#mha_torch_kv_cache (d_in=embed_dim, d_out=embed_dim, context_length=context_len, dropout=dropout, num_heads=num_heads, qkv_bias=qkv_bias)\n",
    "\n",
    "# Одношаговое применение (без кэша)\n",
    "x = torch.rand(batch_size, context_len, embed_dim).to(device)\n",
    "out = mha_torch_kv_cache(x)\n",
    "print(\"Выход без кэша:\", out.shape)\n",
    "\n",
    "# Поэтапная генерация (decode)\n",
    "kv_cache.reset()\n",
    "outputs = []\n",
    "for t in range(context_len):\n",
    "    xt = x[:, t:t+1, :] # It is important, because we take only one token at step and inference k,v,q with one vector\n",
    "    out_t = mha_torch_kv_cache(xt, kv_cache=kv_cache)\n",
    "    outputs.append(out_t)\n",
    "result = torch.cat(outputs, dim=1)\n",
    "print(\"Выход с поэтапной генерацией:\", result.shape)"
   ]
  },
  {
   "cell_type": "code",
   "execution_count": 64,
   "id": "af705d87",
   "metadata": {},
   "outputs": [
    {
     "name": "stdout",
     "output_type": "stream",
     "text": [
      "11.3 ms ± 624 μs per loop (mean ± std. dev. of 7 runs, 100 loops each)\n"
     ]
    }
   ],
   "source": [
    "%%timeit\n",
    "out = mha_torch_kv_cache(x)"
   ]
  },
  {
   "cell_type": "code",
   "execution_count": 66,
   "id": "f56ae12e",
   "metadata": {},
   "outputs": [
    {
     "name": "stdout",
     "output_type": "stream",
     "text": [
      "494 ms ± 11.3 ms per loop (mean ± std. dev. of 7 runs, 1 loop each)\n"
     ]
    }
   ],
   "source": [
    "%%timeit\n",
    "kv_cache.reset()\n",
    "outputs = []\n",
    "for t in range(context_len):\n",
    "    xt = x[:, t:t+1, :]\n",
    "    out_t = mha_torch_kv_cache(xt, kv_cache=kv_cache)\n",
    "    outputs.append(out_t)\n",
    "result = torch.cat(outputs, dim=1)"
   ]
  },
  {
   "cell_type": "code",
   "execution_count": null,
   "id": "6b0a4ea4",
   "metadata": {},
   "outputs": [],
   "source": []
  },
  {
   "cell_type": "markdown",
   "id": "525ee7f5",
   "metadata": {},
   "source": [
    "## MLA (Multi-Head Latent Attention)"
   ]
  },
  {
   "cell_type": "markdown",
   "id": "e1f82e81",
   "metadata": {},
   "source": [
    "### Reworked code"
   ]
  },
  {
   "cell_type": "markdown",
   "id": "143d9460",
   "metadata": {},
   "source": [
    "With Cache"
   ]
  },
  {
   "cell_type": "code",
   "execution_count": 9,
   "id": "a55a4d43",
   "metadata": {},
   "outputs": [],
   "source": [
    "class MultiHeadLatentAttentionCached(nn.Module):\n",
    "    \"\"\"\n",
    "    Размер латентного вектора d_c задаётся при инициализации (d_c << num_heads * head_dim).\n",
    "    d_latent: размер латентного вектора (d_latent << num_heads * head_dim) или (d_latent << d_in)\n",
    "    \"\"\"\n",
    "\n",
    "    def __init__(self, d_in, d_latent, context_length, dropout, num_heads, qkv_bias=False):\n",
    "        super().__init__()\n",
    "        assert (d_in % num_heads == 0), \"d_in должно делиться на num_heads\"\n",
    "\n",
    "        self.d_in = d_in\n",
    "        self.d_latent = d_latent\n",
    "        self.num_heads = num_heads\n",
    "        self.head_dim = d_in // num_heads\n",
    "\n",
    "        # 1) Матрица перевода в латентное пространство  \n",
    "        self.W_latent = nn.Linear(self.d_in, self.d_latent, bias=qkv_bias)\n",
    "        \n",
    "        # 2) Матрицы восстановления ключей и значений из латентного пространства (K and V only)\n",
    "        self.W_key_from_latent = nn.Linear(self.d_latent, self.d_in, bias=qkv_bias) # shape of d_in is (head_dim * num_heads), then we split d_in onto heads\n",
    "        self.W_value_from_latent = nn.Linear(self.d_latent, self.d_in, bias=qkv_bias) # shape of d_in is (head_dim * num_heads), then we split d_in onto heads\n",
    "        \n",
    "        # 3) Query считаем, как обычно из исходного пространства, а не из латентного\n",
    "        self.W_query = nn.Linear(self.d_in, self.d_in, bias=qkv_bias)\n",
    "        \n",
    "        # 4) Выходная проекция, как обычно\n",
    "        self.out_proj = nn.Linear(self.d_in, self.d_in, bias=qkv_bias)\n",
    "\n",
    "        # Нормировочный коэффициент 1/√d_k\n",
    "        self.scale = 1.0 / (self.head_dim ** 0.5)\n",
    "\n",
    "        self.dropout = nn.Dropout(dropout)\n",
    "        self.register_buffer('mask', torch.triu(torch.ones(context_length, context_length), diagonal=1))\n",
    "\n",
    "    def forward(self, x, cache_latent=None):\n",
    "        b, num_tokens, d_in = x.size()\n",
    "\n",
    "        latent_all = self.W_latent(x)  # b, num_tokens, self.d_in\n",
    "\n",
    "        # 2) Обновляем кэш только для латентного состояния\n",
    "        if (cache_latent is not None):\n",
    "            # Допускаем, что cache_latent.shape = (batch_size, t-1, d_latent),\n",
    "            # где t-1 < seq_len (т.е. мы модифицируем для новых токенов).\n",
    "            # В данном упрощённом примере считаем, что всё seq_len идёт сразу, и cache_c=None при обучении.\n",
    "            #latent = torch.cat([cache_latent, latent_all], dim=1)  # (batch_size, t, d_latent)\n",
    "            cache_latent.update(new_latent=latent_all)\n",
    "            latent = cache_latent.get_cache()\n",
    "        else:\n",
    "            latent = latent_all  # (batch_size, num_tokens, d_latent)\n",
    "\n",
    "        # 3) Запросы маппятся из исходной размерности, не латентной\n",
    "        queries = self.W_query(x) # b, num_tokens, self.d_in\n",
    "        queries = queries.view(b, num_tokens, self.num_heads, self.head_dim)\n",
    "        queries = queries.transpose(1, 2) # b, self.num_heads, num_tokens, self.head_dim\n",
    "\n",
    "        # 4) K и V из латентного пространства (Восстанавливаем K и V «на лету» из кэша C) ^_^:\n",
    "        keys = self.W_key_from_latent(latent) # (batch_size, num_tokens, d_latent) -> (b, num_tokens, d_in)\n",
    "        values = self.W_value_from_latent(latent) # (batch_size, num_tokens, d_latent) -> (b, num_tokens, d_in)\n",
    "\n",
    "        # Как БЫЛО в ванильном трансформере\n",
    "        # keys = keys.view(b, num_tokens, self.num_heads, self.head_dim)\n",
    "        # values = values.view(b, num_tokens, self.num_heads, self.head_dim)\n",
    "\n",
    "        # Как теперь СТАЛО в MLE трансформере\n",
    "        keys = keys.view(b, -1, self.num_heads, self.head_dim)\n",
    "        values = values.view(b, -1, self.num_heads, self.head_dim)\n",
    "\n",
    "        # Здесь без изменений\n",
    "        keys = keys.transpose(1, 2) # b, self.num_heads, num_tokens (-1), self.head_dim # только один токен??\n",
    "        values = values.transpose(1, 2) # b, self.num_heads, num_tokens (-1), self.head_dim # только один токен??\n",
    "\n",
    "        att_scores = queries @ keys.transpose(2, 3) # shapes = (num_tokens, self.head_dim) @ (self.head_dim, num_tokens) -> (num_tokens, num_tokens)\n",
    "\n",
    "        mask_bool = self.mask.bool()[:num_tokens, :num_tokens] # Убрать?\n",
    "        att_scores.masked_fill_(mask_bool, -torch.inf)\n",
    "\n",
    "        att_weights = torch.softmax(att_scores * self.scale, dim=-1) #/ keys.shape[-1]**0.5, dim=-1)\n",
    "        att_weights = self.dropout(att_weights)\n",
    "\n",
    "        context_vec = (att_weights @ values).transpose(1, 2) # (num_tokens, num_tokens) @ (num_tokens, self.head_dim) -> (num_tokens, self.head_dim) -> transpose(1,2) of (b, self.num_heads, num_tokens, self.head_dim) ->\n",
    "        # -> (b, num_tokens, self.num_heads, self.head_dim) as view in previous code after inference of Linear layers\n",
    "        context_vec = context_vec.contiguous().view(b, num_tokens, self.d_in)\n",
    "        context_vec = self.out_proj(context_vec)\n",
    "        return context_vec"
   ]
  },
  {
   "cell_type": "code",
   "execution_count": 11,
   "id": "27585577",
   "metadata": {},
   "outputs": [],
   "source": [
    "# batch_size = 2\n",
    "# seq_len = 5      # длина текущего батча (например, при обучении = полная последовательность)\n",
    "# d_model = 512\n",
    "# h = 8            # 8 голов\n",
    "# d_c = 128        # размер латентного вектора (<< h*d_k = 8*64=512)\n",
    "\n",
    "# Инициализируем слой MLA\n",
    "mla = MultiHeadLatentAttentionCached(d_in=embed_dim, d_latent=embed_dim//4, context_length=context_len, dropout=dropout, num_heads=num_heads, qkv_bias=qkv_bias)\n",
    "mla.to(device)\n",
    "\n",
    "# На обучении мы обычно cache_c=None, чтобы считать C для всех позиций сразу\n",
    "output  = mla(embeddings, cache_latent=None)"
   ]
  },
  {
   "cell_type": "code",
   "execution_count": 13,
   "id": "a8b40066",
   "metadata": {},
   "outputs": [
    {
     "data": {
      "text/plain": [
       "(torch.Size([8, 1024, 768]), torch.Size([8, 1024, 768]))"
      ]
     },
     "execution_count": 13,
     "metadata": {},
     "output_type": "execute_result"
    }
   ],
   "source": [
    "embeddings.shape, output.shape"
   ]
  },
  {
   "cell_type": "code",
   "execution_count": 15,
   "id": "0f42f500",
   "metadata": {},
   "outputs": [],
   "source": [
    "mla = MultiHeadLatentAttentionCached(d_in=embed_dim, d_latent=embed_dim//4, context_length=context_len, dropout=dropout, num_heads=num_heads, qkv_bias=qkv_bias)"
   ]
  },
  {
   "cell_type": "markdown",
   "id": "3a197cd1",
   "metadata": {},
   "source": [
    "GPU"
   ]
  },
  {
   "cell_type": "code",
   "execution_count": 16,
   "id": "b87d15f4",
   "metadata": {},
   "outputs": [
    {
     "data": {
      "text/plain": [
       "MultiHeadLatentAttentionCached(\n",
       "  (W_latent): Linear(in_features=768, out_features=192, bias=False)\n",
       "  (W_key_from_latent): Linear(in_features=192, out_features=768, bias=False)\n",
       "  (W_value_from_latent): Linear(in_features=192, out_features=768, bias=False)\n",
       "  (W_query): Linear(in_features=768, out_features=768, bias=False)\n",
       "  (out_proj): Linear(in_features=768, out_features=768, bias=False)\n",
       "  (dropout): Dropout(p=0.1, inplace=False)\n",
       ")"
      ]
     },
     "execution_count": 16,
     "metadata": {},
     "output_type": "execute_result"
    }
   ],
   "source": [
    "mla.to(device)"
   ]
  },
  {
   "cell_type": "code",
   "execution_count": 17,
   "id": "c6c8bbe8",
   "metadata": {},
   "outputs": [
    {
     "name": "stdout",
     "output_type": "stream",
     "text": [
      "10.3 ms ± 506 μs per loop (mean ± std. dev. of 7 runs, 100 loops each)\n"
     ]
    }
   ],
   "source": [
    "%%timeit\n",
    "mla(embeddings)"
   ]
  },
  {
   "cell_type": "code",
   "execution_count": 18,
   "id": "5ff61623",
   "metadata": {},
   "outputs": [
    {
     "data": {
      "text/plain": [
       "tensor([ 0.2964, -0.0022, -0.0053,  0.1108, -0.1387,  0.1931,  0.1918, -0.1082,\n",
       "         0.1696, -0.1004,  0.2641,  0.1982,  0.2413,  0.1979, -0.0893, -0.1521,\n",
       "         0.0416, -0.0358,  0.2436, -0.3870], device='cuda:0',\n",
       "       grad_fn=<SliceBackward0>)"
      ]
     },
     "execution_count": 18,
     "metadata": {},
     "output_type": "execute_result"
    }
   ],
   "source": [
    "mla(embeddings)[0][0][:20]"
   ]
  },
  {
   "cell_type": "markdown",
   "id": "2df28097",
   "metadata": {},
   "source": [
    "CPU"
   ]
  },
  {
   "cell_type": "code",
   "execution_count": 19,
   "id": "4baf9906",
   "metadata": {},
   "outputs": [],
   "source": [
    "mla.to('cpu')\n",
    "embeddings_cpu = embeddings.to('cpu')"
   ]
  },
  {
   "cell_type": "code",
   "execution_count": 20,
   "id": "38a7575a",
   "metadata": {},
   "outputs": [
    {
     "name": "stdout",
     "output_type": "stream",
     "text": [
      "355 ms ± 12.4 ms per loop (mean ± std. dev. of 7 runs, 1 loop each)\n"
     ]
    }
   ],
   "source": [
    "%%timeit\n",
    "mla(embeddings_cpu)"
   ]
  },
  {
   "cell_type": "markdown",
   "id": "c64b7cb1",
   "metadata": {},
   "source": [
    "Let's check autocast"
   ]
  },
  {
   "cell_type": "markdown",
   "id": "bbcf6e5d",
   "metadata": {},
   "source": [
    "GPU"
   ]
  },
  {
   "cell_type": "code",
   "execution_count": null,
   "id": "bb0736a8",
   "metadata": {},
   "outputs": [
    {
     "name": "stdout",
     "output_type": "stream",
     "text": [
      "616 μs ± 98.4 μs per loop (mean ± std. dev. of 7 runs, 1 loop each)\n"
     ]
    }
   ],
   "source": [
    "%%timeit\n",
    "with torch.autocast(device_type=device.type, dtype=torch.bfloat16):\n",
    "    mha_vanilla(embeddings)"
   ]
  },
  {
   "cell_type": "markdown",
   "id": "a0a2ce46",
   "metadata": {},
   "source": [
    "### Older version of code"
   ]
  },
  {
   "cell_type": "code",
   "execution_count": null,
   "id": "9ad52f29",
   "metadata": {},
   "outputs": [],
   "source": [
    "class MultiHeadLatentAttention(nn.Module):\n",
    "    \"\"\"\n",
    "    Простой слой Multi-Head Latent Attention (MLA) без RoPE.\n",
    "    Предполагаем, что модельная размерность d_model, число голов h, размерность каждой головы d_k.\n",
    "    Размер латентного вектора d_c задаётся при инициализации (d_c << h*d_k).\n",
    "    \"\"\"\n",
    "\n",
    "    def __init__(self, d_model: int, h: int, d_c: int):\n",
    "        \"\"\"\n",
    "        Аргументы:\n",
    "            d_model: размерность входного скрытого состояния (и выходного).\n",
    "            h:      число голов.\n",
    "            d_c:    размер латентного вектора (d_c << h * d_k).\n",
    "        \"\"\"\n",
    "        super().__init__()\n",
    "        assert d_model % h == 0, \"d_model должно делиться на h\"\n",
    "        self.d_model = d_model\n",
    "        self.h = h\n",
    "        self.d_k = d_model // h  # размерность одной головы\n",
    "        self.d_c = d_c\n",
    "\n",
    "        # 1) Матрица латентной проекции: X → C\n",
    "        #    Проецирует d_model → d_c\n",
    "        self.W_c = nn.Linear(d_model, d_c, bias=False)\n",
    "\n",
    "        # 2) Матрицы восстановления ключей и значений\n",
    "        #    Для удобства мы объединим сразу все головы в один тензор размерности (d_c → h*d_k).\n",
    "        self.W_kc = nn.Linear(d_c, h * self.d_k, bias=False)  # C → (h × d_k) для Key\n",
    "        self.W_vc = nn.Linear(d_c, h * self.d_k, bias=False)  # C → (h × d_k) для Value\n",
    "\n",
    "        # 3) Матрица для получения Q из X (как обычно, без латентного шага).\n",
    "        #    Берём X (d_model) → Q_all (h*d_k).\n",
    "        self.W_q = nn.Linear(d_model, h * self.d_k, bias=False)\n",
    "\n",
    "        # 4) Выходная проекция после конкатенации всех голов (h*d_k → d_model)\n",
    "        self.W_o = nn.Linear(h * self.d_k, d_model, bias=False)\n",
    "\n",
    "        # Нормировочный коэффициент 1/√d_k\n",
    "        self.scale = 1.0 / (self.d_k ** 0.5)\n",
    "\n",
    "    def forward(self, X: torch.Tensor, cache_c: torch.Tensor = None):\n",
    "        \"\"\"\n",
    "        Аргументы:\n",
    "            X       : тензор размерности (batch_size, seq_len, d_model) — входные скрытые состояния.\n",
    "            cache_c : накопленные латентные векторы из предыдущих шагов, размер (batch_size, t-1, d_c)\n",
    "                      Если cache_c=None, предполагаем, что строим внимание внутри текущего батча “с нуля” (для обучения).\n",
    "        Возвращает:\n",
    "            output     : (batch_size, seq_len, d_model) — результат MLA.\n",
    "            new_cache_c: (batch_size, t, d_c) — обновлённый кэш латентных векторов (если был передан).\n",
    "        \"\"\"\n",
    "\n",
    "        batch_size, seq_len, _ = X.shape\n",
    "\n",
    "        # 1) Вычисляем все латентные векторы C из X:\n",
    "        #    C_all: (batch_size, seq_len, d_c)\n",
    "        C_all = self.W_c(X)  # латентное представление каждой позиции\n",
    "\n",
    "        # 2) Обновляем кэш (если есть):\n",
    "        if cache_c is not None:\n",
    "            # Допускаем, что cache_c.shape = (batch_size, t-1, d_c),\n",
    "            # где t-1 < seq_len (т.е. мы модифицируем для новых токенов).\n",
    "            # В данном упрощённом примере считаем, что всё seq_len идёт сразу, и cache_c=None при обучении.\n",
    "            C = torch.cat([cache_c, C_all], dim=1)  # (batch_size, t, d_c)\n",
    "        else:\n",
    "            C = C_all  # (batch_size, seq_len, d_c)\n",
    "\n",
    "        # Обновлённый кэш возвращаем пользователю:\n",
    "        new_cache_c = C\n",
    "\n",
    "        # 3) Вычисляем Q из X (все головы сразу):\n",
    "        #    Q_all: (batch_size, seq_len, h*d_k)\n",
    "        Q_all = self.W_q(X)\n",
    "\n",
    "        # Перестроим Q_all в Q [batch_size, h, seq_len, d_k]\n",
    "        Q = Q_all.view(batch_size, seq_len, self.h, self.d_k).transpose(1, 2)\n",
    "        # теперь Q.shape = (batch_size, h, seq_len, d_k)\n",
    "\n",
    "        # 4) Восстанавливаем K и V «на лету» из кэша C:\n",
    "        #    Считаем full_K_all = C W_kc  и full_V_all = C W_vc:\n",
    "        #    full_K_all: (batch_size, t, h*d_k), где t = текущая длина кеша\n",
    "        full_K_all = self.W_kc(C)  # (batch_size, t, h*d_k)\n",
    "        full_V_all = self.W_vc(C)  # (batch_size, t, h*d_k)\n",
    "\n",
    "        # Перестраиваем в [batch_size, h, t, d_k]\n",
    "        #    K.shape = (batch_size, h, t, d_k)\n",
    "        #    V.shape = (batch_size, h, t, d_k)\n",
    "        K = full_K_all.view(batch_size, -1, self.h, self.d_k).transpose(1, 2)\n",
    "        V = full_V_all.view(batch_size, -1, self.h, self.d_k).transpose(1, 2)\n",
    "\n",
    "        # 5) Рассчитываем Scaled Dot-Product Attention «по-головно»:\n",
    "        #    Пример: batch_size=2, h=4, текущая длина кеша t=10, seq_len=5\n",
    "        #    тогда Q: (2, 4, 5, d_k), K: (2, 4, 10, d_k), V: (2, 4, 10, d_k).\n",
    "        #\n",
    "        #    Считаем scores = Q @ K^T: (2, 4, 5, 10)\n",
    "        #    Затем Softmax по последней размерности (t), и применяем к V.\n",
    "\n",
    "        # Расчёт скоров: (batch_size, h, seq_len, t)\n",
    "        scores = torch.matmul(Q, K.transpose(-2, -1)) * self.scale\n",
    "        attn_weights = F.softmax(scores, dim=-1)  # (batch_size, h, seq_len, t)\n",
    "\n",
    "        # Вычисляем значения (batch_size, h, seq_len, d_k)\n",
    "        attn_output = torch.matmul(attn_weights, V)\n",
    "\n",
    "        # 6) Снова конкатенируем головы: (batch_size, seq_len, h*d_k)\n",
    "        attn_output = attn_output.transpose(1, 2).contiguous()\n",
    "        # теперь форма (batch_size, seq_len, h, d_k) → (batch_size, seq_len, h*d_k)\n",
    "        attn_output = attn_output.view(batch_size, seq_len, self.h * self.d_k)\n",
    "\n",
    "        # 7) Финальный линейный слой W_o: (batch_size, seq_len, d_model)\n",
    "        output = self.W_o(attn_output)\n",
    "\n",
    "        # Возвращаем результат слоя MLA и новый кеш (латентные векторы)\n",
    "        return output, new_cache_c\n",
    "\n",
    "\n",
    "# -----------------------------\n",
    "# Пример использования:\n",
    "# -----------------------------\n",
    "if __name__ == \"__main__\":\n",
    "    batch_size = 2\n",
    "    seq_len = 5      # длина текущего батча (например, при обучении = полная последовательность)\n",
    "    d_model = 512\n",
    "    h = 8            # 8 голов\n",
    "    d_c = 128        # размер латентного вектора (<< h*d_k = 8*64=512)\n",
    "\n",
    "    # Инициализируем слой MLA\n",
    "    mla = MultiHeadLatentAttention(d_model=d_model, h=h, d_c=d_c)\n",
    "\n",
    "    # Пример входного тензора: (batch_size, seq_len, d_model)\n",
    "    X = torch.randn(batch_size, seq_len, d_model)\n",
    "\n",
    "    # На обучении мы обычно cache_c=None, чтобы считать C для всех позиций сразу\n",
    "    output, new_cache_c = mla(X, cache_c=None)\n",
    "\n",
    "    print(\"Output shape:\", output.shape)      # (2, 5, 512)\n",
    "    print(\"New cache C shape:\", new_cache_c.shape)  # (2, 5, 128)\n"
   ]
  },
  {
   "cell_type": "markdown",
   "id": "fdaf1931",
   "metadata": {},
   "source": [
    "## MLA (splitted Weight matrix)"
   ]
  },
  {
   "cell_type": "markdown",
   "id": "4c45af8b",
   "metadata": {},
   "source": [
    "### Reworked code"
   ]
  },
  {
   "cell_type": "code",
   "execution_count": null,
   "id": "3c51ed56",
   "metadata": {},
   "outputs": [],
   "source": [
    "class MHLACachedSplittedMatrix(nn.Module):\n",
    "    \"\"\"\n",
    "    Размер латентного вектора d_c задаётся при инициализации (d_c << num_heads * head_dim).\n",
    "    d_latent: размер латентного вектора (d_latent << num_heads * head_dim) или (d_latent << d_in)\n",
    "    \"\"\"\n",
    "\n",
    "    def __init__(self, d_in, d_latent, context_length, dropout, num_heads, qkv_bias=False):\n",
    "        super().__init__()\n",
    "        assert (d_in % num_heads == 0), \"d_in должно делиться на num_heads\"\n",
    "\n",
    "        self.d_in = d_in\n",
    "        self.d_latent = d_latent\n",
    "        self.num_heads = num_heads\n",
    "        self.head_dim_latent = d_latent // num_heads\n",
    "        self.head_dim_out = d_in // num_heads\n",
    "\n",
    "        # 1) Матрица перевода запросов в латентное пространство\n",
    "        self.W_Q_latent = nn.Linear(self.d_in, self.d_latent, bias=qkv_bias)\n",
    "        # Матрица перевода ключей в латентное пространство\n",
    "        self.W_K_latent = nn.Linear(self.d_in, self.d_latent, bias=qkv_bias)\n",
    "        \n",
    "        # 2) Матрицы для прямого и обратного перевода значений для латентного пространства\n",
    "        # Проекции значений: латентная и обратная\n",
    "        self.W_V_to_latent = nn.Linear(self.d_in, self.d_latent, bias=qkv_bias)\n",
    "        self.W_V_from_latent = nn.Linear(self.d_latent, self.d_in, bias=qkv_bias)\n",
    "\n",
    "        # 4) Выходная проекция, как обычно\n",
    "        self.out_proj = nn.Linear(self.d_in, self.d_in, bias=qkv_bias)\n",
    "\n",
    "        # Нормировочный коэффициент 1/√d_k\n",
    "        self.scale = 1.0 / (self.head_dim_latent ** 0.5)\n",
    "\n",
    "        self.dropout = nn.Dropout(dropout)\n",
    "        self.register_buffer('mask', torch.triu(torch.ones(context_length, context_length), diagonal=1))\n",
    "\n",
    "        # Предварительное слияние W_VL и W_VU (Do-Precompute)\n",
    "        # W_VL.weight: (d_latent, d_in), W_VU.weight: (d_in, d_latent)\n",
    "        # self.W_pre: (d_in, d_in)\n",
    "        W_VL_w = self.W_VL.weight.data  # (d_latent, d_in)\n",
    "        W_VU_w = self.W_VU.weight.data  # (d_in, d_latent)\n",
    "        W_pre = W_VU_w @ W_VL_w         # объединённая матрица\n",
    "        # Регистрируем как буфер, т.к. не обновляется при обучении\n",
    "        self.register_buffer('W_pre', W_pre)\n",
    "\n",
    "    def forward(self, x, cache_latent=None):\n",
    "        \"\"\"\n",
    "        x: тензор формы (batch_size, seq_len, d_in)\n",
    "        возвращает: (batch_size, seq_len, d_in)\n",
    "        \"\"\"\n",
    "        b, num_tokens, d_in = x.size()\n",
    "\n",
    "        # 1) Проецируем Q и латентные K\n",
    "        queries_latent = self.W_Q_latent(x)            # (b, num_tokens, d_latent)\n",
    "        keys_latent = self.W_K_latent(x)       # (b, num_tokens, d_latent)\n",
    "\n",
    "        # 3) Запросы маппятся\n",
    "        queries_latent = queries_latent.view(b, num_tokens, self.num_heads, self.head_dim_latent)\n",
    "        queries_latent = queries_latent.transpose(1, 2) # b, self.num_heads, num_tokens, self.head_dim_latent\n",
    "        keys_latent = keys_latent.view(b, num_tokens, self.num_heads, self.head_dim_latent)\n",
    "        keys_latent = keys_latent.transpose(1, 2) # b, self.num_heads, num_tokens, self.head_dim_latent\n",
    "\n",
    "        # 3) Вычисляем скоры внимания\n",
    "        # (B, num_heads, T, T)\n",
    "        att_scores = (queries_latent @ keys_latent.transpose(-1, -2)) * self.scale\n",
    "\n",
    "        att_weights = F.softmax(att_scores, dim=-1)\n",
    "        att_weights = self.dropout(att_weights)\n",
    "\n",
    "        # 4) Декомпрессия V через предвычисленную матрицу\n",
    "        # x @ W_pre: (B, T, d_in)\n",
    "        V_decompress = x @ self.W_pre\n",
    "        # Разбиваем по головам: (B, T, num_heads, head_dim_out)\n",
    "        values = V_decompress.view(b, num_tokens, self.num_heads, self.head_dim_out)\n",
    "        values = values.transpose(1, 2)  # (B, num_heads, T, head_dim_out)\n",
    "\n",
    "        # 5) Вычисляем контекст\n",
    "        # (B, num_heads, T, head_dim_out)\n",
    "        context_vec = att_weights @ values\n",
    "        # Перестраиваем в (B, T, d_in)\n",
    "        context_vec = context_vec.transpose(1, 2).contiguous().view(b, num_tokens, self.d_in)\n",
    "\n",
    "        return context_vec\n",
    "\n",
    "\n",
    "\n",
    "\n",
    "\n",
    "        b, num_tokens, d_in = x.size()\n",
    "\n",
    "        latent_all = self.W_latent(x)  # b, num_tokens, self.d_in\n",
    "\n",
    "        # 2) Обновляем кэш только для латентного состояния\n",
    "        if (cache_latent is not None):\n",
    "            # Допускаем, что cache_latent.shape = (batch_size, t-1, d_latent),\n",
    "            # где t-1 < seq_len (т.е. мы модифицируем для новых токенов).\n",
    "            # В данном упрощённом примере считаем, что всё seq_len идёт сразу, и cache_c=None при обучении.\n",
    "            #latent = torch.cat([cache_latent, latent_all], dim=1)  # (batch_size, t, d_latent)\n",
    "            cache_latent.update(new_latent=latent_all)\n",
    "            latent = cache_latent.get_cache()\n",
    "        else:\n",
    "            latent = latent_all  # (batch_size, num_tokens, d_latent)\n",
    "\n",
    "        # 3) Запросы маппятся из исходной размерности, не латентной\n",
    "        queries = self.W_query(x) # b, num_tokens, self.d_in\n",
    "        queries = queries.view(b, num_tokens, self.num_heads, self.head_dim)\n",
    "        queries = queries.transpose(1, 2) # b, self.num_heads, num_tokens, self.head_dim\n",
    "\n",
    "        # 4) K и V из латентного пространства (Восстанавливаем K и V «на лету» из кэша C) ^_^:\n",
    "        keys = self.W_key_from_latent(latent) # (batch_size, num_tokens, d_latent) -> (b, num_tokens, d_in)\n",
    "        values = self.W_value_from_latent(latent) # (batch_size, num_tokens, d_latent) -> (b, num_tokens, d_in)\n",
    "\n",
    "        # Как БЫЛО в ванильном трансформере\n",
    "        # keys = keys.view(b, num_tokens, self.num_heads, self.head_dim)\n",
    "        # values = values.view(b, num_tokens, self.num_heads, self.head_dim)\n",
    "\n",
    "        # Как теперь СТАЛО в MLE трансформере\n",
    "        keys = keys.view(b, -1, self.num_heads, self.head_dim)\n",
    "        values = values.view(b, -1, self.num_heads, self.head_dim)\n",
    "\n",
    "        # Здесь без изменений\n",
    "        keys = keys.transpose(1, 2) # b, self.num_heads, num_tokens (-1), self.head_dim # только один токен??\n",
    "        values = values.transpose(1, 2) # b, self.num_heads, num_tokens (-1), self.head_dim # только один токен??\n",
    "\n",
    "        att_scores = queries @ keys.transpose(2, 3) # shapes = (num_tokens, self.head_dim) @ (self.head_dim, num_tokens) -> (num_tokens, num_tokens)\n",
    "\n",
    "        mask_bool = self.mask.bool()[:num_tokens, :num_tokens] # Убрать?\n",
    "        att_scores.masked_fill_(mask_bool, -torch.inf)\n",
    "\n",
    "        att_weights = torch.softmax(att_scores * self.scale, dim=-1) #/ keys.shape[-1]**0.5, dim=-1)\n",
    "        att_weights = self.dropout(att_weights)\n",
    "\n",
    "        context_vec = (att_weights @ values).transpose(1, 2) # (num_tokens, num_tokens) @ (num_tokens, self.head_dim) -> (num_tokens, self.head_dim) -> transpose(1,2) of (b, self.num_heads, num_tokens, self.head_dim) ->\n",
    "        # -> (b, num_tokens, self.num_heads, self.head_dim) as view in previous code after inference of Linear layers\n",
    "        context_vec = context_vec.contiguous().view(b, num_tokens, self.d_in)\n",
    "        context_vec = self.out_proj(context_vec)\n",
    "        return context_vec"
   ]
  },
  {
   "cell_type": "markdown",
   "id": "6f13d561",
   "metadata": {},
   "source": [
    "### Older version of code"
   ]
  },
  {
   "cell_type": "code",
   "execution_count": null,
   "id": "794372f0",
   "metadata": {},
   "outputs": [],
   "source": [
    "class LatentAttention(nn.Module):\n",
    "    \"\"\"\n",
    "    Multi-Head Latent Attention с Do-Precompute.\n",
    "\n",
    "    Параметры:\n",
    "        d_in (int): размерность входных признаков (d_model).\n",
    "        d_latent (int): размерность латентного пространства (r).\n",
    "        context_length (int): максимальная длина контекста (T).\n",
    "        dropout (float): вероятность отключения в слое внимания.\n",
    "        num_heads (int): число голов внимания.\n",
    "    \"\"\"\n",
    "    def __init__(self, d_in: int, d_latent: int, context_length: int,\n",
    "                 dropout: float, num_heads: int):\n",
    "        super().__init__()\n",
    "        assert d_latent % num_heads == 0, \"d_latent must be divisible by num_heads\"\n",
    "        assert d_in % num_heads == 0, \"d_in must be divisible by num_heads\"\n",
    "\n",
    "        self.d_in = d_in\n",
    "        self.d_latent = d_latent\n",
    "        self.context_length = context_length\n",
    "        self.num_heads = num_heads\n",
    "        self.head_dim_latent = d_latent // num_heads\n",
    "        self.head_dim_out = d_in // num_heads\n",
    "\n",
    "        # Проекции запросов и латентных ключей\n",
    "        self.W_Q = nn.Linear(d_in, d_latent, bias=False)\n",
    "        self.W_KL = nn.Linear(d_in, d_latent, bias=False)\n",
    "        # Проекции значений: латентная и обратная\n",
    "        self.W_VL = nn.Linear(d_in, d_latent, bias=False)\n",
    "        self.W_VU = nn.Linear(d_latent, d_in, bias=False)\n",
    "\n",
    "        # Dropout для attention\n",
    "        self.attn_dropout = nn.Dropout(dropout)\n",
    "\n",
    "        # Предварительное слияние W_VL и W_VU (Do-Precompute)\n",
    "        # W_VL.weight: (d_latent, d_in), W_VU.weight: (d_in, d_latent)\n",
    "        # self.W_pre: (d_in, d_in)\n",
    "        W_VL_w = self.W_VL.weight.data  # (d_latent, d_in)\n",
    "        W_VU_w = self.W_VU.weight.data  # (d_in, d_latent)\n",
    "        W_pre = W_VU_w @ W_VL_w         # объединённая матрица\n",
    "        # Регистрируем как буфер, т.к. не обновляется при обучении\n",
    "        self.register_buffer('W_pre', W_pre)\n",
    "\n",
    "    def forward(self, x: torch.Tensor) -> torch.Tensor:\n",
    "        \"\"\"\n",
    "        x: тензор формы (batch_size, seq_len, d_in)\n",
    "        возвращает: (batch_size, seq_len, d_in)\n",
    "        \"\"\"\n",
    "        B, T, _ = x.size()\n",
    "        # 1) Проецируем Q и латентные K\n",
    "        Q = self.W_Q(x)            # (B, T, d_latent)\n",
    "        K_lat = self.W_KL(x)       # (B, T, d_latent)\n",
    "\n",
    "        # 2) Разбиваем на головы\n",
    "        Q = Q.view(B, T, self.num_heads, self.head_dim_latent)\n",
    "        K_lat = K_lat.view(B, T, self.num_heads, self.head_dim_latent)\n",
    "        # Перестановка для умножения: (B, num_heads, T, head_dim)\n",
    "        Q = Q.transpose(1, 2)\n",
    "        K_lat = K_lat.transpose(1, 2)\n",
    "\n",
    "        # 3) Вычисляем скоры внимания\n",
    "        # (B, num_heads, T, T)\n",
    "        scores = (Q @ K_lat.transpose(-1, -2)) / math.sqrt(self.head_dim_latent)\n",
    "        attn = F.softmax(scores, dim=-1)\n",
    "        attn = self.attn_dropout(attn)\n",
    "\n",
    "        # 4) Декомпрессия V через предвычисленную матрицу\n",
    "        # x @ W_pre: (B, T, d_in)\n",
    "        V_decomp = x @ self.W_pre\n",
    "        # Разбиваем по головам: (B, T, num_heads, head_dim_out)\n",
    "        V = V_decomp.view(B, T, self.num_heads, self.head_dim_out)\n",
    "        V = V.transpose(1, 2)  # (B, num_heads, T, head_dim_out)\n",
    "\n",
    "        # 5) Вычисляем контекст\n",
    "        # (B, num_heads, T, head_dim_out)\n",
    "        context = attn @ V\n",
    "        # Перестраиваем в (B, T, d_in)\n",
    "        context = context.transpose(1, 2).contiguous().view(B, T, self.d_in)\n",
    "        \n",
    "        return context"
   ]
  },
  {
   "cell_type": "markdown",
   "id": "d390032d",
   "metadata": {},
   "source": [
    "## Comparison in forward and forward + backward"
   ]
  },
  {
   "cell_type": "code",
   "execution_count": null,
   "id": "59ebb72f",
   "metadata": {},
   "outputs": [],
   "source": [
    "MHAs = [MultiHeadAttention,\n",
    "MultiHeadAttentionF,\n",
    "MultiHeadAttentionQKV,\n",
    "MHAEinsum,\n",
    "MultiHeadAttentionDP,\n",
    "MultiHeadAttentionDP_QKV,\n",
    "MHAPyTorchFlexAttention, \n",
    "MultiHeadLatentAttentionCached,\n",
    "MHAPyTorch,\n",
    "MHAPyTorch]"
   ]
  },
  {
   "cell_type": "code",
   "execution_count": 25,
   "id": "12f18b06",
   "metadata": {},
   "outputs": [],
   "source": [
    "def forward(model, x_input):\n",
    "    if x_input.grad is not None:\n",
    "        x_input.grad.zero_()\n",
    "    _ = model(x_input)"
   ]
  },
  {
   "cell_type": "code",
   "execution_count": 26,
   "id": "ecd7ab03",
   "metadata": {},
   "outputs": [],
   "source": [
    "def forward_and_backward(model, x_input, loss):\n",
    "    if x_input.grad is not None:\n",
    "        x_input.grad.zero_()\n",
    "\n",
    "    output = model(x_input)\n",
    "    loss = loss(output.flatten(0, 1), x_input.flatten()) # Exasmple ^_^: loss = nn.functional.cross_entropy(logits.flatten(0, 1), y.flatten())\n",
    "    loss.backward()"
   ]
  },
  {
   "cell_type": "markdown",
   "id": "83008200",
   "metadata": {},
   "source": [
    "### Without autocast"
   ]
  },
  {
   "cell_type": "code",
   "execution_count": 181,
   "id": "73cf55cc",
   "metadata": {},
   "outputs": [],
   "source": [
    "#data_without_autocast = pd.DataFrame([], columns = ['Forward GPU', 'Forward CPU', 'Forward + Backward GPU', 'Forward + Backward CPU'])"
   ]
  },
  {
   "cell_type": "code",
   "execution_count": null,
   "id": "18bc2b54",
   "metadata": {},
   "outputs": [
    {
     "name": "stdout",
     "output_type": "stream",
     "text": [
      "Expect q/k/v and block_mask to be on the same device but got cpu and cuda:0.\n",
      "Expect q/k/v and block_mask to be on the same device but got cpu and cuda:0.\n"
     ]
    }
   ],
   "source": [
    "params = {\"d_in\":embed_dim, \"d_out\":embed_dim, \"context_length\":context_len, \"dropout\":dropout, \"num_heads\":num_heads, \"qkv_bias\":qkv_bias}\n",
    "flag = False\n",
    "n = 25\n",
    "\n",
    "res = {}\n",
    "for attention in MHAs:\n",
    "    name = str(attention).split('.')[-1].replace('\\'','').replace('>','')\n",
    "    if ((attention == MHAPyTorch) and (flag==False)):\n",
    "        params['need_weights'] = False\n",
    "        flag = True\n",
    "        name += \"with_sd\"\n",
    "    if ((attention == MHAPyTorch) and (flag)):\n",
    "        params['need_weights'] = True\n",
    "        name += \"without_sd\"\n",
    "    \n",
    "    # forward\n",
    "    ## GPU\n",
    "    object_MHA = attention(**params)\n",
    "    object_MHA.to(device)\n",
    "    execution_time_gpu_forward = timeit.timeit(lambda: forward(model=object_MHA, x_input=embeddings.to(device)), number=n) / n\n",
    "    ## CPU\n",
    "    try:\n",
    "        object_MHA.to('cpu')\n",
    "        execution_time_cpu_forward = timeit.timeit(lambda: forward(model=object_MHA, x_input=embeddings.to('cpu')), number=n) / n\n",
    "    except RuntimeError as e:\n",
    "        print(e)\n",
    "        execution_time_cpu_forward = np.nan\n",
    "\n",
    "    # forward + backward\n",
    "    ## GPU\n",
    "    object_MHA.to(device)\n",
    "    execution_time_gpu_forward_backward = timeit.timeit(lambda: forward_and_backward(model=object_MHA, x_input=embeddings.to(device), loss=nn.functional.cross_entropy), number=n) / n\n",
    "\n",
    "    ## CPU\n",
    "    try:\n",
    "        object_MHA.to('cpu')\n",
    "        execution_time_cpu_forward_backward = timeit.timeit(lambda: forward_and_backward(model=object_MHA, x_input=embeddings.to('cpu'), loss=nn.functional.cross_entropy), number=n) / n\n",
    "    except RuntimeError as e:\n",
    "        print(e)\n",
    "        execution_time_cpu_forward_backward = np.nan\n",
    "    \n",
    "    res[name] = [execution_time_gpu_forward, execution_time_cpu_forward, execution_time_gpu_forward_backward, execution_time_cpu_forward_backward]"
   ]
  },
  {
   "cell_type": "code",
   "execution_count": 183,
   "id": "7aa59cc9",
   "metadata": {},
   "outputs": [],
   "source": [
    "data_without_autocast = pd.DataFrame(res)"
   ]
  },
  {
   "cell_type": "markdown",
   "id": "0a419377",
   "metadata": {},
   "source": [
    "data_without_autocast.index = ['Forward GPU', 'Forward CPU', 'Forward + Backward GPU', 'Forward + Backward CPU']"
   ]
  },
  {
   "cell_type": "code",
   "execution_count": 184,
   "id": "a4beb3e0",
   "metadata": {},
   "outputs": [
    {
     "data": {
      "text/html": [
       "<div>\n",
       "<style scoped>\n",
       "    .dataframe tbody tr th:only-of-type {\n",
       "        vertical-align: middle;\n",
       "    }\n",
       "\n",
       "    .dataframe tbody tr th {\n",
       "        vertical-align: top;\n",
       "    }\n",
       "\n",
       "    .dataframe thead th {\n",
       "        text-align: right;\n",
       "    }\n",
       "</style>\n",
       "<table border=\"1\" class=\"dataframe\">\n",
       "  <thead>\n",
       "    <tr style=\"text-align: right;\">\n",
       "      <th></th>\n",
       "      <th>MultiHeadAttention</th>\n",
       "      <th>MultiHeadAttentionF</th>\n",
       "      <th>MultiHeadAttentionQKV</th>\n",
       "      <th>MHAEinsum</th>\n",
       "      <th>MultiHeadAttentionDP</th>\n",
       "      <th>MultiHeadAttentionDP_QKV</th>\n",
       "      <th>MHAPyTorchFlexAttention</th>\n",
       "      <th>MHAPyTorchwith_sdwithout_sd</th>\n",
       "      <th>MHAPyTorchwithout_sd</th>\n",
       "    </tr>\n",
       "  </thead>\n",
       "  <tbody>\n",
       "    <tr>\n",
       "      <th>0</th>\n",
       "      <td>0.000459</td>\n",
       "      <td>0.000367</td>\n",
       "      <td>0.000354</td>\n",
       "      <td>0.000587</td>\n",
       "      <td>0.000205</td>\n",
       "      <td>0.000181</td>\n",
       "      <td>0.029836</td>\n",
       "      <td>0.000468</td>\n",
       "      <td>0.000441</td>\n",
       "    </tr>\n",
       "    <tr>\n",
       "      <th>1</th>\n",
       "      <td>0.403091</td>\n",
       "      <td>0.396809</td>\n",
       "      <td>0.397699</td>\n",
       "      <td>0.441406</td>\n",
       "      <td>0.473796</td>\n",
       "      <td>0.461438</td>\n",
       "      <td>NaN</td>\n",
       "      <td>0.482787</td>\n",
       "      <td>0.483057</td>\n",
       "    </tr>\n",
       "    <tr>\n",
       "      <th>2</th>\n",
       "      <td>0.016587</td>\n",
       "      <td>0.009335</td>\n",
       "      <td>0.008560</td>\n",
       "      <td>0.007069</td>\n",
       "      <td>0.000745</td>\n",
       "      <td>0.000636</td>\n",
       "      <td>0.041506</td>\n",
       "      <td>0.021512</td>\n",
       "      <td>0.017305</td>\n",
       "    </tr>\n",
       "    <tr>\n",
       "      <th>3</th>\n",
       "      <td>0.641853</td>\n",
       "      <td>0.627540</td>\n",
       "      <td>0.644243</td>\n",
       "      <td>0.742796</td>\n",
       "      <td>0.696346</td>\n",
       "      <td>0.706546</td>\n",
       "      <td>NaN</td>\n",
       "      <td>0.791317</td>\n",
       "      <td>0.799886</td>\n",
       "    </tr>\n",
       "  </tbody>\n",
       "</table>\n",
       "</div>"
      ],
      "text/plain": [
       "   MultiHeadAttention  MultiHeadAttentionF  MultiHeadAttentionQKV  MHAEinsum  \\\n",
       "0            0.000459             0.000367               0.000354   0.000587   \n",
       "1            0.403091             0.396809               0.397699   0.441406   \n",
       "2            0.016587             0.009335               0.008560   0.007069   \n",
       "3            0.641853             0.627540               0.644243   0.742796   \n",
       "\n",
       "   MultiHeadAttentionDP  MultiHeadAttentionDP_QKV  MHAPyTorchFlexAttention  \\\n",
       "0              0.000205                  0.000181                 0.029836   \n",
       "1              0.473796                  0.461438                      NaN   \n",
       "2              0.000745                  0.000636                 0.041506   \n",
       "3              0.696346                  0.706546                      NaN   \n",
       "\n",
       "   MHAPyTorchwith_sdwithout_sd  MHAPyTorchwithout_sd  \n",
       "0                     0.000468              0.000441  \n",
       "1                     0.482787              0.483057  \n",
       "2                     0.021512              0.017305  \n",
       "3                     0.791317              0.799886  "
      ]
     },
     "execution_count": 184,
     "metadata": {},
     "output_type": "execute_result"
    }
   ],
   "source": [
    "data_without_autocast"
   ]
  },
  {
   "cell_type": "code",
   "execution_count": 185,
   "id": "dfbfd0bb",
   "metadata": {},
   "outputs": [
    {
     "data": {
      "text/plain": [
       "<Axes: >"
      ]
     },
     "execution_count": 185,
     "metadata": {},
     "output_type": "execute_result"
    },
    {
     "data": {
      "image/png": "[encoded data removed]",
      "text/plain": [
       "<Figure size 1200x500 with 2 Axes>"
      ]
     },
     "metadata": {},
     "output_type": "display_data"
    }
   ],
   "source": [
    "fig, ax = plt.subplots(figsize=(12,5))\n",
    "sns.heatmap(data_without_autocast.iloc[[0, 2]] ,annot=True, ax=ax, vmin=0, vmax=0.001, cmap='Blues')"
   ]
  },
  {
   "cell_type": "code",
   "execution_count": 186,
   "id": "3bc8d0a6",
   "metadata": {},
   "outputs": [
    {
     "data": {
      "text/plain": [
       "<Axes: >"
      ]
     },
     "execution_count": 186,
     "metadata": {},
     "output_type": "execute_result"
    },
    {
     "data": {
      "image/png": "[encoded data removed]",
      "text/plain": [
       "<Figure size 1200x500 with 2 Axes>"
      ]
     },
     "metadata": {},
     "output_type": "display_data"
    }
   ],
   "source": [
    "fig, ax = plt.subplots(figsize=(12,5))\n",
    "sns.heatmap(data_without_autocast.iloc[[1, 3]] ,annot=True, ax=ax, vmin=0, vmax=0.7, cmap='Blues')"
   ]
  },
  {
   "cell_type": "markdown",
   "id": "125bafd4",
   "metadata": {},
   "source": [
    "### With autocast"
   ]
  },
  {
   "cell_type": "code",
   "execution_count": 187,
   "id": "ddb1fe5f",
   "metadata": {},
   "outputs": [],
   "source": [
    "def forward_autocast(model, x_input, device_str):\n",
    "    with torch.autocast(device_type=device_str, dtype=torch.bfloat16):\n",
    "        _ = model(x_input)\n",
    "    \n",
    "def forward_and_backward_autocast(model, x_input, device_str):\n",
    "    if x_input.grad is not None:\n",
    "        x_input.grad.zero_()\n",
    "    with torch.autocast(device_type=device_str, dtype=torch.bfloat16):\n",
    "        output = model(x_input)\n",
    "        loss = output.sum()\n",
    "        loss.backward()"
   ]
  },
  {
   "cell_type": "code",
   "execution_count": 188,
   "id": "169b02c4",
   "metadata": {},
   "outputs": [
    {
     "name": "stdout",
     "output_type": "stream",
     "text": [
      "Expect q/k/v and block_mask to be on the same device but got cpu and cuda:0.\n",
      "Expect q/k/v and block_mask to be on the same device but got cpu and cuda:0.\n"
     ]
    }
   ],
   "source": [
    "params = {\"d_in\":embed_dim, \"d_out\":embed_dim, \"context_length\":context_len, \"dropout\":dropout, \"num_heads\":num_heads, \"qkv_bias\":qkv_bias}\n",
    "flag = False\n",
    "n = 10\n",
    "\n",
    "res_autocast = {}\n",
    "for attention in MHAs:\n",
    "    name = str(attention).split('.')[-1].replace('\\'','').replace('>','')\n",
    "    if ((attention == MHAPyTorch) and (flag==False)):\n",
    "        params['need_weights'] = False\n",
    "        flag = True\n",
    "        name += \"with_sd\"\n",
    "    if ((attention == MHAPyTorch) and (flag)):\n",
    "        params['need_weights'] = True\n",
    "        name += \"without_sd\"\n",
    "    \n",
    "    # forward\n",
    "    ## GPU\n",
    "    object_MHA = attention(**params)\n",
    "    object_MHA.to(device)\n",
    "    execution_time_gpu_forward = timeit.timeit(lambda: forward_autocast(object_MHA, embeddings.to(device), 'cuda'), number=n) / n\n",
    "    ## CPU\n",
    "    try:\n",
    "        object_MHA.to('cpu')\n",
    "        execution_time_cpu_forward = timeit.timeit(lambda: forward_autocast(object_MHA, embeddings.to('cpu'), 'cpu'), number=n) / n\n",
    "    except RuntimeError as e:\n",
    "        print(e)\n",
    "        execution_time_cpu_forward = np.nan\n",
    "\n",
    "    # forward + backward\n",
    "    ## GPU\n",
    "    object_MHA.to(device)\n",
    "    execution_time_gpu_forward_backward = timeit.timeit(lambda: forward_and_backward_autocast(object_MHA, embeddings.to(device), 'cuda'), number=n) / n\n",
    "\n",
    "    ## CPU\n",
    "    try:\n",
    "        object_MHA.to('cpu')\n",
    "        execution_time_cpu_forward_backward = timeit.timeit(lambda: forward_and_backward_autocast(object_MHA, embeddings.to('cpu'), 'cpu'), number=n) / n\n",
    "    except RuntimeError as e:\n",
    "        print(e)\n",
    "        execution_time_cpu_forward_backward = np.nan\n",
    "    \n",
    "    res_autocast[name] = [execution_time_gpu_forward, execution_time_cpu_forward, execution_time_gpu_forward_backward, execution_time_cpu_forward_backward]"
   ]
  },
  {
   "cell_type": "code",
   "execution_count": 189,
   "id": "135978a9",
   "metadata": {},
   "outputs": [],
   "source": [
    "data_wit_autocast = pd.DataFrame(res_autocast)"
   ]
  },
  {
   "cell_type": "markdown",
   "id": "cf8195c6",
   "metadata": {},
   "source": [
    "data_without_autocast.index = ['Forward GPU', 'Forward CPU', 'Forward + Backward GPU', 'Forward + Backward CPU']"
   ]
  },
  {
   "cell_type": "code",
   "execution_count": 190,
   "id": "885faed1",
   "metadata": {},
   "outputs": [
    {
     "data": {
      "text/html": [
       "<div>\n",
       "<style scoped>\n",
       "    .dataframe tbody tr th:only-of-type {\n",
       "        vertical-align: middle;\n",
       "    }\n",
       "\n",
       "    .dataframe tbody tr th {\n",
       "        vertical-align: top;\n",
       "    }\n",
       "\n",
       "    .dataframe thead th {\n",
       "        text-align: right;\n",
       "    }\n",
       "</style>\n",
       "<table border=\"1\" class=\"dataframe\">\n",
       "  <thead>\n",
       "    <tr style=\"text-align: right;\">\n",
       "      <th></th>\n",
       "      <th>MultiHeadAttention</th>\n",
       "      <th>MultiHeadAttentionF</th>\n",
       "      <th>MultiHeadAttentionQKV</th>\n",
       "      <th>MHAEinsum</th>\n",
       "      <th>MultiHeadAttentionDP</th>\n",
       "      <th>MultiHeadAttentionDP_QKV</th>\n",
       "      <th>MHAPyTorchFlexAttention</th>\n",
       "      <th>MHAPyTorchwith_sdwithout_sd</th>\n",
       "      <th>MHAPyTorchwithout_sd</th>\n",
       "    </tr>\n",
       "  </thead>\n",
       "  <tbody>\n",
       "    <tr>\n",
       "      <th>0</th>\n",
       "      <td>0.000545</td>\n",
       "      <td>0.000606</td>\n",
       "      <td>0.000524</td>\n",
       "      <td>0.000813</td>\n",
       "      <td>0.000336</td>\n",
       "      <td>0.000262</td>\n",
       "      <td>0.032106</td>\n",
       "      <td>0.000595</td>\n",
       "      <td>0.000644</td>\n",
       "    </tr>\n",
       "    <tr>\n",
       "      <th>1</th>\n",
       "      <td>0.431672</td>\n",
       "      <td>0.439276</td>\n",
       "      <td>0.429125</td>\n",
       "      <td>0.435379</td>\n",
       "      <td>0.431338</td>\n",
       "      <td>0.424234</td>\n",
       "      <td>NaN</td>\n",
       "      <td>0.462898</td>\n",
       "      <td>0.464589</td>\n",
       "    </tr>\n",
       "    <tr>\n",
       "      <th>2</th>\n",
       "      <td>0.001493</td>\n",
       "      <td>0.001508</td>\n",
       "      <td>0.001308</td>\n",
       "      <td>0.001685</td>\n",
       "      <td>0.000902</td>\n",
       "      <td>0.000771</td>\n",
       "      <td>0.034256</td>\n",
       "      <td>0.001557</td>\n",
       "      <td>0.001474</td>\n",
       "    </tr>\n",
       "    <tr>\n",
       "      <th>3</th>\n",
       "      <td>0.548298</td>\n",
       "      <td>0.546804</td>\n",
       "      <td>0.546657</td>\n",
       "      <td>0.557329</td>\n",
       "      <td>0.604867</td>\n",
       "      <td>0.598229</td>\n",
       "      <td>NaN</td>\n",
       "      <td>0.599683</td>\n",
       "      <td>0.596432</td>\n",
       "    </tr>\n",
       "  </tbody>\n",
       "</table>\n",
       "</div>"
      ],
      "text/plain": [
       "   MultiHeadAttention  MultiHeadAttentionF  MultiHeadAttentionQKV  MHAEinsum  \\\n",
       "0            0.000545             0.000606               0.000524   0.000813   \n",
       "1            0.431672             0.439276               0.429125   0.435379   \n",
       "2            0.001493             0.001508               0.001308   0.001685   \n",
       "3            0.548298             0.546804               0.546657   0.557329   \n",
       "\n",
       "   MultiHeadAttentionDP  MultiHeadAttentionDP_QKV  MHAPyTorchFlexAttention  \\\n",
       "0              0.000336                  0.000262                 0.032106   \n",
       "1              0.431338                  0.424234                      NaN   \n",
       "2              0.000902                  0.000771                 0.034256   \n",
       "3              0.604867                  0.598229                      NaN   \n",
       "\n",
       "   MHAPyTorchwith_sdwithout_sd  MHAPyTorchwithout_sd  \n",
       "0                     0.000595              0.000644  \n",
       "1                     0.462898              0.464589  \n",
       "2                     0.001557              0.001474  \n",
       "3                     0.599683              0.596432  "
      ]
     },
     "execution_count": 190,
     "metadata": {},
     "output_type": "execute_result"
    }
   ],
   "source": [
    "data_wit_autocast"
   ]
  },
  {
   "cell_type": "code",
   "execution_count": 191,
   "id": "05b974f9",
   "metadata": {},
   "outputs": [
    {
     "data": {
      "text/plain": [
       "<Axes: >"
      ]
     },
     "execution_count": 191,
     "metadata": {},
     "output_type": "execute_result"
    },
    {
     "data": {
      "image/png": "[encoded data removed]",
      "text/plain": [
       "<Figure size 1200x500 with 2 Axes>"
      ]
     },
     "metadata": {},
     "output_type": "display_data"
    }
   ],
   "source": [
    "fig, ax = plt.subplots(figsize=(12,5))\n",
    "sns.heatmap(data_wit_autocast.iloc[[0, 2]] ,annot=True, ax=ax, vmin=0, vmax=0.001, cmap='Blues')"
   ]
  },
  {
   "cell_type": "code",
   "execution_count": 192,
   "id": "3c890064",
   "metadata": {},
   "outputs": [
    {
     "data": {
      "text/plain": [
       "<Axes: >"
      ]
     },
     "execution_count": 192,
     "metadata": {},
     "output_type": "execute_result"
    },
    {
     "data": {
      "image/png": "[encoded data removed]",
      "text/plain": [
       "<Figure size 1200x500 with 2 Axes>"
      ]
     },
     "metadata": {},
     "output_type": "display_data"
    }
   ],
   "source": [
    "fig, ax = plt.subplots(figsize=(12,5))\n",
    "sns.heatmap(data_wit_autocast.iloc[[1, 3]] ,annot=True, ax=ax, vmin=0, vmax=0.7, cmap='Blues')"
   ]
  },
  {
   "cell_type": "code",
   "execution_count": null,
   "id": "d4b0ed4b",
   "metadata": {},
   "outputs": [],
   "source": []
  },
  {
   "cell_type": "code",
   "execution_count": null,
   "id": "cddeaf14",
   "metadata": {},
   "outputs": [],
   "source": []
  },
  {
   "cell_type": "markdown",
   "id": "c22300b4",
   "metadata": {},
   "source": [
    "## Other Attention (from Karpathy)"
   ]
  },
  {
   "cell_type": "code",
   "execution_count": null,
   "id": "74d87496",
   "metadata": {},
   "outputs": [],
   "source": [
    "class CausalSelfAttention(nn.Module):\n",
    "\n",
    "    def __init__(self, d_in, d_out, context_length, dropout, num_heads,):\n",
    "        super().__init__()\n",
    "        # key, query, value projections for all heads, but in a batch\n",
    "        self.c_attn = nn.Linear(d_in, 3 * d_in)\n",
    "        # output projection\n",
    "        self.c_proj = nn.Linear(d_in, d_in)\n",
    "        # regularization\n",
    "        self.n_head = num_heads\n",
    "        self.n_embd = d_out\n",
    "\n",
    "    def forward(self, x):\n",
    "        B, T, C = x.size() # batch size, sequence length, embedding dimensionality (n_embd)\n",
    "        # calculate query, key, values for all heads in batch and move head forward to be the batch dim\n",
    "        # nh is \"number of heads\", hs is \"head size\", and C (number of channels) = nh * hs\n",
    "        # e.g. in GPT-2 (124M), n_head=12, hs=64, so nh*hs=C=768 channels in the Transformer\n",
    "        qkv = self.c_attn(x)\n",
    "        q, k, v = qkv.split(self.n_embd, dim=2)\n",
    "        k = k.view(B, T, self.n_head, C // self.n_head).transpose(1, 2) # (B, nh, T, hs)\n",
    "        q = q.view(B, T, self.n_head, C // self.n_head).transpose(1, 2) # (B, nh, T, hs)\n",
    "        v = v.view(B, T, self.n_head, C // self.n_head).transpose(1, 2) # (B, nh, T, hs)\n",
    "        y = F.scaled_dot_product_attention(q, k, v, is_causal=True) # flash attention\n",
    "        y = y.transpose(1, 2).contiguous().view(B, T, C) # re-assemble all head outputs side by side\n",
    "        # output projection\n",
    "        y = self.c_proj(y)\n",
    "        return y"
   ]
  },
  {
   "cell_type": "code",
   "execution_count": null,
   "id": "8459a9fb",
   "metadata": {},
   "outputs": [],
   "source": []
  }
 ],
 "metadata": {
  "kernelspec": {
   "display_name": "LLM",
   "language": "python",
   "name": "python3"
  },
  "language_info": {
   "codemirror_mode": {
    "name": "ipython",
    "version": 3
   },
   "file_extension": ".py",
   "mimetype": "text/x-python",
   "name": "python",
   "nbconvert_exporter": "python",
   "pygments_lexer": "ipython3",
   "version": "3.12.9"
  }
 },
 "nbformat": 4,
 "nbformat_minor": 5
}
